{
 "cells": [
  {
   "cell_type": "code",
   "execution_count": 1,
   "metadata": {},
   "outputs": [],
   "source": [
    "## ND2 > portable movie viewer \n",
    "\n",
    "# Cyna Shirazinejad\n",
    "# 6/19/20\n",
    "# This script will: \n",
    "#           - detect new movies in this parent folder \"imaging_data\" in Google Drive (coming)\n",
    "#           - extract dimensions (x,y,z,t,channels) (complete)\n",
    "#           - create a napari movie (in progress)\n",
    "\n",
    "# capabilities needed:\n",
    "# - auto thresholding\n",
    "# - auto-segmentation (once we establish: organelles we'll be working with, expression levels, cell types, etc.)\n",
    "# - auto-tracking of puncta (CME), blobs (organelles) that is then overlaid on images\n",
    "# - text annotation: scale bar, channel names (auto-extracted from image title), markers, imaging settings (exposure, frame rate, intensity), conditions, timestamp (minute and seconds)\n",
    "\n",
    "# pulse chase/stimulation: digital toggle indicating where \n",
    "# - photobleaching correction (probably exponential fit to start with)\n",
    "# - extension/generalization to other data formats (TIFFS), Hd5\n",
    "\n",
    "\n",
    "\n",
    "# combination of dimensions (t=time, c= channels, z= slices, x, y) this program can handle (granted they are ND2 to begin with):\n",
    "\n",
    "# option #1 - 2d: t=1, c=1\n",
    "# option #2 - 2d: t=1, c>1\n",
    "# option #3 - 2d: t>1, c=1\n",
    "# option #4 - 2d: t>1, c>1\n",
    "# option #5 - 3d: t=1, c=1\n",
    "# option #6 - 3d: t=1, c>1\n",
    "# option #7 - 3d: t>1, c=1\n",
    "# option #8 - 3d: t>1, c>1\n"
   ]
  },
  {
   "cell_type": "code",
   "execution_count": 2,
   "metadata": {},
   "outputs": [],
   "source": [
    "# top priority for Max et al:\n",
    "# - add time-stamp\n",
    "# "
   ]
  },
  {
   "cell_type": "code",
   "execution_count": 3,
   "metadata": {},
   "outputs": [],
   "source": [
    "# not necessary unless running vm\n",
    "# !source ~/.bash_profile\n"
   ]
  },
  {
   "cell_type": "code",
   "execution_count": 11,
   "metadata": {},
   "outputs": [
    {
     "name": "stdout",
     "output_type": "stream",
     "text": [
      "The autoreload extension is already loaded. To reload it, use:\n",
      "  %reload_ext autoreload\n",
      "Enabling notebook extension jupyter-js-widgets/extension...\n",
      "      - Validating: \u001b[32mOK\u001b[0m\n"
     ]
    }
   ],
   "source": [
    "# import all necessary Python libraries\n",
    "\n",
    "# configure the Jupyter Notebook\n",
    "%load_ext autoreload\n",
    "%autoreload 2\n",
    "%matplotlib inline\n",
    "%gui qt\n",
    "\n",
    "import os\n",
    "import sys\n",
    "sys.path.append(os.path.abspath(os.getcwd() + '/visualization_python_scripts_cyna'))\n",
    "import pickle\n",
    "import napari \n",
    "import imageio\n",
    "import numpy as np\n",
    "from os import listdir\n",
    "from os.path import isfile, join\n",
    "from ipywidgets import interact, interactive, fixed, interact_manual # for interactive widgets\n",
    "from naparimovie import Movie\n",
    "import dask.array as da\n",
    "import dask\n",
    "import tifffile\n",
    "import subprocess\n",
    "import scipy as sp\n",
    "import scipy.optimize\n",
    "from naparimovie_wrappers import MovieBuilder\n",
    "from skimage.io import imread\n",
    "from dask import delayed\n",
    "import dask.array as da\n",
    "from glob import glob\n",
    "from PIL import Image\n",
    "from nd2reader import ND2Reader\n",
    "\n",
    "# enable widget plugins (necessary for this library)\n",
    "!jupyter nbextension enable --py widgetsnbextension\n",
    "\n",
    "# import custom Python modules\n",
    "from visualization_nd2 import return_widgets_for_display, make_movie\n",
    "from dask_to_napari import (convert_tiffs_to_dask_arrays, \n",
    "                            view_one_channel, \n",
    "                            view_one_time_one_channel,\n",
    "                            view_specified_channels_one_time)\n"
   ]
  },
  {
   "cell_type": "code",
   "execution_count": 9,
   "metadata": {},
   "outputs": [],
   "source": [
    "# different file options (local to Cyna's computer)\n",
    "\n",
    "#nsp34,ap2,arcp3\n",
    "nsp34_ap2_arcp3_20200715='/Volumes/GoogleDrive/Shared drives/drubin-barnes-lab_drive/project_overviews/coronavirus_research/imaging_data/20200715_ap2_arpc3/nsp3+Nsp4/Nsp3+Nsp4_017.nd2'\n",
    "\n",
    "# option with quick bleaching:\n",
    "quick_bleaching_example = '/Volumes/GoogleDrive/Shared drives/drubin-barnes-lab_drive/project_overviews/coronavirus_research/imaging_data/20200629_Sec61/Sec61/Sec61003.nd2'\n",
    "\n",
    "\n",
    "# option 1\n",
    "single_xy='/Volumes/GoogleDrive/Shared drives/drubin-barnes-lab_drive/project_overviews/coronavirus_research/imaging_data/20200619_nsp3-4GFP_sirActin/Captured Confocal 488.nd2'\n",
    "\n",
    "# option 2\n",
    "# NEEDED\n",
    "\n",
    "#option 3\n",
    "sec61_4_2d_time = '/Volumes/GoogleDrive/Shared drives/drubin-barnes-lab_drive/project_overviews/coronavirus_research/imaging_data/20200629_Sec61/Sec61/Sec61004.nd2'\n",
    "\n",
    "#option 3\n",
    "sec61_5_2d_time = '/Volumes/GoogleDrive/Shared drives/drubin-barnes-lab_drive/project_overviews/coronavirus_research/imaging_data/20200629_Sec61/Sec61/Sec61005.nd2'\n",
    "\n",
    "#option 3\n",
    "sec61_6_2d_time = '/Volumes/GoogleDrive/Shared drives/drubin-barnes-lab_drive/project_overviews/coronavirus_research/imaging_data/20200629_Sec61/Sec61/Sec61006.nd2'\n",
    "\n",
    "#option 3\n",
    "sec61_7_2d_time = '/Volumes/GoogleDrive/Shared drives/drubin-barnes-lab_drive/project_overviews/coronavirus_research/imaging_data/20200629_Sec61/Sec61/Sec61007.nd2'\n",
    "\n",
    "# option 4\n",
    "two_d_time_channels = '/Volumes/GoogleDrive/Shared drives/drubin-barnes-lab_drive/project_overviews/coronavirus_research/imaging_data/20200615_nsp3-4-GFP_sirActin_CK666/1_RFP-CAAX-sirActin_25nM_18h/1_CAAX-RFP-sirActin25nm-18h_2s_5min_002.nd2'\n",
    "\n",
    "# option 4\n",
    "two_d_time_3_channels = '/Volumes/GoogleDrive/Shared drives/drubin-barnes-lab_drive/project_overviews/coronavirus_research/imaging_data/20200615_nsp3-4-GFP_sirActin_CK666/3_Nsp-4GFP_RFP-CAAX_sirActin_25nM_18h/3-Nsp3-4GFP-CAAX-RFP_sirActin-25nM_3s_20min_007.nd2'\n",
    "\n",
    "# option 4\n",
    "matt_single_z = '/Volumes/GoogleDrive/Shared drives/drubin-barnes-lab_drive/project_overviews/coronavirus_research/imaging_data/20200615_nsp3-4-GFP_sirActin_CK666/1_RFP-CAAX-sirActin_25nM_18h/1_CAAX-RFP-sirActin25nm-18h_2s_5min_002.nd2'\n",
    "\n",
    "#option 5\n",
    "sec61_0_3d_volume = '/Volumes/GoogleDrive/Shared drives/drubin-barnes-lab_drive/project_overviews/coronavirus_research/imaging_data/20200629_Sec61/Sec61/Sec61.nd2'\n",
    "\n",
    "#option 5\n",
    "sec61_1_3d_volume = '/Volumes/GoogleDrive/Shared drives/drubin-barnes-lab_drive/project_overviews/coronavirus_research/imaging_data/20200629_Sec61/Sec61/Sec61001.nd2'\n",
    "\n",
    "#option 5\n",
    "sec61_2_3d_volume = '/Volumes/GoogleDrive/Shared drives/drubin-barnes-lab_drive/project_overviews/coronavirus_research/imaging_data/20200629_Sec61/Sec61/Sec61002.nd2'\n",
    "\n",
    "# option 6\n",
    "three_d_channels = '/Volumes/GoogleDrive/Shared drives/drubin-barnes-lab_drive/project_overviews/coronavirus_research/imaging_data/20200615_nsp3-4-GFP_sirActin_CK666/1_RFP-CAAX-sirActin_25nM_18h/1_CAAX-RFP-sirActin25nm-18h_zseries_001.nd2'\n",
    "\n",
    "# option 6\n",
    "three_d_3_channels = '/Volumes/GoogleDrive/Shared drives/drubin-barnes-lab_drive/project_overviews/coronavirus_research/imaging_data/20200615_nsp3-4-GFP_sirActin_CK666/3_Nsp-4GFP_RFP-CAAX_sirActin_25nM_18h/3-Nsp3-4GFP-CAAX-RFP_sirActin-25nM_zseries_005.nd2'\n",
    "\n",
    "#option 7\n",
    "sec61_3_3d_volume_time = '/Volumes/GoogleDrive/Shared drives/drubin-barnes-lab_drive/project_overviews/coronavirus_research/imaging_data/20200629_Sec61/Sec61/Sec61003.nd2'\n",
    "\n",
    "# option 8\n",
    "matt_movie = '/Volumes/GoogleDrive/Shared drives/drubin-barnes-lab_drive/project_overviews/coronavirus_research/imaging_data/cyna_pilot/20200619_nsp3-4GFP_sirActin/well1-Nsp3-4GFP-CAAX-RFP_sirActin-100nM.nd2'\n",
    "\n",
    "# option 8\n",
    "max_file = '/Users/cynashirazinejad/Downloads/bead_example_4.4.3M1001.nd2'\n",
    "\n",
    "# mixed GFP cells from 7/28\n",
    "FOV_7 = '/Volumes/GoogleDrive/Shared drives/drubin-barnes-lab_drive/project_overviews/coronavirus_research/imaging_data/20200728_iPSClines/mixedGFP/con_pax_zo1_laminsec61_007.nd2'\n",
    "FOV_4 = '/Volumes/GoogleDrive/Shared drives/drubin-barnes-lab_drive/project_overviews/coronavirus_research/imaging_data/20200728_iPSClines/mixedGFP/con_pax_zo1_laminsec61_004.nd2'\n",
    "\n",
    "# matt request the following to be prepared for group meeting \n",
    "FOV_1 = '/Volumes/GoogleDrive/Shared drives/drubin-barnes-lab_drive/project_overviews/coronavirus_research/imaging_data/20200728_iPSClines/mixedGFP/for further processing - cyna/con_pax_zo1_laminsec61_001.nd2'\n",
    "FOV_7 = '/Volumes/GoogleDrive/Shared drives/drubin-barnes-lab_drive/project_overviews/coronavirus_research/imaging_data/20200728_iPSClines/mixedGFP/for further processing - cyna/con_pax_zo1_laminsec61_007.nd2'\n",
    "# option 6\n",
    "sec61_laminb1_nsp_3_nsp_4_z_stack = '/Volumes/GoogleDrive/Shared drives/drubin-barnes-lab_drive/project_overviews/coronavirus_research/imaging_data/20200703_nsp3-4 transfection/Sec61-lamin-nsp3-4/Sec61-GFP_laminRFP_Nsp3-4Transfection_013.nd2'\n",
    "\n",
    "# for group meeting 8/4/20\n",
    "Sec61_GFP_laminRFP_noTransfection_001='/Volumes/GoogleDrive/Shared drives/drubin-barnes-lab_drive/project_overviews/coronavirus_research/imaging_data/20200703_nsp3-4 transfection/Sec61-lamin/Sec61-GFP_laminRFP_noTransfection_001.nd2'\n",
    "Sec61_GFP_laminRFP_noTransfection_002='/Volumes/GoogleDrive/Shared drives/drubin-barnes-lab_drive/project_overviews/coronavirus_research/imaging_data/20200703_nsp3-4 transfection/Sec61-lamin/Sec61-GFP_laminRFP_noTransfection_002.nd2'\n",
    "\n",
    "Sec61_GFP_laminRFP_Nsp3Transfection_001='/Volumes/GoogleDrive/Shared drives/drubin-barnes-lab_drive/project_overviews/coronavirus_research/imaging_data/data for cyna to filter for group meeting on 8:4:20/20200703_nsp3-4 transfection/Sec61-lamin-nsp3/Sec61-GFP_laminRFP_Nsp3Transfection_001.nd2'\n",
    "Sec61_GFP_laminRFP_Nsp3Transfection_002='/Volumes/GoogleDrive/Shared drives/drubin-barnes-lab_drive/project_overviews/coronavirus_research/imaging_data/data for cyna to filter for group meeting on 8:4:20/20200703_nsp3-4 transfection/Sec61-lamin-nsp3/Sec61-GFP_laminRFP_Nsp3Transfection_002.nd2'\n",
    "\n",
    "Sec61_GFP_laminRFP_Nsp3_4Transfection_007='/Volumes/GoogleDrive/Shared drives/drubin-barnes-lab_drive/project_overviews/coronavirus_research/imaging_data/data for cyna to filter for group meeting on 8:4:20/20200703_nsp3-4 transfection/Sec61-lamin-nsp3-4/Sec61-GFP_laminRFP_Nsp3-4Transfection_007.nd2'\n",
    "Sec61_GFP_laminRFP_Nsp3_4Transfection_010='/Volumes/GoogleDrive/Shared drives/drubin-barnes-lab_drive/project_overviews/coronavirus_research/imaging_data/data for cyna to filter for group meeting on 8:4:20/20200703_nsp3-4 transfection/Sec61-lamin-nsp3-4/Sec61-GFP_laminRFP_Nsp3-4Transfection_010.nd2'\n",
    "\n",
    "ap2arpc3_Nsp3_Nsp4_008='/Volumes/GoogleDrive/Shared drives/drubin-barnes-lab_drive/project_overviews/coronavirus_research/imaging_data/data for cyna to filter for group meeting on 8:4:20/20200715_ap2_arpc3/nsp3+Nsp4/Nsp3+Nsp4_008.nd2'\n",
    "ap2arpc3_Nsp3_Nsp4_009='/Volumes/GoogleDrive/Shared drives/drubin-barnes-lab_drive/project_overviews/coronavirus_research/imaging_data/data for cyna to filter for group meeting on 8:4:20/20200715_ap2_arpc3/nsp3+Nsp4/Nsp3+Nsp4_009.nd2'\n",
    "ap2arpc3_Nsp3_Nsp4_010='/Volumes/GoogleDrive/Shared drives/drubin-barnes-lab_drive/project_overviews/coronavirus_research/imaging_data/data for cyna to filter for group meeting on 8:4:20/20200715_ap2_arpc3/nsp3+Nsp4/Nsp3+Nsp4_010.nd2'\n",
    "ap2arpc3_Nsp3_Nsp4_013='/Volumes/GoogleDrive/Shared drives/drubin-barnes-lab_drive/project_overviews/coronavirus_research/imaging_data/data for cyna to filter for group meeting on 8:4:20/20200715_ap2_arpc3/nsp3+Nsp4/Nsp3+Nsp4_013.nd2'\n",
    "ap2arpc3_Nsp3_Nsp4_014='/Volumes/GoogleDrive/Shared drives/drubin-barnes-lab_drive/project_overviews/coronavirus_research/imaging_data/data for cyna to filter for group meeting on 8:4:20/20200715_ap2_arpc3/nsp3+Nsp4/Nsp3+Nsp4_014.nd2'\n",
    "ap2arpc3_Nsp3_Nsp4_015='/Volumes/GoogleDrive/Shared drives/drubin-barnes-lab_drive/project_overviews/coronavirus_research/imaging_data/data for cyna to filter for group meeting on 8:4:20/20200715_ap2_arpc3/nsp3+Nsp4/Nsp3+Nsp4_015.nd2'\n",
    "ap2arpc3_Nsp3_Nsp4_016='/Volumes/GoogleDrive/Shared drives/drubin-barnes-lab_drive/project_overviews/coronavirus_research/imaging_data/data for cyna to filter for group meeting on 8:4:20/20200715_ap2_arpc3/nsp3+Nsp4/Nsp3+Nsp4_016.nd2'\n",
    "ap2arpc3_Nsp3_Nsp4_017='/Volumes/GoogleDrive/Shared drives/drubin-barnes-lab_drive/project_overviews/coronavirus_research/imaging_data/data for cyna to filter for group meeting on 8:4:20/20200715_ap2_arpc3/nsp3+Nsp4/Nsp3+Nsp4_017.nd2'\n",
    "\n",
    "\n",
    "well2_Nsp3_4GFP_CAAX_RFP_sirActin_100nM_z_004='/Volumes/GoogleDrive/Shared drives/drubin-barnes-lab_drive/project_overviews/coronavirus_research/imaging_data/20200619_nsp3-4GFP_sirActin/well2-Nsp3-4GFP-CAAX-RFP_sirActin-100nM-z-004.nd2'\n",
    "well2_Nsp3_4GFP_CAAX_RFP_sirActin_100nM_z_005='/Volumes/GoogleDrive/Shared drives/drubin-barnes-lab_drive/project_overviews/coronavirus_research/imaging_data/20200619_nsp3-4GFP_sirActin/well2-Nsp3-4GFP-CAAX-RFP_sirActin-100nM-z-005.nd2'\n",
    "well2_Nsp3_4GFP_CAAX_RFP_sirActin_100nM_z_006='/Volumes/GoogleDrive/Shared drives/drubin-barnes-lab_drive/project_overviews/coronavirus_research/imaging_data/20200619_nsp3-4GFP_sirActin/well2-Nsp3-4GFP-CAAX-RFP_sirActin-100nM-z-006.nd2'\n",
    "well2_Nsp3_4GFP_CAAX_RFP_sirActin_100nM_z_007='/Volumes/GoogleDrive/Shared drives/drubin-barnes-lab_drive/project_overviews/coronavirus_research/imaging_data/20200619_nsp3-4GFP_sirActin/well2-Nsp3-4GFP-CAAX-RFP_sirActin-100nM-z-007.nd2'\n",
    "\n",
    "ap2arcp3nsp34_008='/Volumes/GoogleDrive/Shared drives/drubin-barnes-lab_drive/project_overviews/coronavirus_research/imaging_data/20200715_ap2_arpc3/nsp3+Nsp4/Nsp3+Nsp4_008.nd2'\n",
    "ap2arcp3nsp34_009='/Volumes/GoogleDrive/Shared drives/drubin-barnes-lab_drive/project_overviews/coronavirus_research/imaging_data/20200715_ap2_arpc3/nsp3+Nsp4/Nsp3+Nsp4_009.nd2'\n",
    "ap2arcp3nsp34_010='/Volumes/GoogleDrive/Shared drives/drubin-barnes-lab_drive/project_overviews/coronavirus_research/imaging_data/20200715_ap2_arpc3/nsp3+Nsp4/Nsp3+Nsp4_010.nd2'\n",
    "ap2arcp3nsp34_013='/Volumes/GoogleDrive/Shared drives/drubin-barnes-lab_drive/project_overviews/coronavirus_research/imaging_data/20200715_ap2_arpc3/nsp3+Nsp4/Nsp3+Nsp4_013.nd2'\n",
    "ap2arcp3nsp34_014='/Volumes/GoogleDrive/Shared drives/drubin-barnes-lab_drive/project_overviews/coronavirus_research/imaging_data/20200715_ap2_arpc3/nsp3+Nsp4/Nsp3+Nsp4_014.nd2'\n",
    "ap2arcp3nsp34_015='/Volumes/GoogleDrive/Shared drives/drubin-barnes-lab_drive/project_overviews/coronavirus_research/imaging_data/20200715_ap2_arpc3/nsp3+Nsp4/Nsp3+Nsp4_015.nd2'\n",
    "ap2arcp3nsp34_016='/Volumes/GoogleDrive/Shared drives/drubin-barnes-lab_drive/project_overviews/coronavirus_research/imaging_data/20200715_ap2_arpc3/nsp3+Nsp4/Nsp3+Nsp4_016.nd2'\n",
    "ap2arcp3nsp34_017='/Volumes/GoogleDrive/Shared drives/drubin-barnes-lab_drive/project_overviews/coronavirus_research/imaging_data/20200715_ap2_arpc3/nsp3+Nsp4/Nsp3+Nsp4_017.nd2'"
   ]
  },
  {
   "cell_type": "code",
   "execution_count": 14,
   "metadata": {},
   "outputs": [],
   "source": [
    "# Meiyan's data:\n",
    "ap2dynm2arcp3='/Volumes/GoogleDrive/My Drive/Drubin Lab/ap2dynm2arcp3_project/TIRF movies/200722_ADA3/ADA3_002.nd2'\n",
    "ap2dynm2='/Volumes/GoogleDrive/My Drive/Drubin Lab/ap2dynm2arcp3_project/TIRF movies/200715_AD/AD_008.nd2'"
   ]
  },
  {
   "cell_type": "code",
   "execution_count": 15,
   "metadata": {},
   "outputs": [],
   "source": [
    "# set the path for the file to process\n",
    "file_to_process=ap2dynm2"
   ]
  },
  {
   "cell_type": "code",
   "execution_count": 18,
   "metadata": {},
   "outputs": [
    {
     "data": {
      "text/plain": [
       "{'height': 512,\n",
       " 'width': 512,\n",
       " 'date': datetime.datetime(2020, 7, 15, 17, 10, 2),\n",
       " 'fields_of_view': [0],\n",
       " 'frames': range(0, 241),\n",
       " 'z_levels': range(0, 241),\n",
       " 'z_coordinates': [2558.46,\n",
       "  2558.46,\n",
       "  2558.44,\n",
       "  2558.44,\n",
       "  2558.44,\n",
       "  2558.44,\n",
       "  2558.44,\n",
       "  2558.44,\n",
       "  2558.42,\n",
       "  2558.4,\n",
       "  2558.38,\n",
       "  2558.38,\n",
       "  2558.38,\n",
       "  2558.38,\n",
       "  2558.38,\n",
       "  2558.38,\n",
       "  2558.38,\n",
       "  2558.38,\n",
       "  2558.38,\n",
       "  2558.38,\n",
       "  2558.38,\n",
       "  2558.38,\n",
       "  2558.38,\n",
       "  2558.38,\n",
       "  2558.38,\n",
       "  2558.38,\n",
       "  2558.38,\n",
       "  2558.38,\n",
       "  2558.34,\n",
       "  2558.34,\n",
       "  2558.32,\n",
       "  2558.34,\n",
       "  2558.32,\n",
       "  2558.32,\n",
       "  2558.32,\n",
       "  2558.32,\n",
       "  2558.34,\n",
       "  2558.32,\n",
       "  2558.32,\n",
       "  2558.32,\n",
       "  2558.32,\n",
       "  2558.32,\n",
       "  2558.3,\n",
       "  2558.3,\n",
       "  2558.3,\n",
       "  2558.32,\n",
       "  2558.32,\n",
       "  2558.32,\n",
       "  2558.32,\n",
       "  2558.32,\n",
       "  2558.32,\n",
       "  2558.3,\n",
       "  2558.28,\n",
       "  2558.28,\n",
       "  2558.28,\n",
       "  2558.28,\n",
       "  2558.28,\n",
       "  2558.28,\n",
       "  2558.26,\n",
       "  2558.26,\n",
       "  2558.26,\n",
       "  2558.26,\n",
       "  2558.28,\n",
       "  2558.28,\n",
       "  2558.28,\n",
       "  2558.26,\n",
       "  2558.28,\n",
       "  2558.28,\n",
       "  2558.28,\n",
       "  2558.28,\n",
       "  2558.28,\n",
       "  2558.28,\n",
       "  2558.28,\n",
       "  2558.28,\n",
       "  2558.28,\n",
       "  2558.28,\n",
       "  2558.28,\n",
       "  2558.28,\n",
       "  2558.28,\n",
       "  2558.26,\n",
       "  2558.2400000000002,\n",
       "  2558.2400000000002,\n",
       "  2558.2400000000002,\n",
       "  2558.2400000000002,\n",
       "  2558.2200000000003,\n",
       "  2558.2200000000003,\n",
       "  2558.2200000000003,\n",
       "  2558.2200000000003,\n",
       "  2558.2200000000003,\n",
       "  2558.2200000000003,\n",
       "  2558.2200000000003,\n",
       "  2558.2000000000003,\n",
       "  2558.2000000000003,\n",
       "  2558.2200000000003,\n",
       "  2558.2200000000003,\n",
       "  2558.2400000000002,\n",
       "  2558.2400000000002,\n",
       "  2558.2400000000002,\n",
       "  2558.2400000000002,\n",
       "  2558.2400000000002,\n",
       "  2558.2400000000002,\n",
       "  2558.2400000000002,\n",
       "  2558.2400000000002,\n",
       "  2558.2400000000002,\n",
       "  2558.2400000000002,\n",
       "  2558.2400000000002,\n",
       "  2558.2400000000002,\n",
       "  2558.2400000000002,\n",
       "  2558.2400000000002,\n",
       "  2558.2400000000002,\n",
       "  2558.2400000000002,\n",
       "  2558.2400000000002,\n",
       "  2558.2400000000002,\n",
       "  2558.2400000000002,\n",
       "  2558.2200000000003,\n",
       "  2558.2000000000003,\n",
       "  2558.18,\n",
       "  2558.16,\n",
       "  2558.18,\n",
       "  2558.18,\n",
       "  2558.18,\n",
       "  2558.18,\n",
       "  2558.18,\n",
       "  2558.18,\n",
       "  2558.18,\n",
       "  2558.18,\n",
       "  2558.18,\n",
       "  2558.2000000000003,\n",
       "  2558.2200000000003,\n",
       "  2558.2200000000003,\n",
       "  2558.2200000000003,\n",
       "  2558.2200000000003,\n",
       "  2558.2200000000003,\n",
       "  2558.2400000000002,\n",
       "  2558.2400000000002,\n",
       "  2558.2400000000002,\n",
       "  2558.2400000000002,\n",
       "  2558.2000000000003,\n",
       "  2558.16,\n",
       "  2558.16,\n",
       "  2558.18,\n",
       "  2558.18,\n",
       "  2558.18,\n",
       "  2558.18,\n",
       "  2558.18,\n",
       "  2558.18,\n",
       "  2558.18,\n",
       "  2558.18,\n",
       "  2558.18,\n",
       "  2558.18,\n",
       "  2558.18,\n",
       "  2558.14,\n",
       "  2558.12,\n",
       "  2558.12,\n",
       "  2558.1,\n",
       "  2558.1,\n",
       "  2558.08,\n",
       "  2558.08,\n",
       "  2558.08,\n",
       "  2558.08,\n",
       "  2558.08,\n",
       "  2558.06,\n",
       "  2558.06,\n",
       "  2558.06,\n",
       "  2558.06,\n",
       "  2558.06,\n",
       "  2558.06,\n",
       "  2558.04,\n",
       "  2558.06,\n",
       "  2558.06,\n",
       "  2558.08,\n",
       "  2558.08,\n",
       "  2558.08,\n",
       "  2558.08,\n",
       "  2558.08,\n",
       "  2558.06,\n",
       "  2558.08,\n",
       "  2558.08,\n",
       "  2558.08,\n",
       "  2558.06,\n",
       "  2558.06,\n",
       "  2558.06,\n",
       "  2558.04,\n",
       "  2558.04,\n",
       "  2558.04,\n",
       "  2558.04,\n",
       "  2558.04,\n",
       "  2558.04,\n",
       "  2558.04,\n",
       "  2558.04,\n",
       "  2558.04,\n",
       "  2558.04,\n",
       "  2558.04,\n",
       "  2558.02,\n",
       "  2558.0,\n",
       "  2558.0,\n",
       "  2558.0,\n",
       "  2558.0,\n",
       "  2558.0,\n",
       "  2558.0,\n",
       "  2558.0,\n",
       "  2558.0,\n",
       "  2558.0,\n",
       "  2558.0,\n",
       "  2558.0,\n",
       "  2558.0,\n",
       "  2558.0,\n",
       "  2558.0,\n",
       "  2558.0,\n",
       "  2558.0,\n",
       "  2558.0,\n",
       "  2558.0,\n",
       "  2558.0,\n",
       "  2558.0,\n",
       "  2558.0,\n",
       "  2557.98,\n",
       "  2557.96,\n",
       "  2557.96,\n",
       "  2557.96,\n",
       "  2557.94,\n",
       "  2557.96,\n",
       "  2557.96,\n",
       "  2557.98,\n",
       "  2557.98,\n",
       "  2558.0,\n",
       "  2558.0,\n",
       "  2557.96,\n",
       "  2557.96,\n",
       "  2557.92,\n",
       "  2557.9,\n",
       "  2557.9,\n",
       "  2557.9,\n",
       "  2557.9,\n",
       "  2557.92,\n",
       "  2557.9,\n",
       "  2557.9,\n",
       "  2557.9,\n",
       "  2557.9,\n",
       "  2557.9,\n",
       "  2557.9,\n",
       "  2557.9],\n",
       " 'total_images_per_channel': 241,\n",
       " 'channels': ['488 nm', '561 nm', '640 nm'],\n",
       " 'pixel_microns': 0.111590472461171,\n",
       " 'num_frames': 241,\n",
       " 'experiment': {'description': 'ND Acquisition',\n",
       "  'loops': [{'start': 0,\n",
       "    'duration': 240000.0,\n",
       "    'stimulation': False,\n",
       "    'sampling_interval': 1000.0}]},\n",
       " 'events': []}"
      ]
     },
     "execution_count": 18,
     "metadata": {},
     "output_type": "execute_result"
    }
   ],
   "source": [
    "ND2Reader(file_to_process).metadata"
   ]
  },
  {
   "cell_type": "code",
   "execution_count": 7,
   "metadata": {},
   "outputs": [
    {
     "name": "stdout",
     "output_type": "stream",
     "text": [
      "The file being processed is: /Volumes/GoogleDrive/My Drive/Drubin Lab/ap2dynm2arcp3_project/TIRF movies/200722_ADA3/ADA3_002.nd2\n",
      "\n",
      "The coordinates available in this file are: dict_keys(['x', 'y', 'c', 't', 'z'])\n",
      "\n",
      "dict_keys(['x', 'y', 'c', 't', 'z'])\n",
      "The number of x positions in each frame of the movie: 512\n",
      "The number of y positions in each frame of the movie: 512\n",
      "The number of channels in the movie: 3\n",
      "The number of time points in the movie: 241\n",
      "The number of z positions in each frame of the movie: 241\n",
      "The dimensionality array of this file is: [241   3 241 512 512]\n",
      "xyctz\n"
     ]
    },
    {
     "data": {
      "application/vnd.jupyter.widget-view+json": {
       "model_id": "9ede8f38e81648388323766468ea3843",
       "version_major": 2,
       "version_minor": 0
      },
      "text/plain": [
       "FloatText(value=0.0, description='ch0 lower:', style=DescriptionStyle(description_width='initial'))"
      ]
     },
     "metadata": {},
     "output_type": "display_data"
    },
    {
     "data": {
      "application/vnd.jupyter.widget-view+json": {
       "model_id": "c29ea29d66a44e13923ff0d9b25f21df",
       "version_major": 2,
       "version_minor": 0
      },
      "text/plain": [
       "FloatSlider(value=0.0, continuous_update=False, description='percentile ch0 lower:', readout_format='.1f', sty…"
      ]
     },
     "metadata": {},
     "output_type": "display_data"
    },
    {
     "data": {
      "application/vnd.jupyter.widget-view+json": {
       "model_id": "6be46cc734624a3f9465e49d6cde6c71",
       "version_major": 2,
       "version_minor": 0
      },
      "text/plain": [
       "FloatText(value=100.0, description='ch0 upper:', style=DescriptionStyle(description_width='initial'))"
      ]
     },
     "metadata": {},
     "output_type": "display_data"
    },
    {
     "data": {
      "application/vnd.jupyter.widget-view+json": {
       "model_id": "166079a20f4a475181ec5a71285db1f3",
       "version_major": 2,
       "version_minor": 0
      },
      "text/plain": [
       "FloatSlider(value=100.0, continuous_update=False, description='percentile ch0 upper:', readout_format='.1f', s…"
      ]
     },
     "metadata": {},
     "output_type": "display_data"
    },
    {
     "data": {
      "application/vnd.jupyter.widget-view+json": {
       "model_id": "a8c9d6077a34444bad811888fac60aa5",
       "version_major": 2,
       "version_minor": 0
      },
      "text/plain": [
       "FloatText(value=0.0, description='ch1 lower:', style=DescriptionStyle(description_width='initial'))"
      ]
     },
     "metadata": {},
     "output_type": "display_data"
    },
    {
     "data": {
      "application/vnd.jupyter.widget-view+json": {
       "model_id": "a2586e34fbe0495ab0229c35164a1b7c",
       "version_major": 2,
       "version_minor": 0
      },
      "text/plain": [
       "FloatSlider(value=0.0, continuous_update=False, description='percentile ch1 lower:', readout_format='.1f', sty…"
      ]
     },
     "metadata": {},
     "output_type": "display_data"
    },
    {
     "data": {
      "application/vnd.jupyter.widget-view+json": {
       "model_id": "b2b555c1b605424592a78690d890eaf6",
       "version_major": 2,
       "version_minor": 0
      },
      "text/plain": [
       "FloatText(value=100.0, description='ch1 upper:', style=DescriptionStyle(description_width='initial'))"
      ]
     },
     "metadata": {},
     "output_type": "display_data"
    },
    {
     "data": {
      "application/vnd.jupyter.widget-view+json": {
       "model_id": "ab11cea43435484f8f78348736d70da4",
       "version_major": 2,
       "version_minor": 0
      },
      "text/plain": [
       "FloatSlider(value=100.0, continuous_update=False, description='percentile ch1 upper:', readout_format='.1f', s…"
      ]
     },
     "metadata": {},
     "output_type": "display_data"
    },
    {
     "data": {
      "application/vnd.jupyter.widget-view+json": {
       "model_id": "730c075a1eb64d989ca5a00c048f202a",
       "version_major": 2,
       "version_minor": 0
      },
      "text/plain": [
       "FloatText(value=0.0, description='ch2 lower:', style=DescriptionStyle(description_width='initial'))"
      ]
     },
     "metadata": {},
     "output_type": "display_data"
    },
    {
     "data": {
      "application/vnd.jupyter.widget-view+json": {
       "model_id": "4f759fc41749465a95faaab629e39b11",
       "version_major": 2,
       "version_minor": 0
      },
      "text/plain": [
       "FloatSlider(value=0.0, continuous_update=False, description='percentile ch2 lower:', readout_format='.1f', sty…"
      ]
     },
     "metadata": {},
     "output_type": "display_data"
    },
    {
     "data": {
      "application/vnd.jupyter.widget-view+json": {
       "model_id": "15e4af43aec745a5b5d0244a069be854",
       "version_major": 2,
       "version_minor": 0
      },
      "text/plain": [
       "FloatText(value=100.0, description='ch2 upper:', style=DescriptionStyle(description_width='initial'))"
      ]
     },
     "metadata": {},
     "output_type": "display_data"
    },
    {
     "data": {
      "application/vnd.jupyter.widget-view+json": {
       "model_id": "978198b5d9704224b008fc40c8b9f673",
       "version_major": 2,
       "version_minor": 0
      },
      "text/plain": [
       "FloatSlider(value=100.0, continuous_update=False, description='percentile ch2 upper:', readout_format='.1f', s…"
      ]
     },
     "metadata": {},
     "output_type": "display_data"
    }
   ],
   "source": [
    "# build the necessary widgets for the visualization tools\n",
    "\n",
    "# use the following entry boxes and sliders to set the percentile of intensities in each available channel \n",
    "# to set the lower and upper cut-offs in percentiles allowed for display\n",
    "# these are set to 0 and 100, respectively\n",
    "num_channels, channels_to_view, channels_thresholded, percentile_ranges, all_percentiles_entrybox_lower_upper, threshold_options, image_dimensionality_array, axes_available, image_frames, display_widget, make_napari_movie=return_widgets_for_display(file_to_process)\n",
    "\n",
    "for i in range(num_channels*2):\n",
    "    display(all_percentiles_entrybox_lower_upper[i], percentile_ranges[i])"
   ]
  },
  {
   "cell_type": "code",
   "execution_count": 8,
   "metadata": {},
   "outputs": [],
   "source": [
    "# create a napari viewer that is linked to a movie \"state\" output for movie generation\n",
    "output = interactive(\n",
    "            make_movie,\n",
    "            {'manual': True},\n",
    "            channels_to_display=channels_to_view,\n",
    "            channels_to_threshold=channels_thresholded,\n",
    "            threshold_methods=threshold_options,\n",
    "            percentile_values=fixed(all_percentiles_entrybox_lower_upper),\n",
    "            display_on=display_widget,\n",
    "            file_to_process=fixed(file_to_process),\n",
    "            image_dimensionality_array=fixed(image_dimensionality_array),\n",
    "            axes_available=fixed(axes_available),\n",
    "            image_frames=fixed(image_frames),\n",
    "            make_naparimovie=make_napari_movie\n",
    "           )"
   ]
  },
  {
   "cell_type": "code",
   "execution_count": 9,
   "metadata": {},
   "outputs": [
    {
     "data": {
      "application/vnd.jupyter.widget-view+json": {
       "model_id": "fe89496c39454c93a84f09434b3709bf",
       "version_major": 2,
       "version_minor": 0
      },
      "text/plain": [
       "interactive(children=(SelectMultiple(description='view channels', options=('0', '1', '2'), value=()), SelectMu…"
      ]
     },
     "metadata": {},
     "output_type": "display_data"
    }
   ],
   "source": [
    "display(output) # display the napari viewer widgets and display tools\n",
    "# select the channels to view (hold control/command to highlight multiple lines)\n",
    "# select the channels to threshold; if a channel is selected for thresholding, a threshold method must be specified\n",
    "# chose between no threshold, single-Otsu, and percentile"
   ]
  },
  {
   "cell_type": "code",
   "execution_count": 70,
   "metadata": {},
   "outputs": [],
   "source": [
    "# if make naparimovie is checked, check if this global variable is carried over from the scripts\n",
    "# this \"movie\" object is what naparimovie will render into a movie\n",
    "# this cell must be run after every new run of display(output) so the most up-to-date napari viewer is used\n",
    "movie = output.result"
   ]
  },
  {
   "cell_type": "code",
   "execution_count": 48,
   "metadata": {},
   "outputs": [
    {
     "data": {
      "text/plain": [
       "<naparimovie.naparimovie.Movie at 0x7f8a709b4670>"
      ]
     },
     "execution_count": 48,
     "metadata": {},
     "output_type": "execute_result"
    }
   ],
   "source": [
    "movie"
   ]
  },
  {
   "cell_type": "code",
   "execution_count": 16,
   "metadata": {},
   "outputs": [],
   "source": [
    "# i sets a unique string name for the movie script\n",
    "i=1"
   ]
  },
  {
   "cell_type": "code",
   "execution_count": 103,
   "metadata": {},
   "outputs": [],
   "source": [
    "# for 1 channels, many time, 1 z stack\n",
    "# # # %%capture\n",
    "# number of channels in movie to generate script for\n",
    "number_of_channels = 1\n",
    "movie_text_command=\"visualization_scripts_new/movie_script\"+str(i)+\".txt\"\n",
    "# the granularity of angled rotations in function calls\n",
    "# increase for smoothness (will take longer to render)\n",
    "# decrease for testing script generations\n",
    "# number_frames_per_unit_rotation = 5\n",
    "# unit_rotation_degrees=15\n",
    "\n",
    "\n",
    "\n",
    "# initialize the first frame in the naparimovie\n",
    "# can be greater than 0 if you want a pause at the beginning\n",
    "# the first \"camera\" frame of the naparimovie will start as the current\n",
    "# state of the napari window. therefore, all contrast settings and visualization tweaks\n",
    "# can be made in napari before starting the gif generation follow script generation\n",
    "\n",
    "frame_start = 0\n",
    "\n",
    "movie_current = MovieBuilder()\n",
    "\n",
    "movie_current.shift_time(40,90)\n",
    "\n",
    "# you can optionally get the frame of the movie for the next state as a return from any operation\n",
    "# fim=movie_current.make_all_layers_invisible(2)\n",
    "\n",
    "# you can manually set the frame in the movie for an increased duration\n",
    "# movie_current._frame_in_movie = 20\n",
    "\n",
    "\n",
    "\n",
    "# movie_current.make_one_layer_visible(0)\n",
    "\n",
    "\n",
    "# movie_current.wait(30)\n",
    "# movie_current.rotate(number_frames_per_unit_rotation,3,unit_rotation_degrees,MovieBuilder.x_axis)\n",
    "# movie_current.wait(30)\n",
    "# movie_current.rotate(number_frames_per_unit_rotation,24,unit_rotation_degrees,MovieBuilder.z_axis)\n",
    "# movie_current.wait(30)\n",
    "# movie_current.rotate(number_frames_per_unit_rotation,21,unit_rotation_degrees,MovieBuilder.x_axis)\n",
    "# movie_current.wait(30)\n",
    "# movie_current.make_one_layer_invisible(0)\n",
    "\n",
    "# movie_current.make_one_layer_visible(1)\n",
    "# movie_current.wait(30)\n",
    "# movie_current.rotate(number_frames_per_unit_rotation,3,unit_rotation_degrees,MovieBuilder.x_axis)\n",
    "# movie_current.wait(30)\n",
    "# movie_current.rotate(number_frames_per_unit_rotation,24,unit_rotation_degrees,MovieBuilder.z_axis)\n",
    "# movie_current.wait(30)\n",
    "# movie_current.rotate(number_frames_per_unit_rotation,21,unit_rotation_degrees,MovieBuilder.x_axis)\n",
    "# movie_current.wait(30)\n",
    "# movie_current.make_one_layer_invisible(1)\n",
    "\n",
    "# movie_current.make_one_layer_visible(0)\n",
    "# movie_current.make_one_layer_visible(1)\n",
    "# movie_current.wait(30)\n",
    "# movie_current.rotate(number_frames_per_unit_rotation,3,unit_rotation_degrees,MovieBuilder.x_axis)\n",
    "# movie_current.wait(30)\n",
    "# movie_current.rotate(number_frames_per_unit_rotation,24,unit_rotation_degrees,MovieBuilder.z_axis)\n",
    "# movie_current.wait(30)\n",
    "\n",
    "\n",
    "# movie_current.zoom(20,0.5)\n",
    "# movie_current.wait(30)\n",
    "# movie_current.zoom(20,2)\n",
    "\n",
    "# make a movie script\n",
    "movie_current.build_movie('visualization_scripts_new/movie_script'+str(i)+'.txt')\n",
    "\n",
    "\n",
    "# make a new text file for the next run of this cell\n",
    "i+=1"
   ]
  },
  {
   "cell_type": "code",
   "execution_count": 18,
   "metadata": {},
   "outputs": [],
   "source": [
    "# for 3 channels, 1 time, z stack\n",
    "# # # %%capture\n",
    "# number of channels in movie to generate script for\n",
    "number_of_channels = 3\n",
    "movie_text_command=\"visualization_scripts_new/movie_script\"+str(i)+\".txt\"\n",
    "# the granularity of angled rotations in function calls\n",
    "# increase for smoothness (will take longer to render)\n",
    "# decrease for testing script generations\n",
    "\n",
    "\n",
    " \n",
    "number_frames_per_unit_rotation = 5\n",
    "unit_rotation_degrees=15\n",
    "\n",
    "\n",
    "\n",
    "# initialize the first frame in the naparimovie\n",
    "# can be greater than 0 if you want a pause at the beginning\n",
    "# the first \"camera\" frame of the naparimovie will start as the current\n",
    "# state of the napari window. therefore, all contrast settings and visualization tweaks\n",
    "# can be made in napari before starting the gif generation follow script generation\n",
    "\n",
    "frame_start = 0\n",
    "\n",
    "movie_current = MovieBuilder()\n",
    "\n",
    "\n",
    "# you can optionally get the frame of the movie for the next state as a return from any operation\n",
    "fim=movie_current.make_all_layers_invisible(2)\n",
    "\n",
    "# you can manually set the frame in the movie for an increased duration\n",
    "# movie_current._frame_in_movie = 20\n",
    "\n",
    "movie_current.make_one_layer_visible(0)\n",
    "movie_current.wait(30)\n",
    "# for example, if you want to rotate 45 degrees, you would do 3 \"unit rotations\" since each unit rotation is 15 degrees\n",
    "# each unit of rotation will be 5 frames, as set by 'number_frames_per_unit_rotation' above\n",
    "movie_current.rotate(number_frames_per_unit_rotation,3,unit_rotation_degrees,MovieBuilder.x_axis)\n",
    "movie_current.wait(30)\n",
    "movie_current.rotate(number_frames_per_unit_rotation,24,unit_rotation_degrees,MovieBuilder.z_axis)\n",
    "movie_current.wait(30)\n",
    "movie_current.rotate(number_frames_per_unit_rotation,21,unit_rotation_degrees,MovieBuilder.x_axis)\n",
    "movie_current.wait(30)\n",
    "movie_current.make_one_layer_invisible(0)\n",
    "\n",
    "movie_current.make_one_layer_visible(1)\n",
    "movie_current.wait(30)\n",
    "movie_current.rotate(number_frames_per_unit_rotation,3,unit_rotation_degrees,MovieBuilder.x_axis)\n",
    "movie_current.wait(30)\n",
    "movie_current.rotate(number_frames_per_unit_rotation,24,unit_rotation_degrees,MovieBuilder.z_axis)\n",
    "movie_current.wait(30)\n",
    "movie_current.rotate(number_frames_per_unit_rotation,21,unit_rotation_degrees,MovieBuilder.x_axis)\n",
    "movie_current.wait(30)\n",
    "movie_current.make_one_layer_invisible(1)\n",
    "\n",
    "movie_current.make_one_layer_visible(0)\n",
    "movie_current.make_one_layer_visible(1)\n",
    "movie_current.wait(30)\n",
    "movie_current.rotate(number_frames_per_unit_rotation,3,unit_rotation_degrees,MovieBuilder.x_axis)\n",
    "movie_current.wait(30)\n",
    "movie_current.rotate(number_frames_per_unit_rotation,24,unit_rotation_degrees,MovieBuilder.z_axis)\n",
    "movie_current.wait(30)\n",
    "\n",
    "# zoom in for 20 frames and zoom out by a factor of 2 (1/0.5)\n",
    "movie_current.zoom(20,0.5)\n",
    "movie_current.wait(30)\n",
    "movie_current.zoom(20,2)\n",
    "\n",
    "# make a movie script\n",
    "movie_current.build_movie('visualization_scripts_new/movie_script'+str(i)+'.txt')\n",
    "\n",
    "\n",
    "# make a new text file for the next run of this cell\n",
    "i+=1"
   ]
  },
  {
   "cell_type": "code",
   "execution_count": null,
   "metadata": {},
   "outputs": [],
   "source": [
    "movie_current = MovieBuilder()\n",
    "movie_current.make_one_layer_visible(0)\n",
    "movie_current.make_one_layer_visible(1)\n",
    "movie_current.wait(30)\n",
    "movie_current.rotate(30,3,20,MovieBuilder.x_axis)\n",
    "movie_current.wait(30)\n",
    "movie_current.rotate(30,24,20,MovieBuilder.z_axis)\n",
    "movie_current.wait(30)\n"
   ]
  },
  {
   "cell_type": "code",
   "execution_count": 114,
   "metadata": {},
   "outputs": [],
   "source": [
    "i=5"
   ]
  },
  {
   "cell_type": "code",
   "execution_count": 115,
   "metadata": {},
   "outputs": [],
   "source": [
    "# for 3 channels, 1 time, z stack\n",
    "# # # %%capture\n",
    "# number of channels in movie to generate script for\n",
    "number_of_channels = 3\n",
    "movie_text_command=\"visualization_scripts_new/movie_script\"+str(i)+\".txt\"\n",
    "# the granularity of angled rotations in function calls\n",
    "# increase for smoothness (will take longer to render)\n",
    "# decrease for testing script generations\n",
    "number_frames_per_unit_rotation = 5\n",
    "unit_rotation_degrees=15\n",
    "\n",
    "\n",
    "\n",
    "# initialize the first frame in the naparimovie\n",
    "# can be greater than 0 if you want a pause at the beginning\n",
    "# the first \"camera\" frame of the naparimovie will start as the current\n",
    "# state of the napari window. therefore, all contrast settings and visualization tweaks\n",
    "# can be made in napari before starting the gif generation follow script generation\n",
    "\n",
    "frame_start = 0\n",
    "\n",
    "movie_current = MovieBuilder()\n",
    "\n",
    "\n",
    "# you can optionally get the frame of the movie for the next state as a return from any operation\n",
    "# fim=movie_current.make_all_layers_invisible(2)\n",
    "\n",
    "# you can manually set the frame in the movie for an increased duration\n",
    "# movie_current._frame_in_movie = 20\n",
    "\n",
    "# movie_current.make_one_layer_visible(0)\n",
    "movie_current.make_one_layer_visible(0)\n",
    "movie_current.wait(50)\n",
    "movie_current.make_one_layer_visible(1)\n",
    "movie_current.wait(50)\n",
    "movie_current.make_one_layer_visible(2)\n",
    "movie_current.wait(50)\n",
    "\n",
    "movie_current.rotate(number_frames_per_unit_rotation,2,unit_rotation_degrees,MovieBuilder.x_axis)\n",
    "movie_current.wait(30)\n",
    "movie_current.rotate(number_frames_per_unit_rotation*2,24,unit_rotation_degrees,MovieBuilder.z_axis)\n",
    "movie_current.wait(30)\n",
    "movie_current.rotate(number_frames_per_unit_rotation,22,unit_rotation_degrees,MovieBuilder.x_axis)\n",
    "movie_current.wait(30)\n",
    "\n",
    "\n",
    "# movie_current.make_one_layer_invisible(1)\n",
    "\n",
    "# make a movie script\n",
    "movie_current.build_movie('visualization_scripts_new/movie_script'+str(i)+'.txt')\n"
   ]
  },
  {
   "cell_type": "code",
   "execution_count": 50,
   "metadata": {},
   "outputs": [],
   "source": [
    "i=6"
   ]
  },
  {
   "cell_type": "code",
   "execution_count": 58,
   "metadata": {},
   "outputs": [],
   "source": [
    "# for 3 channels, 1 time, z stack\n",
    "# # # %%capture\n",
    "# number of channels in movie to generate script for\n",
    "number_of_channels = 3\n",
    "movie_text_command=\"visualization_scripts_new/movie_script\"+str(i)+\".txt\"\n",
    "# the granularity of angled rotations in function calls\n",
    "# increase for smoothness (will take longer to render)\n",
    "# decrease for testing script generations\n",
    "number_frames_per_unit_rotation = 5\n",
    "unit_rotation_degrees=15\n",
    "\n",
    "\n",
    "\n",
    "# initialize the first frame in the naparimovie\n",
    "# can be greater than 0 if you want a pause at the beginning\n",
    "# the first \"camera\" frame of the naparimovie will start as the current\n",
    "# state of the napari window. therefore, all contrast settings and visualization tweaks\n",
    "# can be made in napari before starting the gif generation follow script generation\n",
    "\n",
    "frame_start = 0\n",
    "\n",
    "movie_current = MovieBuilder()\n",
    "\n",
    "\n",
    "# you can optionally get the frame of the movie for the next state as a return from any operation\n",
    "# fim=movie_current.make_all_layers_invisible(2)\n",
    "\n",
    "# you can manually set the frame in the movie for an increased duration\n",
    "# movie_current._frame_in_movie = 20\n",
    "\n",
    "# movie_current.make_one_layer_visible(0)\n",
    "frame_in_movie = movie_current.make_one_layer_visible(0)\n",
    "movie_current.wait(50)\n",
    "movie_current.make_one_layer_visible(1)\n",
    "movie_current.wait(50)\n",
    "movie_current.make_one_layer_visible(2)\n",
    "movie_current.wait(50)\n",
    "\n",
    "movie_current.rotate(number_frames_per_unit_rotation,2,unit_rotation_degrees,MovieBuilder.x_axis)\n",
    "movie_current.wait(30)\n",
    "movie_current.shift_time(50,10)\n",
    "movie_current.rotate(number_frames_per_unit_rotation*2,24,unit_rotation_degrees,MovieBuilder.z_axis)\n",
    "\n",
    "\n",
    "\n",
    "# movie_current.make_one_layer_invisible(1)\n",
    "\n",
    "# make a movie script\n",
    "movie_current.build_movie('visualization_scripts_new/movie_script'+str(i)+'.txt')\n"
   ]
  },
  {
   "cell_type": "code",
   "execution_count": 59,
   "metadata": {},
   "outputs": [],
   "source": [
    "# before running make_gif() from naparimovie, ensure that the napari viewer is set correctly:\n",
    "# the initial orientation of the channels, rotation orientation, zoom, contrasts, opacities, etc.\n",
    "# the current state before make_gif() is called is what the rendered movie will use going forward for\n",
    "# each frame of the movie"
   ]
  },
  {
   "cell_type": "code",
   "execution_count": 60,
   "metadata": {},
   "outputs": [],
   "source": [
    "i=6"
   ]
  },
  {
   "cell_type": "code",
   "execution_count": 61,
   "metadata": {},
   "outputs": [
    {
     "data": {
      "image/png": "[encoded data removed]",
      "text/plain": [
       "<Figure size 300x216 with 1 Axes>"
      ]
     },
     "metadata": {
      "needs_background": "light"
     },
     "output_type": "display_data"
    }
   ],
   "source": [
    "# create a series of naparimovie interpretable commands for generating a movie\n",
    "movie.create_state_dict_from_script('visualization_scripts_new/movie_script'+str(i)+'.txt')\n",
    "# generate the mp4 movie with the set fps and resolution\n",
    "# movie.make_gif('/Volumes/GoogleDrive/Shared drives/drubin-barnes-lab_drive/project_overviews/coronavirus_research/imaging_data/data for cyna to filter for group meeting on 8:4:20/all_movies_made_by_cyna/20200703_nsp3-4 transfection/Sec61-lamin/Sec61-GFP_laminRFP_noTransfection_002'+'.gif')\n",
    "movie.make_movie(name='max_movie.mp4',fps=10, resolution = 1000)"
   ]
  },
  {
   "cell_type": "code",
   "execution_count": null,
   "metadata": {},
   "outputs": [],
   "source": [
    "def func_Example()"
   ]
  },
  {
   "cell_type": "code",
   "execution_count": 15,
   "metadata": {},
   "outputs": [],
   "source": [
    "test_array = np.array([1,2,3,4])"
   ]
  },
  {
   "cell_type": "code",
   "execution_count": 16,
   "metadata": {},
   "outputs": [
    {
     "data": {
      "text/plain": [
       "3"
      ]
     },
     "execution_count": 16,
     "metadata": {},
     "output_type": "execute_result"
    }
   ],
   "source": [
    "test_array.argmax()"
   ]
  },
  {
   "cell_type": "code",
   "execution_count": 17,
   "metadata": {},
   "outputs": [
    {
     "data": {
      "text/plain": [
       "array([ 3,  6,  9, 12])"
      ]
     },
     "execution_count": 17,
     "metadata": {},
     "output_type": "execute_result"
    }
   ],
   "source": [
    "np.multiply(test_array,3)"
   ]
  },
  {
   "cell_type": "code",
   "execution_count": null,
   "metadata": {},
   "outputs": [],
   "source": []
  }
 ],
 "metadata": {
  "kernelspec": {
   "display_name": "Python 3",
   "language": "python",
   "name": "python3"
  },
  "language_info": {
   "codemirror_mode": {
    "name": "ipython",
    "version": 3
   },
   "file_extension": ".py",
   "mimetype": "text/x-python",
   "name": "python",
   "nbconvert_exporter": "python",
   "pygments_lexer": "ipython3",
   "version": "3.8.3"
  }
 },
 "nbformat": 4,
 "nbformat_minor": 4
}
