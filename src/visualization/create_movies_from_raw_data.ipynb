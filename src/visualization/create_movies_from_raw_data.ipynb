{
 "cells": [
  {
   "cell_type": "code",
   "execution_count": 1,
   "metadata": {},
   "outputs": [],
   "source": [
    "# tiff > portable movie viewer \n",
    "\n",
    "# Cyna Shirazinejad\n",
    "# 6/19/20\n",
    "\n",
    "# capabilities needed:\n",
    "# - auto-segmentation (once we establish: organelles we'll be working with, expression levels, cell types, etc.)\n",
    "# - auto-tracking of puncta (CME), blobs (organelles) that is then overlaid on images\n",
    "# - text annotation: scale bar, channel names (auto-extracted from image title), markers, imaging settings (exposure, frame rate, intensity), conditions, timestamp (minute and seconds)\n",
    "\n",
    "\n",
    "# pulse chase/stimulation: digital toggle indicating where \n",
    "# - photobleaching correction (probably exponential fit to start with)\n",
    "# - extension/generalization to other data formats (TIFFS), Hd5\n",
    "\n"
   ]
  },
  {
   "cell_type": "code",
   "execution_count": 2,
   "metadata": {},
   "outputs": [],
   "source": [
    "# not necessary unless running vm\n",
    "# !source ~/.bash_profile\n"
   ]
  },
  {
   "cell_type": "code",
   "execution_count": 88,
   "metadata": {},
   "outputs": [
    {
     "name": "stdout",
     "output_type": "stream",
     "text": [
      "The autoreload extension is already loaded. To reload it, use:\n",
      "  %reload_ext autoreload\n"
     ]
    },
    {
     "name": "stderr",
     "output_type": "stream",
     "text": [
      "Enabling notebook extension jupyter-js-widgets/extension...\n",
      "      - Validating: ok\n"
     ]
    }
   ],
   "source": [
    "\n",
    "# import all necessary Python libraries\n",
    "\n",
    "# configure the Jupyter Notebook\n",
    "%load_ext autoreload\n",
    "%autoreload 2\n",
    "%matplotlib inline\n",
    "%gui qt\n",
    "\n",
    "import pickle\n",
    "import napari \n",
    "import imageio\n",
    "import os\n",
    "import sys\n",
    "# import z5py\n",
    "\n",
    "import numpy as np\n",
    "from os import listdir\n",
    "from os.path import isfile, join\n",
    "from ipywidgets import interact, interactive, fixed, interact_manual # for interactive widgets\n",
    "import dask.array as da\n",
    "import dask\n",
    "import tifffile\n",
    "import subprocess\n",
    "import scipy as sp\n",
    "import scipy.optimize\n",
    "sys.path.append(os.path.abspath(os.getcwd() + '/visualization_python_scripts_cyna'))\n",
    "from visualization_nd2 import return_widgets_for_display, make_movie\n",
    "from dask_to_napari import (convert_tiffs_to_dask_arrays, \n",
    "                            view_one_channel, \n",
    "                            view_one_time_one_channel,\n",
    "                            view_specified_channels_one_time,\n",
    "                            populate_grid)\n",
    "from visualization_utilities import add_3d_axes\n",
    "from skimage.io import imread\n",
    "from dask import delayed\n",
    "import tifffile\n",
    "import dask.array as da\n",
    "from glob import glob\n",
    "from PIL import Image\n",
    "from pims import ImageSequence\n",
    "# import dask_image\n",
    "import imageio\n",
    "from naparimovie_wrappers import MovieBuilder\n",
    "\n",
    "import math\n",
    "from naparimovie import Movie\n",
    "\n",
    "!jupyter nbextension enable --py widgetsnbextension\n"
   ]
  },
  {
   "cell_type": "code",
   "execution_count": null,
   "metadata": {},
   "outputs": [],
   "source": [
    "# list the XY and Z spacing \n",
    "\n",
    "# we will need to import the\n",
    "# z spacing\n",
    "dz = 0.5;\n",
    "\n",
    "skew_angle = math.radians(31.5) \n",
    "# frame rate\n",
    "\n",
    "# x y pixel size\n",
    "xyPixelSize = 0.108;\n",
    "\n",
    "# z spacing after deskew\n",
    "z_spacing = dz*math.sin(skew_angle)"
   ]
  },
  {
   "cell_type": "code",
   "execution_count": 2,
   "metadata": {},
   "outputs": [
    {
     "name": "stdout",
     "output_type": "stream",
     "text": [
      "/y/pyLattice/src/visualization\n"
     ]
    }
   ],
   "source": [
    "# the path you are in \n",
    "!pwd"
   ]
  },
  {
   "cell_type": "markdown",
   "metadata": {},
   "source": [
    "# Here put the name of the folder of experiments\n",
    "## e.g. the parent folder, where the daughter folders are 'exp01' 'exp02' etc"
   ]
  },
  {
   "cell_type": "code",
   "execution_count": 80,
   "metadata": {},
   "outputs": [
    {
     "data": {
      "text/plain": [
       "'../../../ABCData/20200716_p35p4_WTCiPS_Ap2_tRFPt_ER_ERtracker_ArpC3_tGFP_nsp3nsp4_halo635/'"
      ]
     },
     "execution_count": 80,
     "metadata": {},
     "output_type": "execute_result"
    }
   ],
   "source": [
    "# name of the folder where you might have several experiments\n",
    "imaging_overall_folder = '../../../ABCData/'\n",
    "\n",
    "current_folder = '20200716_p35p4_WTCiPS_Ap2_tRFPt_ER_ERtracker_ArpC3_tGFP_nsp3nsp4_halo635/'\n",
    "\n",
    "expts_folder = os.path.join(imaging_overall_folder, current_folder)\n",
    "expts_folder"
   ]
  },
  {
   "cell_type": "code",
   "execution_count": 78,
   "metadata": {},
   "outputs": [
    {
     "name": "stdout",
     "output_type": "stream",
     "text": [
      "folders with deskew data: \n",
      "['exp02_3color_200mW_xstage_z0p5', 'exp03_3color_200mW_xstage_z0p5', 'exp04_3color_200mW_xstage_z0p5', 'xp01_3color_200mW_xstage_z0p5']\n",
      "folders with decon data: \n",
      "['exp02_3color_200mW_xstage_z0p5', 'exp03_3color_200mW_xstage_z0p5', 'exp04_3color_200mW_xstage_z0p5', 'xp01_3color_200mW_xstage_z0p5']\n"
     ]
    }
   ],
   "source": [
    "# figure out which subfolders contain deskew and decon data\n",
    "ds_dirs = []\n",
    "decon_dirs = []\n",
    "for folder in next(os.walk(expts_folder))[1]:\n",
    "    for subfolder in next(os.walk(expts_folder+folder))[1]:\n",
    "            if subfolder.startswith('DS'):\n",
    "                ds_dirs.append(folder)\n",
    "                for subsubfolder in next(os.walk(os.path.join(expts_folder,folder,subfolder)))[1]:\n",
    "                    if 'decon' in subsubfolder:\n",
    "                        decon_dirs.append(folder)\n",
    "                \n",
    "print('folders with deskew data: ')\n",
    "print(ds_dirs)\n",
    "print('folders with decon data: ')\n",
    "print(decon_dirs)"
   ]
  },
  {
   "cell_type": "markdown",
   "metadata": {},
   "source": [
    "# choose one folder\n",
    "## decon_dirs[0] or decon_dirs[1] etc"
   ]
  },
  {
   "cell_type": "code",
   "execution_count": 103,
   "metadata": {},
   "outputs": [],
   "source": [
    "expt_to_visualize = decon_dirs[0]\n",
    "path_to_decon = os.path.join(imaging_overall_folder, current_folder, expt_to_visualize)"
   ]
  },
  {
   "cell_type": "code",
   "execution_count": null,
   "metadata": {
    "jupyter": {
     "source_hidden": true
    }
   },
   "outputs": [],
   "source": [
    "# # to format the list of folders more nicely into a pandas dataframe                \n",
    "# indecies = range(len(output_dirs))\n",
    "\n",
    "# output_dirs.sort()\n",
    "# config_dirs.sort()\n",
    "\n",
    "# all_dirs={}\n",
    "\n",
    "# all_dirs['output'] = output_dirs\n",
    "# all_dirs['config'] = config_dirs\n",
    "\n",
    "# all_dirs_df = pd.DataFrame(data = all_dirs)"
   ]
  },
  {
   "cell_type": "code",
   "execution_count": 57,
   "metadata": {},
   "outputs": [
    {
     "name": "stdout",
     "output_type": "stream",
     "text": [
      "Time interval: 9.606 seconds\n"
     ]
    }
   ],
   "source": [
    "# figure out time interval\n",
    "\n",
    "# use the time interval between the first two files \n",
    "\n",
    "# list all the file names\n",
    "channel_file_names = os.listdir(path_to_decon)\n",
    "\n",
    "# pick just the tif files\n",
    "tif_file_names=[]\n",
    "for file in channel_file_names:\n",
    "    if file.endswith('.tif'):\n",
    "        tif_file_names.append(file\n",
    "                             )\n",
    "# sort tif files alphabetically\n",
    "tif_file_names.sort()\n",
    "\n",
    "# figure out which _delimiter_ ends with 'msec'\n",
    "# note theres suaully an absolute time too\n",
    "for index, delimiter in enumerate(os.listdir(path_to_decon)[0].split('_')):\n",
    "    if delimiter.endswith('msec'):\n",
    "#         print(str(index))\n",
    "        time_delimiter_index = index\n",
    "    \n",
    "file_name_0 = tif_file_names[0].split('_')[time_delimiter_index][:-4]\n",
    "file_name_1 = tif_file_names[1].split('_')[time_delimiter_index][:-4]\n",
    "interval = np.abs(np.float(file_name_1)-np.float(file_name_0))\n",
    "\n",
    "interval_seconds = interval/1000\n",
    "print('Time interval: ' + str(interval_seconds) + ' seconds')"
   ]
  },
  {
   "cell_type": "code",
   "execution_count": 8,
   "metadata": {},
   "outputs": [
    {
     "name": "stdout",
     "output_type": "stream",
     "text": [
      "Index of camera designation is 1\n",
      "Index of channel designation is 2\n",
      "Index of stack designation is 4\n",
      "The stacks present in this file are: ['0000', '0001', '0002', '0003', '0004', '0005', '0006', '0007', '0008', '0009', '0010', '0011', '0012', '0013', '0014', '0015', '0016', '0017', '0018', '0019', '0020', '0021', '0022', '0023', '0024', '0025', '0026', '0027', '0028', '0029', '0030', '0031', '0032', '0033', '0034', '0035', '0036', '0037', '0038', '0039', '0040', '0041', '0042', '0043', '0044', '0045', '0046', '0047', '0048', '0049', '0050', '0051', '0052', '0053', '0054', '0055', '0056', '0057', '0058', '0059', '0060', '0061', '0062', '0063', '0064', '0065', '0066', '0067', '0068', '0069', '0070', '0071', '0072', '0073', '0074', '0075', '0076', '0077', '0078', '0079', '0080', '0081', '0082', '0083', '0084', '0085', '0086', '0087', '0088', '0089', '0090', '0091', '0092', '0093', '0094', '0095', '0096', '0097', '0098', '0099']\n",
      "The channels will be returned in the following order linked to the detected identifiers: [[0, ('CamB', 'ch1')], [1, ('CamB', 'ch2')], [2, ('CamA', 'ch0')]]\n",
      "Adding channel 0 to an output array\n",
      "Adding stack 0 within channel 0 to an output array\n",
      "Adding stack 1 within channel 0 to an output array\n",
      "Adding stack 2 within channel 0 to an output array\n",
      "Adding stack 3 within channel 0 to an output array\n",
      "Adding stack 4 within channel 0 to an output array\n",
      "Adding stack 5 within channel 0 to an output array\n",
      "Adding stack 6 within channel 0 to an output array\n",
      "Adding stack 7 within channel 0 to an output array\n",
      "Adding stack 8 within channel 0 to an output array\n",
      "Adding stack 9 within channel 0 to an output array\n",
      "Adding stack 10 within channel 0 to an output array\n",
      "Adding stack 11 within channel 0 to an output array\n",
      "Adding stack 12 within channel 0 to an output array\n",
      "Adding stack 13 within channel 0 to an output array\n",
      "Adding stack 14 within channel 0 to an output array\n",
      "Adding stack 15 within channel 0 to an output array\n",
      "Adding stack 16 within channel 0 to an output array\n",
      "Adding stack 17 within channel 0 to an output array\n",
      "Adding stack 18 within channel 0 to an output array\n",
      "Adding stack 19 within channel 0 to an output array\n",
      "Adding stack 20 within channel 0 to an output array\n",
      "Adding stack 21 within channel 0 to an output array\n",
      "Adding stack 22 within channel 0 to an output array\n",
      "Adding stack 23 within channel 0 to an output array\n",
      "Adding stack 24 within channel 0 to an output array\n",
      "Adding stack 25 within channel 0 to an output array\n",
      "Adding stack 26 within channel 0 to an output array\n",
      "Adding stack 27 within channel 0 to an output array\n",
      "Adding stack 28 within channel 0 to an output array\n",
      "Adding stack 29 within channel 0 to an output array\n",
      "Adding stack 30 within channel 0 to an output array\n",
      "Adding stack 31 within channel 0 to an output array\n",
      "Adding stack 32 within channel 0 to an output array\n",
      "Adding stack 33 within channel 0 to an output array\n",
      "Adding stack 34 within channel 0 to an output array\n",
      "Adding stack 35 within channel 0 to an output array\n",
      "Adding stack 36 within channel 0 to an output array\n",
      "Adding stack 37 within channel 0 to an output array\n",
      "Adding stack 38 within channel 0 to an output array\n",
      "Adding stack 39 within channel 0 to an output array\n",
      "Adding stack 40 within channel 0 to an output array\n",
      "Adding stack 41 within channel 0 to an output array\n",
      "Adding stack 42 within channel 0 to an output array\n",
      "Adding stack 43 within channel 0 to an output array\n",
      "Adding stack 44 within channel 0 to an output array\n",
      "Adding stack 45 within channel 0 to an output array\n",
      "Adding stack 46 within channel 0 to an output array\n",
      "Adding stack 47 within channel 0 to an output array\n",
      "Adding stack 48 within channel 0 to an output array\n",
      "Adding stack 49 within channel 0 to an output array\n",
      "Adding stack 50 within channel 0 to an output array\n",
      "Adding stack 51 within channel 0 to an output array\n",
      "Adding stack 52 within channel 0 to an output array\n",
      "Adding stack 53 within channel 0 to an output array\n",
      "Adding stack 54 within channel 0 to an output array\n",
      "Adding stack 55 within channel 0 to an output array\n",
      "Adding stack 56 within channel 0 to an output array\n",
      "Adding stack 57 within channel 0 to an output array\n",
      "Adding stack 58 within channel 0 to an output array\n",
      "Adding stack 59 within channel 0 to an output array\n",
      "Adding stack 60 within channel 0 to an output array\n",
      "Adding stack 61 within channel 0 to an output array\n",
      "Adding stack 62 within channel 0 to an output array\n",
      "Adding stack 63 within channel 0 to an output array\n",
      "Adding stack 64 within channel 0 to an output array\n",
      "Adding stack 65 within channel 0 to an output array\n",
      "Adding stack 66 within channel 0 to an output array\n",
      "Adding stack 67 within channel 0 to an output array\n",
      "Adding stack 68 within channel 0 to an output array\n",
      "Adding stack 69 within channel 0 to an output array\n",
      "Adding stack 70 within channel 0 to an output array\n",
      "Adding stack 71 within channel 0 to an output array\n",
      "Adding stack 72 within channel 0 to an output array\n",
      "Adding stack 73 within channel 0 to an output array\n",
      "Adding stack 74 within channel 0 to an output array\n",
      "Adding stack 75 within channel 0 to an output array\n",
      "Adding stack 76 within channel 0 to an output array\n",
      "Adding stack 77 within channel 0 to an output array\n",
      "Adding stack 78 within channel 0 to an output array\n",
      "Adding stack 79 within channel 0 to an output array\n",
      "Adding stack 80 within channel 0 to an output array\n",
      "Adding stack 81 within channel 0 to an output array\n",
      "Adding stack 82 within channel 0 to an output array\n",
      "Adding stack 83 within channel 0 to an output array\n",
      "Adding stack 84 within channel 0 to an output array\n",
      "Adding stack 85 within channel 0 to an output array\n",
      "Adding stack 86 within channel 0 to an output array\n",
      "Adding stack 87 within channel 0 to an output array\n",
      "Adding stack 88 within channel 0 to an output array\n",
      "Adding stack 89 within channel 0 to an output array\n",
      "Adding stack 90 within channel 0 to an output array\n",
      "Adding stack 91 within channel 0 to an output array\n",
      "Adding stack 92 within channel 0 to an output array\n",
      "Adding stack 93 within channel 0 to an output array\n",
      "Adding stack 94 within channel 0 to an output array\n",
      "Adding stack 95 within channel 0 to an output array\n",
      "Adding stack 96 within channel 0 to an output array\n",
      "Adding stack 97 within channel 0 to an output array\n",
      "Adding stack 98 within channel 0 to an output array\n",
      "Adding stack 99 within channel 0 to an output array\n",
      "Adding channel 1 to an output array\n",
      "Adding stack 0 within channel 1 to an output array\n",
      "Adding stack 1 within channel 1 to an output array\n",
      "Adding stack 2 within channel 1 to an output array\n",
      "Adding stack 3 within channel 1 to an output array\n",
      "Adding stack 4 within channel 1 to an output array\n",
      "Adding stack 5 within channel 1 to an output array\n",
      "Adding stack 6 within channel 1 to an output array\n",
      "Adding stack 7 within channel 1 to an output array\n",
      "Adding stack 8 within channel 1 to an output array\n",
      "Adding stack 9 within channel 1 to an output array\n",
      "Adding stack 10 within channel 1 to an output array\n",
      "Adding stack 11 within channel 1 to an output array\n",
      "Adding stack 12 within channel 1 to an output array\n",
      "Adding stack 13 within channel 1 to an output array\n",
      "Adding stack 14 within channel 1 to an output array\n",
      "Adding stack 15 within channel 1 to an output array\n",
      "Adding stack 16 within channel 1 to an output array\n",
      "Adding stack 17 within channel 1 to an output array\n",
      "Adding stack 18 within channel 1 to an output array\n",
      "Adding stack 19 within channel 1 to an output array\n",
      "Adding stack 20 within channel 1 to an output array\n",
      "Adding stack 21 within channel 1 to an output array\n",
      "Adding stack 22 within channel 1 to an output array\n",
      "Adding stack 23 within channel 1 to an output array\n",
      "Adding stack 24 within channel 1 to an output array\n",
      "Adding stack 25 within channel 1 to an output array\n",
      "Adding stack 26 within channel 1 to an output array\n",
      "Adding stack 27 within channel 1 to an output array\n",
      "Adding stack 28 within channel 1 to an output array\n",
      "Adding stack 29 within channel 1 to an output array\n",
      "Adding stack 30 within channel 1 to an output array\n",
      "Adding stack 31 within channel 1 to an output array\n",
      "Adding stack 32 within channel 1 to an output array\n",
      "Adding stack 33 within channel 1 to an output array\n",
      "Adding stack 34 within channel 1 to an output array\n",
      "Adding stack 35 within channel 1 to an output array\n",
      "Adding stack 36 within channel 1 to an output array\n",
      "Adding stack 37 within channel 1 to an output array\n",
      "Adding stack 38 within channel 1 to an output array\n",
      "Adding stack 39 within channel 1 to an output array\n",
      "Adding stack 40 within channel 1 to an output array\n",
      "Adding stack 41 within channel 1 to an output array\n",
      "Adding stack 42 within channel 1 to an output array\n",
      "Adding stack 43 within channel 1 to an output array\n",
      "Adding stack 44 within channel 1 to an output array\n",
      "Adding stack 45 within channel 1 to an output array\n",
      "Adding stack 46 within channel 1 to an output array\n",
      "Adding stack 47 within channel 1 to an output array\n",
      "Adding stack 48 within channel 1 to an output array\n",
      "Adding stack 49 within channel 1 to an output array\n",
      "Adding stack 50 within channel 1 to an output array\n",
      "Adding stack 51 within channel 1 to an output array\n",
      "Adding stack 52 within channel 1 to an output array\n",
      "Adding stack 53 within channel 1 to an output array\n",
      "Adding stack 54 within channel 1 to an output array\n",
      "Adding stack 55 within channel 1 to an output array\n",
      "Adding stack 56 within channel 1 to an output array\n",
      "Adding stack 57 within channel 1 to an output array\n",
      "Adding stack 58 within channel 1 to an output array\n",
      "Adding stack 59 within channel 1 to an output array\n",
      "Adding stack 60 within channel 1 to an output array\n",
      "Adding stack 61 within channel 1 to an output array\n",
      "Adding stack 62 within channel 1 to an output array\n",
      "Adding stack 63 within channel 1 to an output array\n",
      "Adding stack 64 within channel 1 to an output array\n",
      "Adding stack 65 within channel 1 to an output array\n",
      "Adding stack 66 within channel 1 to an output array\n",
      "Adding stack 67 within channel 1 to an output array\n",
      "Adding stack 68 within channel 1 to an output array\n",
      "Adding stack 69 within channel 1 to an output array\n",
      "Adding stack 70 within channel 1 to an output array\n",
      "Adding stack 71 within channel 1 to an output array\n",
      "Adding stack 72 within channel 1 to an output array\n",
      "Adding stack 73 within channel 1 to an output array\n",
      "Adding stack 74 within channel 1 to an output array\n",
      "Adding stack 75 within channel 1 to an output array\n",
      "Adding stack 76 within channel 1 to an output array\n",
      "Adding stack 77 within channel 1 to an output array\n",
      "Adding stack 78 within channel 1 to an output array\n",
      "Adding stack 79 within channel 1 to an output array\n",
      "Adding stack 80 within channel 1 to an output array\n",
      "Adding stack 81 within channel 1 to an output array\n",
      "Adding stack 82 within channel 1 to an output array\n",
      "Adding stack 83 within channel 1 to an output array\n",
      "Adding stack 84 within channel 1 to an output array\n",
      "Adding stack 85 within channel 1 to an output array\n",
      "Adding stack 86 within channel 1 to an output array\n",
      "Adding stack 87 within channel 1 to an output array\n",
      "Adding stack 88 within channel 1 to an output array\n",
      "Adding stack 89 within channel 1 to an output array\n",
      "Adding stack 90 within channel 1 to an output array\n",
      "Adding stack 91 within channel 1 to an output array\n",
      "Adding stack 92 within channel 1 to an output array\n",
      "Adding stack 93 within channel 1 to an output array\n",
      "Adding stack 94 within channel 1 to an output array\n",
      "Adding stack 95 within channel 1 to an output array\n",
      "Adding stack 96 within channel 1 to an output array\n",
      "Adding stack 97 within channel 1 to an output array\n",
      "Adding stack 98 within channel 1 to an output array\n",
      "Adding stack 99 within channel 1 to an output array\n",
      "Adding channel 2 to an output array\n",
      "Adding stack 0 within channel 2 to an output array\n",
      "Adding stack 1 within channel 2 to an output array\n",
      "Adding stack 2 within channel 2 to an output array\n",
      "Adding stack 3 within channel 2 to an output array\n",
      "Adding stack 4 within channel 2 to an output array\n",
      "Adding stack 5 within channel 2 to an output array\n",
      "Adding stack 6 within channel 2 to an output array\n",
      "Adding stack 7 within channel 2 to an output array\n",
      "Adding stack 8 within channel 2 to an output array\n",
      "Adding stack 9 within channel 2 to an output array\n",
      "Adding stack 10 within channel 2 to an output array\n",
      "Adding stack 11 within channel 2 to an output array\n",
      "Adding stack 12 within channel 2 to an output array\n",
      "Adding stack 13 within channel 2 to an output array\n",
      "Adding stack 14 within channel 2 to an output array\n",
      "Adding stack 15 within channel 2 to an output array\n",
      "Adding stack 16 within channel 2 to an output array\n",
      "Adding stack 17 within channel 2 to an output array\n",
      "Adding stack 18 within channel 2 to an output array\n",
      "Adding stack 19 within channel 2 to an output array\n",
      "Adding stack 20 within channel 2 to an output array\n",
      "Adding stack 21 within channel 2 to an output array\n",
      "Adding stack 22 within channel 2 to an output array\n",
      "Adding stack 23 within channel 2 to an output array\n",
      "Adding stack 24 within channel 2 to an output array\n",
      "Adding stack 25 within channel 2 to an output array\n",
      "Adding stack 26 within channel 2 to an output array\n",
      "Adding stack 27 within channel 2 to an output array\n",
      "Adding stack 28 within channel 2 to an output array\n",
      "Adding stack 29 within channel 2 to an output array\n",
      "Adding stack 30 within channel 2 to an output array\n",
      "Adding stack 31 within channel 2 to an output array\n",
      "Adding stack 32 within channel 2 to an output array\n",
      "Adding stack 33 within channel 2 to an output array\n",
      "Adding stack 34 within channel 2 to an output array\n",
      "Adding stack 35 within channel 2 to an output array\n",
      "Adding stack 36 within channel 2 to an output array\n",
      "Adding stack 37 within channel 2 to an output array\n",
      "Adding stack 38 within channel 2 to an output array\n",
      "Adding stack 39 within channel 2 to an output array\n",
      "Adding stack 40 within channel 2 to an output array\n",
      "Adding stack 41 within channel 2 to an output array\n",
      "Adding stack 42 within channel 2 to an output array\n",
      "Adding stack 43 within channel 2 to an output array\n",
      "Adding stack 44 within channel 2 to an output array\n",
      "Adding stack 45 within channel 2 to an output array\n",
      "Adding stack 46 within channel 2 to an output array\n",
      "Adding stack 47 within channel 2 to an output array\n",
      "Adding stack 48 within channel 2 to an output array\n",
      "Adding stack 49 within channel 2 to an output array\n",
      "Adding stack 50 within channel 2 to an output array\n",
      "Adding stack 51 within channel 2 to an output array\n",
      "Adding stack 52 within channel 2 to an output array\n",
      "Adding stack 53 within channel 2 to an output array\n",
      "Adding stack 54 within channel 2 to an output array\n",
      "Adding stack 55 within channel 2 to an output array\n",
      "Adding stack 56 within channel 2 to an output array\n",
      "Adding stack 57 within channel 2 to an output array\n",
      "Adding stack 58 within channel 2 to an output array\n",
      "Adding stack 59 within channel 2 to an output array\n",
      "Adding stack 60 within channel 2 to an output array\n",
      "Adding stack 61 within channel 2 to an output array\n",
      "Adding stack 62 within channel 2 to an output array\n",
      "Adding stack 63 within channel 2 to an output array\n",
      "Adding stack 64 within channel 2 to an output array\n",
      "Adding stack 65 within channel 2 to an output array\n",
      "Adding stack 66 within channel 2 to an output array\n",
      "Adding stack 67 within channel 2 to an output array\n",
      "Adding stack 68 within channel 2 to an output array\n",
      "Adding stack 69 within channel 2 to an output array\n",
      "Adding stack 70 within channel 2 to an output array\n",
      "Adding stack 71 within channel 2 to an output array\n",
      "Adding stack 72 within channel 2 to an output array\n",
      "Adding stack 73 within channel 2 to an output array\n",
      "Adding stack 74 within channel 2 to an output array\n",
      "Adding stack 75 within channel 2 to an output array\n",
      "Adding stack 76 within channel 2 to an output array\n",
      "Adding stack 77 within channel 2 to an output array\n",
      "Adding stack 78 within channel 2 to an output array\n",
      "Adding stack 79 within channel 2 to an output array\n",
      "Adding stack 80 within channel 2 to an output array\n",
      "Adding stack 81 within channel 2 to an output array\n",
      "Adding stack 82 within channel 2 to an output array\n",
      "Adding stack 83 within channel 2 to an output array\n",
      "Adding stack 84 within channel 2 to an output array\n",
      "Adding stack 85 within channel 2 to an output array\n",
      "Adding stack 86 within channel 2 to an output array\n",
      "Adding stack 87 within channel 2 to an output array\n",
      "Adding stack 88 within channel 2 to an output array\n",
      "Adding stack 89 within channel 2 to an output array\n",
      "Adding stack 90 within channel 2 to an output array\n",
      "Adding stack 91 within channel 2 to an output array\n",
      "Adding stack 92 within channel 2 to an output array\n",
      "Adding stack 93 within channel 2 to an output array\n",
      "Adding stack 94 within channel 2 to an output array\n",
      "Adding stack 95 within channel 2 to an output array\n",
      "Adding stack 96 within channel 2 to an output array\n",
      "Adding stack 97 within channel 2 to an output array\n",
      "Adding stack 98 within channel 2 to an output array\n",
      "Adding stack 99 within channel 2 to an output array\n",
      "Converting array to dask array\n"
     ]
    }
   ],
   "source": [
    "# convert tiffs to a dask array\n",
    "# a list of lists. each internal list has filesnames for each channel\n",
    "channels_dask = convert_tiffs_to_dask_arrays(path_to_decon,\n",
    "                                             channel_identifiers=None,\n",
    "                                             is_MIP=False,\n",
    "                                             verbose=True)"
   ]
  },
  {
   "cell_type": "code",
   "execution_count": 9,
   "metadata": {},
   "outputs": [
    {
     "data": {
      "text/html": [
       "<table>\n",
       "<tr>\n",
       "<td>\n",
       "<table>\n",
       "  <thead>\n",
       "    <tr><td> </td><th> Array </th><th> Chunk </th></tr>\n",
       "  </thead>\n",
       "  <tbody>\n",
       "    <tr><th> Bytes </th><td> 216.31 GB </td> <td> 73.53 MB </td></tr>\n",
       "    <tr><th> Shape </th><td> (3, 100, 131, 1600, 860) </td> <td> (3, 50, 57, 50, 43) </td></tr>\n",
       "    <tr><th> Count </th><td> 3841 Tasks </td><td> 3840 Chunks </td></tr>\n",
       "    <tr><th> Type </th><td> float32 </td><td> numpy.ndarray </td></tr>\n",
       "  </tbody>\n",
       "</table>\n",
       "</td>\n",
       "<td>\n",
       "<svg width=\"346\" height=\"192\" style=\"stroke:rgb(0,0,0);stroke-width:1\" >\n",
       "\n",
       "  <!-- Horizontal lines -->\n",
       "  <line x1=\"0\" y1=\"0\" x2=\"35\" y2=\"0\" style=\"stroke-width:2\" />\n",
       "  <line x1=\"0\" y1=\"25\" x2=\"35\" y2=\"25\" style=\"stroke-width:2\" />\n",
       "\n",
       "  <!-- Vertical lines -->\n",
       "  <line x1=\"0\" y1=\"0\" x2=\"0\" y2=\"25\" style=\"stroke-width:2\" />\n",
       "  <line x1=\"17\" y1=\"0\" x2=\"17\" y2=\"25\" />\n",
       "  <line x1=\"35\" y1=\"0\" x2=\"35\" y2=\"25\" style=\"stroke-width:2\" />\n",
       "\n",
       "  <!-- Colored Rectangle -->\n",
       "  <polygon points=\"0.000000,0.000000 35.859547,0.000000 35.859547,25.412617 0.000000,25.412617\" style=\"fill:#ECB172A0;stroke-width:0\"/>\n",
       "\n",
       "  <!-- Text -->\n",
       "  <text x=\"17.929774\" y=\"45.412617\" font-size=\"1.0rem\" font-weight=\"100\" text-anchor=\"middle\" >100</text>\n",
       "  <text x=\"55.859547\" y=\"12.706308\" font-size=\"1.0rem\" font-weight=\"100\" text-anchor=\"middle\" transform=\"rotate(0,55.859547,12.706308)\">3</text>\n",
       "\n",
       "\n",
       "  <!-- Horizontal lines -->\n",
       "  <line x1=\"105\" y1=\"0\" x2=\"127\" y2=\"22\" style=\"stroke-width:2\" />\n",
       "  <line x1=\"105\" y1=\"3\" x2=\"127\" y2=\"25\" />\n",
       "  <line x1=\"105\" y1=\"7\" x2=\"127\" y2=\"29\" />\n",
       "  <line x1=\"105\" y1=\"11\" x2=\"127\" y2=\"33\" />\n",
       "  <line x1=\"105\" y1=\"15\" x2=\"127\" y2=\"37\" />\n",
       "  <line x1=\"105\" y1=\"18\" x2=\"127\" y2=\"40\" />\n",
       "  <line x1=\"105\" y1=\"22\" x2=\"127\" y2=\"44\" />\n",
       "  <line x1=\"105\" y1=\"26\" x2=\"127\" y2=\"48\" />\n",
       "  <line x1=\"105\" y1=\"30\" x2=\"127\" y2=\"52\" />\n",
       "  <line x1=\"105\" y1=\"33\" x2=\"127\" y2=\"55\" />\n",
       "  <line x1=\"105\" y1=\"37\" x2=\"127\" y2=\"59\" />\n",
       "  <line x1=\"105\" y1=\"41\" x2=\"127\" y2=\"63\" />\n",
       "  <line x1=\"105\" y1=\"45\" x2=\"127\" y2=\"67\" />\n",
       "  <line x1=\"105\" y1=\"48\" x2=\"127\" y2=\"70\" />\n",
       "  <line x1=\"105\" y1=\"52\" x2=\"127\" y2=\"74\" />\n",
       "  <line x1=\"105\" y1=\"56\" x2=\"127\" y2=\"78\" />\n",
       "  <line x1=\"105\" y1=\"60\" x2=\"127\" y2=\"82\" />\n",
       "  <line x1=\"105\" y1=\"63\" x2=\"127\" y2=\"85\" />\n",
       "  <line x1=\"105\" y1=\"67\" x2=\"127\" y2=\"89\" />\n",
       "  <line x1=\"105\" y1=\"71\" x2=\"127\" y2=\"93\" />\n",
       "  <line x1=\"105\" y1=\"75\" x2=\"127\" y2=\"97\" />\n",
       "  <line x1=\"105\" y1=\"78\" x2=\"127\" y2=\"100\" />\n",
       "  <line x1=\"105\" y1=\"82\" x2=\"127\" y2=\"104\" />\n",
       "  <line x1=\"105\" y1=\"86\" x2=\"127\" y2=\"108\" />\n",
       "  <line x1=\"105\" y1=\"90\" x2=\"127\" y2=\"112\" />\n",
       "  <line x1=\"105\" y1=\"93\" x2=\"127\" y2=\"115\" />\n",
       "  <line x1=\"105\" y1=\"97\" x2=\"127\" y2=\"119\" />\n",
       "  <line x1=\"105\" y1=\"101\" x2=\"127\" y2=\"123\" />\n",
       "  <line x1=\"105\" y1=\"105\" x2=\"127\" y2=\"127\" />\n",
       "  <line x1=\"105\" y1=\"108\" x2=\"127\" y2=\"130\" />\n",
       "  <line x1=\"105\" y1=\"112\" x2=\"127\" y2=\"134\" />\n",
       "  <line x1=\"105\" y1=\"116\" x2=\"127\" y2=\"138\" />\n",
       "  <line x1=\"105\" y1=\"120\" x2=\"127\" y2=\"142\" style=\"stroke-width:2\" />\n",
       "\n",
       "  <!-- Vertical lines -->\n",
       "  <line x1=\"105\" y1=\"0\" x2=\"105\" y2=\"120\" style=\"stroke-width:2\" />\n",
       "  <line x1=\"114\" y1=\"9\" x2=\"114\" y2=\"129\" />\n",
       "  <line x1=\"124\" y1=\"19\" x2=\"124\" y2=\"139\" />\n",
       "  <line x1=\"127\" y1=\"22\" x2=\"127\" y2=\"142\" style=\"stroke-width:2\" />\n",
       "\n",
       "  <!-- Colored Rectangle -->\n",
       "  <polygon points=\"105.000000,0.000000 127.036065,22.036065 127.036065,142.036065 105.000000,120.000000\" style=\"fill:#ECB172A0;stroke-width:0\"/>\n",
       "\n",
       "  <!-- Horizontal lines -->\n",
       "  <line x1=\"105\" y1=\"0\" x2=\"169\" y2=\"0\" style=\"stroke-width:2\" />\n",
       "  <line x1=\"114\" y1=\"9\" x2=\"179\" y2=\"9\" />\n",
       "  <line x1=\"124\" y1=\"19\" x2=\"188\" y2=\"19\" />\n",
       "  <line x1=\"127\" y1=\"22\" x2=\"191\" y2=\"22\" style=\"stroke-width:2\" />\n",
       "\n",
       "  <!-- Vertical lines -->\n",
       "  <line x1=\"105\" y1=\"0\" x2=\"127\" y2=\"22\" style=\"stroke-width:2\" />\n",
       "  <line x1=\"108\" y1=\"0\" x2=\"130\" y2=\"22\" />\n",
       "  <line x1=\"111\" y1=\"0\" x2=\"133\" y2=\"22\" />\n",
       "  <line x1=\"114\" y1=\"0\" x2=\"136\" y2=\"22\" />\n",
       "  <line x1=\"117\" y1=\"0\" x2=\"139\" y2=\"22\" />\n",
       "  <line x1=\"121\" y1=\"0\" x2=\"143\" y2=\"22\" />\n",
       "  <line x1=\"124\" y1=\"0\" x2=\"146\" y2=\"22\" />\n",
       "  <line x1=\"127\" y1=\"0\" x2=\"149\" y2=\"22\" />\n",
       "  <line x1=\"130\" y1=\"0\" x2=\"152\" y2=\"22\" />\n",
       "  <line x1=\"134\" y1=\"0\" x2=\"156\" y2=\"22\" />\n",
       "  <line x1=\"137\" y1=\"0\" x2=\"159\" y2=\"22\" />\n",
       "  <line x1=\"140\" y1=\"0\" x2=\"162\" y2=\"22\" />\n",
       "  <line x1=\"143\" y1=\"0\" x2=\"165\" y2=\"22\" />\n",
       "  <line x1=\"146\" y1=\"0\" x2=\"168\" y2=\"22\" />\n",
       "  <line x1=\"150\" y1=\"0\" x2=\"172\" y2=\"22\" />\n",
       "  <line x1=\"153\" y1=\"0\" x2=\"175\" y2=\"22\" />\n",
       "  <line x1=\"156\" y1=\"0\" x2=\"178\" y2=\"22\" />\n",
       "  <line x1=\"159\" y1=\"0\" x2=\"181\" y2=\"22\" />\n",
       "  <line x1=\"163\" y1=\"0\" x2=\"185\" y2=\"22\" />\n",
       "  <line x1=\"166\" y1=\"0\" x2=\"188\" y2=\"22\" />\n",
       "  <line x1=\"169\" y1=\"0\" x2=\"191\" y2=\"22\" style=\"stroke-width:2\" />\n",
       "\n",
       "  <!-- Colored Rectangle -->\n",
       "  <polygon points=\"105.000000,0.000000 169.500000,0.000000 191.536065,22.036065 127.036065,22.036065\" style=\"fill:#ECB172A0;stroke-width:0\"/>\n",
       "\n",
       "  <!-- Horizontal lines -->\n",
       "  <line x1=\"127\" y1=\"22\" x2=\"191\" y2=\"22\" style=\"stroke-width:2\" />\n",
       "  <line x1=\"127\" y1=\"25\" x2=\"191\" y2=\"25\" />\n",
       "  <line x1=\"127\" y1=\"29\" x2=\"191\" y2=\"29\" />\n",
       "  <line x1=\"127\" y1=\"33\" x2=\"191\" y2=\"33\" />\n",
       "  <line x1=\"127\" y1=\"37\" x2=\"191\" y2=\"37\" />\n",
       "  <line x1=\"127\" y1=\"40\" x2=\"191\" y2=\"40\" />\n",
       "  <line x1=\"127\" y1=\"44\" x2=\"191\" y2=\"44\" />\n",
       "  <line x1=\"127\" y1=\"48\" x2=\"191\" y2=\"48\" />\n",
       "  <line x1=\"127\" y1=\"52\" x2=\"191\" y2=\"52\" />\n",
       "  <line x1=\"127\" y1=\"55\" x2=\"191\" y2=\"55\" />\n",
       "  <line x1=\"127\" y1=\"59\" x2=\"191\" y2=\"59\" />\n",
       "  <line x1=\"127\" y1=\"63\" x2=\"191\" y2=\"63\" />\n",
       "  <line x1=\"127\" y1=\"67\" x2=\"191\" y2=\"67\" />\n",
       "  <line x1=\"127\" y1=\"70\" x2=\"191\" y2=\"70\" />\n",
       "  <line x1=\"127\" y1=\"74\" x2=\"191\" y2=\"74\" />\n",
       "  <line x1=\"127\" y1=\"78\" x2=\"191\" y2=\"78\" />\n",
       "  <line x1=\"127\" y1=\"82\" x2=\"191\" y2=\"82\" />\n",
       "  <line x1=\"127\" y1=\"85\" x2=\"191\" y2=\"85\" />\n",
       "  <line x1=\"127\" y1=\"89\" x2=\"191\" y2=\"89\" />\n",
       "  <line x1=\"127\" y1=\"93\" x2=\"191\" y2=\"93\" />\n",
       "  <line x1=\"127\" y1=\"97\" x2=\"191\" y2=\"97\" />\n",
       "  <line x1=\"127\" y1=\"100\" x2=\"191\" y2=\"100\" />\n",
       "  <line x1=\"127\" y1=\"104\" x2=\"191\" y2=\"104\" />\n",
       "  <line x1=\"127\" y1=\"108\" x2=\"191\" y2=\"108\" />\n",
       "  <line x1=\"127\" y1=\"112\" x2=\"191\" y2=\"112\" />\n",
       "  <line x1=\"127\" y1=\"115\" x2=\"191\" y2=\"115\" />\n",
       "  <line x1=\"127\" y1=\"119\" x2=\"191\" y2=\"119\" />\n",
       "  <line x1=\"127\" y1=\"123\" x2=\"191\" y2=\"123\" />\n",
       "  <line x1=\"127\" y1=\"127\" x2=\"191\" y2=\"127\" />\n",
       "  <line x1=\"127\" y1=\"130\" x2=\"191\" y2=\"130\" />\n",
       "  <line x1=\"127\" y1=\"134\" x2=\"191\" y2=\"134\" />\n",
       "  <line x1=\"127\" y1=\"138\" x2=\"191\" y2=\"138\" />\n",
       "  <line x1=\"127\" y1=\"142\" x2=\"191\" y2=\"142\" style=\"stroke-width:2\" />\n",
       "\n",
       "  <!-- Vertical lines -->\n",
       "  <line x1=\"127\" y1=\"22\" x2=\"127\" y2=\"142\" style=\"stroke-width:2\" />\n",
       "  <line x1=\"130\" y1=\"22\" x2=\"130\" y2=\"142\" />\n",
       "  <line x1=\"133\" y1=\"22\" x2=\"133\" y2=\"142\" />\n",
       "  <line x1=\"136\" y1=\"22\" x2=\"136\" y2=\"142\" />\n",
       "  <line x1=\"139\" y1=\"22\" x2=\"139\" y2=\"142\" />\n",
       "  <line x1=\"143\" y1=\"22\" x2=\"143\" y2=\"142\" />\n",
       "  <line x1=\"146\" y1=\"22\" x2=\"146\" y2=\"142\" />\n",
       "  <line x1=\"149\" y1=\"22\" x2=\"149\" y2=\"142\" />\n",
       "  <line x1=\"152\" y1=\"22\" x2=\"152\" y2=\"142\" />\n",
       "  <line x1=\"156\" y1=\"22\" x2=\"156\" y2=\"142\" />\n",
       "  <line x1=\"159\" y1=\"22\" x2=\"159\" y2=\"142\" />\n",
       "  <line x1=\"162\" y1=\"22\" x2=\"162\" y2=\"142\" />\n",
       "  <line x1=\"165\" y1=\"22\" x2=\"165\" y2=\"142\" />\n",
       "  <line x1=\"168\" y1=\"22\" x2=\"168\" y2=\"142\" />\n",
       "  <line x1=\"172\" y1=\"22\" x2=\"172\" y2=\"142\" />\n",
       "  <line x1=\"175\" y1=\"22\" x2=\"175\" y2=\"142\" />\n",
       "  <line x1=\"178\" y1=\"22\" x2=\"178\" y2=\"142\" />\n",
       "  <line x1=\"181\" y1=\"22\" x2=\"181\" y2=\"142\" />\n",
       "  <line x1=\"185\" y1=\"22\" x2=\"185\" y2=\"142\" />\n",
       "  <line x1=\"188\" y1=\"22\" x2=\"188\" y2=\"142\" />\n",
       "  <line x1=\"191\" y1=\"22\" x2=\"191\" y2=\"142\" style=\"stroke-width:2\" />\n",
       "\n",
       "  <!-- Colored Rectangle -->\n",
       "  <polygon points=\"127.036065,22.036065 191.536065,22.036065 191.536065,142.036065 127.036065,142.036065\" style=\"fill:#ECB172A0;stroke-width:0\"/>\n",
       "\n",
       "  <!-- Text -->\n",
       "  <text x=\"159.286065\" y=\"162.036065\" font-size=\"1.0rem\" font-weight=\"100\" text-anchor=\"middle\" >860</text>\n",
       "  <text x=\"211.536065\" y=\"82.036065\" font-size=\"1.0rem\" font-weight=\"100\" text-anchor=\"middle\" transform=\"rotate(-90,211.536065,82.036065)\">1600</text>\n",
       "  <text x=\"106.018033\" y=\"151.018033\" font-size=\"1.0rem\" font-weight=\"100\" text-anchor=\"middle\" transform=\"rotate(45,106.018033,151.018033)\">131</text>\n",
       "</svg>\n",
       "</td>\n",
       "</tr>\n",
       "</table>"
      ],
      "text/plain": [
       "dask.array<array, shape=(3, 100, 131, 1600, 860), dtype=float32, chunksize=(3, 50, 57, 50, 43), chunktype=numpy.ndarray>"
      ]
     },
     "execution_count": 9,
     "metadata": {},
     "output_type": "execute_result"
    }
   ],
   "source": [
    "channels_dask"
   ]
  },
  {
   "cell_type": "markdown",
   "metadata": {},
   "source": [
    "# Optionally convert from dask array to zarr array\n",
    "## you can skip this step if your data set is not gigantic"
   ]
  },
  {
   "cell_type": "code",
   "execution_count": null,
   "metadata": {
    "jupyter": {
     "source_hidden": true
    }
   },
   "outputs": [],
   "source": [
    "# try to put it in a folder called to_zarr"
   ]
  },
  {
   "cell_type": "code",
   "execution_count": 83,
   "metadata": {
    "jupyter": {
     "source_hidden": true
    }
   },
   "outputs": [],
   "source": [
    "# channels_dask.to_zarr(\"zarr_data\")"
   ]
  },
  {
   "cell_type": "code",
   "execution_count": 6,
   "metadata": {
    "jupyter": {
     "source_hidden": true
    }
   },
   "outputs": [],
   "source": [
    "# channels_from_zarr=da.from_zarr(\"zarr_data\")"
   ]
  },
  {
   "cell_type": "code",
   "execution_count": 7,
   "metadata": {
    "jupyter": {
     "source_hidden": true
    }
   },
   "outputs": [
    {
     "data": {
      "text/html": [
       "<table>\n",
       "<tr>\n",
       "<td>\n",
       "<table>\n",
       "  <thead>\n",
       "    <tr><td> </td><th> Array </th><th> Chunk </th></tr>\n",
       "  </thead>\n",
       "  <tbody>\n",
       "    <tr><th> Bytes </th><td> 907.45 MB </td> <td> 75.62 MB </td></tr>\n",
       "    <tr><th> Shape </th><td> (1, 1, 151, 1600, 939) </td> <td> (1, 1, 151, 400, 313) </td></tr>\n",
       "    <tr><th> Count </th><td> 13 Tasks </td><td> 12 Chunks </td></tr>\n",
       "    <tr><th> Type </th><td> float32 </td><td> numpy.ndarray </td></tr>\n",
       "  </tbody>\n",
       "</table>\n",
       "</td>\n",
       "<td>\n",
       "<svg width=\"332\" height=\"192\" style=\"stroke:rgb(0,0,0);stroke-width:1\" >\n",
       "\n",
       "  <!-- Horizontal lines -->\n",
       "  <line x1=\"0\" y1=\"0\" x2=\"25\" y2=\"0\" style=\"stroke-width:2\" />\n",
       "  <line x1=\"0\" y1=\"25\" x2=\"25\" y2=\"25\" style=\"stroke-width:2\" />\n",
       "\n",
       "  <!-- Vertical lines -->\n",
       "  <line x1=\"0\" y1=\"0\" x2=\"0\" y2=\"25\" style=\"stroke-width:2\" />\n",
       "  <line x1=\"25\" y1=\"0\" x2=\"25\" y2=\"25\" style=\"stroke-width:2\" />\n",
       "\n",
       "  <!-- Colored Rectangle -->\n",
       "  <polygon points=\"0.000000,0.000000 25.412617,0.000000 25.412617,25.412617 0.000000,25.412617\" style=\"fill:#ECB172A0;stroke-width:0\"/>\n",
       "\n",
       "  <!-- Text -->\n",
       "  <text x=\"12.706308\" y=\"45.412617\" font-size=\"1.0rem\" font-weight=\"100\" text-anchor=\"middle\" >1</text>\n",
       "  <text x=\"45.412617\" y=\"12.706308\" font-size=\"1.0rem\" font-weight=\"100\" text-anchor=\"middle\" transform=\"rotate(0,45.412617,12.706308)\">1</text>\n",
       "\n",
       "\n",
       "  <!-- Horizontal lines -->\n",
       "  <line x1=\"95\" y1=\"0\" x2=\"117\" y2=\"22\" style=\"stroke-width:2\" />\n",
       "  <line x1=\"95\" y1=\"30\" x2=\"117\" y2=\"52\" />\n",
       "  <line x1=\"95\" y1=\"60\" x2=\"117\" y2=\"82\" />\n",
       "  <line x1=\"95\" y1=\"90\" x2=\"117\" y2=\"112\" />\n",
       "  <line x1=\"95\" y1=\"120\" x2=\"117\" y2=\"142\" style=\"stroke-width:2\" />\n",
       "\n",
       "  <!-- Vertical lines -->\n",
       "  <line x1=\"95\" y1=\"0\" x2=\"95\" y2=\"120\" style=\"stroke-width:2\" />\n",
       "  <line x1=\"117\" y1=\"22\" x2=\"117\" y2=\"142\" style=\"stroke-width:2\" />\n",
       "\n",
       "  <!-- Colored Rectangle -->\n",
       "  <polygon points=\"95.000000,0.000000 117.513875,22.513875 117.513875,142.513875 95.000000,120.000000\" style=\"fill:#ECB172A0;stroke-width:0\"/>\n",
       "\n",
       "  <!-- Horizontal lines -->\n",
       "  <line x1=\"95\" y1=\"0\" x2=\"165\" y2=\"0\" style=\"stroke-width:2\" />\n",
       "  <line x1=\"117\" y1=\"22\" x2=\"187\" y2=\"22\" style=\"stroke-width:2\" />\n",
       "\n",
       "  <!-- Vertical lines -->\n",
       "  <line x1=\"95\" y1=\"0\" x2=\"117\" y2=\"22\" style=\"stroke-width:2\" />\n",
       "  <line x1=\"118\" y1=\"0\" x2=\"140\" y2=\"22\" />\n",
       "  <line x1=\"141\" y1=\"0\" x2=\"164\" y2=\"22\" />\n",
       "  <line x1=\"165\" y1=\"0\" x2=\"187\" y2=\"22\" style=\"stroke-width:2\" />\n",
       "\n",
       "  <!-- Colored Rectangle -->\n",
       "  <polygon points=\"95.000000,0.000000 165.425000,0.000000 187.938875,22.513875 117.513875,22.513875\" style=\"fill:#ECB172A0;stroke-width:0\"/>\n",
       "\n",
       "  <!-- Horizontal lines -->\n",
       "  <line x1=\"117\" y1=\"22\" x2=\"187\" y2=\"22\" style=\"stroke-width:2\" />\n",
       "  <line x1=\"117\" y1=\"52\" x2=\"187\" y2=\"52\" />\n",
       "  <line x1=\"117\" y1=\"82\" x2=\"187\" y2=\"82\" />\n",
       "  <line x1=\"117\" y1=\"112\" x2=\"187\" y2=\"112\" />\n",
       "  <line x1=\"117\" y1=\"142\" x2=\"187\" y2=\"142\" style=\"stroke-width:2\" />\n",
       "\n",
       "  <!-- Vertical lines -->\n",
       "  <line x1=\"117\" y1=\"22\" x2=\"117\" y2=\"142\" style=\"stroke-width:2\" />\n",
       "  <line x1=\"140\" y1=\"22\" x2=\"140\" y2=\"142\" />\n",
       "  <line x1=\"164\" y1=\"22\" x2=\"164\" y2=\"142\" />\n",
       "  <line x1=\"187\" y1=\"22\" x2=\"187\" y2=\"142\" style=\"stroke-width:2\" />\n",
       "\n",
       "  <!-- Colored Rectangle -->\n",
       "  <polygon points=\"117.513875,22.513875 187.938875,22.513875 187.938875,142.513875 117.513875,142.513875\" style=\"fill:#ECB172A0;stroke-width:0\"/>\n",
       "\n",
       "  <!-- Text -->\n",
       "  <text x=\"152.726375\" y=\"162.513875\" font-size=\"1.0rem\" font-weight=\"100\" text-anchor=\"middle\" >939</text>\n",
       "  <text x=\"207.938875\" y=\"82.513875\" font-size=\"1.0rem\" font-weight=\"100\" text-anchor=\"middle\" transform=\"rotate(-90,207.938875,82.513875)\">1600</text>\n",
       "  <text x=\"96.256938\" y=\"151.256938\" font-size=\"1.0rem\" font-weight=\"100\" text-anchor=\"middle\" transform=\"rotate(45,96.256938,151.256938)\">151</text>\n",
       "</svg>\n",
       "</td>\n",
       "</tr>\n",
       "</table>"
      ],
      "text/plain": [
       "dask.array<from-zarr, shape=(1, 1, 151, 1600, 939), dtype=float32, chunksize=(1, 1, 151, 400, 313), chunktype=numpy.ndarray>"
      ]
     },
     "execution_count": 7,
     "metadata": {},
     "output_type": "execute_result"
    }
   ],
   "source": [
    "# channels_from_zarr"
   ]
  },
  {
   "cell_type": "markdown",
   "metadata": {},
   "source": [
    "# Here is where you use napari.add_viewer to make a viewer window containing the dask_array\n",
    "## inputting either \"dask_array\" or \"channels_from_zarr\""
   ]
  },
  {
   "cell_type": "code",
   "execution_count": 10,
   "metadata": {},
   "outputs": [],
   "source": [
    "# initialize the viewer\n",
    "viewer=napari.Viewer(ndisplay=3)\n"
   ]
  },
  {
   "cell_type": "code",
   "execution_count": 11,
   "metadata": {},
   "outputs": [
    {
     "data": {
      "text/plain": [
       "<Image layer 'Image' at 0x1d4b0f42ac0>"
      ]
     },
     "execution_count": 11,
     "metadata": {},
     "output_type": "execute_result"
    }
   ],
   "source": [
    "# add each channel\n",
    "viewer.add_image(channels_dask[0],colormap='cyan')\n"
   ]
  },
  {
   "cell_type": "code",
   "execution_count": 12,
   "metadata": {},
   "outputs": [
    {
     "data": {
      "text/plain": [
       "<Image layer 'Image [1]' at 0x1d4c6850160>"
      ]
     },
     "execution_count": 12,
     "metadata": {},
     "output_type": "execute_result"
    }
   ],
   "source": [
    "viewer.add_image(channels_dask[1],colormap='yellow', blending='additive')\n"
   ]
  },
  {
   "cell_type": "code",
   "execution_count": 13,
   "metadata": {},
   "outputs": [
    {
     "data": {
      "text/plain": [
       "<Image layer 'Image [2]' at 0x2072652b550>"
      ]
     },
     "execution_count": 13,
     "metadata": {},
     "output_type": "execute_result"
    }
   ],
   "source": [
    "viewer.add_image(channels_dask[2],colormap='magenta', blending = 'additive')\n"
   ]
  },
  {
   "cell_type": "code",
   "execution_count": 56,
   "metadata": {
    "jupyter": {
     "source_hidden": true
    }
   },
   "outputs": [],
   "source": [
    "# This part is to automate the channel visualization thresholds "
   ]
  },
  {
   "cell_type": "code",
   "execution_count": null,
   "metadata": {
    "jupyter": {
     "source_hidden": true
    }
   },
   "outputs": [],
   "source": [
    "# # build the necessary widgets for the visualization tools\n",
    "\n",
    "# # use the following entry boxes and sliders to set the percentile of intensities in each available channel \n",
    "# # to set the lower and upper cut-offs in percentiles allowed for display\n",
    "# # these are set to 0 and 100, respectively\n",
    "# num_channels, channels_to_view, channels_thresholded, percentile_ranges, all_percentiles_entrybox_lower_upper, threshold_options, image_dimensionality_array, axes_available, image_frames, display_widget, make_napari_movie=return_widgets_for_display(channels_dask)\n",
    "\n",
    "# for i in range(num_channels*2):\n",
    "#     display(all_percentiles_entrybox_lower_upper[i], percentile_ranges[i])"
   ]
  },
  {
   "cell_type": "code",
   "execution_count": 27,
   "metadata": {
    "jupyter": {
     "source_hidden": true
    }
   },
   "outputs": [],
   "source": [
    "# make a grid multi or separate channels. this is optional\n",
    "## # 1,1 is a 1x1 grid\n",
    "#1x1 grid\n",
    "# populate_grid(napari.Viewer(ndisplay=3), 1,1, [(channels_dask[0],[(0,0)],'magenta','ch0')])\n"
   ]
  },
  {
   "cell_type": "code",
   "execution_count": 44,
   "metadata": {
    "jupyter": {
     "source_hidden": true
    }
   },
   "outputs": [],
   "source": [
    "# to make a 4x4 grid ? each channel and overlay \n",
    "# overall there are 4 panels\n",
    "\n",
    "# populate_grid(napari.Viewer(ndisplay=3), 4 , 4, [(channels_dask[0],[(0,0),(3,3)],'magenta','ch0'),(channels_dask[1],[(1,1),(3,3)],'cyan','ch1'),(channels_dask[2],[(2,2),(3,3)],'yellow','ch2')])\n",
    "\n"
   ]
  },
  {
   "cell_type": "code",
   "execution_count": null,
   "metadata": {
    "jupyter": {
     "source_hidden": true
    }
   },
   "outputs": [],
   "source": [
    "# create a napari viewer that is linked to a movie \"state\" output for movie generation\n",
    "# output = interactive(\n",
    "#             make_movie,\n",
    "#             {'manual': True},\n",
    "#             channels_to_display=channels_to_view,\n",
    "#             channels_to_threshold=channels_thresholded,\n",
    "#             threshold_methods=threshold_options,\n",
    "#             percentile_values=fixed(all_percentiles_entrybox_lower_upper),\n",
    "#             display_on=display_widget,\n",
    "#             file_to_process=fixed(file_to_process),\n",
    "#             image_dimensionality_array=fixed(image_dimensionality_array),\n",
    "#             axes_available=fixed(axes_available),\n",
    "#             image_frames=fixed(image_frames),\n",
    "#             make_naparimovie=make_napari_movie\n",
    "#            )\n",
    "# display(output) # display the napari viewer widgets and display tools\n",
    "# select the channels to view (hold control/command to highlight multiple lines)\n",
    "# select the channels to threshold; if a channel is selected for thresholding, a threshold method must be specified\n",
    "# chose between no threshold, single-Otsu, and percentile\n"
   ]
  },
  {
   "cell_type": "markdown",
   "metadata": {},
   "source": [
    "# Make a movie_script file\n",
    "## need a folder called visualization_scripts_new"
   ]
  },
  {
   "cell_type": "code",
   "execution_count": null,
   "metadata": {},
   "outputs": [],
   "source": [
    "# if make naparimovie is checked, check if this global variable is carried over from the scripts\n",
    "# this \"movie\" object is what naparimovie will render into a movie\n",
    "# this cell must be run after every new run of display(output) so the most up-to-date napari viewer is used\n",
    "# movie = output.result"
   ]
  },
  {
   "cell_type": "code",
   "execution_count": 90,
   "metadata": {},
   "outputs": [],
   "source": [
    "# i sets a unique string name for the movie script\n",
    "i=1"
   ]
  },
  {
   "cell_type": "code",
   "execution_count": 93,
   "metadata": {},
   "outputs": [],
   "source": [
    "# for 1 channels, many time, 1 z stack\n",
    "# # # %%capture\n",
    "# number of channels in movie to generate script for\n",
    "number_of_channels = 1\n",
    "movie_text_command=\"visualization_scripts/movie_script\"+str(i)+\".txt\"\n",
    "# the granularity of angled rotations in function calls\n",
    "# increase for smoothness (will take longer to render)\n",
    "# decrease for testing script generations\n",
    "# number_frames_per_unit_rotation = 5\n",
    "# unit_rotation_degrees=15\n",
    "\n",
    "\n",
    "\n",
    "# initialize the first frame in the naparimovie\n",
    "# can be greater than 0 if you want a pause at the beginning\n",
    "# the first \"camera\" frame of the naparimovie will start as the current\n",
    "# state of the napari window. therefore, all contrast settings and visualization tweaks\n",
    "# can be made in napari before starting the gif generation follow script generation\n",
    "\n",
    "frame_start = 0\n",
    "\n",
    "movie_current = MovieBuilder()\n",
    "\n",
    "movie_current.shift_time(40,90)\n",
    "\n",
    "# you can optionally get the frame of the movie for the next state as a return from any operation\n",
    "# fim=movie_current.make_all_layers_invisible(2)\n",
    "\n",
    "# you can manually set the frame in the movie for an increased duration\n",
    "# movie_current._frame_in_movie = 20\n",
    "\n",
    "# make the movie script\n",
    "movie_current.build_movie('visualization_scripts/movie_script'+str(i)+'.txt')\n",
    "\n"
   ]
  },
  {
   "cell_type": "code",
   "execution_count": 94,
   "metadata": {},
   "outputs": [
    {
     "ename": "ValueError",
     "evalue": "key combination F already used! specify 'overwrite=True' to bypass this check",
     "output_type": "error",
     "traceback": [
      "\u001b[1;31m---------------------------------------------------------------------------\u001b[0m",
      "\u001b[1;31mValueError\u001b[0m                                Traceback (most recent call last)",
      "\u001b[1;32m<ipython-input-94-d10dc1942d02>\u001b[0m in \u001b[0;36m<module>\u001b[1;34m\u001b[0m\n\u001b[0;32m      1\u001b[0m \u001b[1;31m# initialize a napariMovie instance\u001b[0m\u001b[1;33m\u001b[0m\u001b[1;33m\u001b[0m\u001b[1;33m\u001b[0m\u001b[0m\n\u001b[1;32m----> 2\u001b[1;33m \u001b[0mmovie\u001b[0m \u001b[1;33m=\u001b[0m \u001b[0mMovie\u001b[0m\u001b[1;33m(\u001b[0m\u001b[0mmyviewer\u001b[0m\u001b[1;33m=\u001b[0m\u001b[0mviewer\u001b[0m\u001b[1;33m)\u001b[0m\u001b[1;33m\u001b[0m\u001b[1;33m\u001b[0m\u001b[0m\n\u001b[0m",
      "\u001b[1;32m~\\Anaconda3\\envs\\visualization\\lib\\site-packages\\naparimovie\\naparimovie.py\u001b[0m in \u001b[0;36m__init__\u001b[1;34m(self, myviewer, inter_steps)\u001b[0m\n\u001b[0;32m     74\u001b[0m \u001b[1;33m\u001b[0m\u001b[0m\n\u001b[0;32m     75\u001b[0m         \u001b[1;31m#establish key bindings\u001b[0m\u001b[1;33m\u001b[0m\u001b[1;33m\u001b[0m\u001b[1;33m\u001b[0m\u001b[0m\n\u001b[1;32m---> 76\u001b[1;33m         \u001b[0mself\u001b[0m\u001b[1;33m.\u001b[0m\u001b[0madd_callback\u001b[0m\u001b[1;33m(\u001b[0m\u001b[1;33m)\u001b[0m\u001b[1;33m\u001b[0m\u001b[1;33m\u001b[0m\u001b[0m\n\u001b[0m\u001b[0;32m     77\u001b[0m \u001b[1;33m\u001b[0m\u001b[0m\n\u001b[0;32m     78\u001b[0m \u001b[1;33m\u001b[0m\u001b[0m\n",
      "\u001b[1;32m~\\Anaconda3\\envs\\visualization\\lib\\site-packages\\naparimovie\\naparimovie.py\u001b[0m in \u001b[0;36madd_callback\u001b[1;34m(self)\u001b[0m\n\u001b[0;32m     80\u001b[0m         \u001b[1;34m\"\"\"Bind keys\"\"\"\u001b[0m\u001b[1;33m\u001b[0m\u001b[1;33m\u001b[0m\u001b[0m\n\u001b[0;32m     81\u001b[0m \u001b[1;33m\u001b[0m\u001b[0m\n\u001b[1;32m---> 82\u001b[1;33m         \u001b[0mself\u001b[0m\u001b[1;33m.\u001b[0m\u001b[0mmyviewer\u001b[0m\u001b[1;33m.\u001b[0m\u001b[0mbind_key\u001b[0m\u001b[1;33m(\u001b[0m\u001b[1;34m'f'\u001b[0m\u001b[1;33m,\u001b[0m \u001b[0mself\u001b[0m\u001b[1;33m.\u001b[0m\u001b[0mcapture_keyframe_callback\u001b[0m\u001b[1;33m)\u001b[0m\u001b[1;33m\u001b[0m\u001b[1;33m\u001b[0m\u001b[0m\n\u001b[0m\u001b[0;32m     83\u001b[0m         \u001b[0mself\u001b[0m\u001b[1;33m.\u001b[0m\u001b[0mmyviewer\u001b[0m\u001b[1;33m.\u001b[0m\u001b[0mbind_key\u001b[0m\u001b[1;33m(\u001b[0m\u001b[1;34m'r'\u001b[0m\u001b[1;33m,\u001b[0m \u001b[0mself\u001b[0m\u001b[1;33m.\u001b[0m\u001b[0mreplace_keyframe_callback\u001b[0m\u001b[1;33m)\u001b[0m\u001b[1;33m\u001b[0m\u001b[1;33m\u001b[0m\u001b[0m\n\u001b[0;32m     84\u001b[0m         \u001b[0mself\u001b[0m\u001b[1;33m.\u001b[0m\u001b[0mmyviewer\u001b[0m\u001b[1;33m.\u001b[0m\u001b[0mbind_key\u001b[0m\u001b[1;33m(\u001b[0m\u001b[1;34m'd'\u001b[0m\u001b[1;33m,\u001b[0m \u001b[0mself\u001b[0m\u001b[1;33m.\u001b[0m\u001b[0mdelete_keyframe_callback\u001b[0m\u001b[1;33m)\u001b[0m\u001b[1;33m\u001b[0m\u001b[1;33m\u001b[0m\u001b[0m\n",
      "\u001b[1;32m~\\Anaconda3\\envs\\visualization\\lib\\site-packages\\napari\\utils\\key_bindings.py\u001b[0m in \u001b[0;36mbind_key\u001b[1;34m(keymap, key, func, overwrite)\u001b[0m\n\u001b[0;32m    256\u001b[0m \u001b[1;33m\u001b[0m\u001b[0m\n\u001b[0;32m    257\u001b[0m     \u001b[1;32mif\u001b[0m \u001b[0mfunc\u001b[0m \u001b[1;32mis\u001b[0m \u001b[1;32mnot\u001b[0m \u001b[1;32mNone\u001b[0m \u001b[1;32mand\u001b[0m \u001b[0mkey\u001b[0m \u001b[1;32min\u001b[0m \u001b[0mkeymap\u001b[0m \u001b[1;32mand\u001b[0m \u001b[1;32mnot\u001b[0m \u001b[0moverwrite\u001b[0m\u001b[1;33m:\u001b[0m\u001b[1;33m\u001b[0m\u001b[1;33m\u001b[0m\u001b[0m\n\u001b[1;32m--> 258\u001b[1;33m         raise ValueError(\n\u001b[0m\u001b[0;32m    259\u001b[0m             \u001b[1;34mf'key combination {key} already used! '\u001b[0m\u001b[1;33m\u001b[0m\u001b[1;33m\u001b[0m\u001b[0m\n\u001b[0;32m    260\u001b[0m             \u001b[1;34m\"specify 'overwrite=True' to bypass this check\"\u001b[0m\u001b[1;33m\u001b[0m\u001b[1;33m\u001b[0m\u001b[0m\n",
      "\u001b[1;31mValueError\u001b[0m: key combination F already used! specify 'overwrite=True' to bypass this check"
     ]
    }
   ],
   "source": [
    "# initialize a napariMovie instance\n",
    "movie = Movie(myviewer=viewer)"
   ]
  },
  {
   "cell_type": "code",
   "execution_count": 112,
   "metadata": {},
   "outputs": [],
   "source": [
    "# make a subfolder called movies and visit that folder\n",
    "os.chdir(expts_folder)\n",
    "if not os.path.exists('movies'):\n",
    "    os.makedirs('movies/')\n",
    "    os.chdir('movies')"
   ]
  },
  {
   "cell_type": "code",
   "execution_count": null,
   "metadata": {},
   "outputs": [],
   "source": [
    "# # create a series of naparimovie interpretable commands for generating a movie\n",
    "movie.create_state_dict_from_script('visualization_scripts/movie_script'+str(i)+'.txt')"
   ]
  },
  {
   "cell_type": "code",
   "execution_count": 113,
   "metadata": {},
   "outputs": [
    {
     "data": {
      "image/png": "[encoded data removed]",
      "text/plain": [
       "<Figure size 290.909x216 with 1 Axes>"
      ]
     },
     "metadata": {
      "needs_background": "light"
     },
     "output_type": "display_data"
    }
   ],
   "source": [
    "# # generate the mp4 movie with the set fps and resolution\n",
    "# # movie.make_gif('/Volumes/GoogleDrive/Shared drives/drubin-barnes-lab_drive/project_overviews/coronavirus_research/imaging_data/data for cyna to filter for group meeting on 8:4:20/all_movies_made_by_cyna/20200703_nsp3-4 transfection/Sec61-lamin/Sec61-GFP_laminRFP_noTransfection_002'+'.gif')\n",
    "movie.make_movie(current_folder[:-2]+'__'+expt_to_visualize+'_movie.mp4',fps=10, resolution = 500)"
   ]
  },
  {
   "cell_type": "code",
   "execution_count": null,
   "metadata": {},
   "outputs": [],
   "source": [
    "# save your movie as a gif"
   ]
  },
  {
   "cell_type": "code",
   "execution_count": null,
   "metadata": {},
   "outputs": [],
   "source": [
    "# make shapes. we're not using this yet"
   ]
  },
  {
   "cell_type": "code",
   "execution_count": null,
   "metadata": {
    "jupyter": {
     "source_hidden": true
    }
   },
   "outputs": [],
   "source": [
    "# with napari.gui_qt():\n",
    "#     # add the image\n",
    "#     viewer=napari.Viewer(ndisplay=3)\n",
    "#     viewer.add_image(channels_from_zarr[0],colormap='viridis')\n",
    "#     shape_of_file = channels_from_zarr[0].shape\n",
    "#     text_properties = {\n",
    "#     'text': '{class}: {likelihood:0.1f}%',\n",
    "#     'anchor': 'upper_left',\n",
    "#     'translation': [-5, 0],\n",
    "#     'size': 8,\n",
    "#     'color': 'green',\n",
    "#     }\n",
    "\n",
    "#     # add polygons\n",
    "#     shapes_layer = viewer.add_shapes(\n",
    "#         polygons,\n",
    "#         properties=properties,\n",
    "#         shape_type='polygon',\n",
    "#         edge_width=3,\n",
    "#         edge_color='class',\n",
    "#         edge_color_cycle=edge_color_cycle,\n",
    "#         face_color='transparent',\n",
    "#         text=text_properties,\n",
    "#         name='shapes',\n",
    "#     )\n",
    "#     add_3d_axes(viewer, \n",
    "#                 shape_of_file,\n",
    "#                 extension=[0,0,-600], \n",
    "#                 marker_width=3,\n",
    "#                 offset=[0, 0, 0], \n",
    "#                 points_on_axes=(3,10,10))"
   ]
  }
 ],
 "metadata": {
  "kernelspec": {
   "display_name": "Python 3",
   "language": "python",
   "name": "python3"
  },
  "language_info": {
   "codemirror_mode": {
    "name": "ipython",
    "version": 3
   },
   "file_extension": ".py",
   "mimetype": "text/x-python",
   "name": "python",
   "nbconvert_exporter": "python",
   "pygments_lexer": "ipython3",
   "version": "3.8.5"
  }
 },
 "nbformat": 4,
 "nbformat_minor": 4
}
