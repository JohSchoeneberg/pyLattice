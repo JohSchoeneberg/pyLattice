{
 "cells": [
  {
   "cell_type": "code",
   "execution_count": 1,
   "metadata": {},
   "outputs": [],
   "source": [
    "# tiff > portable movie viewer \n",
    "\n",
    "# Cyna Shirazinejad\n",
    "# 6/19/20\n",
    "\n",
    "# capabilities needed:\n",
    "# - auto-segmentation (once we establish: organelles we'll be working with, expression levels, cell types, etc.)\n",
    "# - auto-tracking of puncta (CME), blobs (organelles) that is then overlaid on images\n",
    "# - text annotation: scale bar, channel names (auto-extracted from image title), markers, imaging settings (exposure, frame rate, intensity), conditions, timestamp (minute and seconds)\n",
    "\n",
    "\n",
    "# pulse chase/stimulation: digital toggle indicating where \n",
    "# - photobleaching correction (probably exponential fit to start with)\n",
    "# - extension/generalization to other data formats (TIFFS), Hd5\n",
    "\n"
   ]
  },
  {
   "cell_type": "code",
   "execution_count": 2,
   "metadata": {},
   "outputs": [],
   "source": [
    "# not necessary unless running vm\n",
    "# !source ~/.bash_profile\n"
   ]
  },
  {
   "cell_type": "code",
   "execution_count": 8,
   "metadata": {},
   "outputs": [
    {
     "name": "stdout",
     "output_type": "stream",
     "text": [
      "The autoreload extension is already loaded. To reload it, use:\n",
      "  %reload_ext autoreload\n",
      "Enabling notebook extension jupyter-js-widgets/extension...\n",
      "      - Validating: \u001b[32mOK\u001b[0m\n"
     ]
    }
   ],
   "source": [
    "\n",
    "# import all necessary Python libraries\n",
    "\n",
    "# configure the Jupyter Notebook\n",
    "%load_ext autoreload\n",
    "%autoreload 2\n",
    "%matplotlib inline\n",
    "%gui qt\n",
    "\n",
    "import pickle\n",
    "import napari \n",
    "import imageio\n",
    "import os\n",
    "import sys\n",
    "# import z5py\n",
    "\n",
    "import numpy as np\n",
    "from os import listdir\n",
    "from os.path import isfile, join\n",
    "from ipywidgets import interact, interactive, fixed, interact_manual # for interactive widgets\n",
    "import dask.array as da\n",
    "import dask\n",
    "import tifffile\n",
    "import subprocess\n",
    "import scipy as sp\n",
    "import scipy.optimize\n",
    "sys.path.append(os.path.abspath(os.getcwd() + '/visualization_python_scripts_cyna'))\n",
    "from visualization_nd2 import return_widgets_for_display, make_movie\n",
    "from dask_to_napari import (convert_tiffs_to_dask_arrays, \n",
    "                            view_one_channel, \n",
    "                            view_one_time_one_channel,\n",
    "                            view_specified_channels_one_time,\n",
    "                            populate_grid)\n",
    "from visualization_utilities import add_3d_axes\n",
    "from skimage.io import imread\n",
    "from dask import delayed\n",
    "import tifffile\n",
    "import dask.array as da\n",
    "from glob import glob\n",
    "from PIL import Image\n",
    "from pims import ImageSequence\n",
    "# import dask_image\n",
    "import imageio\n",
    "\n",
    "!jupyter nbextension enable --py widgetsnbextension\n"
   ]
  },
  {
   "cell_type": "code",
   "execution_count": 4,
   "metadata": {},
   "outputs": [],
   "source": [
    "# # trying dask_image from: https://blog.dask.org/2019/06/20/load-image-data\n",
    "# import dask_image\n",
    "# filename_dask_image_test = '/Users/cynashirazinejad/Desktop/llsm_test_data/CPPdecon/exp08_CamB_ch0_CAM1_stack0000_560nm_0000000msec_0002628334msecAbs_000x_000y_000z_0000t_decon.tif'\n",
    "# sample_dask_image = dask_image.imread.imread(filename_dask_image_test)\n",
    "\n",
    "# # RESULTS IN AN ERROR?\n",
    "# # AttributeError: module 'dask_image' has no attribute 'imread'\n",
    "# # unexpected because dask_image. + tab shows imread as a module, and imread as a function in the imread module"
   ]
  },
  {
   "cell_type": "code",
   "execution_count": 5,
   "metadata": {},
   "outputs": [
    {
     "name": "stdout",
     "output_type": "stream",
     "text": [
      "(1600, 1099)\n"
     ]
    }
   ],
   "source": [
    "# trying the imageio library\n",
    "import imageio\n",
    "filename_imageio_test = '/Volumes/GoogleDrive/My Drive/Drubin Lab/Imaging/clusterfs_fiona_Data_20200715_p35_p4_WTC_iPS_AP2rfp_Arp3ceGFP_nsp3_Exp08_3color_200mW_z0p5_DS_CPPdecon/exp08_CamA_ch0_CAM1_stack0000_560nm_0000000msec_0002628334msecAbs_000x_000y_000z_0000t_decon.tif'\n",
    "sample_imageio = imageio.imread(filename_imageio_test)\n",
    "print(sample_imageio.shape) # yields an incorrect image size (does not capture Z); yields (1600,1099)"
   ]
  },
  {
   "cell_type": "code",
   "execution_count": 4,
   "metadata": {},
   "outputs": [
    {
     "name": "stdout",
     "output_type": "stream",
     "text": [
      "CPU times: user 2 µs, sys: 1 µs, total: 3 µs\n",
      "Wall time: 2.86 µs\n",
      "(151, 1600, 1099)\n"
     ]
    }
   ],
   "source": [
    "# trying the tifffile library\n",
    "%time\n",
    "filename_tifffile_test = '/Volumes/GoogleDrive/My Drive/Drubin Lab/Imaging/clusterfs_fiona_Data_20200715_p35_p4_WTC_iPS_AP2rfp_Arp3ceGFP_nsp3_Exp08_3color_200mW_z0p5_DS_CPPdecon/exp08_CamA_ch0_CAM1_stack0000_560nm_0000000msec_0002628334msecAbs_000x_000y_000z_0000t_decon.tif'\n",
    "import tifffile\n",
    "sample_tifffile = tifffile.imread(filename_tifffile_test)\n",
    "print(sample_tifffile.shape) # yields the expected image shape ((151,1600,1099))"
   ]
  },
  {
   "cell_type": "code",
   "execution_count": 5,
   "metadata": {},
   "outputs": [
    {
     "name": "stdout",
     "output_type": "stream",
     "text": [
      "CPU times: user 2 µs, sys: 1 µs, total: 3 µs\n",
      "Wall time: 3.81 µs\n",
      "(151, 1600, 1099)\n"
     ]
    }
   ],
   "source": [
    "%time\n",
    "filename_scikit_image_test = '/Volumes/GoogleDrive/My Drive/Drubin Lab/Imaging/clusterfs_fiona_Data_20200715_p35_p4_WTC_iPS_AP2rfp_Arp3ceGFP_nsp3_Exp08_3color_200mW_z0p5_DS_CPPdecon/exp08_CamA_ch0_CAM1_stack0000_560nm_0000000msec_0002628334msecAbs_000x_000y_000z_0000t_decon.tif'\n",
    "import skimage\n",
    "sample_skimage = skimage.io.imread(filename_scikit_image_test)\n",
    "print(sample_skimage.shape)"
   ]
  },
  {
   "cell_type": "code",
   "execution_count": 10,
   "metadata": {},
   "outputs": [],
   "source": [
    "# will use tifffile as the image reading library from now onscipy"
   ]
  },
  {
   "cell_type": "code",
   "execution_count": 11,
   "metadata": {},
   "outputs": [],
   "source": [
    "# import dask\n",
    "# import dask.array as da\n",
    "\n",
    "# lazy_arrays = [dask.delayed(imageio.imread)(fn) for fn in filenames]\n",
    "# lazy_arrays = [da.from_delayed(x, shape=sample.shape, dtype=sample.dtype)\n",
    "#                for x in lazy_arrays]\n",
    "\n",
    "# lazy_array = dask.delayed(tifffile.imread)(filename)\n",
    "# lazy_array = da.from_delayed(lazy_array, shape = sample.shape, dtype = sample.dtype)\n",
    "\n",
    "# lazy_array.to_zarr('test.zarr')\n",
    "\n",
    "# imgs = da.from_zarr('test.zarr',)\n",
    "\n",
    "\n"
   ]
  },
  {
   "cell_type": "code",
   "execution_count": 3,
   "metadata": {},
   "outputs": [],
   "source": [
    "path_to_decon='/Volumes/GoogleDrive/My Drive/Drubin Lab/Imaging/clusterfs_fiona_Data_20200715_p35_p4_WTC_iPS_AP2rfp_Arp3ceGFP_nsp3_Exp08_3color_200mW_z0p5_DS_CPPdecon/'"
   ]
  },
  {
   "cell_type": "code",
   "execution_count": 4,
   "metadata": {},
   "outputs": [
    {
     "name": "stdout",
     "output_type": "stream",
     "text": [
      "Index of camera designation is 1\n",
      "Index of channel designation is 2\n",
      "Index of stack designation is 4\n",
      "The stacks present in this file are: ['0000', '0001', '0002', '0003', '0004']\n",
      "The channels will be returned in the following order linked to the detected identifiers: [[0, ('CamB', 'ch1')], [1, ('CamB', 'ch0')], [2, ('CamA', 'ch0')]]\n",
      "Adding channel 0 to an output array\n",
      "Adding stack 0 within channel 0 to an output array\n",
      "Adding stack 1 within channel 0 to an output array\n",
      "Adding stack 2 within channel 0 to an output array\n",
      "Adding stack 3 within channel 0 to an output array\n",
      "Adding stack 4 within channel 0 to an output array\n",
      "Adding channel 1 to an output array\n",
      "Adding stack 0 within channel 1 to an output array\n",
      "Adding stack 1 within channel 1 to an output array\n",
      "Adding stack 2 within channel 1 to an output array\n",
      "Adding stack 3 within channel 1 to an output array\n",
      "Adding stack 4 within channel 1 to an output array\n",
      "Adding channel 2 to an output array\n",
      "Adding stack 0 within channel 2 to an output array\n",
      "Adding stack 1 within channel 2 to an output array\n",
      "Adding stack 2 within channel 2 to an output array\n",
      "Adding stack 3 within channel 2 to an output array\n",
      "Adding stack 4 within channel 2 to an output array\n",
      "Converting array to dask array\n"
     ]
    }
   ],
   "source": [
    "# a list of lists. each internal list has filesnames for each channel\n",
    "channels_dask = convert_tiffs_to_dask_arrays(path_to_decon,\n",
    "                                             channel_identifiers=None,\n",
    "                                             is_MIP=False,\n",
    "                                             verbose=True)"
   ]
  },
  {
   "cell_type": "code",
   "execution_count": null,
   "metadata": {},
   "outputs": [],
   "source": []
  },
  {
   "cell_type": "code",
   "execution_count": 19,
   "metadata": {},
   "outputs": [
    {
     "data": {
      "text/html": [
       "<table>\n",
       "<tr>\n",
       "<td>\n",
       "<table>\n",
       "  <thead>\n",
       "    <tr><td> </td><th> Array </th><th> Chunk </th></tr>\n",
       "  </thead>\n",
       "  <tbody>\n",
       "    <tr><th> Bytes </th><td> 15.93 GB </td> <td> 101.40 MB </td></tr>\n",
       "    <tr><th> Shape </th><td> (3, 5, 151, 1600, 1099) </td> <td> (3, 5, 130, 100, 130) </td></tr>\n",
       "    <tr><th> Count </th><td> 289 Tasks </td><td> 288 Chunks </td></tr>\n",
       "    <tr><th> Type </th><td> float32 </td><td> numpy.ndarray </td></tr>\n",
       "  </tbody>\n",
       "</table>\n",
       "</td>\n",
       "<td>\n",
       "<svg width=\"344\" height=\"192\" style=\"stroke:rgb(0,0,0);stroke-width:1\" >\n",
       "\n",
       "  <!-- Horizontal lines -->\n",
       "  <line x1=\"0\" y1=\"0\" x2=\"25\" y2=\"0\" style=\"stroke-width:2\" />\n",
       "  <line x1=\"0\" y1=\"25\" x2=\"25\" y2=\"25\" style=\"stroke-width:2\" />\n",
       "\n",
       "  <!-- Vertical lines -->\n",
       "  <line x1=\"0\" y1=\"0\" x2=\"0\" y2=\"25\" style=\"stroke-width:2\" />\n",
       "  <line x1=\"25\" y1=\"0\" x2=\"25\" y2=\"25\" style=\"stroke-width:2\" />\n",
       "\n",
       "  <!-- Colored Rectangle -->\n",
       "  <polygon points=\"0.000000,0.000000 25.412617,0.000000 25.412617,25.412617 0.000000,25.412617\" style=\"fill:#ECB172A0;stroke-width:0\"/>\n",
       "\n",
       "  <!-- Text -->\n",
       "  <text x=\"12.706308\" y=\"45.412617\" font-size=\"1.0rem\" font-weight=\"100\" text-anchor=\"middle\" >5</text>\n",
       "  <text x=\"45.412617\" y=\"12.706308\" font-size=\"1.0rem\" font-weight=\"100\" text-anchor=\"middle\" transform=\"rotate(0,45.412617,12.706308)\">3</text>\n",
       "\n",
       "\n",
       "  <!-- Horizontal lines -->\n",
       "  <line x1=\"95\" y1=\"0\" x2=\"117\" y2=\"22\" style=\"stroke-width:2\" />\n",
       "  <line x1=\"95\" y1=\"7\" x2=\"117\" y2=\"30\" />\n",
       "  <line x1=\"95\" y1=\"15\" x2=\"117\" y2=\"37\" />\n",
       "  <line x1=\"95\" y1=\"22\" x2=\"117\" y2=\"45\" />\n",
       "  <line x1=\"95\" y1=\"30\" x2=\"117\" y2=\"52\" />\n",
       "  <line x1=\"95\" y1=\"37\" x2=\"117\" y2=\"60\" />\n",
       "  <line x1=\"95\" y1=\"45\" x2=\"117\" y2=\"67\" />\n",
       "  <line x1=\"95\" y1=\"52\" x2=\"117\" y2=\"75\" />\n",
       "  <line x1=\"95\" y1=\"60\" x2=\"117\" y2=\"82\" />\n",
       "  <line x1=\"95\" y1=\"67\" x2=\"117\" y2=\"90\" />\n",
       "  <line x1=\"95\" y1=\"75\" x2=\"117\" y2=\"97\" />\n",
       "  <line x1=\"95\" y1=\"82\" x2=\"117\" y2=\"105\" />\n",
       "  <line x1=\"95\" y1=\"90\" x2=\"117\" y2=\"112\" />\n",
       "  <line x1=\"95\" y1=\"97\" x2=\"117\" y2=\"120\" />\n",
       "  <line x1=\"95\" y1=\"105\" x2=\"117\" y2=\"127\" />\n",
       "  <line x1=\"95\" y1=\"112\" x2=\"117\" y2=\"135\" />\n",
       "  <line x1=\"95\" y1=\"120\" x2=\"117\" y2=\"142\" style=\"stroke-width:2\" />\n",
       "\n",
       "  <!-- Vertical lines -->\n",
       "  <line x1=\"95\" y1=\"0\" x2=\"95\" y2=\"120\" style=\"stroke-width:2\" />\n",
       "  <line x1=\"114\" y1=\"19\" x2=\"114\" y2=\"139\" />\n",
       "  <line x1=\"117\" y1=\"22\" x2=\"117\" y2=\"142\" style=\"stroke-width:2\" />\n",
       "\n",
       "  <!-- Colored Rectangle -->\n",
       "  <polygon points=\"95.000000,0.000000 117.513875,22.513875 117.513875,142.513875 95.000000,120.000000\" style=\"fill:#ECB172A0;stroke-width:0\"/>\n",
       "\n",
       "  <!-- Horizontal lines -->\n",
       "  <line x1=\"95\" y1=\"0\" x2=\"177\" y2=\"0\" style=\"stroke-width:2\" />\n",
       "  <line x1=\"114\" y1=\"19\" x2=\"196\" y2=\"19\" />\n",
       "  <line x1=\"117\" y1=\"22\" x2=\"199\" y2=\"22\" style=\"stroke-width:2\" />\n",
       "\n",
       "  <!-- Vertical lines -->\n",
       "  <line x1=\"95\" y1=\"0\" x2=\"117\" y2=\"22\" style=\"stroke-width:2\" />\n",
       "  <line x1=\"104\" y1=\"0\" x2=\"127\" y2=\"22\" />\n",
       "  <line x1=\"114\" y1=\"0\" x2=\"137\" y2=\"22\" />\n",
       "  <line x1=\"124\" y1=\"0\" x2=\"146\" y2=\"22\" />\n",
       "  <line x1=\"134\" y1=\"0\" x2=\"156\" y2=\"22\" />\n",
       "  <line x1=\"143\" y1=\"0\" x2=\"166\" y2=\"22\" />\n",
       "  <line x1=\"153\" y1=\"0\" x2=\"176\" y2=\"22\" />\n",
       "  <line x1=\"163\" y1=\"0\" x2=\"185\" y2=\"22\" />\n",
       "  <line x1=\"173\" y1=\"0\" x2=\"195\" y2=\"22\" />\n",
       "  <line x1=\"177\" y1=\"0\" x2=\"199\" y2=\"22\" style=\"stroke-width:2\" />\n",
       "\n",
       "  <!-- Colored Rectangle -->\n",
       "  <polygon points=\"95.000000,0.000000 177.425000,0.000000 199.938875,22.513875 117.513875,22.513875\" style=\"fill:#ECB172A0;stroke-width:0\"/>\n",
       "\n",
       "  <!-- Horizontal lines -->\n",
       "  <line x1=\"117\" y1=\"22\" x2=\"199\" y2=\"22\" style=\"stroke-width:2\" />\n",
       "  <line x1=\"117\" y1=\"30\" x2=\"199\" y2=\"30\" />\n",
       "  <line x1=\"117\" y1=\"37\" x2=\"199\" y2=\"37\" />\n",
       "  <line x1=\"117\" y1=\"45\" x2=\"199\" y2=\"45\" />\n",
       "  <line x1=\"117\" y1=\"52\" x2=\"199\" y2=\"52\" />\n",
       "  <line x1=\"117\" y1=\"60\" x2=\"199\" y2=\"60\" />\n",
       "  <line x1=\"117\" y1=\"67\" x2=\"199\" y2=\"67\" />\n",
       "  <line x1=\"117\" y1=\"75\" x2=\"199\" y2=\"75\" />\n",
       "  <line x1=\"117\" y1=\"82\" x2=\"199\" y2=\"82\" />\n",
       "  <line x1=\"117\" y1=\"90\" x2=\"199\" y2=\"90\" />\n",
       "  <line x1=\"117\" y1=\"97\" x2=\"199\" y2=\"97\" />\n",
       "  <line x1=\"117\" y1=\"105\" x2=\"199\" y2=\"105\" />\n",
       "  <line x1=\"117\" y1=\"112\" x2=\"199\" y2=\"112\" />\n",
       "  <line x1=\"117\" y1=\"120\" x2=\"199\" y2=\"120\" />\n",
       "  <line x1=\"117\" y1=\"127\" x2=\"199\" y2=\"127\" />\n",
       "  <line x1=\"117\" y1=\"135\" x2=\"199\" y2=\"135\" />\n",
       "  <line x1=\"117\" y1=\"142\" x2=\"199\" y2=\"142\" style=\"stroke-width:2\" />\n",
       "\n",
       "  <!-- Vertical lines -->\n",
       "  <line x1=\"117\" y1=\"22\" x2=\"117\" y2=\"142\" style=\"stroke-width:2\" />\n",
       "  <line x1=\"127\" y1=\"22\" x2=\"127\" y2=\"142\" />\n",
       "  <line x1=\"137\" y1=\"22\" x2=\"137\" y2=\"142\" />\n",
       "  <line x1=\"146\" y1=\"22\" x2=\"146\" y2=\"142\" />\n",
       "  <line x1=\"156\" y1=\"22\" x2=\"156\" y2=\"142\" />\n",
       "  <line x1=\"166\" y1=\"22\" x2=\"166\" y2=\"142\" />\n",
       "  <line x1=\"176\" y1=\"22\" x2=\"176\" y2=\"142\" />\n",
       "  <line x1=\"185\" y1=\"22\" x2=\"185\" y2=\"142\" />\n",
       "  <line x1=\"195\" y1=\"22\" x2=\"195\" y2=\"142\" />\n",
       "  <line x1=\"199\" y1=\"22\" x2=\"199\" y2=\"142\" style=\"stroke-width:2\" />\n",
       "\n",
       "  <!-- Colored Rectangle -->\n",
       "  <polygon points=\"117.513875,22.513875 199.938875,22.513875 199.938875,142.513875 117.513875,142.513875\" style=\"fill:#ECB172A0;stroke-width:0\"/>\n",
       "\n",
       "  <!-- Text -->\n",
       "  <text x=\"158.726375\" y=\"162.513875\" font-size=\"1.0rem\" font-weight=\"100\" text-anchor=\"middle\" >1099</text>\n",
       "  <text x=\"219.938875\" y=\"82.513875\" font-size=\"1.0rem\" font-weight=\"100\" text-anchor=\"middle\" transform=\"rotate(-90,219.938875,82.513875)\">1600</text>\n",
       "  <text x=\"96.256938\" y=\"151.256938\" font-size=\"1.0rem\" font-weight=\"100\" text-anchor=\"middle\" transform=\"rotate(45,96.256938,151.256938)\">151</text>\n",
       "</svg>\n",
       "</td>\n",
       "</tr>\n",
       "</table>"
      ],
      "text/plain": [
       "dask.array<array, shape=(3, 5, 151, 1600, 1099), dtype=float32, chunksize=(3, 5, 130, 100, 130), chunktype=numpy.ndarray>"
      ]
     },
     "execution_count": 19,
     "metadata": {},
     "output_type": "execute_result"
    }
   ],
   "source": [
    "channels_dask"
   ]
  },
  {
   "cell_type": "code",
   "execution_count": 20,
   "metadata": {},
   "outputs": [],
   "source": [
    "channels_dask.to_zarr(\"zarr_data\")"
   ]
  },
  {
   "cell_type": "code",
   "execution_count": 9,
   "metadata": {},
   "outputs": [],
   "source": [
    "channels_from_zarr=da.from_zarr(\"zarr_data\")"
   ]
  },
  {
   "cell_type": "code",
   "execution_count": 7,
   "metadata": {},
   "outputs": [
    {
     "data": {
      "text/html": [
       "<table>\n",
       "<tr>\n",
       "<td>\n",
       "<table>\n",
       "  <thead>\n",
       "    <tr><td> </td><th> Array </th><th> Chunk </th></tr>\n",
       "  </thead>\n",
       "  <tbody>\n",
       "    <tr><th> Bytes </th><td> 15.93 GB </td> <td> 101.40 MB </td></tr>\n",
       "    <tr><th> Shape </th><td> (3, 5, 151, 1600, 1099) </td> <td> (3, 5, 130, 100, 130) </td></tr>\n",
       "    <tr><th> Count </th><td> 289 Tasks </td><td> 288 Chunks </td></tr>\n",
       "    <tr><th> Type </th><td> float32 </td><td> numpy.ndarray </td></tr>\n",
       "  </tbody>\n",
       "</table>\n",
       "</td>\n",
       "<td>\n",
       "<svg width=\"344\" height=\"192\" style=\"stroke:rgb(0,0,0);stroke-width:1\" >\n",
       "\n",
       "  <!-- Horizontal lines -->\n",
       "  <line x1=\"0\" y1=\"0\" x2=\"25\" y2=\"0\" style=\"stroke-width:2\" />\n",
       "  <line x1=\"0\" y1=\"25\" x2=\"25\" y2=\"25\" style=\"stroke-width:2\" />\n",
       "\n",
       "  <!-- Vertical lines -->\n",
       "  <line x1=\"0\" y1=\"0\" x2=\"0\" y2=\"25\" style=\"stroke-width:2\" />\n",
       "  <line x1=\"25\" y1=\"0\" x2=\"25\" y2=\"25\" style=\"stroke-width:2\" />\n",
       "\n",
       "  <!-- Colored Rectangle -->\n",
       "  <polygon points=\"0.000000,0.000000 25.412617,0.000000 25.412617,25.412617 0.000000,25.412617\" style=\"fill:#ECB172A0;stroke-width:0\"/>\n",
       "\n",
       "  <!-- Text -->\n",
       "  <text x=\"12.706308\" y=\"45.412617\" font-size=\"1.0rem\" font-weight=\"100\" text-anchor=\"middle\" >5</text>\n",
       "  <text x=\"45.412617\" y=\"12.706308\" font-size=\"1.0rem\" font-weight=\"100\" text-anchor=\"middle\" transform=\"rotate(0,45.412617,12.706308)\">3</text>\n",
       "\n",
       "\n",
       "  <!-- Horizontal lines -->\n",
       "  <line x1=\"95\" y1=\"0\" x2=\"117\" y2=\"22\" style=\"stroke-width:2\" />\n",
       "  <line x1=\"95\" y1=\"7\" x2=\"117\" y2=\"30\" />\n",
       "  <line x1=\"95\" y1=\"15\" x2=\"117\" y2=\"37\" />\n",
       "  <line x1=\"95\" y1=\"22\" x2=\"117\" y2=\"45\" />\n",
       "  <line x1=\"95\" y1=\"30\" x2=\"117\" y2=\"52\" />\n",
       "  <line x1=\"95\" y1=\"37\" x2=\"117\" y2=\"60\" />\n",
       "  <line x1=\"95\" y1=\"45\" x2=\"117\" y2=\"67\" />\n",
       "  <line x1=\"95\" y1=\"52\" x2=\"117\" y2=\"75\" />\n",
       "  <line x1=\"95\" y1=\"60\" x2=\"117\" y2=\"82\" />\n",
       "  <line x1=\"95\" y1=\"67\" x2=\"117\" y2=\"90\" />\n",
       "  <line x1=\"95\" y1=\"75\" x2=\"117\" y2=\"97\" />\n",
       "  <line x1=\"95\" y1=\"82\" x2=\"117\" y2=\"105\" />\n",
       "  <line x1=\"95\" y1=\"90\" x2=\"117\" y2=\"112\" />\n",
       "  <line x1=\"95\" y1=\"97\" x2=\"117\" y2=\"120\" />\n",
       "  <line x1=\"95\" y1=\"105\" x2=\"117\" y2=\"127\" />\n",
       "  <line x1=\"95\" y1=\"112\" x2=\"117\" y2=\"135\" />\n",
       "  <line x1=\"95\" y1=\"120\" x2=\"117\" y2=\"142\" style=\"stroke-width:2\" />\n",
       "\n",
       "  <!-- Vertical lines -->\n",
       "  <line x1=\"95\" y1=\"0\" x2=\"95\" y2=\"120\" style=\"stroke-width:2\" />\n",
       "  <line x1=\"114\" y1=\"19\" x2=\"114\" y2=\"139\" />\n",
       "  <line x1=\"117\" y1=\"22\" x2=\"117\" y2=\"142\" style=\"stroke-width:2\" />\n",
       "\n",
       "  <!-- Colored Rectangle -->\n",
       "  <polygon points=\"95.000000,0.000000 117.513875,22.513875 117.513875,142.513875 95.000000,120.000000\" style=\"fill:#ECB172A0;stroke-width:0\"/>\n",
       "\n",
       "  <!-- Horizontal lines -->\n",
       "  <line x1=\"95\" y1=\"0\" x2=\"177\" y2=\"0\" style=\"stroke-width:2\" />\n",
       "  <line x1=\"114\" y1=\"19\" x2=\"196\" y2=\"19\" />\n",
       "  <line x1=\"117\" y1=\"22\" x2=\"199\" y2=\"22\" style=\"stroke-width:2\" />\n",
       "\n",
       "  <!-- Vertical lines -->\n",
       "  <line x1=\"95\" y1=\"0\" x2=\"117\" y2=\"22\" style=\"stroke-width:2\" />\n",
       "  <line x1=\"104\" y1=\"0\" x2=\"127\" y2=\"22\" />\n",
       "  <line x1=\"114\" y1=\"0\" x2=\"137\" y2=\"22\" />\n",
       "  <line x1=\"124\" y1=\"0\" x2=\"146\" y2=\"22\" />\n",
       "  <line x1=\"134\" y1=\"0\" x2=\"156\" y2=\"22\" />\n",
       "  <line x1=\"143\" y1=\"0\" x2=\"166\" y2=\"22\" />\n",
       "  <line x1=\"153\" y1=\"0\" x2=\"176\" y2=\"22\" />\n",
       "  <line x1=\"163\" y1=\"0\" x2=\"185\" y2=\"22\" />\n",
       "  <line x1=\"173\" y1=\"0\" x2=\"195\" y2=\"22\" />\n",
       "  <line x1=\"177\" y1=\"0\" x2=\"199\" y2=\"22\" style=\"stroke-width:2\" />\n",
       "\n",
       "  <!-- Colored Rectangle -->\n",
       "  <polygon points=\"95.000000,0.000000 177.425000,0.000000 199.938875,22.513875 117.513875,22.513875\" style=\"fill:#ECB172A0;stroke-width:0\"/>\n",
       "\n",
       "  <!-- Horizontal lines -->\n",
       "  <line x1=\"117\" y1=\"22\" x2=\"199\" y2=\"22\" style=\"stroke-width:2\" />\n",
       "  <line x1=\"117\" y1=\"30\" x2=\"199\" y2=\"30\" />\n",
       "  <line x1=\"117\" y1=\"37\" x2=\"199\" y2=\"37\" />\n",
       "  <line x1=\"117\" y1=\"45\" x2=\"199\" y2=\"45\" />\n",
       "  <line x1=\"117\" y1=\"52\" x2=\"199\" y2=\"52\" />\n",
       "  <line x1=\"117\" y1=\"60\" x2=\"199\" y2=\"60\" />\n",
       "  <line x1=\"117\" y1=\"67\" x2=\"199\" y2=\"67\" />\n",
       "  <line x1=\"117\" y1=\"75\" x2=\"199\" y2=\"75\" />\n",
       "  <line x1=\"117\" y1=\"82\" x2=\"199\" y2=\"82\" />\n",
       "  <line x1=\"117\" y1=\"90\" x2=\"199\" y2=\"90\" />\n",
       "  <line x1=\"117\" y1=\"97\" x2=\"199\" y2=\"97\" />\n",
       "  <line x1=\"117\" y1=\"105\" x2=\"199\" y2=\"105\" />\n",
       "  <line x1=\"117\" y1=\"112\" x2=\"199\" y2=\"112\" />\n",
       "  <line x1=\"117\" y1=\"120\" x2=\"199\" y2=\"120\" />\n",
       "  <line x1=\"117\" y1=\"127\" x2=\"199\" y2=\"127\" />\n",
       "  <line x1=\"117\" y1=\"135\" x2=\"199\" y2=\"135\" />\n",
       "  <line x1=\"117\" y1=\"142\" x2=\"199\" y2=\"142\" style=\"stroke-width:2\" />\n",
       "\n",
       "  <!-- Vertical lines -->\n",
       "  <line x1=\"117\" y1=\"22\" x2=\"117\" y2=\"142\" style=\"stroke-width:2\" />\n",
       "  <line x1=\"127\" y1=\"22\" x2=\"127\" y2=\"142\" />\n",
       "  <line x1=\"137\" y1=\"22\" x2=\"137\" y2=\"142\" />\n",
       "  <line x1=\"146\" y1=\"22\" x2=\"146\" y2=\"142\" />\n",
       "  <line x1=\"156\" y1=\"22\" x2=\"156\" y2=\"142\" />\n",
       "  <line x1=\"166\" y1=\"22\" x2=\"166\" y2=\"142\" />\n",
       "  <line x1=\"176\" y1=\"22\" x2=\"176\" y2=\"142\" />\n",
       "  <line x1=\"185\" y1=\"22\" x2=\"185\" y2=\"142\" />\n",
       "  <line x1=\"195\" y1=\"22\" x2=\"195\" y2=\"142\" />\n",
       "  <line x1=\"199\" y1=\"22\" x2=\"199\" y2=\"142\" style=\"stroke-width:2\" />\n",
       "\n",
       "  <!-- Colored Rectangle -->\n",
       "  <polygon points=\"117.513875,22.513875 199.938875,22.513875 199.938875,142.513875 117.513875,142.513875\" style=\"fill:#ECB172A0;stroke-width:0\"/>\n",
       "\n",
       "  <!-- Text -->\n",
       "  <text x=\"158.726375\" y=\"162.513875\" font-size=\"1.0rem\" font-weight=\"100\" text-anchor=\"middle\" >1099</text>\n",
       "  <text x=\"219.938875\" y=\"82.513875\" font-size=\"1.0rem\" font-weight=\"100\" text-anchor=\"middle\" transform=\"rotate(-90,219.938875,82.513875)\">1600</text>\n",
       "  <text x=\"96.256938\" y=\"151.256938\" font-size=\"1.0rem\" font-weight=\"100\" text-anchor=\"middle\" transform=\"rotate(45,96.256938,151.256938)\">151</text>\n",
       "</svg>\n",
       "</td>\n",
       "</tr>\n",
       "</table>"
      ],
      "text/plain": [
       "dask.array<from-zarr, shape=(3, 5, 151, 1600, 1099), dtype=float32, chunksize=(3, 5, 130, 100, 130), chunktype=numpy.ndarray>"
      ]
     },
     "execution_count": 7,
     "metadata": {},
     "output_type": "execute_result"
    }
   ],
   "source": [
    "channels_from_zarr"
   ]
  },
  {
   "cell_type": "code",
   "execution_count": 18,
   "metadata": {},
   "outputs": [],
   "source": [
    "populate_grid(napari.Viewer(ndisplay=3), 1,1, [(channels_dask[0],[(0,0)],'magenta','ch0')])\n"
   ]
  },
  {
   "cell_type": "code",
   "execution_count": 27,
   "metadata": {},
   "outputs": [],
   "source": [
    "populate_grid(napari.Viewer(ndisplay=3), 4 , 4, [(channels_dask[0],[(0,0),(3,3)],'magenta','ch0'),(channels_dask[1],[(1,1),(3,3)],'cyan','ch1'),(channels_dask[2],[(2,2),(3,3)],'yellow','ch2')])\n",
    "\n"
   ]
  },
  {
   "cell_type": "code",
   "execution_count": null,
   "metadata": {},
   "outputs": [],
   "source": [
    "with napari.gui_qt():\n",
    "    # add the image\n",
    "    viewer=napari.Viewer(ndisplay=3)\n",
    "    viewer.add_image(channels_from_zarr[0],colormap='viridis')\n",
    "    shape_of_file = channels_from_zarr[0].shape\n",
    "    text_properties = {\n",
    "    'text': '{class}: {likelihood:0.1f}%',\n",
    "    'anchor': 'upper_left',\n",
    "    'translation': [-5, 0],\n",
    "    'size': 8,\n",
    "    'color': 'green',\n",
    "    }\n",
    "\n",
    "    # add polygons\n",
    "    shapes_layer = viewer.add_shapes(\n",
    "        polygons,\n",
    "        properties=properties,\n",
    "        shape_type='polygon',\n",
    "        edge_width=3,\n",
    "        edge_color='class',\n",
    "        edge_color_cycle=edge_color_cycle,\n",
    "        face_color='transparent',\n",
    "        text=text_properties,\n",
    "        name='shapes',\n",
    "    )\n",
    "    add_3d_axes(viewer, \n",
    "                shape_of_file,\n",
    "                extension=[0,0,-600], \n",
    "                marker_width=3,\n",
    "                offset=[0, 0, 0], \n",
    "                points_on_axes=(3,10,10))"
   ]
  },
  {
   "cell_type": "code",
   "execution_count": null,
   "metadata": {},
   "outputs": [],
   "source": []
  }
 ],
 "metadata": {
  "kernelspec": {
   "display_name": "Python 3",
   "language": "python",
   "name": "python3"
  },
  "language_info": {
   "codemirror_mode": {
    "name": "ipython",
    "version": 3
   },
   "file_extension": ".py",
   "mimetype": "text/x-python",
   "name": "python",
   "nbconvert_exporter": "python",
   "pygments_lexer": "ipython3",
   "version": "3.8.3"
  }
 },
 "nbformat": 4,
 "nbformat_minor": 4
}
