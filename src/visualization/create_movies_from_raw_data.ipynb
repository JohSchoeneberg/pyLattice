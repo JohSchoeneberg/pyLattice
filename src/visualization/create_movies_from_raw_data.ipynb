{
 "cells": [
  {
   "cell_type": "code",
   "execution_count": 1,
   "metadata": {},
   "outputs": [],
   "source": [
    "# tiff > portable movie viewer \n",
    "\n",
    "# Cyna Shirazinejad\n",
    "# 6/19/20\n",
    "\n",
    "# capabilities needed:\n",
    "# - auto-segmentation (once we establish: organelles we'll be working with, expression levels, cell types, etc.)\n",
    "# - auto-tracking of puncta (CME), blobs (organelles) that is then overlaid on images\n",
    "# - text annotation: scale bar, channel names (auto-extracted from image title), markers, imaging settings (exposure, frame rate, intensity), conditions, timestamp (minute and seconds)\n",
    "\n",
    "\n",
    "# pulse chase/stimulation: digital toggle indicating where \n",
    "# - photobleaching correction (probably exponential fit to start with)\n",
    "# - extension/generalization to other data formats (TIFFS), Hd5\n",
    "\n"
   ]
  },
  {
   "cell_type": "code",
   "execution_count": 2,
   "metadata": {},
   "outputs": [],
   "source": [
    "# not necessary unless running vm\n",
    "# !source ~/.bash_profile\n"
   ]
  },
  {
   "cell_type": "code",
   "execution_count": 1,
   "metadata": {},
   "outputs": [
    {
     "name": "stderr",
     "output_type": "stream",
     "text": [
      "Enabling notebook extension jupyter-js-widgets/extension...\n",
      "      - Validating: ok\n"
     ]
    }
   ],
   "source": [
    "\n",
    "# import all necessary Python libraries\n",
    "\n",
    "# configure the Jupyter Notebook\n",
    "%load_ext autoreload\n",
    "%autoreload 2\n",
    "%matplotlib inline\n",
    "%gui qt\n",
    "\n",
    "import pickle\n",
    "import napari \n",
    "import imageio\n",
    "import os\n",
    "import sys\n",
    "# import z5py\n",
    "\n",
    "import numpy as np\n",
    "from os import listdir\n",
    "from os.path import isfile, join\n",
    "from ipywidgets import interact, interactive, fixed, interact_manual # for interactive widgets\n",
    "import dask.array as da\n",
    "import dask\n",
    "import tifffile\n",
    "import subprocess\n",
    "import scipy as sp\n",
    "import scipy.optimize\n",
    "sys.path.append(os.path.abspath(os.getcwd() + '/visualization_python_scripts_cyna'))\n",
    "from visualization_nd2 import return_widgets_for_display, make_movie\n",
    "from dask_to_napari import (convert_tiffs_to_dask_arrays, \n",
    "                            view_one_channel, \n",
    "                            view_one_time_one_channel,\n",
    "                            view_specified_channels_one_time,\n",
    "                            populate_grid)\n",
    "from visualization_utilities import add_3d_axes\n",
    "from skimage.io import imread\n",
    "from dask import delayed\n",
    "import tifffile\n",
    "import dask.array as da\n",
    "from glob import glob\n",
    "from PIL import Image\n",
    "from pims import ImageSequence\n",
    "# import dask_image\n",
    "import imageio\n",
    "from naparimovie_wrappers import MovieBuilder\n",
    "\n",
    "!jupyter nbextension enable --py widgetsnbextension\n"
   ]
  },
  {
   "cell_type": "markdown",
   "metadata": {},
   "source": [
    "# Set the relative path to your folder of decon'd data here.\n",
    "## relative to the path of this jupyter notebook."
   ]
  },
  {
   "cell_type": "code",
   "execution_count": 2,
   "metadata": {},
   "outputs": [
    {
     "name": "stdout",
     "output_type": "stream",
     "text": [
      "/y/pyLattice/src/visualization\n"
     ]
    }
   ],
   "source": [
    "# the path you are in \n",
    "!pwd"
   ]
  },
  {
   "cell_type": "code",
   "execution_count": 3,
   "metadata": {},
   "outputs": [],
   "source": [
    "# path_to_decon = 'test_data/'\n",
    "# path_to_decon = '../../../ABCData/20200715_p35p4_WTCiPS_Ap2_tRFPt_ArpC3_tGFP_nsp3nsp4_halo646/exp01_3color_200mW_xstage_z0p5/DS/CPPdecon/'\n",
    "path_to_decon = '../../../ABCData/20200716_p35p4_WTCiPS_Ap2_tRFPt_ER_ERtracker_ArpC3_tGFP_nsp3nsp4_halo635/exp02_3color_200mW_xstage_z0p5/DS/CPPdecon/'"
   ]
  },
  {
   "cell_type": "code",
   "execution_count": 4,
   "metadata": {},
   "outputs": [],
   "source": [
    "import math\n",
    "# we will need to import the\n",
    "# z spacing\n",
    "dz = 0.5;\n",
    "\n",
    "skew_angle = 31.5 # degrees\n",
    "# frame rate\n",
    "\n",
    "# x y pixel size\n",
    "xyPixelSize = 0.108;\n",
    "\n",
    "# including deskewed\n",
    "# z_spacing = dz*math.sind(skew_angle)"
   ]
  },
  {
   "cell_type": "code",
   "execution_count": 5,
   "metadata": {},
   "outputs": [],
   "source": [
    "# os.listdir(path_to_decon)[0].split('_')"
   ]
  },
  {
   "cell_type": "code",
   "execution_count": 7,
   "metadata": {},
   "outputs": [
    {
     "name": "stdout",
     "output_type": "stream",
     "text": [
      "Index of camera designation is 1\n",
      "Index of channel designation is 2\n",
      "Index of stack designation is 4\n",
      "The stacks present in this file are: ['0000', '0001', '0002', '0003', '0004', '0005', '0006', '0007', '0008', '0009', '0010', '0011', '0012', '0013', '0014', '0015', '0016', '0017', '0018', '0019', '0020', '0021', '0022', '0023', '0024', '0025', '0026', '0027', '0028', '0029', '0030', '0031', '0032', '0033', '0034', '0035', '0036', '0037', '0038', '0039', '0040', '0041', '0042', '0043', '0044', '0045', '0046', '0047', '0048', '0049', '0050', '0051', '0052', '0053', '0054', '0055', '0056', '0057', '0058', '0059', '0060', '0061', '0062', '0063', '0064', '0065', '0066', '0067', '0068', '0069', '0070', '0071', '0072', '0073', '0074', '0075', '0076', '0077', '0078', '0079', '0080', '0081', '0082', '0083', '0084', '0085', '0086', '0087', '0088', '0089', '0090', '0091', '0092', '0093', '0094', '0095', '0096', '0097', '0098', '0099']\n",
      "The channels will be returned in the following order linked to the detected identifiers: [[0, ('CamB', 'ch1')], [1, ('CamB', 'ch2')], [2, ('CamA', 'ch0')]]\n",
      "Adding channel 0 to an output array\n",
      "Adding stack 0 within channel 0 to an output array\n",
      "Adding stack 1 within channel 0 to an output array\n",
      "Adding stack 2 within channel 0 to an output array\n",
      "Adding stack 3 within channel 0 to an output array\n",
      "Adding stack 4 within channel 0 to an output array\n",
      "Adding stack 5 within channel 0 to an output array\n",
      "Adding stack 6 within channel 0 to an output array\n",
      "Adding stack 7 within channel 0 to an output array\n",
      "Adding stack 8 within channel 0 to an output array\n",
      "Adding stack 9 within channel 0 to an output array\n",
      "Adding stack 10 within channel 0 to an output array\n",
      "Adding stack 11 within channel 0 to an output array\n",
      "Adding stack 12 within channel 0 to an output array\n",
      "Adding stack 13 within channel 0 to an output array\n",
      "Adding stack 14 within channel 0 to an output array\n",
      "Adding stack 15 within channel 0 to an output array\n",
      "Adding stack 16 within channel 0 to an output array\n",
      "Adding stack 17 within channel 0 to an output array\n",
      "Adding stack 18 within channel 0 to an output array\n",
      "Adding stack 19 within channel 0 to an output array\n",
      "Adding stack 20 within channel 0 to an output array\n",
      "Adding stack 21 within channel 0 to an output array\n",
      "Adding stack 22 within channel 0 to an output array\n",
      "Adding stack 23 within channel 0 to an output array\n",
      "Adding stack 24 within channel 0 to an output array\n",
      "Adding stack 25 within channel 0 to an output array\n",
      "Adding stack 26 within channel 0 to an output array\n",
      "Adding stack 27 within channel 0 to an output array\n",
      "Adding stack 28 within channel 0 to an output array\n",
      "Adding stack 29 within channel 0 to an output array\n",
      "Adding stack 30 within channel 0 to an output array\n",
      "Adding stack 31 within channel 0 to an output array\n",
      "Adding stack 32 within channel 0 to an output array\n",
      "Adding stack 33 within channel 0 to an output array\n",
      "Adding stack 34 within channel 0 to an output array\n",
      "Adding stack 35 within channel 0 to an output array\n",
      "Adding stack 36 within channel 0 to an output array\n",
      "Adding stack 37 within channel 0 to an output array\n",
      "Adding stack 38 within channel 0 to an output array\n",
      "Adding stack 39 within channel 0 to an output array\n",
      "Adding stack 40 within channel 0 to an output array\n",
      "Adding stack 41 within channel 0 to an output array\n",
      "Adding stack 42 within channel 0 to an output array\n",
      "Adding stack 43 within channel 0 to an output array\n",
      "Adding stack 44 within channel 0 to an output array\n",
      "Adding stack 45 within channel 0 to an output array\n",
      "Adding stack 46 within channel 0 to an output array\n",
      "Adding stack 47 within channel 0 to an output array\n",
      "Adding stack 48 within channel 0 to an output array\n",
      "Adding stack 49 within channel 0 to an output array\n",
      "Adding stack 50 within channel 0 to an output array\n",
      "Adding stack 51 within channel 0 to an output array\n",
      "Adding stack 52 within channel 0 to an output array\n",
      "Adding stack 53 within channel 0 to an output array\n",
      "Adding stack 54 within channel 0 to an output array\n",
      "Adding stack 55 within channel 0 to an output array\n",
      "Adding stack 56 within channel 0 to an output array\n",
      "Adding stack 57 within channel 0 to an output array\n",
      "Adding stack 58 within channel 0 to an output array\n",
      "Adding stack 59 within channel 0 to an output array\n",
      "Adding stack 60 within channel 0 to an output array\n",
      "Adding stack 61 within channel 0 to an output array\n",
      "Adding stack 62 within channel 0 to an output array\n",
      "Adding stack 63 within channel 0 to an output array\n",
      "Adding stack 64 within channel 0 to an output array\n",
      "Adding stack 65 within channel 0 to an output array\n",
      "Adding stack 66 within channel 0 to an output array\n",
      "Adding stack 67 within channel 0 to an output array\n",
      "Adding stack 68 within channel 0 to an output array\n",
      "Adding stack 69 within channel 0 to an output array\n",
      "Adding stack 70 within channel 0 to an output array\n",
      "Adding stack 71 within channel 0 to an output array\n",
      "Adding stack 72 within channel 0 to an output array\n",
      "Adding stack 73 within channel 0 to an output array\n",
      "Adding stack 74 within channel 0 to an output array\n",
      "Adding stack 75 within channel 0 to an output array\n",
      "Adding stack 76 within channel 0 to an output array\n",
      "Adding stack 77 within channel 0 to an output array\n",
      "Adding stack 78 within channel 0 to an output array\n",
      "Adding stack 79 within channel 0 to an output array\n",
      "Adding stack 80 within channel 0 to an output array\n",
      "Adding stack 81 within channel 0 to an output array\n",
      "Adding stack 82 within channel 0 to an output array\n",
      "Adding stack 83 within channel 0 to an output array\n",
      "Adding stack 84 within channel 0 to an output array\n",
      "Adding stack 85 within channel 0 to an output array\n",
      "Adding stack 86 within channel 0 to an output array\n",
      "Adding stack 87 within channel 0 to an output array\n",
      "Adding stack 88 within channel 0 to an output array\n",
      "Adding stack 89 within channel 0 to an output array\n",
      "Adding stack 90 within channel 0 to an output array\n",
      "Adding stack 91 within channel 0 to an output array\n",
      "Adding stack 92 within channel 0 to an output array\n",
      "Adding stack 93 within channel 0 to an output array\n",
      "Adding stack 94 within channel 0 to an output array\n",
      "Adding stack 95 within channel 0 to an output array\n",
      "Adding stack 96 within channel 0 to an output array\n",
      "Adding stack 97 within channel 0 to an output array\n",
      "Adding stack 98 within channel 0 to an output array\n",
      "Adding stack 99 within channel 0 to an output array\n",
      "Adding channel 1 to an output array\n",
      "Adding stack 0 within channel 1 to an output array\n",
      "Adding stack 1 within channel 1 to an output array\n",
      "Adding stack 2 within channel 1 to an output array\n",
      "Adding stack 3 within channel 1 to an output array\n",
      "Adding stack 4 within channel 1 to an output array\n",
      "Adding stack 5 within channel 1 to an output array\n",
      "Adding stack 6 within channel 1 to an output array\n",
      "Adding stack 7 within channel 1 to an output array\n",
      "Adding stack 8 within channel 1 to an output array\n",
      "Adding stack 9 within channel 1 to an output array\n",
      "Adding stack 10 within channel 1 to an output array\n",
      "Adding stack 11 within channel 1 to an output array\n",
      "Adding stack 12 within channel 1 to an output array\n",
      "Adding stack 13 within channel 1 to an output array\n",
      "Adding stack 14 within channel 1 to an output array\n",
      "Adding stack 15 within channel 1 to an output array\n",
      "Adding stack 16 within channel 1 to an output array\n",
      "Adding stack 17 within channel 1 to an output array\n",
      "Adding stack 18 within channel 1 to an output array\n",
      "Adding stack 19 within channel 1 to an output array\n",
      "Adding stack 20 within channel 1 to an output array\n",
      "Adding stack 21 within channel 1 to an output array\n",
      "Adding stack 22 within channel 1 to an output array\n",
      "Adding stack 23 within channel 1 to an output array\n",
      "Adding stack 24 within channel 1 to an output array\n",
      "Adding stack 25 within channel 1 to an output array\n",
      "Adding stack 26 within channel 1 to an output array\n",
      "Adding stack 27 within channel 1 to an output array\n",
      "Adding stack 28 within channel 1 to an output array\n",
      "Adding stack 29 within channel 1 to an output array\n",
      "Adding stack 30 within channel 1 to an output array\n",
      "Adding stack 31 within channel 1 to an output array\n",
      "Adding stack 32 within channel 1 to an output array\n",
      "Adding stack 33 within channel 1 to an output array\n",
      "Adding stack 34 within channel 1 to an output array\n",
      "Adding stack 35 within channel 1 to an output array\n",
      "Adding stack 36 within channel 1 to an output array\n",
      "Adding stack 37 within channel 1 to an output array\n",
      "Adding stack 38 within channel 1 to an output array\n",
      "Adding stack 39 within channel 1 to an output array\n",
      "Adding stack 40 within channel 1 to an output array\n",
      "Adding stack 41 within channel 1 to an output array\n",
      "Adding stack 42 within channel 1 to an output array\n",
      "Adding stack 43 within channel 1 to an output array\n",
      "Adding stack 44 within channel 1 to an output array\n",
      "Adding stack 45 within channel 1 to an output array\n",
      "Adding stack 46 within channel 1 to an output array\n",
      "Adding stack 47 within channel 1 to an output array\n",
      "Adding stack 48 within channel 1 to an output array\n",
      "Adding stack 49 within channel 1 to an output array\n",
      "Adding stack 50 within channel 1 to an output array\n",
      "Adding stack 51 within channel 1 to an output array\n",
      "Adding stack 52 within channel 1 to an output array\n",
      "Adding stack 53 within channel 1 to an output array\n",
      "Adding stack 54 within channel 1 to an output array\n",
      "Adding stack 55 within channel 1 to an output array\n",
      "Adding stack 56 within channel 1 to an output array\n",
      "Adding stack 57 within channel 1 to an output array\n",
      "Adding stack 58 within channel 1 to an output array\n",
      "Adding stack 59 within channel 1 to an output array\n",
      "Adding stack 60 within channel 1 to an output array\n",
      "Adding stack 61 within channel 1 to an output array\n",
      "Adding stack 62 within channel 1 to an output array\n",
      "Adding stack 63 within channel 1 to an output array\n",
      "Adding stack 64 within channel 1 to an output array\n",
      "Adding stack 65 within channel 1 to an output array\n",
      "Adding stack 66 within channel 1 to an output array\n",
      "Adding stack 67 within channel 1 to an output array\n",
      "Adding stack 68 within channel 1 to an output array\n",
      "Adding stack 69 within channel 1 to an output array\n",
      "Adding stack 70 within channel 1 to an output array\n",
      "Adding stack 71 within channel 1 to an output array\n",
      "Adding stack 72 within channel 1 to an output array\n",
      "Adding stack 73 within channel 1 to an output array\n",
      "Adding stack 74 within channel 1 to an output array\n",
      "Adding stack 75 within channel 1 to an output array\n",
      "Adding stack 76 within channel 1 to an output array\n",
      "Adding stack 77 within channel 1 to an output array\n",
      "Adding stack 78 within channel 1 to an output array\n",
      "Adding stack 79 within channel 1 to an output array\n",
      "Adding stack 80 within channel 1 to an output array\n",
      "Adding stack 81 within channel 1 to an output array\n",
      "Adding stack 82 within channel 1 to an output array\n",
      "Adding stack 83 within channel 1 to an output array\n",
      "Adding stack 84 within channel 1 to an output array\n",
      "Adding stack 85 within channel 1 to an output array\n",
      "Adding stack 86 within channel 1 to an output array\n"
     ]
    },
    {
     "ename": "KeyboardInterrupt",
     "evalue": "",
     "output_type": "error",
     "traceback": [
      "\u001b[1;31m---------------------------------------------------------------------------\u001b[0m",
      "\u001b[1;31mKeyboardInterrupt\u001b[0m                         Traceback (most recent call last)",
      "\u001b[1;32m<ipython-input-7-9baced960f6c>\u001b[0m in \u001b[0;36m<module>\u001b[1;34m\u001b[0m\n\u001b[0;32m      1\u001b[0m \u001b[1;31m# a list of lists. each internal list has filesnames for each channel\u001b[0m\u001b[1;33m\u001b[0m\u001b[1;33m\u001b[0m\u001b[1;33m\u001b[0m\u001b[0m\n\u001b[1;32m----> 2\u001b[1;33m channels_dask = convert_tiffs_to_dask_arrays(path_to_decon,\n\u001b[0m\u001b[0;32m      3\u001b[0m                                              \u001b[0mchannel_identifiers\u001b[0m\u001b[1;33m=\u001b[0m\u001b[1;32mNone\u001b[0m\u001b[1;33m,\u001b[0m\u001b[1;33m\u001b[0m\u001b[1;33m\u001b[0m\u001b[0m\n\u001b[0;32m      4\u001b[0m                                              \u001b[0mis_MIP\u001b[0m\u001b[1;33m=\u001b[0m\u001b[1;32mFalse\u001b[0m\u001b[1;33m,\u001b[0m\u001b[1;33m\u001b[0m\u001b[1;33m\u001b[0m\u001b[0m\n\u001b[0;32m      5\u001b[0m                                              verbose=True)\n",
      "\u001b[1;32mY:\\pyLattice\\src\\visualization\\visualization_python_scripts_cyna\\dask_to_napari.py\u001b[0m in \u001b[0;36mconvert_tiffs_to_dask_arrays\u001b[1;34m(path_to_directory, channel_identifiers, is_MIP, verbose)\u001b[0m\n\u001b[0;32m    178\u001b[0m         \u001b[1;32mfor\u001b[0m \u001b[0mj\u001b[0m\u001b[1;33m,\u001b[0m\u001b[0mchannel_stack\u001b[0m \u001b[1;32min\u001b[0m \u001b[0menumerate\u001b[0m\u001b[1;33m(\u001b[0m\u001b[0mchannel\u001b[0m\u001b[1;33m)\u001b[0m\u001b[1;33m:\u001b[0m\u001b[1;33m\u001b[0m\u001b[1;33m\u001b[0m\u001b[0m\n\u001b[0;32m    179\u001b[0m             \u001b[1;32mif\u001b[0m \u001b[0mverbose\u001b[0m\u001b[1;33m:\u001b[0m \u001b[0mprint\u001b[0m\u001b[1;33m(\u001b[0m\u001b[1;34mf'Adding stack {j} within channel {i} to an output array'\u001b[0m\u001b[1;33m)\u001b[0m\u001b[1;33m\u001b[0m\u001b[1;33m\u001b[0m\u001b[0m\n\u001b[1;32m--> 180\u001b[1;33m             \u001b[0moutput_array\u001b[0m\u001b[1;33m[\u001b[0m\u001b[0mi\u001b[0m\u001b[1;33m,\u001b[0m\u001b[0mj\u001b[0m\u001b[1;33m,\u001b[0m\u001b[1;33m:\u001b[0m\u001b[1;33m]\u001b[0m \u001b[1;33m=\u001b[0m \u001b[0mchannel_stack\u001b[0m\u001b[1;33m\u001b[0m\u001b[1;33m\u001b[0m\u001b[0m\n\u001b[0m\u001b[0;32m    181\u001b[0m     \u001b[1;32mif\u001b[0m \u001b[0mverbose\u001b[0m\u001b[1;33m:\u001b[0m \u001b[0mprint\u001b[0m\u001b[1;33m(\u001b[0m\u001b[1;34m'Converting array to dask array'\u001b[0m\u001b[1;33m)\u001b[0m\u001b[1;33m\u001b[0m\u001b[1;33m\u001b[0m\u001b[0m\n\u001b[0;32m    182\u001b[0m     \u001b[1;32mreturn\u001b[0m \u001b[0mda\u001b[0m\u001b[1;33m.\u001b[0m\u001b[0masarray\u001b[0m\u001b[1;33m(\u001b[0m\u001b[0moutput_array\u001b[0m\u001b[1;33m)\u001b[0m\u001b[1;33m\u001b[0m\u001b[1;33m\u001b[0m\u001b[0m\n",
      "\u001b[1;32m~\\Anaconda3\\envs\\visualization\\lib\\site-packages\\dask\\array\\core.py\u001b[0m in \u001b[0;36m__array__\u001b[1;34m(self, dtype, **kwargs)\u001b[0m\n\u001b[0;32m   1338\u001b[0m \u001b[1;33m\u001b[0m\u001b[0m\n\u001b[0;32m   1339\u001b[0m     \u001b[1;32mdef\u001b[0m \u001b[0m__array__\u001b[0m\u001b[1;33m(\u001b[0m\u001b[0mself\u001b[0m\u001b[1;33m,\u001b[0m \u001b[0mdtype\u001b[0m\u001b[1;33m=\u001b[0m\u001b[1;32mNone\u001b[0m\u001b[1;33m,\u001b[0m \u001b[1;33m**\u001b[0m\u001b[0mkwargs\u001b[0m\u001b[1;33m)\u001b[0m\u001b[1;33m:\u001b[0m\u001b[1;33m\u001b[0m\u001b[1;33m\u001b[0m\u001b[0m\n\u001b[1;32m-> 1340\u001b[1;33m         \u001b[0mx\u001b[0m \u001b[1;33m=\u001b[0m \u001b[0mself\u001b[0m\u001b[1;33m.\u001b[0m\u001b[0mcompute\u001b[0m\u001b[1;33m(\u001b[0m\u001b[1;33m)\u001b[0m\u001b[1;33m\u001b[0m\u001b[1;33m\u001b[0m\u001b[0m\n\u001b[0m\u001b[0;32m   1341\u001b[0m         \u001b[1;32mif\u001b[0m \u001b[0mdtype\u001b[0m \u001b[1;32mand\u001b[0m \u001b[0mx\u001b[0m\u001b[1;33m.\u001b[0m\u001b[0mdtype\u001b[0m \u001b[1;33m!=\u001b[0m \u001b[0mdtype\u001b[0m\u001b[1;33m:\u001b[0m\u001b[1;33m\u001b[0m\u001b[1;33m\u001b[0m\u001b[0m\n\u001b[0;32m   1342\u001b[0m             \u001b[0mx\u001b[0m \u001b[1;33m=\u001b[0m \u001b[0mx\u001b[0m\u001b[1;33m.\u001b[0m\u001b[0mastype\u001b[0m\u001b[1;33m(\u001b[0m\u001b[0mdtype\u001b[0m\u001b[1;33m)\u001b[0m\u001b[1;33m\u001b[0m\u001b[1;33m\u001b[0m\u001b[0m\n",
      "\u001b[1;32m~\\Anaconda3\\envs\\visualization\\lib\\site-packages\\dask\\base.py\u001b[0m in \u001b[0;36mcompute\u001b[1;34m(self, **kwargs)\u001b[0m\n\u001b[0;32m    165\u001b[0m         \u001b[0mdask\u001b[0m\u001b[1;33m.\u001b[0m\u001b[0mbase\u001b[0m\u001b[1;33m.\u001b[0m\u001b[0mcompute\u001b[0m\u001b[1;33m\u001b[0m\u001b[1;33m\u001b[0m\u001b[0m\n\u001b[0;32m    166\u001b[0m         \"\"\"\n\u001b[1;32m--> 167\u001b[1;33m         \u001b[1;33m(\u001b[0m\u001b[0mresult\u001b[0m\u001b[1;33m,\u001b[0m\u001b[1;33m)\u001b[0m \u001b[1;33m=\u001b[0m \u001b[0mcompute\u001b[0m\u001b[1;33m(\u001b[0m\u001b[0mself\u001b[0m\u001b[1;33m,\u001b[0m \u001b[0mtraverse\u001b[0m\u001b[1;33m=\u001b[0m\u001b[1;32mFalse\u001b[0m\u001b[1;33m,\u001b[0m \u001b[1;33m**\u001b[0m\u001b[0mkwargs\u001b[0m\u001b[1;33m)\u001b[0m\u001b[1;33m\u001b[0m\u001b[1;33m\u001b[0m\u001b[0m\n\u001b[0m\u001b[0;32m    168\u001b[0m         \u001b[1;32mreturn\u001b[0m \u001b[0mresult\u001b[0m\u001b[1;33m\u001b[0m\u001b[1;33m\u001b[0m\u001b[0m\n\u001b[0;32m    169\u001b[0m \u001b[1;33m\u001b[0m\u001b[0m\n",
      "\u001b[1;32m~\\Anaconda3\\envs\\visualization\\lib\\site-packages\\dask\\base.py\u001b[0m in \u001b[0;36mcompute\u001b[1;34m(*args, **kwargs)\u001b[0m\n\u001b[0;32m    445\u001b[0m         \u001b[0mpostcomputes\u001b[0m\u001b[1;33m.\u001b[0m\u001b[0mappend\u001b[0m\u001b[1;33m(\u001b[0m\u001b[0mx\u001b[0m\u001b[1;33m.\u001b[0m\u001b[0m__dask_postcompute__\u001b[0m\u001b[1;33m(\u001b[0m\u001b[1;33m)\u001b[0m\u001b[1;33m)\u001b[0m\u001b[1;33m\u001b[0m\u001b[1;33m\u001b[0m\u001b[0m\n\u001b[0;32m    446\u001b[0m \u001b[1;33m\u001b[0m\u001b[0m\n\u001b[1;32m--> 447\u001b[1;33m     \u001b[0mresults\u001b[0m \u001b[1;33m=\u001b[0m \u001b[0mschedule\u001b[0m\u001b[1;33m(\u001b[0m\u001b[0mdsk\u001b[0m\u001b[1;33m,\u001b[0m \u001b[0mkeys\u001b[0m\u001b[1;33m,\u001b[0m \u001b[1;33m**\u001b[0m\u001b[0mkwargs\u001b[0m\u001b[1;33m)\u001b[0m\u001b[1;33m\u001b[0m\u001b[1;33m\u001b[0m\u001b[0m\n\u001b[0m\u001b[0;32m    448\u001b[0m     \u001b[1;32mreturn\u001b[0m \u001b[0mrepack\u001b[0m\u001b[1;33m(\u001b[0m\u001b[1;33m[\u001b[0m\u001b[0mf\u001b[0m\u001b[1;33m(\u001b[0m\u001b[0mr\u001b[0m\u001b[1;33m,\u001b[0m \u001b[1;33m*\u001b[0m\u001b[0ma\u001b[0m\u001b[1;33m)\u001b[0m \u001b[1;32mfor\u001b[0m \u001b[0mr\u001b[0m\u001b[1;33m,\u001b[0m \u001b[1;33m(\u001b[0m\u001b[0mf\u001b[0m\u001b[1;33m,\u001b[0m \u001b[0ma\u001b[0m\u001b[1;33m)\u001b[0m \u001b[1;32min\u001b[0m \u001b[0mzip\u001b[0m\u001b[1;33m(\u001b[0m\u001b[0mresults\u001b[0m\u001b[1;33m,\u001b[0m \u001b[0mpostcomputes\u001b[0m\u001b[1;33m)\u001b[0m\u001b[1;33m]\u001b[0m\u001b[1;33m)\u001b[0m\u001b[1;33m\u001b[0m\u001b[1;33m\u001b[0m\u001b[0m\n\u001b[0;32m    449\u001b[0m \u001b[1;33m\u001b[0m\u001b[0m\n",
      "\u001b[1;32m~\\Anaconda3\\envs\\visualization\\lib\\site-packages\\dask\\threaded.py\u001b[0m in \u001b[0;36mget\u001b[1;34m(dsk, result, cache, num_workers, pool, **kwargs)\u001b[0m\n\u001b[0;32m     74\u001b[0m                 \u001b[0mpools\u001b[0m\u001b[1;33m[\u001b[0m\u001b[0mthread\u001b[0m\u001b[1;33m]\u001b[0m\u001b[1;33m[\u001b[0m\u001b[0mnum_workers\u001b[0m\u001b[1;33m]\u001b[0m \u001b[1;33m=\u001b[0m \u001b[0mpool\u001b[0m\u001b[1;33m\u001b[0m\u001b[1;33m\u001b[0m\u001b[0m\n\u001b[0;32m     75\u001b[0m \u001b[1;33m\u001b[0m\u001b[0m\n\u001b[1;32m---> 76\u001b[1;33m     results = get_async(\n\u001b[0m\u001b[0;32m     77\u001b[0m         \u001b[0mpool\u001b[0m\u001b[1;33m.\u001b[0m\u001b[0mapply_async\u001b[0m\u001b[1;33m,\u001b[0m\u001b[1;33m\u001b[0m\u001b[1;33m\u001b[0m\u001b[0m\n\u001b[0;32m     78\u001b[0m         \u001b[0mlen\u001b[0m\u001b[1;33m(\u001b[0m\u001b[0mpool\u001b[0m\u001b[1;33m.\u001b[0m\u001b[0m_pool\u001b[0m\u001b[1;33m)\u001b[0m\u001b[1;33m,\u001b[0m\u001b[1;33m\u001b[0m\u001b[1;33m\u001b[0m\u001b[0m\n",
      "\u001b[1;32m~\\Anaconda3\\envs\\visualization\\lib\\site-packages\\dask\\local.py\u001b[0m in \u001b[0;36mget_async\u001b[1;34m(apply_async, num_workers, dsk, result, cache, get_id, rerun_exceptions_locally, pack_exception, raise_exception, callbacks, dumps, loads, **kwargs)\u001b[0m\n\u001b[0;32m    473\u001b[0m             \u001b[1;31m# Main loop, wait on tasks to finish, insert new ones\u001b[0m\u001b[1;33m\u001b[0m\u001b[1;33m\u001b[0m\u001b[1;33m\u001b[0m\u001b[0m\n\u001b[0;32m    474\u001b[0m             \u001b[1;32mwhile\u001b[0m \u001b[0mstate\u001b[0m\u001b[1;33m[\u001b[0m\u001b[1;34m\"waiting\"\u001b[0m\u001b[1;33m]\u001b[0m \u001b[1;32mor\u001b[0m \u001b[0mstate\u001b[0m\u001b[1;33m[\u001b[0m\u001b[1;34m\"ready\"\u001b[0m\u001b[1;33m]\u001b[0m \u001b[1;32mor\u001b[0m \u001b[0mstate\u001b[0m\u001b[1;33m[\u001b[0m\u001b[1;34m\"running\"\u001b[0m\u001b[1;33m]\u001b[0m\u001b[1;33m:\u001b[0m\u001b[1;33m\u001b[0m\u001b[1;33m\u001b[0m\u001b[0m\n\u001b[1;32m--> 475\u001b[1;33m                 \u001b[0mkey\u001b[0m\u001b[1;33m,\u001b[0m \u001b[0mres_info\u001b[0m\u001b[1;33m,\u001b[0m \u001b[0mfailed\u001b[0m \u001b[1;33m=\u001b[0m \u001b[0mqueue_get\u001b[0m\u001b[1;33m(\u001b[0m\u001b[0mqueue\u001b[0m\u001b[1;33m)\u001b[0m\u001b[1;33m\u001b[0m\u001b[1;33m\u001b[0m\u001b[0m\n\u001b[0m\u001b[0;32m    476\u001b[0m                 \u001b[1;32mif\u001b[0m \u001b[0mfailed\u001b[0m\u001b[1;33m:\u001b[0m\u001b[1;33m\u001b[0m\u001b[1;33m\u001b[0m\u001b[0m\n\u001b[0;32m    477\u001b[0m                     \u001b[0mexc\u001b[0m\u001b[1;33m,\u001b[0m \u001b[0mtb\u001b[0m \u001b[1;33m=\u001b[0m \u001b[0mloads\u001b[0m\u001b[1;33m(\u001b[0m\u001b[0mres_info\u001b[0m\u001b[1;33m)\u001b[0m\u001b[1;33m\u001b[0m\u001b[1;33m\u001b[0m\u001b[0m\n",
      "\u001b[1;32m~\\Anaconda3\\envs\\visualization\\lib\\site-packages\\dask\\local.py\u001b[0m in \u001b[0;36mqueue_get\u001b[1;34m(q)\u001b[0m\n\u001b[0;32m    123\u001b[0m         \u001b[1;32mwhile\u001b[0m \u001b[1;32mTrue\u001b[0m\u001b[1;33m:\u001b[0m\u001b[1;33m\u001b[0m\u001b[1;33m\u001b[0m\u001b[0m\n\u001b[0;32m    124\u001b[0m             \u001b[1;32mtry\u001b[0m\u001b[1;33m:\u001b[0m\u001b[1;33m\u001b[0m\u001b[1;33m\u001b[0m\u001b[0m\n\u001b[1;32m--> 125\u001b[1;33m                 \u001b[1;32mreturn\u001b[0m \u001b[0mq\u001b[0m\u001b[1;33m.\u001b[0m\u001b[0mget\u001b[0m\u001b[1;33m(\u001b[0m\u001b[0mblock\u001b[0m\u001b[1;33m=\u001b[0m\u001b[1;32mTrue\u001b[0m\u001b[1;33m,\u001b[0m \u001b[0mtimeout\u001b[0m\u001b[1;33m=\u001b[0m\u001b[1;36m0.1\u001b[0m\u001b[1;33m)\u001b[0m\u001b[1;33m\u001b[0m\u001b[1;33m\u001b[0m\u001b[0m\n\u001b[0m\u001b[0;32m    126\u001b[0m             \u001b[1;32mexcept\u001b[0m \u001b[0mEmpty\u001b[0m\u001b[1;33m:\u001b[0m\u001b[1;33m\u001b[0m\u001b[1;33m\u001b[0m\u001b[0m\n\u001b[0;32m    127\u001b[0m                 \u001b[1;32mpass\u001b[0m\u001b[1;33m\u001b[0m\u001b[1;33m\u001b[0m\u001b[0m\n",
      "\u001b[1;32m~\\Anaconda3\\envs\\visualization\\lib\\queue.py\u001b[0m in \u001b[0;36mget\u001b[1;34m(self, block, timeout)\u001b[0m\n\u001b[0;32m    177\u001b[0m                     \u001b[1;32mif\u001b[0m \u001b[0mremaining\u001b[0m \u001b[1;33m<=\u001b[0m \u001b[1;36m0.0\u001b[0m\u001b[1;33m:\u001b[0m\u001b[1;33m\u001b[0m\u001b[1;33m\u001b[0m\u001b[0m\n\u001b[0;32m    178\u001b[0m                         \u001b[1;32mraise\u001b[0m \u001b[0mEmpty\u001b[0m\u001b[1;33m\u001b[0m\u001b[1;33m\u001b[0m\u001b[0m\n\u001b[1;32m--> 179\u001b[1;33m                     \u001b[0mself\u001b[0m\u001b[1;33m.\u001b[0m\u001b[0mnot_empty\u001b[0m\u001b[1;33m.\u001b[0m\u001b[0mwait\u001b[0m\u001b[1;33m(\u001b[0m\u001b[0mremaining\u001b[0m\u001b[1;33m)\u001b[0m\u001b[1;33m\u001b[0m\u001b[1;33m\u001b[0m\u001b[0m\n\u001b[0m\u001b[0;32m    180\u001b[0m             \u001b[0mitem\u001b[0m \u001b[1;33m=\u001b[0m \u001b[0mself\u001b[0m\u001b[1;33m.\u001b[0m\u001b[0m_get\u001b[0m\u001b[1;33m(\u001b[0m\u001b[1;33m)\u001b[0m\u001b[1;33m\u001b[0m\u001b[1;33m\u001b[0m\u001b[0m\n\u001b[0;32m    181\u001b[0m             \u001b[0mself\u001b[0m\u001b[1;33m.\u001b[0m\u001b[0mnot_full\u001b[0m\u001b[1;33m.\u001b[0m\u001b[0mnotify\u001b[0m\u001b[1;33m(\u001b[0m\u001b[1;33m)\u001b[0m\u001b[1;33m\u001b[0m\u001b[1;33m\u001b[0m\u001b[0m\n",
      "\u001b[1;32m~\\Anaconda3\\envs\\visualization\\lib\\threading.py\u001b[0m in \u001b[0;36mwait\u001b[1;34m(self, timeout)\u001b[0m\n\u001b[0;32m    304\u001b[0m             \u001b[1;32melse\u001b[0m\u001b[1;33m:\u001b[0m\u001b[1;33m\u001b[0m\u001b[1;33m\u001b[0m\u001b[0m\n\u001b[0;32m    305\u001b[0m                 \u001b[1;32mif\u001b[0m \u001b[0mtimeout\u001b[0m \u001b[1;33m>\u001b[0m \u001b[1;36m0\u001b[0m\u001b[1;33m:\u001b[0m\u001b[1;33m\u001b[0m\u001b[1;33m\u001b[0m\u001b[0m\n\u001b[1;32m--> 306\u001b[1;33m                     \u001b[0mgotit\u001b[0m \u001b[1;33m=\u001b[0m \u001b[0mwaiter\u001b[0m\u001b[1;33m.\u001b[0m\u001b[0macquire\u001b[0m\u001b[1;33m(\u001b[0m\u001b[1;32mTrue\u001b[0m\u001b[1;33m,\u001b[0m \u001b[0mtimeout\u001b[0m\u001b[1;33m)\u001b[0m\u001b[1;33m\u001b[0m\u001b[1;33m\u001b[0m\u001b[0m\n\u001b[0m\u001b[0;32m    307\u001b[0m                 \u001b[1;32melse\u001b[0m\u001b[1;33m:\u001b[0m\u001b[1;33m\u001b[0m\u001b[1;33m\u001b[0m\u001b[0m\n\u001b[0;32m    308\u001b[0m                     \u001b[0mgotit\u001b[0m \u001b[1;33m=\u001b[0m \u001b[0mwaiter\u001b[0m\u001b[1;33m.\u001b[0m\u001b[0macquire\u001b[0m\u001b[1;33m(\u001b[0m\u001b[1;32mFalse\u001b[0m\u001b[1;33m)\u001b[0m\u001b[1;33m\u001b[0m\u001b[1;33m\u001b[0m\u001b[0m\n",
      "\u001b[1;31mKeyboardInterrupt\u001b[0m: "
     ]
    }
   ],
   "source": [
    "# a list of lists. each internal list has filesnames for each channel\n",
    "channels_dask = convert_tiffs_to_dask_arrays(path_to_decon,\n",
    "                                             channel_identifiers=None,\n",
    "                                             is_MIP=False,\n",
    "                                             verbose=True)"
   ]
  },
  {
   "cell_type": "code",
   "execution_count": 25,
   "metadata": {},
   "outputs": [
    {
     "data": {
      "text/html": [
       "<table>\n",
       "<tr>\n",
       "<td>\n",
       "<table>\n",
       "  <thead>\n",
       "    <tr><td> </td><th> Array </th><th> Chunk </th></tr>\n",
       "  </thead>\n",
       "  <tbody>\n",
       "    <tr><th> Bytes </th><td> 216.31 GB </td> <td> 73.53 MB </td></tr>\n",
       "    <tr><th> Shape </th><td> (3, 100, 131, 1600, 860) </td> <td> (3, 50, 57, 50, 43) </td></tr>\n",
       "    <tr><th> Count </th><td> 3841 Tasks </td><td> 3840 Chunks </td></tr>\n",
       "    <tr><th> Type </th><td> float32 </td><td> numpy.ndarray </td></tr>\n",
       "  </tbody>\n",
       "</table>\n",
       "</td>\n",
       "<td>\n",
       "<svg width=\"346\" height=\"192\" style=\"stroke:rgb(0,0,0);stroke-width:1\" >\n",
       "\n",
       "  <!-- Horizontal lines -->\n",
       "  <line x1=\"0\" y1=\"0\" x2=\"35\" y2=\"0\" style=\"stroke-width:2\" />\n",
       "  <line x1=\"0\" y1=\"25\" x2=\"35\" y2=\"25\" style=\"stroke-width:2\" />\n",
       "\n",
       "  <!-- Vertical lines -->\n",
       "  <line x1=\"0\" y1=\"0\" x2=\"0\" y2=\"25\" style=\"stroke-width:2\" />\n",
       "  <line x1=\"17\" y1=\"0\" x2=\"17\" y2=\"25\" />\n",
       "  <line x1=\"35\" y1=\"0\" x2=\"35\" y2=\"25\" style=\"stroke-width:2\" />\n",
       "\n",
       "  <!-- Colored Rectangle -->\n",
       "  <polygon points=\"0.000000,0.000000 35.859547,0.000000 35.859547,25.412617 0.000000,25.412617\" style=\"fill:#ECB172A0;stroke-width:0\"/>\n",
       "\n",
       "  <!-- Text -->\n",
       "  <text x=\"17.929774\" y=\"45.412617\" font-size=\"1.0rem\" font-weight=\"100\" text-anchor=\"middle\" >100</text>\n",
       "  <text x=\"55.859547\" y=\"12.706308\" font-size=\"1.0rem\" font-weight=\"100\" text-anchor=\"middle\" transform=\"rotate(0,55.859547,12.706308)\">3</text>\n",
       "\n",
       "\n",
       "  <!-- Horizontal lines -->\n",
       "  <line x1=\"105\" y1=\"0\" x2=\"127\" y2=\"22\" style=\"stroke-width:2\" />\n",
       "  <line x1=\"105\" y1=\"3\" x2=\"127\" y2=\"25\" />\n",
       "  <line x1=\"105\" y1=\"7\" x2=\"127\" y2=\"29\" />\n",
       "  <line x1=\"105\" y1=\"11\" x2=\"127\" y2=\"33\" />\n",
       "  <line x1=\"105\" y1=\"15\" x2=\"127\" y2=\"37\" />\n",
       "  <line x1=\"105\" y1=\"18\" x2=\"127\" y2=\"40\" />\n",
       "  <line x1=\"105\" y1=\"22\" x2=\"127\" y2=\"44\" />\n",
       "  <line x1=\"105\" y1=\"26\" x2=\"127\" y2=\"48\" />\n",
       "  <line x1=\"105\" y1=\"30\" x2=\"127\" y2=\"52\" />\n",
       "  <line x1=\"105\" y1=\"33\" x2=\"127\" y2=\"55\" />\n",
       "  <line x1=\"105\" y1=\"37\" x2=\"127\" y2=\"59\" />\n",
       "  <line x1=\"105\" y1=\"41\" x2=\"127\" y2=\"63\" />\n",
       "  <line x1=\"105\" y1=\"45\" x2=\"127\" y2=\"67\" />\n",
       "  <line x1=\"105\" y1=\"48\" x2=\"127\" y2=\"70\" />\n",
       "  <line x1=\"105\" y1=\"52\" x2=\"127\" y2=\"74\" />\n",
       "  <line x1=\"105\" y1=\"56\" x2=\"127\" y2=\"78\" />\n",
       "  <line x1=\"105\" y1=\"60\" x2=\"127\" y2=\"82\" />\n",
       "  <line x1=\"105\" y1=\"63\" x2=\"127\" y2=\"85\" />\n",
       "  <line x1=\"105\" y1=\"67\" x2=\"127\" y2=\"89\" />\n",
       "  <line x1=\"105\" y1=\"71\" x2=\"127\" y2=\"93\" />\n",
       "  <line x1=\"105\" y1=\"75\" x2=\"127\" y2=\"97\" />\n",
       "  <line x1=\"105\" y1=\"78\" x2=\"127\" y2=\"100\" />\n",
       "  <line x1=\"105\" y1=\"82\" x2=\"127\" y2=\"104\" />\n",
       "  <line x1=\"105\" y1=\"86\" x2=\"127\" y2=\"108\" />\n",
       "  <line x1=\"105\" y1=\"90\" x2=\"127\" y2=\"112\" />\n",
       "  <line x1=\"105\" y1=\"93\" x2=\"127\" y2=\"115\" />\n",
       "  <line x1=\"105\" y1=\"97\" x2=\"127\" y2=\"119\" />\n",
       "  <line x1=\"105\" y1=\"101\" x2=\"127\" y2=\"123\" />\n",
       "  <line x1=\"105\" y1=\"105\" x2=\"127\" y2=\"127\" />\n",
       "  <line x1=\"105\" y1=\"108\" x2=\"127\" y2=\"130\" />\n",
       "  <line x1=\"105\" y1=\"112\" x2=\"127\" y2=\"134\" />\n",
       "  <line x1=\"105\" y1=\"116\" x2=\"127\" y2=\"138\" />\n",
       "  <line x1=\"105\" y1=\"120\" x2=\"127\" y2=\"142\" style=\"stroke-width:2\" />\n",
       "\n",
       "  <!-- Vertical lines -->\n",
       "  <line x1=\"105\" y1=\"0\" x2=\"105\" y2=\"120\" style=\"stroke-width:2\" />\n",
       "  <line x1=\"114\" y1=\"9\" x2=\"114\" y2=\"129\" />\n",
       "  <line x1=\"124\" y1=\"19\" x2=\"124\" y2=\"139\" />\n",
       "  <line x1=\"127\" y1=\"22\" x2=\"127\" y2=\"142\" style=\"stroke-width:2\" />\n",
       "\n",
       "  <!-- Colored Rectangle -->\n",
       "  <polygon points=\"105.000000,0.000000 127.036065,22.036065 127.036065,142.036065 105.000000,120.000000\" style=\"fill:#ECB172A0;stroke-width:0\"/>\n",
       "\n",
       "  <!-- Horizontal lines -->\n",
       "  <line x1=\"105\" y1=\"0\" x2=\"169\" y2=\"0\" style=\"stroke-width:2\" />\n",
       "  <line x1=\"114\" y1=\"9\" x2=\"179\" y2=\"9\" />\n",
       "  <line x1=\"124\" y1=\"19\" x2=\"188\" y2=\"19\" />\n",
       "  <line x1=\"127\" y1=\"22\" x2=\"191\" y2=\"22\" style=\"stroke-width:2\" />\n",
       "\n",
       "  <!-- Vertical lines -->\n",
       "  <line x1=\"105\" y1=\"0\" x2=\"127\" y2=\"22\" style=\"stroke-width:2\" />\n",
       "  <line x1=\"108\" y1=\"0\" x2=\"130\" y2=\"22\" />\n",
       "  <line x1=\"111\" y1=\"0\" x2=\"133\" y2=\"22\" />\n",
       "  <line x1=\"114\" y1=\"0\" x2=\"136\" y2=\"22\" />\n",
       "  <line x1=\"117\" y1=\"0\" x2=\"139\" y2=\"22\" />\n",
       "  <line x1=\"121\" y1=\"0\" x2=\"143\" y2=\"22\" />\n",
       "  <line x1=\"124\" y1=\"0\" x2=\"146\" y2=\"22\" />\n",
       "  <line x1=\"127\" y1=\"0\" x2=\"149\" y2=\"22\" />\n",
       "  <line x1=\"130\" y1=\"0\" x2=\"152\" y2=\"22\" />\n",
       "  <line x1=\"134\" y1=\"0\" x2=\"156\" y2=\"22\" />\n",
       "  <line x1=\"137\" y1=\"0\" x2=\"159\" y2=\"22\" />\n",
       "  <line x1=\"140\" y1=\"0\" x2=\"162\" y2=\"22\" />\n",
       "  <line x1=\"143\" y1=\"0\" x2=\"165\" y2=\"22\" />\n",
       "  <line x1=\"146\" y1=\"0\" x2=\"168\" y2=\"22\" />\n",
       "  <line x1=\"150\" y1=\"0\" x2=\"172\" y2=\"22\" />\n",
       "  <line x1=\"153\" y1=\"0\" x2=\"175\" y2=\"22\" />\n",
       "  <line x1=\"156\" y1=\"0\" x2=\"178\" y2=\"22\" />\n",
       "  <line x1=\"159\" y1=\"0\" x2=\"181\" y2=\"22\" />\n",
       "  <line x1=\"163\" y1=\"0\" x2=\"185\" y2=\"22\" />\n",
       "  <line x1=\"166\" y1=\"0\" x2=\"188\" y2=\"22\" />\n",
       "  <line x1=\"169\" y1=\"0\" x2=\"191\" y2=\"22\" style=\"stroke-width:2\" />\n",
       "\n",
       "  <!-- Colored Rectangle -->\n",
       "  <polygon points=\"105.000000,0.000000 169.500000,0.000000 191.536065,22.036065 127.036065,22.036065\" style=\"fill:#ECB172A0;stroke-width:0\"/>\n",
       "\n",
       "  <!-- Horizontal lines -->\n",
       "  <line x1=\"127\" y1=\"22\" x2=\"191\" y2=\"22\" style=\"stroke-width:2\" />\n",
       "  <line x1=\"127\" y1=\"25\" x2=\"191\" y2=\"25\" />\n",
       "  <line x1=\"127\" y1=\"29\" x2=\"191\" y2=\"29\" />\n",
       "  <line x1=\"127\" y1=\"33\" x2=\"191\" y2=\"33\" />\n",
       "  <line x1=\"127\" y1=\"37\" x2=\"191\" y2=\"37\" />\n",
       "  <line x1=\"127\" y1=\"40\" x2=\"191\" y2=\"40\" />\n",
       "  <line x1=\"127\" y1=\"44\" x2=\"191\" y2=\"44\" />\n",
       "  <line x1=\"127\" y1=\"48\" x2=\"191\" y2=\"48\" />\n",
       "  <line x1=\"127\" y1=\"52\" x2=\"191\" y2=\"52\" />\n",
       "  <line x1=\"127\" y1=\"55\" x2=\"191\" y2=\"55\" />\n",
       "  <line x1=\"127\" y1=\"59\" x2=\"191\" y2=\"59\" />\n",
       "  <line x1=\"127\" y1=\"63\" x2=\"191\" y2=\"63\" />\n",
       "  <line x1=\"127\" y1=\"67\" x2=\"191\" y2=\"67\" />\n",
       "  <line x1=\"127\" y1=\"70\" x2=\"191\" y2=\"70\" />\n",
       "  <line x1=\"127\" y1=\"74\" x2=\"191\" y2=\"74\" />\n",
       "  <line x1=\"127\" y1=\"78\" x2=\"191\" y2=\"78\" />\n",
       "  <line x1=\"127\" y1=\"82\" x2=\"191\" y2=\"82\" />\n",
       "  <line x1=\"127\" y1=\"85\" x2=\"191\" y2=\"85\" />\n",
       "  <line x1=\"127\" y1=\"89\" x2=\"191\" y2=\"89\" />\n",
       "  <line x1=\"127\" y1=\"93\" x2=\"191\" y2=\"93\" />\n",
       "  <line x1=\"127\" y1=\"97\" x2=\"191\" y2=\"97\" />\n",
       "  <line x1=\"127\" y1=\"100\" x2=\"191\" y2=\"100\" />\n",
       "  <line x1=\"127\" y1=\"104\" x2=\"191\" y2=\"104\" />\n",
       "  <line x1=\"127\" y1=\"108\" x2=\"191\" y2=\"108\" />\n",
       "  <line x1=\"127\" y1=\"112\" x2=\"191\" y2=\"112\" />\n",
       "  <line x1=\"127\" y1=\"115\" x2=\"191\" y2=\"115\" />\n",
       "  <line x1=\"127\" y1=\"119\" x2=\"191\" y2=\"119\" />\n",
       "  <line x1=\"127\" y1=\"123\" x2=\"191\" y2=\"123\" />\n",
       "  <line x1=\"127\" y1=\"127\" x2=\"191\" y2=\"127\" />\n",
       "  <line x1=\"127\" y1=\"130\" x2=\"191\" y2=\"130\" />\n",
       "  <line x1=\"127\" y1=\"134\" x2=\"191\" y2=\"134\" />\n",
       "  <line x1=\"127\" y1=\"138\" x2=\"191\" y2=\"138\" />\n",
       "  <line x1=\"127\" y1=\"142\" x2=\"191\" y2=\"142\" style=\"stroke-width:2\" />\n",
       "\n",
       "  <!-- Vertical lines -->\n",
       "  <line x1=\"127\" y1=\"22\" x2=\"127\" y2=\"142\" style=\"stroke-width:2\" />\n",
       "  <line x1=\"130\" y1=\"22\" x2=\"130\" y2=\"142\" />\n",
       "  <line x1=\"133\" y1=\"22\" x2=\"133\" y2=\"142\" />\n",
       "  <line x1=\"136\" y1=\"22\" x2=\"136\" y2=\"142\" />\n",
       "  <line x1=\"139\" y1=\"22\" x2=\"139\" y2=\"142\" />\n",
       "  <line x1=\"143\" y1=\"22\" x2=\"143\" y2=\"142\" />\n",
       "  <line x1=\"146\" y1=\"22\" x2=\"146\" y2=\"142\" />\n",
       "  <line x1=\"149\" y1=\"22\" x2=\"149\" y2=\"142\" />\n",
       "  <line x1=\"152\" y1=\"22\" x2=\"152\" y2=\"142\" />\n",
       "  <line x1=\"156\" y1=\"22\" x2=\"156\" y2=\"142\" />\n",
       "  <line x1=\"159\" y1=\"22\" x2=\"159\" y2=\"142\" />\n",
       "  <line x1=\"162\" y1=\"22\" x2=\"162\" y2=\"142\" />\n",
       "  <line x1=\"165\" y1=\"22\" x2=\"165\" y2=\"142\" />\n",
       "  <line x1=\"168\" y1=\"22\" x2=\"168\" y2=\"142\" />\n",
       "  <line x1=\"172\" y1=\"22\" x2=\"172\" y2=\"142\" />\n",
       "  <line x1=\"175\" y1=\"22\" x2=\"175\" y2=\"142\" />\n",
       "  <line x1=\"178\" y1=\"22\" x2=\"178\" y2=\"142\" />\n",
       "  <line x1=\"181\" y1=\"22\" x2=\"181\" y2=\"142\" />\n",
       "  <line x1=\"185\" y1=\"22\" x2=\"185\" y2=\"142\" />\n",
       "  <line x1=\"188\" y1=\"22\" x2=\"188\" y2=\"142\" />\n",
       "  <line x1=\"191\" y1=\"22\" x2=\"191\" y2=\"142\" style=\"stroke-width:2\" />\n",
       "\n",
       "  <!-- Colored Rectangle -->\n",
       "  <polygon points=\"127.036065,22.036065 191.536065,22.036065 191.536065,142.036065 127.036065,142.036065\" style=\"fill:#ECB172A0;stroke-width:0\"/>\n",
       "\n",
       "  <!-- Text -->\n",
       "  <text x=\"159.286065\" y=\"162.036065\" font-size=\"1.0rem\" font-weight=\"100\" text-anchor=\"middle\" >860</text>\n",
       "  <text x=\"211.536065\" y=\"82.036065\" font-size=\"1.0rem\" font-weight=\"100\" text-anchor=\"middle\" transform=\"rotate(-90,211.536065,82.036065)\">1600</text>\n",
       "  <text x=\"106.018033\" y=\"151.018033\" font-size=\"1.0rem\" font-weight=\"100\" text-anchor=\"middle\" transform=\"rotate(45,106.018033,151.018033)\">131</text>\n",
       "</svg>\n",
       "</td>\n",
       "</tr>\n",
       "</table>"
      ],
      "text/plain": [
       "dask.array<array, shape=(3, 100, 131, 1600, 860), dtype=float32, chunksize=(3, 50, 57, 50, 43), chunktype=numpy.ndarray>"
      ]
     },
     "execution_count": 25,
     "metadata": {},
     "output_type": "execute_result"
    }
   ],
   "source": [
    "channels_dask"
   ]
  },
  {
   "cell_type": "code",
   "execution_count": 8,
   "metadata": {},
   "outputs": [],
   "source": [
    "# channels_dask.shape"
   ]
  },
  {
   "cell_type": "markdown",
   "metadata": {},
   "source": [
    "# try to put it in a folder called to_zarr"
   ]
  },
  {
   "cell_type": "code",
   "execution_count": 41,
   "metadata": {},
   "outputs": [],
   "source": [
    "# channels_dask.to_zarr(\"zarr_data\")"
   ]
  },
  {
   "cell_type": "markdown",
   "metadata": {},
   "source": [
    "# Optionally convert from dask array to zarr array\n",
    "## you can skip this step if your data set is not gigantic"
   ]
  },
  {
   "cell_type": "code",
   "execution_count": 6,
   "metadata": {},
   "outputs": [],
   "source": [
    "# channels_from_zarr=da.from_zarr(\"zarr_data\")"
   ]
  },
  {
   "cell_type": "code",
   "execution_count": 7,
   "metadata": {},
   "outputs": [
    {
     "data": {
      "text/html": [
       "<table>\n",
       "<tr>\n",
       "<td>\n",
       "<table>\n",
       "  <thead>\n",
       "    <tr><td> </td><th> Array </th><th> Chunk </th></tr>\n",
       "  </thead>\n",
       "  <tbody>\n",
       "    <tr><th> Bytes </th><td> 907.45 MB </td> <td> 75.62 MB </td></tr>\n",
       "    <tr><th> Shape </th><td> (1, 1, 151, 1600, 939) </td> <td> (1, 1, 151, 400, 313) </td></tr>\n",
       "    <tr><th> Count </th><td> 13 Tasks </td><td> 12 Chunks </td></tr>\n",
       "    <tr><th> Type </th><td> float32 </td><td> numpy.ndarray </td></tr>\n",
       "  </tbody>\n",
       "</table>\n",
       "</td>\n",
       "<td>\n",
       "<svg width=\"332\" height=\"192\" style=\"stroke:rgb(0,0,0);stroke-width:1\" >\n",
       "\n",
       "  <!-- Horizontal lines -->\n",
       "  <line x1=\"0\" y1=\"0\" x2=\"25\" y2=\"0\" style=\"stroke-width:2\" />\n",
       "  <line x1=\"0\" y1=\"25\" x2=\"25\" y2=\"25\" style=\"stroke-width:2\" />\n",
       "\n",
       "  <!-- Vertical lines -->\n",
       "  <line x1=\"0\" y1=\"0\" x2=\"0\" y2=\"25\" style=\"stroke-width:2\" />\n",
       "  <line x1=\"25\" y1=\"0\" x2=\"25\" y2=\"25\" style=\"stroke-width:2\" />\n",
       "\n",
       "  <!-- Colored Rectangle -->\n",
       "  <polygon points=\"0.000000,0.000000 25.412617,0.000000 25.412617,25.412617 0.000000,25.412617\" style=\"fill:#ECB172A0;stroke-width:0\"/>\n",
       "\n",
       "  <!-- Text -->\n",
       "  <text x=\"12.706308\" y=\"45.412617\" font-size=\"1.0rem\" font-weight=\"100\" text-anchor=\"middle\" >1</text>\n",
       "  <text x=\"45.412617\" y=\"12.706308\" font-size=\"1.0rem\" font-weight=\"100\" text-anchor=\"middle\" transform=\"rotate(0,45.412617,12.706308)\">1</text>\n",
       "\n",
       "\n",
       "  <!-- Horizontal lines -->\n",
       "  <line x1=\"95\" y1=\"0\" x2=\"117\" y2=\"22\" style=\"stroke-width:2\" />\n",
       "  <line x1=\"95\" y1=\"30\" x2=\"117\" y2=\"52\" />\n",
       "  <line x1=\"95\" y1=\"60\" x2=\"117\" y2=\"82\" />\n",
       "  <line x1=\"95\" y1=\"90\" x2=\"117\" y2=\"112\" />\n",
       "  <line x1=\"95\" y1=\"120\" x2=\"117\" y2=\"142\" style=\"stroke-width:2\" />\n",
       "\n",
       "  <!-- Vertical lines -->\n",
       "  <line x1=\"95\" y1=\"0\" x2=\"95\" y2=\"120\" style=\"stroke-width:2\" />\n",
       "  <line x1=\"117\" y1=\"22\" x2=\"117\" y2=\"142\" style=\"stroke-width:2\" />\n",
       "\n",
       "  <!-- Colored Rectangle -->\n",
       "  <polygon points=\"95.000000,0.000000 117.513875,22.513875 117.513875,142.513875 95.000000,120.000000\" style=\"fill:#ECB172A0;stroke-width:0\"/>\n",
       "\n",
       "  <!-- Horizontal lines -->\n",
       "  <line x1=\"95\" y1=\"0\" x2=\"165\" y2=\"0\" style=\"stroke-width:2\" />\n",
       "  <line x1=\"117\" y1=\"22\" x2=\"187\" y2=\"22\" style=\"stroke-width:2\" />\n",
       "\n",
       "  <!-- Vertical lines -->\n",
       "  <line x1=\"95\" y1=\"0\" x2=\"117\" y2=\"22\" style=\"stroke-width:2\" />\n",
       "  <line x1=\"118\" y1=\"0\" x2=\"140\" y2=\"22\" />\n",
       "  <line x1=\"141\" y1=\"0\" x2=\"164\" y2=\"22\" />\n",
       "  <line x1=\"165\" y1=\"0\" x2=\"187\" y2=\"22\" style=\"stroke-width:2\" />\n",
       "\n",
       "  <!-- Colored Rectangle -->\n",
       "  <polygon points=\"95.000000,0.000000 165.425000,0.000000 187.938875,22.513875 117.513875,22.513875\" style=\"fill:#ECB172A0;stroke-width:0\"/>\n",
       "\n",
       "  <!-- Horizontal lines -->\n",
       "  <line x1=\"117\" y1=\"22\" x2=\"187\" y2=\"22\" style=\"stroke-width:2\" />\n",
       "  <line x1=\"117\" y1=\"52\" x2=\"187\" y2=\"52\" />\n",
       "  <line x1=\"117\" y1=\"82\" x2=\"187\" y2=\"82\" />\n",
       "  <line x1=\"117\" y1=\"112\" x2=\"187\" y2=\"112\" />\n",
       "  <line x1=\"117\" y1=\"142\" x2=\"187\" y2=\"142\" style=\"stroke-width:2\" />\n",
       "\n",
       "  <!-- Vertical lines -->\n",
       "  <line x1=\"117\" y1=\"22\" x2=\"117\" y2=\"142\" style=\"stroke-width:2\" />\n",
       "  <line x1=\"140\" y1=\"22\" x2=\"140\" y2=\"142\" />\n",
       "  <line x1=\"164\" y1=\"22\" x2=\"164\" y2=\"142\" />\n",
       "  <line x1=\"187\" y1=\"22\" x2=\"187\" y2=\"142\" style=\"stroke-width:2\" />\n",
       "\n",
       "  <!-- Colored Rectangle -->\n",
       "  <polygon points=\"117.513875,22.513875 187.938875,22.513875 187.938875,142.513875 117.513875,142.513875\" style=\"fill:#ECB172A0;stroke-width:0\"/>\n",
       "\n",
       "  <!-- Text -->\n",
       "  <text x=\"152.726375\" y=\"162.513875\" font-size=\"1.0rem\" font-weight=\"100\" text-anchor=\"middle\" >939</text>\n",
       "  <text x=\"207.938875\" y=\"82.513875\" font-size=\"1.0rem\" font-weight=\"100\" text-anchor=\"middle\" transform=\"rotate(-90,207.938875,82.513875)\">1600</text>\n",
       "  <text x=\"96.256938\" y=\"151.256938\" font-size=\"1.0rem\" font-weight=\"100\" text-anchor=\"middle\" transform=\"rotate(45,96.256938,151.256938)\">151</text>\n",
       "</svg>\n",
       "</td>\n",
       "</tr>\n",
       "</table>"
      ],
      "text/plain": [
       "dask.array<from-zarr, shape=(1, 1, 151, 1600, 939), dtype=float32, chunksize=(1, 1, 151, 400, 313), chunktype=numpy.ndarray>"
      ]
     },
     "execution_count": 7,
     "metadata": {},
     "output_type": "execute_result"
    }
   ],
   "source": [
    "# channels_from_zarr"
   ]
  },
  {
   "cell_type": "markdown",
   "metadata": {},
   "source": [
    "# Here is where you use napari.add_viewer to make a viewer window containing the dask_array\n",
    "## inputting either \"dask_array\" or \"channels_from_zarr\""
   ]
  },
  {
   "cell_type": "markdown",
   "metadata": {},
   "source": [
    "# make a grid multi or separate channels. this is optional\n",
    "## # 1,1 is a 1x1 grid"
   ]
  },
  {
   "cell_type": "code",
   "execution_count": 50,
   "metadata": {},
   "outputs": [],
   "source": [
    "# initialize the viewer\n",
    "viewer=napari.Viewer(ndisplay=3)\n"
   ]
  },
  {
   "cell_type": "code",
   "execution_count": 51,
   "metadata": {},
   "outputs": [
    {
     "data": {
      "text/plain": [
       "<Image layer 'Image' at 0x237ebb92130>"
      ]
     },
     "execution_count": 51,
     "metadata": {},
     "output_type": "execute_result"
    }
   ],
   "source": [
    "# add each channel\n",
    "viewer.add_image(channels_dask[0],colormap='cyan')\n"
   ]
  },
  {
   "cell_type": "code",
   "execution_count": 52,
   "metadata": {},
   "outputs": [
    {
     "data": {
      "text/plain": [
       "<Image layer 'Image [1]' at 0x237ae4abfa0>"
      ]
     },
     "execution_count": 52,
     "metadata": {},
     "output_type": "execute_result"
    }
   ],
   "source": [
    "viewer.add_image(channels_dask[1],colormap='yellow', blending='additive')\n"
   ]
  },
  {
   "cell_type": "code",
   "execution_count": 53,
   "metadata": {},
   "outputs": [
    {
     "data": {
      "text/plain": [
       "<Image layer 'Image [2]' at 0x237ebaf5ac0>"
      ]
     },
     "execution_count": 53,
     "metadata": {},
     "output_type": "execute_result"
    }
   ],
   "source": [
    "viewer.add_image(channels_dask[2],colormap='magenta', blending = 'additive')\n"
   ]
  },
  {
   "cell_type": "code",
   "execution_count": 56,
   "metadata": {},
   "outputs": [],
   "source": [
    "# THis part is to automate the channel visualization thresholds and stuff"
   ]
  },
  {
   "cell_type": "code",
   "execution_count": null,
   "metadata": {},
   "outputs": [],
   "source": [
    "# # build the necessary widgets for the visualization tools\n",
    "\n",
    "# # use the following entry boxes and sliders to set the percentile of intensities in each available channel \n",
    "# # to set the lower and upper cut-offs in percentiles allowed for display\n",
    "# # these are set to 0 and 100, respectively\n",
    "# num_channels, channels_to_view, channels_thresholded, percentile_ranges, all_percentiles_entrybox_lower_upper, threshold_options, image_dimensionality_array, axes_available, image_frames, display_widget, make_napari_movie=return_widgets_for_display(channels_dask)\n",
    "\n",
    "# for i in range(num_channels*2):\n",
    "#     display(all_percentiles_entrybox_lower_upper[i], percentile_ranges[i])"
   ]
  },
  {
   "cell_type": "code",
   "execution_count": 27,
   "metadata": {},
   "outputs": [],
   "source": [
    "#1x1 grid\n",
    "# populate_grid(napari.Viewer(ndisplay=3), 1,1, [(channels_dask[0],[(0,0)],'magenta','ch0')])\n"
   ]
  },
  {
   "cell_type": "code",
   "execution_count": 44,
   "metadata": {},
   "outputs": [],
   "source": [
    "# to make a 4x4 grid ? each channel and overlay \n",
    "# overall there are 4 panels\n",
    "\n",
    "# populate_grid(napari.Viewer(ndisplay=3), 4 , 4, [(channels_dask[0],[(0,0),(3,3)],'magenta','ch0'),(channels_dask[1],[(1,1),(3,3)],'cyan','ch1'),(channels_dask[2],[(2,2),(3,3)],'yellow','ch2')])\n",
    "\n"
   ]
  },
  {
   "cell_type": "markdown",
   "metadata": {},
   "source": [
    "# This is where you paste in the make movie command, \n",
    "## this should let you have a 3D view saved as a movie"
   ]
  },
  {
   "cell_type": "code",
   "execution_count": null,
   "metadata": {},
   "outputs": [],
   "source": [
    "# create a napari viewer that is linked to a movie \"state\" output for movie generation\n",
    "# output = interactive(\n",
    "#             make_movie,\n",
    "#             {'manual': True},\n",
    "#             channels_to_display=channels_to_view,\n",
    "#             channels_to_threshold=channels_thresholded,\n",
    "#             threshold_methods=threshold_options,\n",
    "#             percentile_values=fixed(all_percentiles_entrybox_lower_upper),\n",
    "#             display_on=display_widget,\n",
    "#             file_to_process=fixed(file_to_process),\n",
    "#             image_dimensionality_array=fixed(image_dimensionality_array),\n",
    "#             axes_available=fixed(axes_available),\n",
    "#             image_frames=fixed(image_frames),\n",
    "#             make_naparimovie=make_napari_movie\n",
    "#            )\n",
    "# display(output) # display the napari viewer widgets and display tools\n",
    "# select the channels to view (hold control/command to highlight multiple lines)\n",
    "# select the channels to threshold; if a channel is selected for thresholding, a threshold method must be specified\n",
    "# chose between no threshold, single-Otsu, and percentile\n"
   ]
  },
  {
   "cell_type": "markdown",
   "metadata": {},
   "source": [
    "# Make a movie_script file\n",
    "## need a folder called visualization_scripts_new"
   ]
  },
  {
   "cell_type": "code",
   "execution_count": null,
   "metadata": {},
   "outputs": [],
   "source": [
    "# if make naparimovie is checked, check if this global variable is carried over from the scripts\n",
    "# this \"movie\" object is what naparimovie will render into a movie\n",
    "# this cell must be run after every new run of display(output) so the most up-to-date napari viewer is used\n",
    "# movie = output.result"
   ]
  },
  {
   "cell_type": "code",
   "execution_count": 57,
   "metadata": {},
   "outputs": [],
   "source": [
    "# i sets a unique string name for the movie script\n",
    "i=1"
   ]
  },
  {
   "cell_type": "code",
   "execution_count": 60,
   "metadata": {},
   "outputs": [
    {
     "data": {
      "text/plain": [
       "41"
      ]
     },
     "execution_count": 60,
     "metadata": {},
     "output_type": "execute_result"
    }
   ],
   "source": [
    "# for 1 channels, many time, 1 z stack\n",
    "# # # %%capture\n",
    "# number of channels in movie to generate script for\n",
    "number_of_channels = 1\n",
    "movie_text_command=\"visualization_scripts_new/movie_script\"+str(i)+\".txt\"\n",
    "# the granularity of angled rotations in function calls\n",
    "# increase for smoothness (will take longer to render)\n",
    "# decrease for testing script generations\n",
    "# number_frames_per_unit_rotation = 5\n",
    "# unit_rotation_degrees=15\n",
    "\n",
    "\n",
    "\n",
    "# initialize the first frame in the naparimovie\n",
    "# can be greater than 0 if you want a pause at the beginning\n",
    "# the first \"camera\" frame of the naparimovie will start as the current\n",
    "# state of the napari window. therefore, all contrast settings and visualization tweaks\n",
    "# can be made in napari before starting the gif generation follow script generation\n",
    "\n",
    "frame_start = 0\n",
    "\n",
    "movie_current = MovieBuilder()\n",
    "\n",
    "movie_current.shift_time(40,90)\n",
    "\n",
    "# you can optionally get the frame of the movie for the next state as a return from any operation\n",
    "# fim=movie_current.make_all_layers_invisible(2)\n",
    "\n",
    "# you can manually set the frame in the movie for an increased duration\n",
    "# movie_current._frame_in_movie = 20"
   ]
  },
  {
   "cell_type": "code",
   "execution_count": 62,
   "metadata": {},
   "outputs": [],
   "source": [
    "# # make a movie script\n",
    "# movie_current.build_movie('visualization_scripts_new/movie_script'+str(i)+'.txt')\n",
    "\n",
    "\n",
    "# # make a new text file for the next run of this cell\n",
    "# i+=1"
   ]
  },
  {
   "cell_type": "code",
   "execution_count": null,
   "metadata": {},
   "outputs": [],
   "source": [
    "# # create a series of naparimovie interpretable commands for generating a movie\n",
    "viewer.create_state_dict_from_script('visualization_scripts_new/movie_script'+str(i)+'.txt')\n",
    "# # generate the mp4 movie with the set fps and resolution\n",
    "# # movie.make_gif('/Volumes/GoogleDrive/Shared drives/drubin-barnes-lab_drive/project_overviews/coronavirus_research/imaging_data/data for cyna to filter for group meeting on 8:4:20/all_movies_made_by_cyna/20200703_nsp3-4 transfection/Sec61-lamin/Sec61-GFP_laminRFP_noTransfection_002'+'.gif')\n",
    "viewer.make_movie(name='max_movie.mp4',fps=10, resolution = 1000)"
   ]
  },
  {
   "cell_type": "code",
   "execution_count": null,
   "metadata": {},
   "outputs": [],
   "source": [
    "# make shapes. this is not necssesary after. "
   ]
  },
  {
   "cell_type": "code",
   "execution_count": null,
   "metadata": {},
   "outputs": [],
   "source": [
    "# with napari.gui_qt():\n",
    "#     # add the image\n",
    "#     viewer=napari.Viewer(ndisplay=3)\n",
    "#     viewer.add_image(channels_from_zarr[0],colormap='viridis')\n",
    "#     shape_of_file = channels_from_zarr[0].shape\n",
    "#     text_properties = {\n",
    "#     'text': '{class}: {likelihood:0.1f}%',\n",
    "#     'anchor': 'upper_left',\n",
    "#     'translation': [-5, 0],\n",
    "#     'size': 8,\n",
    "#     'color': 'green',\n",
    "#     }\n",
    "\n",
    "#     # add polygons\n",
    "#     shapes_layer = viewer.add_shapes(\n",
    "#         polygons,\n",
    "#         properties=properties,\n",
    "#         shape_type='polygon',\n",
    "#         edge_width=3,\n",
    "#         edge_color='class',\n",
    "#         edge_color_cycle=edge_color_cycle,\n",
    "#         face_color='transparent',\n",
    "#         text=text_properties,\n",
    "#         name='shapes',\n",
    "#     )\n",
    "#     add_3d_axes(viewer, \n",
    "#                 shape_of_file,\n",
    "#                 extension=[0,0,-600], \n",
    "#                 marker_width=3,\n",
    "#                 offset=[0, 0, 0], \n",
    "#                 points_on_axes=(3,10,10))"
   ]
  }
 ],
 "metadata": {
  "kernelspec": {
   "display_name": "Python 3",
   "language": "python",
   "name": "python3"
  },
  "language_info": {
   "codemirror_mode": {
    "name": "ipython",
    "version": 3
   },
   "file_extension": ".py",
   "mimetype": "text/x-python",
   "name": "python",
   "nbconvert_exporter": "python",
   "pygments_lexer": "ipython3",
   "version": "3.8.5"
  }
 },
 "nbformat": 4,
 "nbformat_minor": 4
}
