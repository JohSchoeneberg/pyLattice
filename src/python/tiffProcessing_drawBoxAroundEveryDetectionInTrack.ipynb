{
 "cells": [
  {
   "cell_type": "code",
   "execution_count": 2,
   "metadata": {
    "collapsed": true
   },
   "outputs": [],
   "source": [
    "%matplotlib inline\n",
    "import numpy as np\n",
    "import matplotlib.pyplot as plt\n",
    "\n",
    "from numpy import genfromtxt\n",
    "\n",
    "\n",
    "import pandas as pd\n",
    "\n",
    "from mpl_toolkits import mplot3d\n",
    "#%matplotlib notebook\n",
    "\n",
    "\n",
    "\n",
    "#import cv2\n",
    "import pims\n",
    "from PIL import Image\n",
    "\n",
    "import skimage\n",
    "\n",
    "import json\n",
    "\n"
   ]
  },
  {
   "cell_type": "code",
   "execution_count": 3,
   "metadata": {
    "collapsed": true
   },
   "outputs": [],
   "source": [
    "# this is a cube as a mesh\n",
    "\n",
    "def getCubeMeshIndexes(cubeSize = 5, center=[0,0,0]):\n",
    "# this is 5 on each side of the center\n",
    "#center=np.array([224.29615185,362.37867407,45.60376889])\n",
    "    indexes = []\n",
    "    limits = np.array([-cubeSize,+cubeSize])\n",
    "    for i in range(limits[0]-2,limits[1]+2):\n",
    "        for j in  range(limits[0]-2,limits[1]+2):\n",
    "            for k in range(limits[0]-2,limits[1]+2):\n",
    "                value = 0\n",
    "                if i in (limits+center[0]) and j in (limits+center[1]) and ((k > (limits+center[2])[0]) and (k < (limits+center[2])[1])) :\n",
    "    #                print(limits+centerOfImage[0]+coord[0])\n",
    "    #                print(limits+centerOfImage[1]+coord[1])\n",
    "                    indexes.append([i,j,k])\n",
    "                if j in limits+center[1] and k in limits+center[2] and ((i > (limits+center[0])[0]) and (i < (limits+center[0])[1])) :\n",
    "                    indexes.append([i,j,k])\n",
    "                if k in limits+center[2] and i in limits+center[0] and ((j > (limits+center[1])[0]) and (j < (limits+center[1])[1])) :\n",
    "                    indexes.append([i,j,k])\n",
    "    return(indexes)"
   ]
  },
  {
   "cell_type": "markdown",
   "metadata": {},
   "source": [
    "# real world example"
   ]
  },
  {
   "cell_type": "code",
   "execution_count": 29,
   "metadata": {
    "collapsed": true
   },
   "outputs": [],
   "source": [
    "trackCoordsRaw = np.array([[ 221.4703 ,  277.9795 ,   91.38771],\n",
    "       [ 220.822  ,  277.8963 ,   90.87967],\n",
    "       [ 220.4222 ,  277.7063 ,   90.69712],\n",
    "       [ 220.3429 ,  277.4874 ,   91.01104],\n",
    "       [ 219.4553 ,  277.9116 ,   91.49389],\n",
    "       [ 219.0977 ,  278.4957 ,   90.78164],\n",
    "       [ 218.7131 ,  278.1135 ,   91.17352],\n",
    "       [ 218.3536 ,  278.8312 ,   91.38822],\n",
    "       [ 218.5388 ,  277.6865 ,   90.81555],\n",
    "       [ 217.2589 ,  278.5852 ,   90.58641],\n",
    "       [ 217.4947 ,  278.8218 ,   91.13576],\n",
    "       [ 217.6639 ,  278.8476 ,   90.03566],\n",
    "       [ 218.6794 ,  278.791  ,   90.7134 ],\n",
    "       [ 216.7301 ,  278.8924 ,   90.13244],\n",
    "       [ 216.659  ,  278.9118 ,   90.61344],\n",
    "       [ 216.0836 ,  278.6867 ,   90.43236],\n",
    "       [ 215.9097 ,  278.6498 ,   90.99632],\n",
    "       [ 216.7043 ,  278.268  ,   90.96675],\n",
    "       [ 215.9443 ,  278.4203 ,   90.98492],\n",
    "       [ 216.3498 ,  278.8052 ,   91.49843],\n",
    "       [ 216.7664 ,  280.6083 ,   91.35841],\n",
    "       [ 215.8896 ,  281.4993 ,   91.44501],\n",
    "       [ 214.6865 ,  282.2683 ,   90.65191],\n",
    "       [ 215.9946 ,  282.5424 ,   91.03349],\n",
    "       [ 215.3786 ,  282.5117 ,   90.99929],\n",
    "       [ 214.7606 ,  282.7682 ,   91.0642 ],\n",
    "       [ 214.0186 ,  282.5296 ,   90.98131],\n",
    "       [ 215.9687 ,  282.4692 ,   90.24141],\n",
    "       [ 214.7293 ,  282.5629 ,   91.01494],\n",
    "       [ 215.5661 ,  282.494  ,   91.15817],\n",
    "       [ 215.4329 ,  283.4221 ,   91.00536],\n",
    "       [ 217.2794 ,  283.5416 ,   91.29775],\n",
    "       [ 216.7965 ,  283.5243 ,   91.41277],\n",
    "       [ 217.1147 ,  284.0392 ,   91.63917],\n",
    "       [ 216.5176 ,  283.2027 ,   92.54282],\n",
    "       [ 216.4304 ,  282.8854 ,   92.48707],\n",
    "       [ 216.0332 ,  282.5824 ,   93.0929 ],\n",
    "       [ 215.5438 ,  283.1368 ,   92.96742],\n",
    "       [ 215.4624 ,  282.9822 ,   92.64409],\n",
    "       [ 215.6293 ,  282.7766 ,   92.69283],\n",
    "       [ 215.0311 ,  281.9069 ,   92.51373],\n",
    "       [ 214.3911 ,  282.4619 ,   91.71478],\n",
    "       [ 213.7178 ,  281.9959 ,   91.89774],\n",
    "       [ 213.6982 ,  281.3669 ,   91.1464 ],\n",
    "       [ 214.3382 ,  281.8259 ,   91.95675],\n",
    "       [ 212.4185 ,  281.8204 ,   91.02568],\n",
    "       [ 212.6238 ,  281.8068 ,   91.74795],\n",
    "       [ 213.1612 ,  283.46   ,   90.74298],\n",
    "       [ 213.7857 ,  284.1756 ,   90.64004],\n",
    "       [ 214.0736 ,  283.1232 ,   91.12304],\n",
    "       [ 213.6584 ,  283.44   ,   90.72756],\n",
    "       [ 212.8996 ,  283.4387 ,   89.69412],\n",
    "       [ 212.6742 ,  284.6351 ,   90.08041],\n",
    "       [ 211.9561 ,  284.6476 ,   88.88477],\n",
    "       [ 212.6792 ,  284.0583 ,   89.1079 ],\n",
    "       [ 212.07   ,  283.9421 ,   89.24052],\n",
    "       [ 212.2518 ,  284.4191 ,   88.66614],\n",
    "       [ 211.8461 ,  284.0374 ,   88.28664],\n",
    "       [ 211.3988 ,  284.0222 ,   88.64306],\n",
    "       [ 211.3633 ,  283.5286 ,   88.91398],\n",
    "       [ 211.1901 ,  283.1207 ,   89.19275],\n",
    "       [ 210.7339 ,  283.3193 ,   88.71169],\n",
    "       [ 210.9144 ,  284.2091 ,   89.88249],\n",
    "       [ 211.2933 ,  284.5225 ,   89.69967],\n",
    "       [ 211.2327 ,  285.0417 ,   90.06551],\n",
    "       [ 210.3565 ,  285.2871 ,   89.47467],\n",
    "       [ 210.9917 ,  285.3841 ,   89.06202],\n",
    "       [ 210.1969 ,  286.1176 ,   88.63071],\n",
    "       [ 211.4179 ,  286.2297 ,   88.5087 ],\n",
    "       [ 211.5519 ,  285.7297 ,   87.8305 ]])"
   ]
  },
  {
   "cell_type": "code",
   "execution_count": 30,
   "metadata": {},
   "outputs": [
    {
     "name": "stdout",
     "output_type": "stream",
     "text": [
      "[ 221.4703   277.9795    91.38771]\n",
      "[  91.38771  277.9795   221.4703 ]\n"
     ]
    }
   ],
   "source": [
    "#### warning, i have to invert all the coordinates to get back to tiff coordinates ####\n",
    "\n",
    "print(trackCoordsRaw[0])\n",
    "trackCoordsRaw[:,[0, 1,2]] = trackCoordsRaw[:,[2, 1, 0]]\n",
    "print(trackCoordsRaw[0])\n",
    "trackCoords = trackCoordsRaw.astype(int)\n"
   ]
  },
  {
   "cell_type": "code",
   "execution_count": 35,
   "metadata": {},
   "outputs": [
    {
     "name": "stdout",
     "output_type": "stream",
     "text": [
      "0\n",
      "20\n",
      "40\n",
      "60\n",
      "done\n"
     ]
    }
   ],
   "source": [
    "\n",
    "imageSize = (40, 40, 40) # this is the output from cropping by 20\n",
    "newCenterOfImage = np.array([214, 281,  90])\n",
    "newCenterOfImage = np.array([90,281,214])\n",
    "\n",
    "centerOfImage = np.array([imageSize[0]//2,imageSize[1]//2,imageSize[2]//2])-np.array([1,1,1])\n",
    "\n",
    "boxCenters = trackCoords-newCenterOfImage\n",
    "\n",
    "\n",
    "\n",
    "counter = 0\n",
    "for boxCenter in boxCenters:\n",
    "    if(counter%20 ==0):\n",
    "        print(counter)\n",
    "    image = np.zeros(imageSize)\n",
    "\n",
    "    meshIndexes = getCubeMeshIndexes()\n",
    "    meshIndexesAdjusted = meshIndexes+boxCenter+centerOfImage\n",
    "    #print('newCoordsShape',newCoords.shape)\n",
    "    #print(newCoords)\n",
    "    #print(len(newCoords))\n",
    "    #print(image.shape)\n",
    "    \n",
    "    #image[newCoords]=10\n",
    "    #print(newCoords)\n",
    "    #print('test')\n",
    "    #print(newCoords)\n",
    "    for index in meshIndexesAdjusted:\n",
    "        #print(index)\n",
    "    #    print('index',index)\n",
    "        image[index[0],index[1],index[2]]=10\n",
    "    \n",
    "    #print(image)\n",
    "    \n",
    "    data = image.astype('uint16')\n",
    "    metadata = dict(microscope='joh', shape=data.shape, dtype=data.dtype.str)\n",
    "    #print(data.shape, data.dtype, metadata['microscope'])\n",
    "    metadata = json.dumps(metadata)\n",
    "    #print(metadata)\n",
    "    \n",
    "    skimage.external.tifffile.imsave('./tmp/box_560_track_'+str(counter)+'.tif', data, description=metadata)\n",
    "    counter = counter +1;\n",
    "print('done')"
   ]
  },
  {
   "cell_type": "code",
   "execution_count": 116,
   "metadata": {
    "collapsed": true
   },
   "outputs": [],
   "source": [
    "inputDataFolder = getInputParameter(inputParameters,\"inputDataFolder\")\n",
    "outputDataFolder = getInputParameter(inputParameters,\"outputDataFolder\")\n",
    "ch0_outputDataFolder  = getInputParameter(inputParameters,\"ch0_outputDataFolder\")\n",
    "ch0_trackingCsvFilename = getInputParameter(inputParameters,\"ch0_trackingCsvFilename\")\n",
    "ch1_outputDataFolder  = getInputParameter(inputParameters,\"ch1_outputDataFolder\")\n",
    "ch1_trackingCsvFilename = getInputParameter(inputParameters,\"ch1_trackingCsvFilename\")\n",
    "\n",
    "ch0_uniqueFilenameString = getInputParameter(inputParameters,\"ch0_uniqueFilenameString\")\n",
    "ch1_uniqueFilenameString = getInputParameter(inputParameters,\"ch1_uniqueFilenameString\")\n",
    "#trackColor = getInputParameter(inputParameters,\"trackColor\")\n",
    "#trackingBildFilename = getInputParameter(inputParameters,\"trackingBildFilename\")\n",
    "#framerate_msec = float(getInputParameter(inputParameters,\"framerate_msec\"))\n",
    "movieLength = int(getInputParameter(inputParameters,\"movieLength\"))\n",
    "#print(trackColor)\n",
    "\n",
    "\n",
    "\n",
    "\n"
   ]
  },
  {
   "cell_type": "code",
   "execution_count": 239,
   "metadata": {},
   "outputs": [
    {
     "name": "stdout",
     "output_type": "stream",
     "text": [
      "[[ 31 277 297]\n",
      " [ 32 306 321]\n",
      " [ 34 314 373]\n",
      " ..., \n",
      " [145 196 248]\n",
      " [196 288 701]\n",
      " [196 342 701]]\n"
     ]
    }
   ],
   "source": [
    "folder = outputDataFolder+'/'+ch1_outputDataFolder+'/'\n",
    "\n",
    "data = pd.read_csv(folder+'puncta_1.csv',header=0)\n",
    "data.columns = [\"x\",\"y\",\"z\",\"A\"]\n",
    "#allDetectedPunctaInFirstFrame = data[['x','y','z']].values.astype(int)-np.array([1,1,1])\n",
    "#allDetectedPunctaInFirstFrame = data[['y','z','x']].values.astype(int)-np.array([1,1,1])\n",
    "#allDetectedPunctaInFirstFrame = data[['z','x','y']].values.astype(int)-np.array([1,1,1])\n",
    "allDetectedPunctaInFirstFrame = data[['z','y','x']].values.astype(int)-np.array([1,1,1])\n",
    "print(np.sort(allDetectedPunctaInFirstFrame))"
   ]
  }
 ],
 "metadata": {
  "kernelspec": {
   "display_name": "Python 3",
   "language": "python",
   "name": "python3"
  },
  "language_info": {
   "codemirror_mode": {
    "name": "ipython",
    "version": 3
   },
   "file_extension": ".py",
   "mimetype": "text/x-python",
   "name": "python",
   "nbconvert_exporter": "python",
   "pygments_lexer": "ipython3",
   "version": "3.6.3"
  }
 },
 "nbformat": 4,
 "nbformat_minor": 2
}
