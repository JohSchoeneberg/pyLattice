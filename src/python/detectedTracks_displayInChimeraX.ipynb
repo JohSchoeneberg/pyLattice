{
 "cells": [
  {
   "cell_type": "code",
   "execution_count": 35,
   "metadata": {
    "collapsed": true
   },
   "outputs": [],
   "source": [
    "%matplotlib inline\n",
    "import numpy as np\n",
    "import matplotlib.pyplot as plt\n",
    "\n",
    "from numpy import genfromtxt\n",
    "\n",
    "\n",
    "import pandas as pd\n",
    "\n",
    "from mpl_toolkits import mplot3d\n",
    "#%matplotlib notebook\n",
    "\n",
    "\n",
    "\n",
    "#import cv2\n",
    "import pims\n",
    "from PIL import Image\n",
    "\n",
    "import skimage"
   ]
  },
  {
   "cell_type": "code",
   "execution_count": 36,
   "metadata": {},
   "outputs": [
    {
     "data": {
      "text/html": [
       "<style  type=\"text/css\" >\n",
       "    #T_ea703768_265c_11e8_979e_784f438ca174row0_col0 {\n",
       "            text-align:  left;\n",
       "        }    #T_ea703768_265c_11e8_979e_784f438ca174row0_col1 {\n",
       "            text-align:  left;\n",
       "        }    #T_ea703768_265c_11e8_979e_784f438ca174row1_col0 {\n",
       "            text-align:  left;\n",
       "        }    #T_ea703768_265c_11e8_979e_784f438ca174row1_col1 {\n",
       "            text-align:  left;\n",
       "        }    #T_ea703768_265c_11e8_979e_784f438ca174row2_col0 {\n",
       "            text-align:  left;\n",
       "        }    #T_ea703768_265c_11e8_979e_784f438ca174row2_col1 {\n",
       "            text-align:  left;\n",
       "        }    #T_ea703768_265c_11e8_979e_784f438ca174row3_col0 {\n",
       "            text-align:  left;\n",
       "        }    #T_ea703768_265c_11e8_979e_784f438ca174row3_col1 {\n",
       "            text-align:  left;\n",
       "        }    #T_ea703768_265c_11e8_979e_784f438ca174row4_col0 {\n",
       "            text-align:  left;\n",
       "        }    #T_ea703768_265c_11e8_979e_784f438ca174row4_col1 {\n",
       "            text-align:  left;\n",
       "        }    #T_ea703768_265c_11e8_979e_784f438ca174row5_col0 {\n",
       "            text-align:  left;\n",
       "        }    #T_ea703768_265c_11e8_979e_784f438ca174row5_col1 {\n",
       "            text-align:  left;\n",
       "        }    #T_ea703768_265c_11e8_979e_784f438ca174row6_col0 {\n",
       "            text-align:  left;\n",
       "        }    #T_ea703768_265c_11e8_979e_784f438ca174row6_col1 {\n",
       "            text-align:  left;\n",
       "        }    #T_ea703768_265c_11e8_979e_784f438ca174row7_col0 {\n",
       "            text-align:  left;\n",
       "        }    #T_ea703768_265c_11e8_979e_784f438ca174row7_col1 {\n",
       "            text-align:  left;\n",
       "        }    #T_ea703768_265c_11e8_979e_784f438ca174row8_col0 {\n",
       "            text-align:  left;\n",
       "        }    #T_ea703768_265c_11e8_979e_784f438ca174row8_col1 {\n",
       "            text-align:  left;\n",
       "        }    #T_ea703768_265c_11e8_979e_784f438ca174row9_col0 {\n",
       "            text-align:  left;\n",
       "        }    #T_ea703768_265c_11e8_979e_784f438ca174row9_col1 {\n",
       "            text-align:  left;\n",
       "        }    #T_ea703768_265c_11e8_979e_784f438ca174row10_col0 {\n",
       "            text-align:  left;\n",
       "        }    #T_ea703768_265c_11e8_979e_784f438ca174row10_col1 {\n",
       "            text-align:  left;\n",
       "        }    #T_ea703768_265c_11e8_979e_784f438ca174row11_col0 {\n",
       "            text-align:  left;\n",
       "        }    #T_ea703768_265c_11e8_979e_784f438ca174row11_col1 {\n",
       "            text-align:  left;\n",
       "        }    #T_ea703768_265c_11e8_979e_784f438ca174row12_col0 {\n",
       "            text-align:  left;\n",
       "        }    #T_ea703768_265c_11e8_979e_784f438ca174row12_col1 {\n",
       "            text-align:  left;\n",
       "        }    #T_ea703768_265c_11e8_979e_784f438ca174row13_col0 {\n",
       "            text-align:  left;\n",
       "        }    #T_ea703768_265c_11e8_979e_784f438ca174row13_col1 {\n",
       "            text-align:  left;\n",
       "        }    #T_ea703768_265c_11e8_979e_784f438ca174row14_col0 {\n",
       "            text-align:  left;\n",
       "        }    #T_ea703768_265c_11e8_979e_784f438ca174row14_col1 {\n",
       "            text-align:  left;\n",
       "        }    #T_ea703768_265c_11e8_979e_784f438ca174row15_col0 {\n",
       "            text-align:  left;\n",
       "        }    #T_ea703768_265c_11e8_979e_784f438ca174row15_col1 {\n",
       "            text-align:  left;\n",
       "        }    #T_ea703768_265c_11e8_979e_784f438ca174row16_col0 {\n",
       "            text-align:  left;\n",
       "        }    #T_ea703768_265c_11e8_979e_784f438ca174row16_col1 {\n",
       "            text-align:  left;\n",
       "        }    #T_ea703768_265c_11e8_979e_784f438ca174row17_col0 {\n",
       "            text-align:  left;\n",
       "        }    #T_ea703768_265c_11e8_979e_784f438ca174row17_col1 {\n",
       "            text-align:  left;\n",
       "        }    #T_ea703768_265c_11e8_979e_784f438ca174row18_col0 {\n",
       "            text-align:  left;\n",
       "        }    #T_ea703768_265c_11e8_979e_784f438ca174row18_col1 {\n",
       "            text-align:  left;\n",
       "        }</style>  \n",
       "<table id=\"T_ea703768_265c_11e8_979e_784f438ca174\" > \n",
       "<thead>    <tr> \n",
       "        <th class=\"blank level0\" ></th> \n",
       "        <th class=\"col_heading level0 col0\" >key</th> \n",
       "        <th class=\"col_heading level0 col1\" >value</th> \n",
       "    </tr></thead> \n",
       "<tbody>    <tr> \n",
       "        <th id=\"T_ea703768_265c_11e8_979e_784f438ca174level0_row0\" class=\"row_heading level0 row0\" >0</th> \n",
       "        <td id=\"T_ea703768_265c_11e8_979e_784f438ca174row0_col0\" class=\"data row0 col0\" >inputDataFolder</td> \n",
       "        <td id=\"T_ea703768_265c_11e8_979e_784f438ca174row0_col1\" class=\"data row0 col1\" > /Users/johannesschoeneberg/Desktop/PostDoc/drubin_lab/organoids_lattice_data/data_/2016_04_25Daphne/Sample3_CD_10ulMG/Position5_Basal_apical_ObjScan/matlab_decon</td> \n",
       "    </tr>    <tr> \n",
       "        <th id=\"T_ea703768_265c_11e8_979e_784f438ca174level0_row1\" class=\"row_heading level0 row1\" >1</th> \n",
       "        <td id=\"T_ea703768_265c_11e8_979e_784f438ca174row1_col0\" class=\"data row1 col0\" >outputDataFolder</td> \n",
       "        <td id=\"T_ea703768_265c_11e8_979e_784f438ca174row1_col1\" class=\"data row1 col1\" > /Users/johannesschoeneberg/Desktop/PostDoc/drubin_lab/organoids_lattice_data/data_/2016_04_25Daphne/Sample3_CD_10ulMG/Position5_Basal_apical_ObjScan/matlab_decon/output</td> \n",
       "    </tr>    <tr> \n",
       "        <th id=\"T_ea703768_265c_11e8_979e_784f438ca174level0_row2\" class=\"row_heading level0 row2\" >2</th> \n",
       "        <td id=\"T_ea703768_265c_11e8_979e_784f438ca174row2_col0\" class=\"data row2 col0\" >movieLength</td> \n",
       "        <td id=\"T_ea703768_265c_11e8_979e_784f438ca174row2_col1\" class=\"data row2 col1\" > 70</td> \n",
       "    </tr>    <tr> \n",
       "        <th id=\"T_ea703768_265c_11e8_979e_784f438ca174level0_row3\" class=\"row_heading level0 row3\" >3</th> \n",
       "        <td id=\"T_ea703768_265c_11e8_979e_784f438ca174row3_col0\" class=\"data row3 col0\" >allowedMaxNumDetectionsPerFrame</td> \n",
       "        <td id=\"T_ea703768_265c_11e8_979e_784f438ca174row3_col1\" class=\"data row3 col1\" > 3000</td> \n",
       "    </tr>    <tr> \n",
       "        <th id=\"T_ea703768_265c_11e8_979e_784f438ca174level0_row4\" class=\"row_heading level0 row4\" >4</th> \n",
       "        <td id=\"T_ea703768_265c_11e8_979e_784f438ca174row4_col0\" class=\"data row4 col0\" >framerate_msec</td> \n",
       "        <td id=\"T_ea703768_265c_11e8_979e_784f438ca174row4_col1\" class=\"data row4 col1\" > 5689</td> \n",
       "    </tr>    <tr> \n",
       "        <th id=\"T_ea703768_265c_11e8_979e_784f438ca174level0_row5\" class=\"row_heading level0 row5\" >5</th> \n",
       "        <td id=\"T_ea703768_265c_11e8_979e_784f438ca174row5_col0\" class=\"data row5 col0\" >ch0_outputDataFolder</td> \n",
       "        <td id=\"T_ea703768_265c_11e8_979e_784f438ca174row5_col1\" class=\"data row5 col1\" > output_488</td> \n",
       "    </tr>    <tr> \n",
       "        <th id=\"T_ea703768_265c_11e8_979e_784f438ca174level0_row6\" class=\"row_heading level0 row6\" >6</th> \n",
       "        <td id=\"T_ea703768_265c_11e8_979e_784f438ca174row6_col0\" class=\"data row6 col0\" >ch0_uniqueFilenameString</td> \n",
       "        <td id=\"T_ea703768_265c_11e8_979e_784f438ca174row6_col1\" class=\"data row6 col1\" > 488nm_0</td> \n",
       "    </tr>    <tr> \n",
       "        <th id=\"T_ea703768_265c_11e8_979e_784f438ca174level0_row7\" class=\"row_heading level0 row7\" >7</th> \n",
       "        <td id=\"T_ea703768_265c_11e8_979e_784f438ca174row7_col0\" class=\"data row7 col0\" >ch0_detectionFilename</td> \n",
       "        <td id=\"T_ea703768_265c_11e8_979e_784f438ca174row7_col1\" class=\"data row7 col1\" > Detection3D.mat</td> \n",
       "    </tr>    <tr> \n",
       "        <th id=\"T_ea703768_265c_11e8_979e_784f438ca174level0_row8\" class=\"row_heading level0 row8\" >8</th> \n",
       "        <td id=\"T_ea703768_265c_11e8_979e_784f438ca174row8_col0\" class=\"data row8 col0\" >ch0_trackingFilename</td> \n",
       "        <td id=\"T_ea703768_265c_11e8_979e_784f438ca174row8_col1\" class=\"data row8 col1\" > trackedFeatures.mat</td> \n",
       "    </tr>    <tr> \n",
       "        <th id=\"T_ea703768_265c_11e8_979e_784f438ca174level0_row9\" class=\"row_heading level0 row9\" >9</th> \n",
       "        <td id=\"T_ea703768_265c_11e8_979e_784f438ca174row9_col0\" class=\"data row9 col0\" >ch0_trackingCsvFilename</td> \n",
       "        <td id=\"T_ea703768_265c_11e8_979e_784f438ca174row9_col1\" class=\"data row9 col1\" > trackedFeatures.csv</td> \n",
       "    </tr>    <tr> \n",
       "        <th id=\"T_ea703768_265c_11e8_979e_784f438ca174level0_row10\" class=\"row_heading level0 row10\" >10</th> \n",
       "        <td id=\"T_ea703768_265c_11e8_979e_784f438ca174row10_col0\" class=\"data row10 col0\" >ch0_trackColor</td> \n",
       "        <td id=\"T_ea703768_265c_11e8_979e_784f438ca174row10_col1\" class=\"data row10 col1\" > green</td> \n",
       "    </tr>    <tr> \n",
       "        <th id=\"T_ea703768_265c_11e8_979e_784f438ca174level0_row11\" class=\"row_heading level0 row11\" >11</th> \n",
       "        <td id=\"T_ea703768_265c_11e8_979e_784f438ca174row11_col0\" class=\"data row11 col0\" >ch0_trackingBildFilename</td> \n",
       "        <td id=\"T_ea703768_265c_11e8_979e_784f438ca174row11_col1\" class=\"data row11 col1\" > tracks.bild</td> \n",
       "    </tr>    <tr> \n",
       "        <th id=\"T_ea703768_265c_11e8_979e_784f438ca174level0_row12\" class=\"row_heading level0 row12\" >12</th> \n",
       "        <td id=\"T_ea703768_265c_11e8_979e_784f438ca174row12_col0\" class=\"data row12 col0\" >ch1_outputDataFolder</td> \n",
       "        <td id=\"T_ea703768_265c_11e8_979e_784f438ca174row12_col1\" class=\"data row12 col1\" > output_560</td> \n",
       "    </tr>    <tr> \n",
       "        <th id=\"T_ea703768_265c_11e8_979e_784f438ca174level0_row13\" class=\"row_heading level0 row13\" >13</th> \n",
       "        <td id=\"T_ea703768_265c_11e8_979e_784f438ca174row13_col0\" class=\"data row13 col0\" >ch1_uniqueFilenameString</td> \n",
       "        <td id=\"T_ea703768_265c_11e8_979e_784f438ca174row13_col1\" class=\"data row13 col1\" > 560nm_0</td> \n",
       "    </tr>    <tr> \n",
       "        <th id=\"T_ea703768_265c_11e8_979e_784f438ca174level0_row14\" class=\"row_heading level0 row14\" >14</th> \n",
       "        <td id=\"T_ea703768_265c_11e8_979e_784f438ca174row14_col0\" class=\"data row14 col0\" >ch1_detectionFilename</td> \n",
       "        <td id=\"T_ea703768_265c_11e8_979e_784f438ca174row14_col1\" class=\"data row14 col1\" > Detection3D.mat</td> \n",
       "    </tr>    <tr> \n",
       "        <th id=\"T_ea703768_265c_11e8_979e_784f438ca174level0_row15\" class=\"row_heading level0 row15\" >15</th> \n",
       "        <td id=\"T_ea703768_265c_11e8_979e_784f438ca174row15_col0\" class=\"data row15 col0\" >ch1_trackingFilename</td> \n",
       "        <td id=\"T_ea703768_265c_11e8_979e_784f438ca174row15_col1\" class=\"data row15 col1\" > trackedFeatures.mat</td> \n",
       "    </tr>    <tr> \n",
       "        <th id=\"T_ea703768_265c_11e8_979e_784f438ca174level0_row16\" class=\"row_heading level0 row16\" >16</th> \n",
       "        <td id=\"T_ea703768_265c_11e8_979e_784f438ca174row16_col0\" class=\"data row16 col0\" >ch1_trackingCsvFilename</td> \n",
       "        <td id=\"T_ea703768_265c_11e8_979e_784f438ca174row16_col1\" class=\"data row16 col1\" > trackedFeatures.csv</td> \n",
       "    </tr>    <tr> \n",
       "        <th id=\"T_ea703768_265c_11e8_979e_784f438ca174level0_row17\" class=\"row_heading level0 row17\" >17</th> \n",
       "        <td id=\"T_ea703768_265c_11e8_979e_784f438ca174row17_col0\" class=\"data row17 col0\" >ch1_trackColor</td> \n",
       "        <td id=\"T_ea703768_265c_11e8_979e_784f438ca174row17_col1\" class=\"data row17 col1\" > purple</td> \n",
       "    </tr>    <tr> \n",
       "        <th id=\"T_ea703768_265c_11e8_979e_784f438ca174level0_row18\" class=\"row_heading level0 row18\" >18</th> \n",
       "        <td id=\"T_ea703768_265c_11e8_979e_784f438ca174row18_col0\" class=\"data row18 col0\" >ch1_trackingBildFilename</td> \n",
       "        <td id=\"T_ea703768_265c_11e8_979e_784f438ca174row18_col1\" class=\"data row18 col1\" > tracks.bild</td> \n",
       "    </tr></tbody> \n",
       "</table> "
      ],
      "text/plain": [
       "<pandas.io.formats.style.Styler at 0x113d50ef0>"
      ]
     },
     "execution_count": 36,
     "metadata": {},
     "output_type": "execute_result"
    }
   ],
   "source": [
    "inputParameters = pd.read_csv('../_inputParameters.csv',names=['key','value'])\n",
    "inputParameters.style.set_properties(**{'text-align': 'left'})\n",
    "#inputParameters"
   ]
  },
  {
   "cell_type": "code",
   "execution_count": 37,
   "metadata": {
    "collapsed": true
   },
   "outputs": [],
   "source": [
    "def getInputParameter(inputParametersPandas,key):\n",
    "    #this locates the row, gets the result out of its array form and strips whitespaces away\n",
    "    return (((inputParametersPandas.loc[inputParametersPandas['key'] == key]).values)[0,1]).strip()"
   ]
  },
  {
   "cell_type": "code",
   "execution_count": 77,
   "metadata": {
    "collapsed": true
   },
   "outputs": [],
   "source": [
    "inputDataFolder = getInputParameter(inputParameters,\"inputDataFolder\")\n",
    "outputDataFolder = getInputParameter(inputParameters,\"outputDataFolder\")\n",
    "ch0_outputDataFolder  = getInputParameter(inputParameters,\"ch0_outputDataFolder\")\n",
    "ch0_trackingCsvFilename = getInputParameter(inputParameters,\"ch0_trackingCsvFilename\")\n",
    "ch1_outputDataFolder  = getInputParameter(inputParameters,\"ch1_outputDataFolder\")\n",
    "ch1_trackingCsvFilename = getInputParameter(inputParameters,\"ch1_trackingCsvFilename\")\n",
    "\n",
    "ch0_uniqueFilenameString = getInputParameter(inputParameters,\"ch0_uniqueFilenameString\")\n",
    "ch1_uniqueFilenameString = getInputParameter(inputParameters,\"ch1_uniqueFilenameString\")\n",
    "#trackColor = getInputParameter(inputParameters,\"trackColor\")\n",
    "#trackingBildFilename = getInputParameter(inputParameters,\"trackingBildFilename\")\n",
    "#framerate_msec = float(getInputParameter(inputParameters,\"framerate_msec\"))\n",
    "movieLength = int(getInputParameter(inputParameters,\"movieLength\"))\n",
    "#print(trackColor)\n",
    "\n",
    "\n"
   ]
  },
  {
   "cell_type": "code",
   "execution_count": 78,
   "metadata": {},
   "outputs": [
    {
     "name": "stdout",
     "output_type": "stream",
     "text": [
      "70\n"
     ]
    }
   ],
   "source": [
    "print(movieLength)"
   ]
  },
  {
   "cell_type": "code",
   "execution_count": null,
   "metadata": {
    "collapsed": true
   },
   "outputs": [],
   "source": []
  },
  {
   "cell_type": "code",
   "execution_count": null,
   "metadata": {
    "collapsed": true
   },
   "outputs": [],
   "source": []
  },
  {
   "cell_type": "code",
   "execution_count": null,
   "metadata": {
    "collapsed": true
   },
   "outputs": [],
   "source": []
  },
  {
   "cell_type": "code",
   "execution_count": null,
   "metadata": {
    "collapsed": true
   },
   "outputs": [],
   "source": []
  },
  {
   "cell_type": "code",
   "execution_count": null,
   "metadata": {
    "collapsed": true
   },
   "outputs": [],
   "source": []
  },
  {
   "cell_type": "code",
   "execution_count": null,
   "metadata": {
    "collapsed": true
   },
   "outputs": [],
   "source": [
    "# get the lattice data frames"
   ]
  },
  {
   "cell_type": "code",
   "execution_count": 79,
   "metadata": {},
   "outputs": [
    {
     "name": "stdout",
     "output_type": "stream",
     "text": [
      "--- folder searched in: /Users/johannesschoeneberg/Desktop/PostDoc/drubin_lab/organoids_lattice_data/data_/2016_04_25Daphne/Sample3_CD_10ulMG/Position5_Basal_apical_ObjScan/matlab_decon\n",
      "--- example of files found: S3P5_488_150mw_560_300mw_Objdz150nm_ch1_CAM1_stack0000_560nm_0000000msec_0090116101msecAbs_000x_000y_003z_0000t_decon.tif\n",
      "--- number of files found: 70\n"
     ]
    }
   ],
   "source": [
    "from os import listdir\n",
    "from os.path import isfile, join\n",
    "import fnmatch\n",
    "\n",
    "folder = inputDataFolder\n",
    "print('--- folder searched in: '+folder)\n",
    "\n",
    "filesOfInterest = []\n",
    "for file in listdir(inputDataFolder):\n",
    "    if isfile(join(inputDataFolder, file)) and fnmatch.fnmatch(file, '*'+ch1_uniqueFilenameString+'*.tif'):\n",
    "        filesOfInterest.append(file)\n",
    "filesOfInterest=np.sort(filesOfInterest)\n",
    "\n",
    "print('--- example of files found: '+filesOfInterest[0])\n",
    "print('--- number of files found: '+str(len(filesOfInterest)))"
   ]
  },
  {
   "cell_type": "code",
   "execution_count": 90,
   "metadata": {},
   "outputs": [
    {
     "name": "stdout",
     "output_type": "stream",
     "text": [
      "/Users/johannesschoeneberg/Desktop/PostDoc/drubin_lab/organoids_lattice_data/data_/2016_04_25Daphne/Sample3_CD_10ulMG/Position5_Basal_apical_ObjScan/matlab_decon/S3P5_488_150mw_560_300mw_Objdz150nm_ch1_CAM1_stack0010_560nm_0056891msec_0090172992msecAbs_000x_000y_003z_0000t_decon.tif\n",
      "(201, 704, 600)\n"
     ]
    },
    {
     "data": {
      "text/plain": [
       "<matplotlib.image.AxesImage at 0x819311dd8>"
      ]
     },
     "execution_count": 90,
     "metadata": {},
     "output_type": "execute_result"
    },
    {
     "data": {
      "image/png": "[encoded data removed]",
      "text/plain": [
       "<matplotlib.figure.Figure at 0x818c94358>"
      ]
     },
     "metadata": {},
     "output_type": "display_data"
    }
   ],
   "source": [
    "path = inputDataFolder+'/'+filesOfInterest[10]\n",
    "print(path)\n",
    "latticeMovieFrame = skimage.external.tifffile.imread(inputDataFolder+'/'+filesOfInterest[10])\n",
    "print(latticeMovieFrame.shape)\n",
    "plt.imshow(latticeMovieFrame[50])"
   ]
  },
  {
   "cell_type": "code",
   "execution_count": 81,
   "metadata": {},
   "outputs": [
    {
     "name": "stdout",
     "output_type": "stream",
     "text": [
      "[224 362  45]\n"
     ]
    }
   ],
   "source": [
    "center=np.array([224.29615185,362.37867407,45.60376889])\n",
    "centerFirstFrame=np.array([ 230.4449 ,  360.2939 ,   46.78298])\n",
    "center11=np.array([ 225.5096 ,  362.1427 ,   44.99918])\n",
    "print(center.astype(int))"
   ]
  },
  {
   "cell_type": "code",
   "execution_count": 82,
   "metadata": {
    "collapsed": true
   },
   "outputs": [],
   "source": [
    "def cropLatticeFrame(frame,center,margin):\n",
    "    zMax,yMax,xMax = frame.shape\n",
    "    startx = max(center[0]-margin[0],0)\n",
    "    endx = min(center[0]+margin[0],xMax)\n",
    "    \n",
    "    starty = max(center[1]-margin[1],0)\n",
    "    endy = min(center[1]+margin[1],yMax)\n",
    "    \n",
    "    startz = max(center[2]-margin[2],0)\n",
    "    endz = min(center[2]+margin[2],xMax)\n",
    "    \n",
    "    return frame[startz:endz,starty:endy,startx:endx]"
   ]
  },
  {
   "cell_type": "code",
   "execution_count": null,
   "metadata": {
    "collapsed": true
   },
   "outputs": [],
   "source": []
  },
  {
   "cell_type": "code",
   "execution_count": null,
   "metadata": {
    "collapsed": true
   },
   "outputs": [],
   "source": []
  },
  {
   "cell_type": "code",
   "execution_count": 76,
   "metadata": {},
   "outputs": [
    {
     "name": "stdout",
     "output_type": "stream",
     "text": [
      "(40, 40, 40)\n"
     ]
    }
   ],
   "source": [
    "cropped = cropLatticeFrame(latticeMovieFrame,center11.astype(int),[100,100,100])\n",
    "skimage.external.tifffile.imsave('./cropped_100.tif', cropped)\n",
    "\n",
    "cropped = cropLatticeFrame(latticeMovieFrame,center11.astype(int),[20,20,20])\n",
    "skimage.external.tifffile.imsave('./cropped_20.tif', cropped)\n",
    "print(cropped.shape)\n",
    "\n",
    "cropped = cropLatticeFrame(latticeMovieFrame,center11.astype(int),[5,5,5])\n",
    "skimage.external.tifffile.imsave('./cropped_5.tif', cropped)\n",
    "\n",
    "\n",
    "\n",
    "skimage.external.tifffile.imsave('./cropped_3Frames.tif', np.array([cropped,cropped,cropped]))"
   ]
  },
  {
   "cell_type": "code",
   "execution_count": null,
   "metadata": {
    "collapsed": true
   },
   "outputs": [],
   "source": [
    "# display a whole image series"
   ]
  },
  {
   "cell_type": "code",
   "execution_count": 91,
   "metadata": {},
   "outputs": [
    {
     "name": "stdout",
     "output_type": "stream",
     "text": [
      "0\n",
      "/Users/johannesschoeneberg/Desktop/PostDoc/drubin_lab/organoids_lattice_data/data_/2016_04_25Daphne/Sample3_CD_10ulMG/Position5_Basal_apical_ObjScan/matlab_decon/S3P5_488_150mw_560_300mw_Objdz150nm_ch1_CAM1_stack0000_560nm_0000000msec_0090116101msecAbs_000x_000y_003z_0000t_decon.tif\n",
      "1\n",
      "/Users/johannesschoeneberg/Desktop/PostDoc/drubin_lab/organoids_lattice_data/data_/2016_04_25Daphne/Sample3_CD_10ulMG/Position5_Basal_apical_ObjScan/matlab_decon/S3P5_488_150mw_560_300mw_Objdz150nm_ch1_CAM1_stack0001_560nm_0005689msec_0090121790msecAbs_000x_000y_003z_0000t_decon.tif\n",
      "2\n",
      "/Users/johannesschoeneberg/Desktop/PostDoc/drubin_lab/organoids_lattice_data/data_/2016_04_25Daphne/Sample3_CD_10ulMG/Position5_Basal_apical_ObjScan/matlab_decon/S3P5_488_150mw_560_300mw_Objdz150nm_ch1_CAM1_stack0002_560nm_0011378msec_0090127479msecAbs_000x_000y_003z_0000t_decon.tif\n",
      "3\n",
      "/Users/johannesschoeneberg/Desktop/PostDoc/drubin_lab/organoids_lattice_data/data_/2016_04_25Daphne/Sample3_CD_10ulMG/Position5_Basal_apical_ObjScan/matlab_decon/S3P5_488_150mw_560_300mw_Objdz150nm_ch1_CAM1_stack0003_560nm_0017067msec_0090133168msecAbs_000x_000y_003z_0000t_decon.tif\n",
      "4\n",
      "/Users/johannesschoeneberg/Desktop/PostDoc/drubin_lab/organoids_lattice_data/data_/2016_04_25Daphne/Sample3_CD_10ulMG/Position5_Basal_apical_ObjScan/matlab_decon/S3P5_488_150mw_560_300mw_Objdz150nm_ch1_CAM1_stack0004_560nm_0022756msec_0090138857msecAbs_000x_000y_003z_0000t_decon.tif\n",
      "5\n",
      "/Users/johannesschoeneberg/Desktop/PostDoc/drubin_lab/organoids_lattice_data/data_/2016_04_25Daphne/Sample3_CD_10ulMG/Position5_Basal_apical_ObjScan/matlab_decon/S3P5_488_150mw_560_300mw_Objdz150nm_ch1_CAM1_stack0005_560nm_0028446msec_0090144547msecAbs_000x_000y_003z_0000t_decon.tif\n",
      "6\n",
      "/Users/johannesschoeneberg/Desktop/PostDoc/drubin_lab/organoids_lattice_data/data_/2016_04_25Daphne/Sample3_CD_10ulMG/Position5_Basal_apical_ObjScan/matlab_decon/S3P5_488_150mw_560_300mw_Objdz150nm_ch1_CAM1_stack0006_560nm_0034135msec_0090150236msecAbs_000x_000y_003z_0000t_decon.tif\n",
      "7\n",
      "/Users/johannesschoeneberg/Desktop/PostDoc/drubin_lab/organoids_lattice_data/data_/2016_04_25Daphne/Sample3_CD_10ulMG/Position5_Basal_apical_ObjScan/matlab_decon/S3P5_488_150mw_560_300mw_Objdz150nm_ch1_CAM1_stack0007_560nm_0039824msec_0090155925msecAbs_000x_000y_003z_0000t_decon.tif\n",
      "8\n",
      "/Users/johannesschoeneberg/Desktop/PostDoc/drubin_lab/organoids_lattice_data/data_/2016_04_25Daphne/Sample3_CD_10ulMG/Position5_Basal_apical_ObjScan/matlab_decon/S3P5_488_150mw_560_300mw_Objdz150nm_ch1_CAM1_stack0008_560nm_0045513msec_0090161614msecAbs_000x_000y_003z_0000t_decon.tif\n",
      "9\n",
      "/Users/johannesschoeneberg/Desktop/PostDoc/drubin_lab/organoids_lattice_data/data_/2016_04_25Daphne/Sample3_CD_10ulMG/Position5_Basal_apical_ObjScan/matlab_decon/S3P5_488_150mw_560_300mw_Objdz150nm_ch1_CAM1_stack0009_560nm_0051202msec_0090167303msecAbs_000x_000y_003z_0000t_decon.tif\n",
      "10\n",
      "/Users/johannesschoeneberg/Desktop/PostDoc/drubin_lab/organoids_lattice_data/data_/2016_04_25Daphne/Sample3_CD_10ulMG/Position5_Basal_apical_ObjScan/matlab_decon/S3P5_488_150mw_560_300mw_Objdz150nm_ch1_CAM1_stack0010_560nm_0056891msec_0090172992msecAbs_000x_000y_003z_0000t_decon.tif\n",
      "11\n",
      "/Users/johannesschoeneberg/Desktop/PostDoc/drubin_lab/organoids_lattice_data/data_/2016_04_25Daphne/Sample3_CD_10ulMG/Position5_Basal_apical_ObjScan/matlab_decon/S3P5_488_150mw_560_300mw_Objdz150nm_ch1_CAM1_stack0011_560nm_0062580msec_0090178681msecAbs_000x_000y_003z_0000t_decon.tif\n",
      "12\n",
      "/Users/johannesschoeneberg/Desktop/PostDoc/drubin_lab/organoids_lattice_data/data_/2016_04_25Daphne/Sample3_CD_10ulMG/Position5_Basal_apical_ObjScan/matlab_decon/S3P5_488_150mw_560_300mw_Objdz150nm_ch1_CAM1_stack0012_560nm_0068269msec_0090184370msecAbs_000x_000y_003z_0000t_decon.tif\n",
      "13\n",
      "/Users/johannesschoeneberg/Desktop/PostDoc/drubin_lab/organoids_lattice_data/data_/2016_04_25Daphne/Sample3_CD_10ulMG/Position5_Basal_apical_ObjScan/matlab_decon/S3P5_488_150mw_560_300mw_Objdz150nm_ch1_CAM1_stack0013_560nm_0073958msec_0090190059msecAbs_000x_000y_003z_0000t_decon.tif\n",
      "14\n",
      "/Users/johannesschoeneberg/Desktop/PostDoc/drubin_lab/organoids_lattice_data/data_/2016_04_25Daphne/Sample3_CD_10ulMG/Position5_Basal_apical_ObjScan/matlab_decon/S3P5_488_150mw_560_300mw_Objdz150nm_ch1_CAM1_stack0014_560nm_0079647msec_0090195748msecAbs_000x_000y_003z_0000t_decon.tif\n",
      "15\n",
      "/Users/johannesschoeneberg/Desktop/PostDoc/drubin_lab/organoids_lattice_data/data_/2016_04_25Daphne/Sample3_CD_10ulMG/Position5_Basal_apical_ObjScan/matlab_decon/S3P5_488_150mw_560_300mw_Objdz150nm_ch1_CAM1_stack0015_560nm_0085336msec_0090201437msecAbs_000x_000y_003z_0000t_decon.tif\n",
      "16\n",
      "/Users/johannesschoeneberg/Desktop/PostDoc/drubin_lab/organoids_lattice_data/data_/2016_04_25Daphne/Sample3_CD_10ulMG/Position5_Basal_apical_ObjScan/matlab_decon/S3P5_488_150mw_560_300mw_Objdz150nm_ch1_CAM1_stack0016_560nm_0091025msec_0090207126msecAbs_000x_000y_003z_0000t_decon.tif\n",
      "17\n",
      "/Users/johannesschoeneberg/Desktop/PostDoc/drubin_lab/organoids_lattice_data/data_/2016_04_25Daphne/Sample3_CD_10ulMG/Position5_Basal_apical_ObjScan/matlab_decon/S3P5_488_150mw_560_300mw_Objdz150nm_ch1_CAM1_stack0017_560nm_0096714msec_0090212815msecAbs_000x_000y_003z_0000t_decon.tif\n",
      "18\n",
      "/Users/johannesschoeneberg/Desktop/PostDoc/drubin_lab/organoids_lattice_data/data_/2016_04_25Daphne/Sample3_CD_10ulMG/Position5_Basal_apical_ObjScan/matlab_decon/S3P5_488_150mw_560_300mw_Objdz150nm_ch1_CAM1_stack0018_560nm_0102404msec_0090218505msecAbs_000x_000y_003z_0000t_decon.tif\n",
      "19\n",
      "/Users/johannesschoeneberg/Desktop/PostDoc/drubin_lab/organoids_lattice_data/data_/2016_04_25Daphne/Sample3_CD_10ulMG/Position5_Basal_apical_ObjScan/matlab_decon/S3P5_488_150mw_560_300mw_Objdz150nm_ch1_CAM1_stack0019_560nm_0108093msec_0090224194msecAbs_000x_000y_003z_0000t_decon.tif\n",
      "20\n",
      "/Users/johannesschoeneberg/Desktop/PostDoc/drubin_lab/organoids_lattice_data/data_/2016_04_25Daphne/Sample3_CD_10ulMG/Position5_Basal_apical_ObjScan/matlab_decon/S3P5_488_150mw_560_300mw_Objdz150nm_ch1_CAM1_stack0020_560nm_0113782msec_0090229883msecAbs_000x_000y_003z_0000t_decon.tif\n",
      "21\n",
      "/Users/johannesschoeneberg/Desktop/PostDoc/drubin_lab/organoids_lattice_data/data_/2016_04_25Daphne/Sample3_CD_10ulMG/Position5_Basal_apical_ObjScan/matlab_decon/S3P5_488_150mw_560_300mw_Objdz150nm_ch1_CAM1_stack0021_560nm_0119471msec_0090235572msecAbs_000x_000y_003z_0000t_decon.tif\n",
      "22\n",
      "/Users/johannesschoeneberg/Desktop/PostDoc/drubin_lab/organoids_lattice_data/data_/2016_04_25Daphne/Sample3_CD_10ulMG/Position5_Basal_apical_ObjScan/matlab_decon/S3P5_488_150mw_560_300mw_Objdz150nm_ch1_CAM1_stack0022_560nm_0125160msec_0090241261msecAbs_000x_000y_003z_0000t_decon.tif\n",
      "23\n",
      "/Users/johannesschoeneberg/Desktop/PostDoc/drubin_lab/organoids_lattice_data/data_/2016_04_25Daphne/Sample3_CD_10ulMG/Position5_Basal_apical_ObjScan/matlab_decon/S3P5_488_150mw_560_300mw_Objdz150nm_ch1_CAM1_stack0023_560nm_0130849msec_0090246950msecAbs_000x_000y_003z_0000t_decon.tif\n",
      "24\n",
      "/Users/johannesschoeneberg/Desktop/PostDoc/drubin_lab/organoids_lattice_data/data_/2016_04_25Daphne/Sample3_CD_10ulMG/Position5_Basal_apical_ObjScan/matlab_decon/S3P5_488_150mw_560_300mw_Objdz150nm_ch1_CAM1_stack0024_560nm_0136538msec_0090252639msecAbs_000x_000y_003z_0000t_decon.tif\n",
      "25\n",
      "/Users/johannesschoeneberg/Desktop/PostDoc/drubin_lab/organoids_lattice_data/data_/2016_04_25Daphne/Sample3_CD_10ulMG/Position5_Basal_apical_ObjScan/matlab_decon/S3P5_488_150mw_560_300mw_Objdz150nm_ch1_CAM1_stack0025_560nm_0142227msec_0090258328msecAbs_000x_000y_003z_0000t_decon.tif\n",
      "26\n",
      "/Users/johannesschoeneberg/Desktop/PostDoc/drubin_lab/organoids_lattice_data/data_/2016_04_25Daphne/Sample3_CD_10ulMG/Position5_Basal_apical_ObjScan/matlab_decon/S3P5_488_150mw_560_300mw_Objdz150nm_ch1_CAM1_stack0026_560nm_0147916msec_0090264017msecAbs_000x_000y_003z_0000t_decon.tif\n",
      "27\n",
      "/Users/johannesschoeneberg/Desktop/PostDoc/drubin_lab/organoids_lattice_data/data_/2016_04_25Daphne/Sample3_CD_10ulMG/Position5_Basal_apical_ObjScan/matlab_decon/S3P5_488_150mw_560_300mw_Objdz150nm_ch1_CAM1_stack0027_560nm_0153605msec_0090269706msecAbs_000x_000y_003z_0000t_decon.tif\n",
      "28\n",
      "/Users/johannesschoeneberg/Desktop/PostDoc/drubin_lab/organoids_lattice_data/data_/2016_04_25Daphne/Sample3_CD_10ulMG/Position5_Basal_apical_ObjScan/matlab_decon/S3P5_488_150mw_560_300mw_Objdz150nm_ch1_CAM1_stack0028_560nm_0159294msec_0090275395msecAbs_000x_000y_003z_0000t_decon.tif\n"
     ]
    },
    {
     "name": "stdout",
     "output_type": "stream",
     "text": [
      "29\n",
      "/Users/johannesschoeneberg/Desktop/PostDoc/drubin_lab/organoids_lattice_data/data_/2016_04_25Daphne/Sample3_CD_10ulMG/Position5_Basal_apical_ObjScan/matlab_decon/S3P5_488_150mw_560_300mw_Objdz150nm_ch1_CAM1_stack0029_560nm_0164983msec_0090281084msecAbs_000x_000y_003z_0000t_decon.tif\n",
      "30\n",
      "/Users/johannesschoeneberg/Desktop/PostDoc/drubin_lab/organoids_lattice_data/data_/2016_04_25Daphne/Sample3_CD_10ulMG/Position5_Basal_apical_ObjScan/matlab_decon/S3P5_488_150mw_560_300mw_Objdz150nm_ch1_CAM1_stack0030_560nm_0170672msec_0090286773msecAbs_000x_000y_003z_0000t_decon.tif\n",
      "31\n",
      "/Users/johannesschoeneberg/Desktop/PostDoc/drubin_lab/organoids_lattice_data/data_/2016_04_25Daphne/Sample3_CD_10ulMG/Position5_Basal_apical_ObjScan/matlab_decon/S3P5_488_150mw_560_300mw_Objdz150nm_ch1_CAM1_stack0031_560nm_0176362msec_0090292463msecAbs_000x_000y_003z_0000t_decon.tif\n",
      "32\n",
      "/Users/johannesschoeneberg/Desktop/PostDoc/drubin_lab/organoids_lattice_data/data_/2016_04_25Daphne/Sample3_CD_10ulMG/Position5_Basal_apical_ObjScan/matlab_decon/S3P5_488_150mw_560_300mw_Objdz150nm_ch1_CAM1_stack0032_560nm_0182051msec_0090298152msecAbs_000x_000y_003z_0000t_decon.tif\n",
      "33\n",
      "/Users/johannesschoeneberg/Desktop/PostDoc/drubin_lab/organoids_lattice_data/data_/2016_04_25Daphne/Sample3_CD_10ulMG/Position5_Basal_apical_ObjScan/matlab_decon/S3P5_488_150mw_560_300mw_Objdz150nm_ch1_CAM1_stack0033_560nm_0187740msec_0090303841msecAbs_000x_000y_003z_0000t_decon.tif\n",
      "34\n",
      "/Users/johannesschoeneberg/Desktop/PostDoc/drubin_lab/organoids_lattice_data/data_/2016_04_25Daphne/Sample3_CD_10ulMG/Position5_Basal_apical_ObjScan/matlab_decon/S3P5_488_150mw_560_300mw_Objdz150nm_ch1_CAM1_stack0034_560nm_0193429msec_0090309530msecAbs_000x_000y_003z_0000t_decon.tif\n",
      "35\n",
      "/Users/johannesschoeneberg/Desktop/PostDoc/drubin_lab/organoids_lattice_data/data_/2016_04_25Daphne/Sample3_CD_10ulMG/Position5_Basal_apical_ObjScan/matlab_decon/S3P5_488_150mw_560_300mw_Objdz150nm_ch1_CAM1_stack0035_560nm_0199118msec_0090315219msecAbs_000x_000y_003z_0000t_decon.tif\n",
      "36\n",
      "/Users/johannesschoeneberg/Desktop/PostDoc/drubin_lab/organoids_lattice_data/data_/2016_04_25Daphne/Sample3_CD_10ulMG/Position5_Basal_apical_ObjScan/matlab_decon/S3P5_488_150mw_560_300mw_Objdz150nm_ch1_CAM1_stack0036_560nm_0204807msec_0090320908msecAbs_000x_000y_003z_0000t_decon.tif\n",
      "37\n",
      "/Users/johannesschoeneberg/Desktop/PostDoc/drubin_lab/organoids_lattice_data/data_/2016_04_25Daphne/Sample3_CD_10ulMG/Position5_Basal_apical_ObjScan/matlab_decon/S3P5_488_150mw_560_300mw_Objdz150nm_ch1_CAM1_stack0037_560nm_0210496msec_0090326597msecAbs_000x_000y_003z_0000t_decon.tif\n",
      "38\n",
      "/Users/johannesschoeneberg/Desktop/PostDoc/drubin_lab/organoids_lattice_data/data_/2016_04_25Daphne/Sample3_CD_10ulMG/Position5_Basal_apical_ObjScan/matlab_decon/S3P5_488_150mw_560_300mw_Objdz150nm_ch1_CAM1_stack0038_560nm_0216185msec_0090332286msecAbs_000x_000y_003z_0000t_decon.tif\n",
      "39\n",
      "/Users/johannesschoeneberg/Desktop/PostDoc/drubin_lab/organoids_lattice_data/data_/2016_04_25Daphne/Sample3_CD_10ulMG/Position5_Basal_apical_ObjScan/matlab_decon/S3P5_488_150mw_560_300mw_Objdz150nm_ch1_CAM1_stack0039_560nm_0221874msec_0090337975msecAbs_000x_000y_003z_0000t_decon.tif\n",
      "40\n",
      "/Users/johannesschoeneberg/Desktop/PostDoc/drubin_lab/organoids_lattice_data/data_/2016_04_25Daphne/Sample3_CD_10ulMG/Position5_Basal_apical_ObjScan/matlab_decon/S3P5_488_150mw_560_300mw_Objdz150nm_ch1_CAM1_stack0040_560nm_0227563msec_0090343664msecAbs_000x_000y_003z_0000t_decon.tif\n",
      "41\n",
      "/Users/johannesschoeneberg/Desktop/PostDoc/drubin_lab/organoids_lattice_data/data_/2016_04_25Daphne/Sample3_CD_10ulMG/Position5_Basal_apical_ObjScan/matlab_decon/S3P5_488_150mw_560_300mw_Objdz150nm_ch1_CAM1_stack0041_560nm_0233252msec_0090349353msecAbs_000x_000y_003z_0000t_decon.tif\n",
      "42\n",
      "/Users/johannesschoeneberg/Desktop/PostDoc/drubin_lab/organoids_lattice_data/data_/2016_04_25Daphne/Sample3_CD_10ulMG/Position5_Basal_apical_ObjScan/matlab_decon/S3P5_488_150mw_560_300mw_Objdz150nm_ch1_CAM1_stack0042_560nm_0238941msec_0090355042msecAbs_000x_000y_003z_0000t_decon.tif\n",
      "43\n",
      "/Users/johannesschoeneberg/Desktop/PostDoc/drubin_lab/organoids_lattice_data/data_/2016_04_25Daphne/Sample3_CD_10ulMG/Position5_Basal_apical_ObjScan/matlab_decon/S3P5_488_150mw_560_300mw_Objdz150nm_ch1_CAM1_stack0043_560nm_0244631msec_0090360732msecAbs_000x_000y_003z_0000t_decon.tif\n",
      "44\n",
      "/Users/johannesschoeneberg/Desktop/PostDoc/drubin_lab/organoids_lattice_data/data_/2016_04_25Daphne/Sample3_CD_10ulMG/Position5_Basal_apical_ObjScan/matlab_decon/S3P5_488_150mw_560_300mw_Objdz150nm_ch1_CAM1_stack0044_560nm_0250320msec_0090366421msecAbs_000x_000y_003z_0000t_decon.tif\n",
      "45\n",
      "/Users/johannesschoeneberg/Desktop/PostDoc/drubin_lab/organoids_lattice_data/data_/2016_04_25Daphne/Sample3_CD_10ulMG/Position5_Basal_apical_ObjScan/matlab_decon/S3P5_488_150mw_560_300mw_Objdz150nm_ch1_CAM1_stack0045_560nm_0256009msec_0090372110msecAbs_000x_000y_003z_0000t_decon.tif\n",
      "46\n",
      "/Users/johannesschoeneberg/Desktop/PostDoc/drubin_lab/organoids_lattice_data/data_/2016_04_25Daphne/Sample3_CD_10ulMG/Position5_Basal_apical_ObjScan/matlab_decon/S3P5_488_150mw_560_300mw_Objdz150nm_ch1_CAM1_stack0046_560nm_0261698msec_0090377799msecAbs_000x_000y_003z_0000t_decon.tif\n",
      "47\n",
      "/Users/johannesschoeneberg/Desktop/PostDoc/drubin_lab/organoids_lattice_data/data_/2016_04_25Daphne/Sample3_CD_10ulMG/Position5_Basal_apical_ObjScan/matlab_decon/S3P5_488_150mw_560_300mw_Objdz150nm_ch1_CAM1_stack0047_560nm_0267387msec_0090383488msecAbs_000x_000y_003z_0000t_decon.tif\n",
      "48\n",
      "/Users/johannesschoeneberg/Desktop/PostDoc/drubin_lab/organoids_lattice_data/data_/2016_04_25Daphne/Sample3_CD_10ulMG/Position5_Basal_apical_ObjScan/matlab_decon/S3P5_488_150mw_560_300mw_Objdz150nm_ch1_CAM1_stack0048_560nm_0273076msec_0090389177msecAbs_000x_000y_003z_0000t_decon.tif\n",
      "49\n",
      "/Users/johannesschoeneberg/Desktop/PostDoc/drubin_lab/organoids_lattice_data/data_/2016_04_25Daphne/Sample3_CD_10ulMG/Position5_Basal_apical_ObjScan/matlab_decon/S3P5_488_150mw_560_300mw_Objdz150nm_ch1_CAM1_stack0049_560nm_0278765msec_0090394866msecAbs_000x_000y_003z_0000t_decon.tif\n",
      "50\n",
      "/Users/johannesschoeneberg/Desktop/PostDoc/drubin_lab/organoids_lattice_data/data_/2016_04_25Daphne/Sample3_CD_10ulMG/Position5_Basal_apical_ObjScan/matlab_decon/S3P5_488_150mw_560_300mw_Objdz150nm_ch1_CAM1_stack0050_560nm_0284454msec_0090400555msecAbs_000x_000y_003z_0000t_decon.tif\n",
      "51\n",
      "/Users/johannesschoeneberg/Desktop/PostDoc/drubin_lab/organoids_lattice_data/data_/2016_04_25Daphne/Sample3_CD_10ulMG/Position5_Basal_apical_ObjScan/matlab_decon/S3P5_488_150mw_560_300mw_Objdz150nm_ch1_CAM1_stack0051_560nm_0290143msec_0090406244msecAbs_000x_000y_003z_0000t_decon.tif\n",
      "52\n",
      "/Users/johannesschoeneberg/Desktop/PostDoc/drubin_lab/organoids_lattice_data/data_/2016_04_25Daphne/Sample3_CD_10ulMG/Position5_Basal_apical_ObjScan/matlab_decon/S3P5_488_150mw_560_300mw_Objdz150nm_ch1_CAM1_stack0052_560nm_0295832msec_0090411933msecAbs_000x_000y_003z_0000t_decon.tif\n",
      "53\n",
      "/Users/johannesschoeneberg/Desktop/PostDoc/drubin_lab/organoids_lattice_data/data_/2016_04_25Daphne/Sample3_CD_10ulMG/Position5_Basal_apical_ObjScan/matlab_decon/S3P5_488_150mw_560_300mw_Objdz150nm_ch1_CAM1_stack0053_560nm_0301521msec_0090417622msecAbs_000x_000y_003z_0000t_decon.tif\n",
      "54\n",
      "/Users/johannesschoeneberg/Desktop/PostDoc/drubin_lab/organoids_lattice_data/data_/2016_04_25Daphne/Sample3_CD_10ulMG/Position5_Basal_apical_ObjScan/matlab_decon/S3P5_488_150mw_560_300mw_Objdz150nm_ch1_CAM1_stack0054_560nm_0307210msec_0090423311msecAbs_000x_000y_003z_0000t_decon.tif\n",
      "55\n",
      "/Users/johannesschoeneberg/Desktop/PostDoc/drubin_lab/organoids_lattice_data/data_/2016_04_25Daphne/Sample3_CD_10ulMG/Position5_Basal_apical_ObjScan/matlab_decon/S3P5_488_150mw_560_300mw_Objdz150nm_ch1_CAM1_stack0055_560nm_0312899msec_0090429000msecAbs_000x_000y_003z_0000t_decon.tif\n",
      "56\n",
      "/Users/johannesschoeneberg/Desktop/PostDoc/drubin_lab/organoids_lattice_data/data_/2016_04_25Daphne/Sample3_CD_10ulMG/Position5_Basal_apical_ObjScan/matlab_decon/S3P5_488_150mw_560_300mw_Objdz150nm_ch1_CAM1_stack0056_560nm_0318589msec_0090434690msecAbs_000x_000y_003z_0000t_decon.tif\n",
      "57\n",
      "/Users/johannesschoeneberg/Desktop/PostDoc/drubin_lab/organoids_lattice_data/data_/2016_04_25Daphne/Sample3_CD_10ulMG/Position5_Basal_apical_ObjScan/matlab_decon/S3P5_488_150mw_560_300mw_Objdz150nm_ch1_CAM1_stack0057_560nm_0324278msec_0090440379msecAbs_000x_000y_003z_0000t_decon.tif\n"
     ]
    },
    {
     "name": "stdout",
     "output_type": "stream",
     "text": [
      "58\n",
      "/Users/johannesschoeneberg/Desktop/PostDoc/drubin_lab/organoids_lattice_data/data_/2016_04_25Daphne/Sample3_CD_10ulMG/Position5_Basal_apical_ObjScan/matlab_decon/S3P5_488_150mw_560_300mw_Objdz150nm_ch1_CAM1_stack0058_560nm_0329967msec_0090446068msecAbs_000x_000y_003z_0000t_decon.tif\n",
      "59\n",
      "/Users/johannesschoeneberg/Desktop/PostDoc/drubin_lab/organoids_lattice_data/data_/2016_04_25Daphne/Sample3_CD_10ulMG/Position5_Basal_apical_ObjScan/matlab_decon/S3P5_488_150mw_560_300mw_Objdz150nm_ch1_CAM1_stack0059_560nm_0335656msec_0090451757msecAbs_000x_000y_003z_0000t_decon.tif\n",
      "60\n",
      "/Users/johannesschoeneberg/Desktop/PostDoc/drubin_lab/organoids_lattice_data/data_/2016_04_25Daphne/Sample3_CD_10ulMG/Position5_Basal_apical_ObjScan/matlab_decon/S3P5_488_150mw_560_300mw_Objdz150nm_ch1_CAM1_stack0060_560nm_0341345msec_0090457446msecAbs_000x_000y_003z_0000t_decon.tif\n",
      "61\n",
      "/Users/johannesschoeneberg/Desktop/PostDoc/drubin_lab/organoids_lattice_data/data_/2016_04_25Daphne/Sample3_CD_10ulMG/Position5_Basal_apical_ObjScan/matlab_decon/S3P5_488_150mw_560_300mw_Objdz150nm_ch1_CAM1_stack0061_560nm_0347034msec_0090463135msecAbs_000x_000y_003z_0000t_decon.tif\n",
      "62\n",
      "/Users/johannesschoeneberg/Desktop/PostDoc/drubin_lab/organoids_lattice_data/data_/2016_04_25Daphne/Sample3_CD_10ulMG/Position5_Basal_apical_ObjScan/matlab_decon/S3P5_488_150mw_560_300mw_Objdz150nm_ch1_CAM1_stack0062_560nm_0352723msec_0090468824msecAbs_000x_000y_003z_0000t_decon.tif\n",
      "63\n",
      "/Users/johannesschoeneberg/Desktop/PostDoc/drubin_lab/organoids_lattice_data/data_/2016_04_25Daphne/Sample3_CD_10ulMG/Position5_Basal_apical_ObjScan/matlab_decon/S3P5_488_150mw_560_300mw_Objdz150nm_ch1_CAM1_stack0063_560nm_0358412msec_0090474513msecAbs_000x_000y_003z_0000t_decon.tif\n",
      "64\n",
      "/Users/johannesschoeneberg/Desktop/PostDoc/drubin_lab/organoids_lattice_data/data_/2016_04_25Daphne/Sample3_CD_10ulMG/Position5_Basal_apical_ObjScan/matlab_decon/S3P5_488_150mw_560_300mw_Objdz150nm_ch1_CAM1_stack0064_560nm_0364101msec_0090480202msecAbs_000x_000y_003z_0000t_decon.tif\n",
      "65\n",
      "/Users/johannesschoeneberg/Desktop/PostDoc/drubin_lab/organoids_lattice_data/data_/2016_04_25Daphne/Sample3_CD_10ulMG/Position5_Basal_apical_ObjScan/matlab_decon/S3P5_488_150mw_560_300mw_Objdz150nm_ch1_CAM1_stack0065_560nm_0369790msec_0090485891msecAbs_000x_000y_003z_0000t_decon.tif\n",
      "66\n",
      "/Users/johannesschoeneberg/Desktop/PostDoc/drubin_lab/organoids_lattice_data/data_/2016_04_25Daphne/Sample3_CD_10ulMG/Position5_Basal_apical_ObjScan/matlab_decon/S3P5_488_150mw_560_300mw_Objdz150nm_ch1_CAM1_stack0066_560nm_0375479msec_0090491580msecAbs_000x_000y_003z_0000t_decon.tif\n",
      "67\n",
      "/Users/johannesschoeneberg/Desktop/PostDoc/drubin_lab/organoids_lattice_data/data_/2016_04_25Daphne/Sample3_CD_10ulMG/Position5_Basal_apical_ObjScan/matlab_decon/S3P5_488_150mw_560_300mw_Objdz150nm_ch1_CAM1_stack0067_560nm_0381168msec_0090497269msecAbs_000x_000y_003z_0000t_decon.tif\n",
      "68\n",
      "/Users/johannesschoeneberg/Desktop/PostDoc/drubin_lab/organoids_lattice_data/data_/2016_04_25Daphne/Sample3_CD_10ulMG/Position5_Basal_apical_ObjScan/matlab_decon/S3P5_488_150mw_560_300mw_Objdz150nm_ch1_CAM1_stack0068_560nm_0386857msec_0090502958msecAbs_000x_000y_003z_0000t_decon.tif\n",
      "69\n",
      "/Users/johannesschoeneberg/Desktop/PostDoc/drubin_lab/organoids_lattice_data/data_/2016_04_25Daphne/Sample3_CD_10ulMG/Position5_Basal_apical_ObjScan/matlab_decon/S3P5_488_150mw_560_300mw_Objdz150nm_ch1_CAM1_stack0069_560nm_0392547msec_0090508648msecAbs_000x_000y_003z_0000t_decon.tif\n"
     ]
    }
   ],
   "source": [
    "\n",
    "\n",
    "for i in range(0,movieLength):\n",
    "    print(i)\n",
    "    path = inputDataFolder+'/'+filesOfInterest[i]\n",
    "    print(path)\n",
    "    \n",
    "#    center=np.array([ 214.98012571 , 281.93155857 ,  90.67524957])\n",
    "#    center = np.array([459,513,92])\n",
    "    center = np.array([214, 281,  90])\n",
    "    latticeMovieFrame = skimage.external.tifffile.imread(path)\n",
    "    cropped = cropLatticeFrame(latticeMovieFrame,center.astype(int),[20,20,20])\n",
    "    skimage.external.tifffile.imsave('./tmp/cropped_560_pm20px_maxAmpl_'+str(i)+'.tif', cropped)\n",
    "    "
   ]
  },
  {
   "cell_type": "code",
   "execution_count": 89,
   "metadata": {},
   "outputs": [
    {
     "data": {
      "text/plain": [
       "(40, 40, 40)"
      ]
     },
     "execution_count": 89,
     "metadata": {},
     "output_type": "execute_result"
    }
   ],
   "source": [
    "cropped.shape"
   ]
  },
  {
   "cell_type": "code",
   "execution_count": null,
   "metadata": {
    "collapsed": true
   },
   "outputs": [],
   "source": [
    "cropped = cropLatticeFrame(latticeMovieFrame,center11.astype(int),[5,5,5])\n",
    "skimage.external.tifffile.imsave('./cropped_5.tif', cropped)"
   ]
  }
 ],
 "metadata": {
  "kernelspec": {
   "display_name": "Python 3",
   "language": "python",
   "name": "python3"
  },
  "language_info": {
   "codemirror_mode": {
    "name": "ipython",
    "version": 3
   },
   "file_extension": ".py",
   "mimetype": "text/x-python",
   "name": "python",
   "nbconvert_exporter": "python",
   "pygments_lexer": "ipython3",
   "version": "3.6.3"
  }
 },
 "nbformat": 4,
 "nbformat_minor": 2
}
