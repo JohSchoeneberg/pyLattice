{
 "cells": [
  {
   "cell_type": "code",
   "execution_count": 5,
   "metadata": {
    "collapsed": true
   },
   "outputs": [],
   "source": [
    "%matplotlib inline\n",
    "import numpy as np\n",
    "import matplotlib.pyplot as plt\n",
    "\n",
    "from numpy import genfromtxt\n",
    "\n",
    "\n",
    "import pandas as pd\n",
    "\n",
    "from mpl_toolkits import mplot3d\n",
    "#%matplotlib notebook"
   ]
  },
  {
   "cell_type": "code",
   "execution_count": 6,
   "metadata": {
    "collapsed": true
   },
   "outputs": [],
   "source": [
    "#http://www.cgl.ucsf.edu/pipermail/chimera-users/2010-November/005715.html\n",
    "def pandasData2bildFile(data,filename='puncta.bild'):\n",
    "    file = open(filename,'w') \n",
    "    radius = 1\n",
    "    #.transparency value \n",
    "    file.write(\".transparency 0.5\\n\")\n",
    "    file.write(\".color red\\n\")\n",
    "    file.write(\".dot 0 0 0\\n\")\n",
    "    #Set the transparency of subsequently defined items. The value can range from 0.0 (not transparent) to 1.0 (completely transparent).\n",
    "    for i in range(0,len(data)):\n",
    "        dataLine = data.iloc[i].values\n",
    "        line = \".sphere \"+str(dataLine[0])+\" \"+str(dataLine[1])+\" \"+str(dataLine[2])+\" \"+str(radius)+\"\\n\"\n",
    "        file.write(line)\n",
    "    file.close()"
   ]
  },
  {
   "cell_type": "code",
   "execution_count": 7,
   "metadata": {},
   "outputs": [
    {
     "name": "stdout",
     "output_type": "stream",
     "text": [
      "32632\n"
     ]
    }
   ],
   "source": [
    "data = pd.read_csv('puncta_1.csv',header=0)\n",
    "data.columns = [\"x\",\"y\",\"z\",\"A\"]\n",
    "print(len(data))\n",
    "data[0:5]\n",
    "pandasData2bildFile(data)"
   ]
  },
  {
   "cell_type": "code",
   "execution_count": 9,
   "metadata": {},
   "outputs": [
    {
     "name": "stdout",
     "output_type": "stream",
     "text": [
      "32632\n",
      "31908\n",
      "30946\n",
      "30618\n",
      "30323\n",
      "29975\n",
      "29437\n",
      "29398\n",
      "29202\n",
      "28284\n",
      "28187\n",
      "28019\n",
      "27462\n",
      "27282\n",
      "27041\n",
      "26601\n",
      "26461\n",
      "26076\n",
      "25799\n",
      "25642\n",
      "25532\n",
      "25239\n",
      "24836\n",
      "24587\n",
      "24246\n",
      "24123\n",
      "23828\n",
      "23649\n",
      "23415\n",
      "23101\n",
      "22816\n",
      "22809\n",
      "22443\n",
      "22395\n",
      "21846\n",
      "21647\n",
      "21475\n",
      "21210\n",
      "21161\n",
      "20895\n",
      "20923\n",
      "20688\n",
      "20305\n",
      "19937\n",
      "19835\n",
      "19392\n",
      "19731\n"
     ]
    }
   ],
   "source": [
    "for i in range(1,48):\n",
    "    filename = 'puncta_'+str(i)+'.csv'\n",
    "    data = pd.read_csv(filename,header=0)\n",
    "    data.columns = [\"x\",\"y\",\"z\",\"A\"]\n",
    "    print(len(data))\n",
    "    data[0:5]\n",
    "    pandasData2bildFile(data,filename+\".bild\")\n",
    "    "
   ]
  },
  {
   "cell_type": "code",
   "execution_count": null,
   "metadata": {
    "collapsed": true
   },
   "outputs": [],
   "source": []
  }
 ],
 "metadata": {
  "kernelspec": {
   "display_name": "Python 3",
   "language": "python",
   "name": "python3"
  },
  "language_info": {
   "codemirror_mode": {
    "name": "ipython",
    "version": 3
   },
   "file_extension": ".py",
   "mimetype": "text/x-python",
   "name": "python",
   "nbconvert_exporter": "python",
   "pygments_lexer": "ipython3",
   "version": "3.6.3"
  }
 },
 "nbformat": 4,
 "nbformat_minor": 2
}
