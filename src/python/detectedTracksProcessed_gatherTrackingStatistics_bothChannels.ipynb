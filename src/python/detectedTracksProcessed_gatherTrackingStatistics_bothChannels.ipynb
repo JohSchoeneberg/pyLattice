{
 "cells": [
  {
   "cell_type": "code",
   "execution_count": 1,
   "metadata": {
    "collapsed": true
   },
   "outputs": [],
   "source": [
    "# by Joh Schöneberg 2018\n",
    "\n",
    "%matplotlib inline\n",
    "import numpy as np\n",
    "import matplotlib.pyplot as plt\n",
    "\n",
    "from numpy import genfromtxt\n",
    "\n",
    "\n",
    "import pandas as pd\n",
    "\n",
    "from mpl_toolkits import mplot3d\n",
    "#%matplotlib notebook\n",
    "\n",
    "import math\n",
    "\n",
    "#import cv2\n",
    "import pims\n",
    "from PIL import Image\n",
    "\n",
    "import skimage\n",
    "\n",
    "import json\n",
    "\n",
    "#own modules / functions\n",
    "import sys\n",
    "\n",
    "sys.path.append(\"./modules\")\n",
    "import TiffProcessing as tiffproc\n",
    "import InputProcessing as inproc\n",
    "sys.path.append(\"./classes\")\n",
    "import Track"
   ]
  },
  {
   "cell_type": "markdown",
   "metadata": {},
   "source": [
    "# input data"
   ]
  },
  {
   "cell_type": "code",
   "execution_count": 3,
   "metadata": {},
   "outputs": [],
   "source": [
    "inputParameters = pd.read_csv('../../input/_inputParameters.csv',names=['key','value'])\n",
    "\n",
    "\n",
    "inputDataFolder = inproc.getInputParameter(inputParameters,\"inputDataFolder\")\n",
    "outputDataFolder = inproc.getInputParameter(inputParameters,\"outputDataFolder\")\n",
    "\n",
    "trackingCsvFilename = inproc.getInputParameter(inputParameters,\"trackingCsvFilename\")\n",
    "trackingCsvFilenameProcessed = inproc.getInputParameter(inputParameters,\"trackingCsvFilenameProcessed\")\n",
    "\n",
    "slave_outputDataFolder  = inproc.getInputParameter(inputParameters,\"slave_outputDataFolder\")\n",
    "master_outputDataFolder  = inproc.getInputParameter(inputParameters,\"master_outputDataFolder\")\n",
    "\n",
    "slave_uniqueFilenameString = inproc.getInputParameter(inputParameters,\"slave_uniqueFilenameString\")\n",
    "master_uniqueFilenameString = inproc.getInputParameter(inputParameters,\"master_uniqueFilenameString\")\n",
    "\n",
    "\n",
    "slave_trackingProcessedBildFilename = inproc.getInputParameter(inputParameters,\"slave_trackingProcessedBildFilename\")\n",
    "master_trackingProcessedBildFilename = inproc.getInputParameter(inputParameters,\"master_trackingProcessedBildFilename\")\n",
    "\n",
    "\n",
    "\n",
    "framerate_msec = float(inproc.getInputParameter(inputParameters,\"framerate_msec\"))\n",
    "movieLength = int(inproc.getInputParameter(inputParameters,\"movieLength\"))\n",
    "\n",
    "\n"
   ]
  },
  {
   "cell_type": "code",
   "execution_count": 4,
   "metadata": {},
   "outputs": [
    {
     "name": "stdout",
     "output_type": "stream",
     "text": [
      "/Users/johannesschoeneberg/git/pyLattice/input/big_data_cutoff7000/output/trackedFeaturesProcessed.csv\n"
     ]
    },
    {
     "data": {
      "text/html": [
       "<div>\n",
       "<style scoped>\n",
       "    .dataframe tbody tr th:only-of-type {\n",
       "        vertical-align: middle;\n",
       "    }\n",
       "\n",
       "    .dataframe tbody tr th {\n",
       "        vertical-align: top;\n",
       "    }\n",
       "\n",
       "    .dataframe thead th {\n",
       "        text-align: right;\n",
       "    }\n",
       "</style>\n",
       "<table border=\"1\" class=\"dataframe\">\n",
       "  <thead>\n",
       "    <tr style=\"text-align: right;\">\n",
       "      <th></th>\n",
       "      <th>trackId</th>\n",
       "      <th>tracklength</th>\n",
       "      <th>time[s]</th>\n",
       "      <th>frameId</th>\n",
       "      <th>lifetime</th>\n",
       "      <th>catIdx</th>\n",
       "      <th>m_x</th>\n",
       "      <th>m_y</th>\n",
       "      <th>m_z</th>\n",
       "      <th>m_A</th>\n",
       "      <th>m_c</th>\n",
       "      <th>m_pval_Ar</th>\n",
       "      <th>s_x</th>\n",
       "      <th>s_y</th>\n",
       "      <th>s_z</th>\n",
       "      <th>s_A</th>\n",
       "      <th>s_c</th>\n",
       "      <th>s_pval_Ar</th>\n",
       "    </tr>\n",
       "  </thead>\n",
       "  <tbody>\n",
       "    <tr>\n",
       "      <th>0</th>\n",
       "      <td>1</td>\n",
       "      <td>70</td>\n",
       "      <td>0</td>\n",
       "      <td>1</td>\n",
       "      <td>398.23</td>\n",
       "      <td>4</td>\n",
       "      <td>3.062726e+02</td>\n",
       "      <td>4.632271e+02</td>\n",
       "      <td>1.562220e+02</td>\n",
       "      <td>1.739935e+04</td>\n",
       "      <td>4.432718e+03</td>\n",
       "      <td>0</td>\n",
       "      <td>3.056966e+02</td>\n",
       "      <td>4.635165e+02</td>\n",
       "      <td>1.562220e+02</td>\n",
       "      <td>1.686132e+04</td>\n",
       "      <td>1.297400e+04</td>\n",
       "      <td>2.908224e-107</td>\n",
       "    </tr>\n",
       "    <tr>\n",
       "      <th>1</th>\n",
       "      <td>1</td>\n",
       "      <td>70</td>\n",
       "      <td>5.689000e+00</td>\n",
       "      <td>2</td>\n",
       "      <td>398.23</td>\n",
       "      <td>4</td>\n",
       "      <td>3.057494e+02</td>\n",
       "      <td>4.640244e+02</td>\n",
       "      <td>1.565502e+02</td>\n",
       "      <td>1.750579e+04</td>\n",
       "      <td>5.094934e+03</td>\n",
       "      <td>0</td>\n",
       "      <td>3.055449e+02</td>\n",
       "      <td>4.652281e+02</td>\n",
       "      <td>1.565502e+02</td>\n",
       "      <td>2.257769e+04</td>\n",
       "      <td>1.144006e+04</td>\n",
       "      <td>4.655316e-239</td>\n",
       "    </tr>\n",
       "    <tr>\n",
       "      <th>2</th>\n",
       "      <td>1</td>\n",
       "      <td>70</td>\n",
       "      <td>1.137800e+01</td>\n",
       "      <td>3</td>\n",
       "      <td>398.23</td>\n",
       "      <td>4</td>\n",
       "      <td>3.057335e+02</td>\n",
       "      <td>4.664979e+02</td>\n",
       "      <td>1.568321e+02</td>\n",
       "      <td>1.813164e+04</td>\n",
       "      <td>3.976445e+03</td>\n",
       "      <td>0</td>\n",
       "      <td>3.059583e+02</td>\n",
       "      <td>4.666809e+02</td>\n",
       "      <td>1.568321e+02</td>\n",
       "      <td>1.997363e+04</td>\n",
       "      <td>1.044525e+04</td>\n",
       "      <td>1.311695e-167</td>\n",
       "    </tr>\n",
       "    <tr>\n",
       "      <th>3</th>\n",
       "      <td>1</td>\n",
       "      <td>70</td>\n",
       "      <td>1.706700e+01</td>\n",
       "      <td>4</td>\n",
       "      <td>398.23</td>\n",
       "      <td>4</td>\n",
       "      <td>3.058162e+02</td>\n",
       "      <td>4.672333e+02</td>\n",
       "      <td>1.563690e+02</td>\n",
       "      <td>1.982398e+04</td>\n",
       "      <td>3.983064e+03</td>\n",
       "      <td>0</td>\n",
       "      <td>3.048128e+02</td>\n",
       "      <td>4.671221e+02</td>\n",
       "      <td>1.563690e+02</td>\n",
       "      <td>3.260338e+04</td>\n",
       "      <td>1.168456e+04</td>\n",
       "      <td>0</td>\n",
       "    </tr>\n",
       "    <tr>\n",
       "      <th>4</th>\n",
       "      <td>1</td>\n",
       "      <td>70</td>\n",
       "      <td>2.275600e+01</td>\n",
       "      <td>5</td>\n",
       "      <td>398.23</td>\n",
       "      <td>4</td>\n",
       "      <td>3.056440e+02</td>\n",
       "      <td>4.680644e+02</td>\n",
       "      <td>1.574940e+02</td>\n",
       "      <td>1.536418e+04</td>\n",
       "      <td>3.799193e+03</td>\n",
       "      <td>0</td>\n",
       "      <td>3.049258e+02</td>\n",
       "      <td>4.689656e+02</td>\n",
       "      <td>1.574940e+02</td>\n",
       "      <td>1.774456e+04</td>\n",
       "      <td>1.042424e+04</td>\n",
       "      <td>3.282493e-179</td>\n",
       "    </tr>\n",
       "  </tbody>\n",
       "</table>\n",
       "</div>"
      ],
      "text/plain": [
       "   trackId  tracklength        time[s] frameId  lifetime  catIdx  \\\n",
       "0        1           70              0       1    398.23       4   \n",
       "1        1           70   5.689000e+00       2    398.23       4   \n",
       "2        1           70   1.137800e+01       3    398.23       4   \n",
       "3        1           70   1.706700e+01       4    398.23       4   \n",
       "4        1           70   2.275600e+01       5    398.23       4   \n",
       "\n",
       "             m_x            m_y            m_z            m_A            m_c  \\\n",
       "0   3.062726e+02   4.632271e+02   1.562220e+02   1.739935e+04   4.432718e+03   \n",
       "1   3.057494e+02   4.640244e+02   1.565502e+02   1.750579e+04   5.094934e+03   \n",
       "2   3.057335e+02   4.664979e+02   1.568321e+02   1.813164e+04   3.976445e+03   \n",
       "3   3.058162e+02   4.672333e+02   1.563690e+02   1.982398e+04   3.983064e+03   \n",
       "4   3.056440e+02   4.680644e+02   1.574940e+02   1.536418e+04   3.799193e+03   \n",
       "\n",
       "  m_pval_Ar             s_x            s_y            s_z            s_A  \\\n",
       "0         0    3.056966e+02   4.635165e+02   1.562220e+02   1.686132e+04   \n",
       "1         0    3.055449e+02   4.652281e+02   1.565502e+02   2.257769e+04   \n",
       "2         0    3.059583e+02   4.666809e+02   1.568321e+02   1.997363e+04   \n",
       "3         0    3.048128e+02   4.671221e+02   1.563690e+02   3.260338e+04   \n",
       "4         0    3.049258e+02   4.689656e+02   1.574940e+02   1.774456e+04   \n",
       "\n",
       "             s_c       s_pval_Ar  \n",
       "0   1.297400e+04   2.908224e-107  \n",
       "1   1.144006e+04   4.655316e-239  \n",
       "2   1.044525e+04   1.311695e-167  \n",
       "3   1.168456e+04               0  \n",
       "4   1.042424e+04   3.282493e-179  "
      ]
     },
     "execution_count": 4,
     "metadata": {},
     "output_type": "execute_result"
    }
   ],
   "source": [
    "# read the raw csv data for further processing\n",
    "\n",
    "path = outputDataFolder+'/'+trackingCsvFilenameProcessed\n",
    "print(path)\n",
    "\n",
    "data = pd.read_csv(path,header=0)\n",
    "data.columns = [\"trackId\",\"tracklength\",\"time[s]\",\"frameId\",\"lifetime\",\"catIdx\",\"m_x\",'m_y',\"m_z\",\"m_A\",\"m_c\",\"m_pval_Ar\",\"s_x\",'s_y',\"s_z\",\"s_A\",\"s_c\",\"s_pval_Ar\"]\n",
    "trackIds = data.drop_duplicates(subset='trackId')['trackId'].values\n",
    "\n",
    "data[0:5]\n",
    "\n",
    "\n",
    "\n"
   ]
  },
  {
   "cell_type": "markdown",
   "metadata": {},
   "source": [
    "# gather statistics"
   ]
  },
  {
   "cell_type": "code",
   "execution_count": 5,
   "metadata": {},
   "outputs": [
    {
     "name": "stdout",
     "output_type": "stream",
     "text": [
      "[6312, 4, 2276, 8, 87, 0, 124, 2]\n",
      "[ 0.  0.  0.  0.  0.  0.  0.  0.]\n"
     ]
    },
    {
     "data": {
      "text/plain": [
       "Text(0.5,1,'N = 8813')"
      ]
     },
     "execution_count": 5,
     "metadata": {},
     "output_type": "execute_result"
    },
    {
     "data": {
      "image/png": "[encoded data removed]",
      "text/plain": [
       "<matplotlib.figure.Figure at 0x813e5e048>"
      ]
     },
     "metadata": {},
     "output_type": "display_data"
    }
   ],
   "source": [
    "#plot them all\n",
    "\n",
    "#%----------------------------------------------------------------------------\n",
    "#    % I. Assign category to each track\n",
    "#    %----------------------------------------------------------------------------\n",
    "#    % Categories:\n",
    "#    % Ia)  Single tracks with valid gaps\n",
    "#    % Ib)  Single tracks with invalid gaps\n",
    "#    % Ic)  Single tracks cut at beginning or end\n",
    "#    % Id)  Single tracks, persistent\n",
    "#    % IIa) Compound tracks with valid gaps\n",
    "#    % IIb) Compound tracks with invalid gaps\n",
    "#    % IIc) Compound tracks cut at beginning or end\n",
    "#    % IId) Compound tracks, persistent\n",
    "#    \n",
    "#    % The categories correspond to index 1-8, in the above order\n",
    "\n",
    "\n",
    "\n",
    "#data = longtracks\n",
    "data = data\n",
    "\n",
    "allTracks = np.unique(data['trackId'].values)\n",
    "cat_Ia_Tracks = np.unique(data[data['catIdx'] == 1]['trackId'])\n",
    "cat_Ib_Tracks = np.unique(data[data['catIdx'] == 2]['trackId'])\n",
    "cat_Ic_Tracks = np.unique(data[data['catIdx'] == 3]['trackId'])\n",
    "cat_Id_Tracks = np.unique(data[data['catIdx'] == 4]['trackId'])\n",
    "cat_IIa_Tracks = np.unique(data[data['catIdx'] == 5]['trackId'])\n",
    "cat_IIb_Tracks = np.unique(data[data['catIdx'] == 6]['trackId'])\n",
    "cat_IIc_Tracks = np.unique(data[data['catIdx'] == 7]['trackId'])\n",
    "cat_IId_Tracks = np.unique(data[data['catIdx'] == 8]['trackId'])\n",
    "\n",
    "categories = [cat_Ia_Tracks,cat_Ib_Tracks,cat_Ic_Tracks,cat_Id_Tracks,cat_IIa_Tracks,cat_IIb_Tracks,cat_IIc_Tracks,cat_IId_Tracks]\n",
    "categoryLabels = [\"cat_Ia_Tracks\",\"cat_Ib_Tracks\",\"cat_Ic_Tracks\",\"cat_Id_Tracks\",\"cat_IIa_Tracks\",\"cat_IIb_Tracks\",\"cat_IIc_Tracks\",\"cat_IId_Tracks\"]\n",
    "\n",
    "categoryFrequency = []\n",
    "for cat in categories:\n",
    "    categoryFrequency.append(len(cat))\n",
    "    \n",
    "print(categoryFrequency)\n",
    "\n",
    "\n",
    "\n",
    "# https://matplotlib.org/gallery/lines_bars_and_markers/barh.html\n",
    "fig, ax = plt.subplots()\n",
    "\n",
    "# Example data\n",
    "y_pos = np.arange(len(categoryFrequency))\n",
    "\n",
    "error = np.random.rand(len(categoryFrequency))\n",
    "error = np.zeros(len(categoryFrequency))\n",
    "print(error)\n",
    "\n",
    "ax.barh(y_pos, categoryFrequency, xerr=error, align='center',\n",
    "        color='grey', ecolor='black')\n",
    "ax.set_yticks(y_pos)\n",
    "ax.set_yticklabels(categoryLabels)\n",
    "ax.invert_yaxis()  # labels read top-to-bottom\n",
    "ax.set_xlabel('# tracks')\n",
    "ax.set_xlim(0,len(allTracks))\n",
    "ax.set_title('N = '+str(len(allTracks)))"
   ]
  },
  {
   "cell_type": "code",
   "execution_count": 167,
   "metadata": {
    "collapsed": true
   },
   "outputs": [],
   "source": [
    "cat_Ia_Tracks = data[data['catIdx'] == 1]\n",
    "cat_Ib_Tracks = data[data['catIdx'] == 2]\n",
    "cat_Ic_Tracks = data[data['catIdx'] == 3]\n",
    "cat_Id_Tracks = data[data['catIdx'] == 4]\n",
    "cat_IIa_Tracks = data[data['catIdx'] == 5]\n",
    "cat_IIb_Tracks = data[data['catIdx'] == 6]\n",
    "cat_IIc_Tracks = data[data['catIdx'] == 7]\n",
    "cat_IId_Tracks = data[data['catIdx'] == 8]"
   ]
  },
  {
   "cell_type": "code",
   "execution_count": 168,
   "metadata": {},
   "outputs": [
    {
     "data": {
      "image/png": "[encoded data removed]",
      "text/plain": [
       "<matplotlib.figure.Figure at 0x820cc56a0>"
      ]
     },
     "metadata": {},
     "output_type": "display_data"
    },
    {
     "data": {
      "image/png": "[encoded data removed]",
      "text/plain": [
       "<matplotlib.figure.Figure at 0x820c3cc50>"
      ]
     },
     "metadata": {},
     "output_type": "display_data"
    },
    {
     "data": {
      "image/png": "[encoded data removed]",
      "text/plain": [
       "<matplotlib.figure.Figure at 0x81fee3438>"
      ]
     },
     "metadata": {},
     "output_type": "display_data"
    }
   ],
   "source": [
    "allTracks_lifetime = np.unique(data['lifetime'].values)\n",
    "\n",
    "cat_Ia_Tracks_lifetime = np.unique(data[data['catIdx'] == 1]['lifetime'])\n",
    "cat_Ib_Tracks_lifetime = np.unique(data[data['catIdx'] == 2]['lifetime'])\n",
    "cat_Ic_Tracks_lifetime = np.unique(data[data['catIdx'] == 3]['lifetime'])\n",
    "cat_Id_Tracks_lifetime = np.unique(data[data['catIdx'] == 4]['lifetime'])\n",
    "cat_IIa_Tracks_lifetime = np.unique(data[data['catIdx'] == 5]['lifetime'])\n",
    "cat_IIb_Tracks_lifetime = np.unique(data[data['catIdx'] == 6]['lifetime'])\n",
    "cat_IIc_Tracks_lifetime = np.unique(data[data['catIdx'] == 7]['lifetime'])\n",
    "cat_IId_Tracks_lifetime = np.unique(data[data['catIdx'] == 8]['lifetime'])\n",
    "bins_ = 10\n",
    "range_ = [0,400]\n",
    "plt.hist(allTracks_lifetime,alpha=0.2,bins=bins_,range=range_)\n",
    "plt.ylim(0,10)\n",
    "plt.xlabel('lifetime [s]')\n",
    "plt.show()\n",
    "plt.hist(cat_Ia_Tracks_lifetime,alpha=0.2,bins=bins_,range=range_)\n",
    "plt.hist(cat_Ib_Tracks_lifetime,alpha=0.2,bins=bins_,range=range_)\n",
    "plt.hist(cat_Ic_Tracks_lifetime,alpha=0.2,bins=bins_,range=range_)\n",
    "plt.hist(cat_Id_Tracks_lifetime,alpha=0.2,bins=bins_,range=range_)\n",
    "plt.ylim(0,10)\n",
    "plt.xlabel('lifetime [s]')\n",
    "plt.show()\n",
    "plt.hist(cat_IIa_Tracks_lifetime,alpha=0.2,bins=bins_,range=range_)\n",
    "plt.hist(cat_IIb_Tracks_lifetime,alpha=0.2,bins=bins_,range=range_)\n",
    "plt.hist(cat_IIc_Tracks_lifetime,alpha=0.2,bins=bins_,range=range_)\n",
    "plt.hist(cat_IId_Tracks_lifetime,alpha=0.2,bins=bins_,range=range_)\n",
    "plt.ylim(0,10)\n",
    "plt.xlabel('lifetime [s]')\n",
    "plt.show()"
   ]
  },
  {
   "cell_type": "code",
   "execution_count": null,
   "metadata": {
    "collapsed": true
   },
   "outputs": [],
   "source": [
    "#Lifetime Cohorts"
   ]
  },
  {
   "cell_type": "code",
   "execution_count": null,
   "metadata": {
    "collapsed": true
   },
   "outputs": [],
   "source": [
    "lifetimeCohort = np.unique(data[data['lifetime'] >= 1 and data['lifetime'] <=20])"
   ]
  },
  {
   "cell_type": "code",
   "execution_count": 136,
   "metadata": {},
   "outputs": [
    {
     "name": "stdout",
     "output_type": "stream",
     "text": [
      "number of tracks in cohort 20-20: 28\n",
      "number of tracks in cohort 40-40: 4\n",
      "number of tracks in cohort 60-60: 7\n",
      "number of tracks in cohort 80-80: 2\n",
      "number of tracks in cohort 100-100: 1\n",
      "number of tracks in cohort 120-120: 1\n"
     ]
    }
   ],
   "source": [
    "lifetimeThresholds = [1, 20, 40, 60, 80, 100, 120, 200]\n",
    "\n",
    "lifetimeCohorts = []\n",
    "\n",
    "dataBasis = cat_Ia_Tracks\n",
    "for i in range(2,len(lifetimeThresholds)):\n",
    "    lifetimeCohort_trackIds = np.unique(dataBasis.loc[(dataBasis[\"lifetime\"] >= lifetimeThresholds[i-1]) & (dataBasis[\"lifetime\"] < lifetimeThresholds[i]), \"trackId\"])\n",
    "    print('number of tracks in cohort '+str(lifetimeThresholds[i-1])+'-'+str(lifetimeThresholds[i-1])+': '+str(len(lifetimeCohort_trackIds)))\n",
    "    lifetimeCohorts.append(lifetimeCohort_trackIds)\n",
    "#print(lifetimeCohorts)"
   ]
  },
  {
   "cell_type": "code",
   "execution_count": 137,
   "metadata": {},
   "outputs": [
    {
     "name": "stderr",
     "output_type": "stream",
     "text": [
      "/Users/johannesschoeneberg/anaconda3/lib/python3.6/site-packages/ipykernel_launcher.py:28: RuntimeWarning: Mean of empty slice\n",
      "/Users/johannesschoeneberg/anaconda3/lib/python3.6/site-packages/ipykernel_launcher.py:29: RuntimeWarning: Mean of empty slice\n"
     ]
    },
    {
     "data": {
      "image/png": "[encoded data removed]",
      "text/plain": [
       "<matplotlib.figure.Figure at 0x81f7bb898>"
      ]
     },
     "metadata": {},
     "output_type": "display_data"
    }
   ],
   "source": [
    "for tc in range(1,len(lifetimeCohorts)):\n",
    "\n",
    "    m_buffer = []\n",
    "    s_buffer = []\n",
    "    bufferSize = 1000\n",
    "    for i in range(0,bufferSize):\n",
    "        m_buffer.append([])\n",
    "        s_buffer.append([])\n",
    "    \n",
    "        \n",
    "    for trackId in lifetimeCohorts[tc]:\n",
    "        #print(trackId)\n",
    "        track = data[data['trackId'] == trackId]\n",
    "    \n",
    "        m_intensity = track['m_A'].values.astype(float)\n",
    "        s_intensity = track['s_A'].values.astype(float)\n",
    "        \n",
    "        #plt.plot(s_intensity)\n",
    "        \n",
    "        for i in range(0,len(track)):\n",
    "            m_buffer[i].append(m_intensity[i])\n",
    "            s_buffer[i].append(s_intensity[i])\n",
    "            \n",
    "    \n",
    "    m_mean = []\n",
    "    s_mean = []\n",
    "    for i in range(0,bufferSize):\n",
    "        m_mean.append(np.nanmean(m_buffer[i]))\n",
    "        s_mean.append(np.nanmean(s_buffer[i]))\n",
    "        \n",
    "    plt.plot(np.arange(0,len(m_mean))*framerate_msec/1000,m_mean, c='red')\n",
    "    plt.plot(np.arange(0,len(m_mean))*framerate_msec/1000,s_mean, c='green')\n",
    "\n",
    "plt.xlabel('lifetime[s]')\n",
    "plt.show()\n"
   ]
  },
  {
   "cell_type": "code",
   "execution_count": 144,
   "metadata": {},
   "outputs": [
    {
     "name": "stdout",
     "output_type": "stream",
     "text": [
      "509\n",
      "50\n",
      "7\n",
      "10 51\n"
     ]
    },
    {
     "data": {
      "image/png": "[encoded data removed]",
      "text/plain": [
       "<matplotlib.figure.Figure at 0x81f805ba8>"
      ]
     },
     "metadata": {},
     "output_type": "display_data"
    }
   ],
   "source": [
    "print(len(cat_Ia_Tracks))\n",
    "print(507//10)\n",
    "print(507%10)\n",
    "nrows = 10\n",
    "ncols = (len(dataBasis)//nrows)+1\n",
    "print(nrows,ncols)\n",
    "f, axarr = plt.subplots(ncols, nrows)\n",
    "for i in range(0,ncols):\n",
    "    for j in range(0,nrows):\n",
    "        axarr[i, j].plot(x, y)\n"
   ]
  },
  {
   "cell_type": "code",
   "execution_count": 113,
   "metadata": {},
   "outputs": [
    {
     "data": {
      "image/png": "[encoded data removed]",
      "text/plain": [
       "<matplotlib.figure.Figure at 0x820e09438>"
      ]
     },
     "metadata": {},
     "output_type": "display_data"
    }
   ],
   "source": []
  },
  {
   "cell_type": "code",
   "execution_count": 81,
   "metadata": {},
   "outputs": [
    {
     "name": "stdout",
     "output_type": "stream",
     "text": [
      "7\n"
     ]
    },
    {
     "data": {
      "image/png": "[encoded data removed]",
      "text/plain": [
       "<matplotlib.figure.Figure at 0x81f8f8550>"
      ]
     },
     "metadata": {},
     "output_type": "display_data"
    }
   ],
   "source": [
    "trackSelectionId = 103\n",
    "trackSelection = cat_Ia_Tracks\n",
    "\n",
    "trackId = lifetimeCohorts[0][1]\n",
    "track = data[data['trackId'] == trackId]\n",
    "plt.figure(dpi=100)\n",
    "ax = plt.axes()\n",
    "\n",
    "# Data for a three-dimensional line\n",
    "m_x = track['m_x'].values.astype(float)\n",
    "m_y = track['m_y'].values.astype(float)\n",
    "m_z = track['m_z'].values.astype(float)\n",
    "m_intensity = track['m_A'].values.astype(float)\n",
    "\n",
    "s_x = track['s_x'].values.astype(float)\n",
    "s_y = track['s_y'].values.astype(float)\n",
    "s_z = track['s_z'].values.astype(float)\n",
    "s_intensity = track['s_A'].values.astype(float)\n",
    "\n",
    "# Data for three-dimensional scattered points\n",
    "#zdata = 15 * np.random.random(100)\n",
    "#xdata = np.sin(zdata) + 0.1 * np.random.randn(100)\n",
    "#ydata = np.cos(zdata) + 0.1 * np.random.randn(100)\n",
    "#ax.scatter(x, y, z, alpha=0.8, c=color, edgecolors='none', s=30, label=group)\n",
    "#if(color=='intensity'):\n",
    "#    ax.scatter3D(x, y, z, c=intensity, cmap='cool',s=100);\n",
    "#else:\n",
    "ax.plot(m_intensity,c='red',lw=0.5)\n",
    "ax.scatter(range(0,len(m_intensity)),m_intensity,c='red')\n",
    "ax.plot(s_intensity,c='green',lw=0.5)\n",
    "ax.scatter(range(0,len(s_intensity)),s_intensity,c='green')\n",
    "plt.title('trackId = '+str(trackId))\n",
    "plt.xlabel('frameId')\n",
    "plt.ylabel('amplitude')\n",
    "\n",
    "\n",
    "print(len(track))"
   ]
  },
  {
   "cell_type": "code",
   "execution_count": null,
   "metadata": {
    "collapsed": true
   },
   "outputs": [],
   "source": []
  },
  {
   "cell_type": "code",
   "execution_count": null,
   "metadata": {
    "collapsed": true
   },
   "outputs": [],
   "source": []
  },
  {
   "cell_type": "code",
   "execution_count": null,
   "metadata": {
    "collapsed": true
   },
   "outputs": [],
   "source": []
  },
  {
   "cell_type": "code",
   "execution_count": null,
   "metadata": {
    "collapsed": true
   },
   "outputs": [],
   "source": []
  },
  {
   "cell_type": "code",
   "execution_count": null,
   "metadata": {
    "collapsed": true
   },
   "outputs": [],
   "source": []
  },
  {
   "cell_type": "code",
   "execution_count": null,
   "metadata": {
    "collapsed": true
   },
   "outputs": [],
   "source": []
  },
  {
   "cell_type": "code",
   "execution_count": null,
   "metadata": {
    "collapsed": true
   },
   "outputs": [],
   "source": []
  },
  {
   "cell_type": "code",
   "execution_count": null,
   "metadata": {
    "collapsed": true
   },
   "outputs": [],
   "source": []
  },
  {
   "cell_type": "code",
   "execution_count": null,
   "metadata": {
    "collapsed": true
   },
   "outputs": [],
   "source": []
  },
  {
   "cell_type": "code",
   "execution_count": null,
   "metadata": {
    "collapsed": true
   },
   "outputs": [],
   "source": []
  },
  {
   "cell_type": "code",
   "execution_count": null,
   "metadata": {
    "collapsed": true
   },
   "outputs": [],
   "source": []
  },
  {
   "cell_type": "code",
   "execution_count": null,
   "metadata": {
    "collapsed": true
   },
   "outputs": [],
   "source": []
  }
 ],
 "metadata": {
  "kernelspec": {
   "display_name": "Python 3",
   "language": "python",
   "name": "python3"
  },
  "language_info": {
   "codemirror_mode": {
    "name": "ipython",
    "version": 3
   },
   "file_extension": ".py",
   "mimetype": "text/x-python",
   "name": "python",
   "nbconvert_exporter": "python",
   "pygments_lexer": "ipython3",
   "version": "3.6.3"
  }
 },
 "nbformat": 4,
 "nbformat_minor": 2
}
