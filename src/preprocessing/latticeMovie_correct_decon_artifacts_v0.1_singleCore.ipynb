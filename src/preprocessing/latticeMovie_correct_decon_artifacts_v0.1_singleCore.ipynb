{
 "cells": [
  {
   "cell_type": "code",
   "execution_count": 1,
   "metadata": {
    "collapsed": true
   },
   "outputs": [],
   "source": [
    "# by Joh Schoeneberg, 10/2019\n"
   ]
  },
  {
   "cell_type": "code",
   "execution_count": 1,
   "metadata": {
    "collapsed": true
   },
   "outputs": [],
   "source": [
    "%matplotlib inline\n",
    "import numpy as np\n",
    "import skimage.external.tifffile\n",
    "import os\n",
    "import matplotlib.pyplot as plt\n",
    "from PIL import Image\n",
    "\n",
    "import multiprocessing  \n",
    "from multiprocessing import Pool\n",
    "\n",
    "\n",
    "#import sys\n",
    "#    sys.path.append('/Users/johannesschoeneberg/git/JohSchoeneberg/pyLattice/src/python/pylattice/functions')\n",
    "#import ParallelFunctions"
   ]
  },
  {
   "cell_type": "code",
   "execution_count": 2,
   "metadata": {
    "collapsed": true
   },
   "outputs": [],
   "source": [
    "\n",
    "\n",
    "inputFolder = '/Users/johannesschoeneberg/Desktop/PostDoc/Drubin_Betzig_Project/Janelia/Janelia_visit_2019-08-05_to_16/data/correct_deconvolution_artifacts/20190812_Imaging__Region_6/'\n",
    "outputFolder = '/Users/johannesschoeneberg/Desktop/PostDoc/Drubin_Betzig_Project/Janelia/Janelia_visit_2019-08-05_to_16/data/correct_deconvolution_artifacts/20190812_Imaging__Region_6/output/'\n"
   ]
  },
  {
   "cell_type": "code",
   "execution_count": 3,
   "metadata": {},
   "outputs": [
    {
     "name": "stdout",
     "output_type": "stream",
     "text": [
      "[('/Users/johannesschoeneberg/Desktop/PostDoc/Drubin_Betzig_Project/Janelia/Janelia_visit_2019-08-05_to_16/data/correct_deconvolution_artifacts/20190812_Imaging__Region_6/', '/Users/johannesschoeneberg/Desktop/PostDoc/Drubin_Betzig_Project/Janelia/Janelia_visit_2019-08-05_to_16/data/correct_deconvolution_artifacts/20190812_Imaging__Region_6/output/', 'Region_6_Iter_0000_CamA_ch0_CAM1_stack0000_488nm_0000000msec_0000163955msecAbs_000x_000y_000z_0000t_decon.tif'), ('/Users/johannesschoeneberg/Desktop/PostDoc/Drubin_Betzig_Project/Janelia/Janelia_visit_2019-08-05_to_16/data/correct_deconvolution_artifacts/20190812_Imaging__Region_6/', '/Users/johannesschoeneberg/Desktop/PostDoc/Drubin_Betzig_Project/Janelia/Janelia_visit_2019-08-05_to_16/data/correct_deconvolution_artifacts/20190812_Imaging__Region_6/output/', 'Region_6_Iter_0001_CamA_ch0_CAM1_stack0000_488nm_0000000msec_0000296742msecAbs_000x_000y_000z_0001t_decon.tif'), ('/Users/johannesschoeneberg/Desktop/PostDoc/Drubin_Betzig_Project/Janelia/Janelia_visit_2019-08-05_to_16/data/correct_deconvolution_artifacts/20190812_Imaging__Region_6/', '/Users/johannesschoeneberg/Desktop/PostDoc/Drubin_Betzig_Project/Janelia/Janelia_visit_2019-08-05_to_16/data/correct_deconvolution_artifacts/20190812_Imaging__Region_6/output/', 'Region_6_Iter_0002_CamA_ch0_CAM1_stack0000_488nm_0000000msec_0000429556msecAbs_000x_000y_000z_0002t_decon.tif'), ('/Users/johannesschoeneberg/Desktop/PostDoc/Drubin_Betzig_Project/Janelia/Janelia_visit_2019-08-05_to_16/data/correct_deconvolution_artifacts/20190812_Imaging__Region_6/', '/Users/johannesschoeneberg/Desktop/PostDoc/Drubin_Betzig_Project/Janelia/Janelia_visit_2019-08-05_to_16/data/correct_deconvolution_artifacts/20190812_Imaging__Region_6/output/', 'Region_6_Iter_0004_CamA_ch0_CAM1_stack0000_488nm_0000000msec_0000695111msecAbs_000x_000y_000z_0004t_decon.tif'), ('/Users/johannesschoeneberg/Desktop/PostDoc/Drubin_Betzig_Project/Janelia/Janelia_visit_2019-08-05_to_16/data/correct_deconvolution_artifacts/20190812_Imaging__Region_6/', '/Users/johannesschoeneberg/Desktop/PostDoc/Drubin_Betzig_Project/Janelia/Janelia_visit_2019-08-05_to_16/data/correct_deconvolution_artifacts/20190812_Imaging__Region_6/output/', 'Region_6_Iter_0003_CamA_ch0_CAM1_stack0000_488nm_0000000msec_0000562332msecAbs_000x_000y_000z_0003t_decon.tif')]\n"
     ]
    }
   ],
   "source": [
    "# prepare the input data for the worker pool\n",
    "\n",
    "parameters_for_workers = []\n",
    "for file in os.listdir(inputFolder):\n",
    "    if file.endswith(\".tif\"):\n",
    "        parameters_for_workers.append((inputFolder,outputFolder,file))\n",
    "print(parameters_for_workers)"
   ]
  },
  {
   "cell_type": "code",
   "execution_count": 4,
   "metadata": {
    "collapsed": true
   },
   "outputs": [],
   "source": [
    "def open3dTiff(path):\n",
    "\n",
    "    img = Image.open(path)\n",
    "\n",
    "    numFrames = img.n_frames\n",
    "    imgArray = np.zeros( ( numFrames,img.size[1], img.size[0] ),np.uint16 )\n",
    "\n",
    "    for i in range(0,numFrames):\n",
    "        img.seek(i)\n",
    "        imgArray[i,:,:] = np.array(img)\n",
    "\n",
    "    return imgArray"
   ]
  },
  {
   "cell_type": "code",
   "execution_count": 8,
   "metadata": {
    "collapsed": true
   },
   "outputs": [],
   "source": [
    "def openFile(inputFolder,outputFolder,file):\n",
    "    inputPath = os.path.join(inputFolder, file)\n",
    "\n",
    "    #latticeMovieStack = ParallelFunctions.open3dTiff(inputPath)\n",
    "    latticeMovieStack = open3dTiff(inputPath)\n",
    "    #print(latticeMovieStack.shape)\n",
    "\n",
    "    #latticeMovieStack_processed = cropLatticeFrame_core(latticeMovieStack,center, margin)\n",
    "#\n",
    "    ##output_folder = Path(outputFolder)\n",
    "    #outputPath = os.path.join(outputFolder, file)\n",
    "    ##print(outputPath)\n",
    "    #skimage.external.tifffile.imsave(outputPath,latticeMovieStack_processed.astype('uint16'))\n",
    "\n",
    "    return latticeMovieStack"
   ]
  },
  {
   "cell_type": "code",
   "execution_count": 9,
   "metadata": {
    "collapsed": true
   },
   "outputs": [],
   "source": [
    "def correct_decon_boundary_artifact_for_single_slice(oneSlice,margin=20,verbose=False):\n",
    "\n",
    "    summed = np.sum(oneSlice,axis=0)\n",
    "    all_zero = np.where(summed==0)[0]\n",
    "    all_nonZero = np.where(summed!=0)[0]\n",
    "    \n",
    "    middle = np.average(np.where(summed!=0))\n",
    "    leftBoundary = np.max(all_zero[all_zero<middle])\n",
    "    rightBoundary = np.min(all_zero[all_zero>middle])\n",
    "\n",
    "    \n",
    "    #correctedSlice = np.copy(stack[sliceIndex])\n",
    "    correctedSlice = oneSlice\n",
    "    correctedSlice[:,0:leftBoundary+margin]=0\n",
    "    correctedSlice[:,rightBoundary-margin:correctedSlice.shape[1]]=0\n",
    "    \n",
    "    \n",
    "    if(verbose):\n",
    "        print(\"0:\"+str(leftBoundary+margin))\n",
    "        print(str(rightBoundary-margin)+\":\"+str(correctedSlice.shape[1]))\n",
    "        \n",
    "        plt.figure(dpi=150)\n",
    "        plt.plot(summed,color='grey')\n",
    "        #plt.axvline(middle,color='red')\n",
    "        plt.axvline(leftBoundary, color='black')\n",
    "        plt.axvline(rightBoundary, color='black')\n",
    "        \n",
    "        plt.axvline(leftBoundary+margin, color='blue')\n",
    "        plt.axvline(rightBoundary-margin, color='blue')\n",
    "        plt.show()\n",
    "        \n",
    "        plt.figure(dpi=150)\n",
    "        plt.imshow(correctedSlice)\n",
    "    \n",
    "    return(correctedSlice)"
   ]
  },
  {
   "cell_type": "code",
   "execution_count": 10,
   "metadata": {},
   "outputs": [
    {
     "name": "stdout",
     "output_type": "stream",
     "text": [
      "/Users/johannesschoeneberg/Desktop/PostDoc/Drubin_Betzig_Project/Janelia/Janelia_visit_2019-08-05_to_16/data/correct_deconvolution_artifacts/20190812_Imaging__Region_6/\n",
      "/Users/johannesschoeneberg/Desktop/PostDoc/Drubin_Betzig_Project/Janelia/Janelia_visit_2019-08-05_to_16/data/correct_deconvolution_artifacts/20190812_Imaging__Region_6/output/\n",
      "Region_6_Iter_0000_CamA_ch0_CAM1_stack0000_488nm_0000000msec_0000163955msecAbs_000x_000y_000z_0000t_decon.tif\n",
      "/Users/johannesschoeneberg/Desktop/PostDoc/Drubin_Betzig_Project/Janelia/Janelia_visit_2019-08-05_to_16/data/correct_deconvolution_artifacts/20190812_Imaging__Region_6/\n",
      "/Users/johannesschoeneberg/Desktop/PostDoc/Drubin_Betzig_Project/Janelia/Janelia_visit_2019-08-05_to_16/data/correct_deconvolution_artifacts/20190812_Imaging__Region_6/output/\n",
      "Region_6_Iter_0001_CamA_ch0_CAM1_stack0000_488nm_0000000msec_0000296742msecAbs_000x_000y_000z_0001t_decon.tif\n",
      "/Users/johannesschoeneberg/Desktop/PostDoc/Drubin_Betzig_Project/Janelia/Janelia_visit_2019-08-05_to_16/data/correct_deconvolution_artifacts/20190812_Imaging__Region_6/\n",
      "/Users/johannesschoeneberg/Desktop/PostDoc/Drubin_Betzig_Project/Janelia/Janelia_visit_2019-08-05_to_16/data/correct_deconvolution_artifacts/20190812_Imaging__Region_6/output/\n",
      "Region_6_Iter_0002_CamA_ch0_CAM1_stack0000_488nm_0000000msec_0000429556msecAbs_000x_000y_000z_0002t_decon.tif\n",
      "/Users/johannesschoeneberg/Desktop/PostDoc/Drubin_Betzig_Project/Janelia/Janelia_visit_2019-08-05_to_16/data/correct_deconvolution_artifacts/20190812_Imaging__Region_6/\n",
      "/Users/johannesschoeneberg/Desktop/PostDoc/Drubin_Betzig_Project/Janelia/Janelia_visit_2019-08-05_to_16/data/correct_deconvolution_artifacts/20190812_Imaging__Region_6/output/\n",
      "Region_6_Iter_0004_CamA_ch0_CAM1_stack0000_488nm_0000000msec_0000695111msecAbs_000x_000y_000z_0004t_decon.tif\n",
      "/Users/johannesschoeneberg/Desktop/PostDoc/Drubin_Betzig_Project/Janelia/Janelia_visit_2019-08-05_to_16/data/correct_deconvolution_artifacts/20190812_Imaging__Region_6/\n",
      "/Users/johannesschoeneberg/Desktop/PostDoc/Drubin_Betzig_Project/Janelia/Janelia_visit_2019-08-05_to_16/data/correct_deconvolution_artifacts/20190812_Imaging__Region_6/output/\n",
      "Region_6_Iter_0003_CamA_ch0_CAM1_stack0000_488nm_0000000msec_0000562332msecAbs_000x_000y_000z_0003t_decon.tif\n"
     ]
    }
   ],
   "source": [
    "verbose = True\n",
    "\n",
    "for parameterSet in parameters_for_workers:\n",
    "    stack = openFile(parameterSet[0],parameterSet[1],parameterSet[2])\n",
    "    \n",
    "    if(verbose):\n",
    "        inputPath = parameterSet[0]\n",
    "        print(inputPath)\n",
    "        outputPath =parameterSet[1]\n",
    "        print(outputPath)\n",
    "        file = parameterSet[2]\n",
    "        print(file)\n",
    "    \n",
    "    for i in range(0,stack.shape[0]):\n",
    "        #remove the first and last slices from the new stack\n",
    "        oneSlice = stack[i]\n",
    "        if (i == 0 or i == stack.shape[0]-1):\n",
    "            stack[i] = oneSlice[:,:]=0\n",
    "        else:\n",
    "            stack[i] = correct_decon_boundary_artifact_for_single_slice(oneSlice,verbose=False)\n",
    "    skimage.external.tifffile.imsave(outputPath+file+'_deconArtifactCorrected.tif',stack.astype('uint16'))\n"
   ]
  },
  {
   "cell_type": "code",
   "execution_count": null,
   "metadata": {
    "collapsed": true
   },
   "outputs": [],
   "source": []
  }
 ],
 "metadata": {
  "kernelspec": {
   "display_name": "Python 3",
   "language": "python",
   "name": "python3"
  },
  "language_info": {
   "codemirror_mode": {
    "name": "ipython",
    "version": 3
   },
   "file_extension": ".py",
   "mimetype": "text/x-python",
   "name": "python",
   "nbconvert_exporter": "python",
   "pygments_lexer": "ipython3",
   "version": "3.6.3"
  }
 },
 "nbformat": 4,
 "nbformat_minor": 2
}
