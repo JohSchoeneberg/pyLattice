{
 "cells": [
  {
   "cell_type": "code",
   "execution_count": 5,
   "metadata": {
    "collapsed": true
   },
   "outputs": [],
   "source": [
    "# by Joh Schoeneberg, 08/2019\n",
    "\n",
    "\n",
    "#5 frames\n",
    "#cpu = 1, 21.132148265838623s\n",
    "#cpu = 16"
   ]
  },
  {
   "cell_type": "code",
   "execution_count": 6,
   "metadata": {},
   "outputs": [],
   "source": [
    "%matplotlib inline\n",
    "import numpy as np\n",
    "import skimage.external.tifffile\n",
    "import os\n",
    "import matplotlib.pyplot as plt\n",
    "from PIL import Image\n",
    "\n",
    "import multiprocessing  \n",
    "from multiprocessing import Pool\n",
    "\n",
    "\n",
    "\n",
    "import sys\n",
    "sys.path.append('/Users/johannesschoeneberg/git/JohSchoeneberg/pyLattice/src/python/pylattice/functions')\n",
    "import ParallelFunctions"
   ]
  },
  {
   "cell_type": "code",
   "execution_count": 7,
   "metadata": {
    "collapsed": true
   },
   "outputs": [],
   "source": [
    "\n",
    "\n",
    "inputFolder = '/Users/johannesschoeneberg/Desktop/PostDoc/Drubin_Betzig_Project/Janelia/Janelia_visit_2019-08-05_to_16/data/correct_deconvolution_artifacts/20190812_Imaging__Region_6/'\n",
    "outputFolder = '/Users/johannesschoeneberg/Desktop/PostDoc/Drubin_Betzig_Project/Janelia/Janelia_visit_2019-08-05_to_16/data/correct_deconvolution_artifacts/20190812_Imaging__Region_6/output/'\n"
   ]
  },
  {
   "cell_type": "code",
   "execution_count": 8,
   "metadata": {},
   "outputs": [
    {
     "name": "stdout",
     "output_type": "stream",
     "text": [
      "[('/Users/johannesschoeneberg/Desktop/PostDoc/Drubin_Betzig_Project/Janelia/Janelia_visit_2019-08-05_to_16/data/correct_deconvolution_artifacts/20190812_Imaging__Region_6/', '/Users/johannesschoeneberg/Desktop/PostDoc/Drubin_Betzig_Project/Janelia/Janelia_visit_2019-08-05_to_16/data/correct_deconvolution_artifacts/20190812_Imaging__Region_6/output/', 'Region_6_Iter_0000_CamA_ch0_CAM1_stack0000_488nm_0000000msec_0000163955msecAbs_000x_000y_000z_0000t_decon.tif', 20), ('/Users/johannesschoeneberg/Desktop/PostDoc/Drubin_Betzig_Project/Janelia/Janelia_visit_2019-08-05_to_16/data/correct_deconvolution_artifacts/20190812_Imaging__Region_6/', '/Users/johannesschoeneberg/Desktop/PostDoc/Drubin_Betzig_Project/Janelia/Janelia_visit_2019-08-05_to_16/data/correct_deconvolution_artifacts/20190812_Imaging__Region_6/output/', 'Region_6_Iter_0001_CamA_ch0_CAM1_stack0000_488nm_0000000msec_0000296742msecAbs_000x_000y_000z_0001t_decon.tif', 20), ('/Users/johannesschoeneberg/Desktop/PostDoc/Drubin_Betzig_Project/Janelia/Janelia_visit_2019-08-05_to_16/data/correct_deconvolution_artifacts/20190812_Imaging__Region_6/', '/Users/johannesschoeneberg/Desktop/PostDoc/Drubin_Betzig_Project/Janelia/Janelia_visit_2019-08-05_to_16/data/correct_deconvolution_artifacts/20190812_Imaging__Region_6/output/', 'Region_6_Iter_0002_CamA_ch0_CAM1_stack0000_488nm_0000000msec_0000429556msecAbs_000x_000y_000z_0002t_decon.tif', 20), ('/Users/johannesschoeneberg/Desktop/PostDoc/Drubin_Betzig_Project/Janelia/Janelia_visit_2019-08-05_to_16/data/correct_deconvolution_artifacts/20190812_Imaging__Region_6/', '/Users/johannesschoeneberg/Desktop/PostDoc/Drubin_Betzig_Project/Janelia/Janelia_visit_2019-08-05_to_16/data/correct_deconvolution_artifacts/20190812_Imaging__Region_6/output/', 'Region_6_Iter_0004_CamA_ch0_CAM1_stack0000_488nm_0000000msec_0000695111msecAbs_000x_000y_000z_0004t_decon.tif', 20), ('/Users/johannesschoeneberg/Desktop/PostDoc/Drubin_Betzig_Project/Janelia/Janelia_visit_2019-08-05_to_16/data/correct_deconvolution_artifacts/20190812_Imaging__Region_6/', '/Users/johannesschoeneberg/Desktop/PostDoc/Drubin_Betzig_Project/Janelia/Janelia_visit_2019-08-05_to_16/data/correct_deconvolution_artifacts/20190812_Imaging__Region_6/output/', 'Region_6_Iter_0003_CamA_ch0_CAM1_stack0000_488nm_0000000msec_0000562332msecAbs_000x_000y_000z_0003t_decon.tif', 20)]\n"
     ]
    }
   ],
   "source": [
    "# prepare the input data for the worker pool\n",
    "margin = 20\n",
    "\n",
    "\n",
    "parameters_for_workers = []\n",
    "for file in os.listdir(inputFolder):\n",
    "    if file.endswith(\".tif\"):\n",
    "        parameters_for_workers.append((inputFolder,outputFolder,file,margin))\n",
    "print(parameters_for_workers)"
   ]
  },
  {
   "cell_type": "code",
   "execution_count": 9,
   "metadata": {
    "scrolled": true
   },
   "outputs": [
    {
     "name": "stdout",
     "output_type": "stream",
     "text": [
      "Number of cpu :  16\n",
      "Run on 12 CPUs\n",
      "['/Users/johannesschoeneberg/Desktop/PostDoc/Drubin_Betzig_Project/Janelia/Janelia_visit_2019-08-05_to_16/data/correct_deconvolution_artifacts/20190812_Imaging__Region_6/output/Region_6_Iter_0000_CamA_ch0_CAM1_stack0000_488nm_0000000msec_0000163955msecAbs_000x_000y_000z_0000t_decon.tif', '/Users/johannesschoeneberg/Desktop/PostDoc/Drubin_Betzig_Project/Janelia/Janelia_visit_2019-08-05_to_16/data/correct_deconvolution_artifacts/20190812_Imaging__Region_6/output/Region_6_Iter_0001_CamA_ch0_CAM1_stack0000_488nm_0000000msec_0000296742msecAbs_000x_000y_000z_0001t_decon.tif', '/Users/johannesschoeneberg/Desktop/PostDoc/Drubin_Betzig_Project/Janelia/Janelia_visit_2019-08-05_to_16/data/correct_deconvolution_artifacts/20190812_Imaging__Region_6/output/Region_6_Iter_0002_CamA_ch0_CAM1_stack0000_488nm_0000000msec_0000429556msecAbs_000x_000y_000z_0002t_decon.tif', '/Users/johannesschoeneberg/Desktop/PostDoc/Drubin_Betzig_Project/Janelia/Janelia_visit_2019-08-05_to_16/data/correct_deconvolution_artifacts/20190812_Imaging__Region_6/output/Region_6_Iter_0004_CamA_ch0_CAM1_stack0000_488nm_0000000msec_0000695111msecAbs_000x_000y_000z_0004t_decon.tif', '/Users/johannesschoeneberg/Desktop/PostDoc/Drubin_Betzig_Project/Janelia/Janelia_visit_2019-08-05_to_16/data/correct_deconvolution_artifacts/20190812_Imaging__Region_6/output/Region_6_Iter_0003_CamA_ch0_CAM1_stack0000_488nm_0000000msec_0000562332msecAbs_000x_000y_000z_0003t_decon.tif']\n",
      "elapsed time 10.025381803512573s\n"
     ]
    }
   ],
   "source": [
    "# run the jobs on parallel processors\n",
    "\n",
    "print(\"Number of cpu : \", multiprocessing.cpu_count())\n",
    "\n",
    "import time\n",
    "start_time = time.time()\n",
    "\n",
    "\n",
    "if __name__ == '__main__':\n",
    "    nCPU = multiprocessing.cpu_count()\n",
    "    numberOfCPUsUsed = int(nCPU*0.75) #10\n",
    "    print(\"Run on {} CPUs\".format(numberOfCPUsUsed))\n",
    "    pool = Pool(numberOfCPUsUsed)\n",
    "    results = pool.starmap(ParallelFunctions.correctDecon_parallel, parameters_for_workers)\n",
    "    \n",
    "print(results)\n",
    "\n",
    "elapsed_time = time.time() - start_time\n",
    "print(\"elapsed time {}s\".format(elapsed_time))"
   ]
  },
  {
   "cell_type": "code",
   "execution_count": null,
   "metadata": {
    "collapsed": true
   },
   "outputs": [],
   "source": []
  },
  {
   "cell_type": "code",
   "execution_count": null,
   "metadata": {
    "collapsed": true
   },
   "outputs": [],
   "source": []
  },
  {
   "cell_type": "code",
   "execution_count": null,
   "metadata": {
    "collapsed": true
   },
   "outputs": [],
   "source": []
  },
  {
   "cell_type": "code",
   "execution_count": null,
   "metadata": {
    "collapsed": true
   },
   "outputs": [],
   "source": []
  },
  {
   "cell_type": "code",
   "execution_count": null,
   "metadata": {
    "collapsed": true
   },
   "outputs": [],
   "source": []
  },
  {
   "cell_type": "code",
   "execution_count": null,
   "metadata": {},
   "outputs": [],
   "source": [
    "#rename output files just by their\n",
    "# e.g. \n",
    "# make Scan_Iter_0046_CamA_ch0_CAM1_stack0000_488nm_0000000msec_0005849968msecAbs_001x_000y_002z_0046t_decon.tif'\n",
    "# to 0046.tif\n",
    "for file in os.listdir(outputFolder):\n",
    "    if file.endswith(\".tif\"):\n",
    "        newFilename = outputFolder+\"/\"+file.split(\"_\")[2]+\".tif\"\n",
    "        os.rename(os.path.join(outputFolder, file), os.path.join(outputFolder, newFilename)) \n",
    "        print(newFilename)\n",
    "        \n",
    "            #print(file.split(\"_\")[2])\n",
    "            \n"
   ]
  },
  {
   "cell_type": "code",
   "execution_count": 31,
   "metadata": {},
   "outputs": [
    {
     "name": "stdout",
     "output_type": "stream",
     "text": [
      "open /Volumes/4TB_SSD/Johannes_Schoeneberg_Berkeley/20190814_Imaging/rotated/Region_4/CPPdecon/001x_000y_002z/chimeraX_cropped/*.tif\n",
      "volume voxelSize 0.108,0.108,0.4\n"
     ]
    }
   ],
   "source": [
    "chimeraX_command_open = \"open \" + outputFolder+ \"*.tif\"\n",
    "chimeraX_command_volume = \"volume voxelSize 0.108,0.108,0.4\"\n",
    "print(chimeraX_command_open)\n",
    "print(chimeraX_command_volume)"
   ]
  },
  {
   "cell_type": "code",
   "execution_count": null,
   "metadata": {
    "collapsed": true
   },
   "outputs": [],
   "source": []
  }
 ],
 "metadata": {
  "kernelspec": {
   "display_name": "Python 3",
   "language": "python",
   "name": "python3"
  },
  "language_info": {
   "codemirror_mode": {
    "name": "ipython",
    "version": 3
   },
   "file_extension": ".py",
   "mimetype": "text/x-python",
   "name": "python",
   "nbconvert_exporter": "python",
   "pygments_lexer": "ipython3",
   "version": "3.6.3"
  }
 },
 "nbformat": 4,
 "nbformat_minor": 2
}
