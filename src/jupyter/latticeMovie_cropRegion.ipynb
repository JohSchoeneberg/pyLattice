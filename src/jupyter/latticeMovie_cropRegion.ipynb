{
 "cells": [
  {
   "cell_type": "code",
   "execution_count": 8,
   "metadata": {
    "collapsed": true
   },
   "outputs": [],
   "source": [
    "# by Joh Schoeneberg, 2018\n",
    "# BSD 3-clause licence\n",
    "\n",
    "%matplotlib inline\n",
    "import numpy as np\n",
    "import matplotlib.pyplot as plt\n",
    "\n",
    "from numpy import genfromtxt\n",
    "\n",
    "\n",
    "import pandas as pd\n",
    "\n",
    "from mpl_toolkits import mplot3d\n",
    "#%matplotlib notebook\n",
    "\n",
    "\n",
    "\n",
    "#import cv2\n",
    "import pims\n",
    "from PIL import Image\n",
    "\n",
    "import skimage\n",
    "\n",
    "import json\n",
    "\n",
    "#pyLattice modules / functions\n",
    "import sys\n",
    "pythonPackagePath = \"/Users/johannesschoeneberg/git/pyLattice/src/python/\"\n",
    "sys.path.append(pythonPackagePath+\"/modules\")\n",
    "import TiffProcessing as tiffproc\n",
    "import InputProcessing as inproc\n",
    "sys.path.append(pythonPackagePath+\"/classes\")\n",
    "import Track"
   ]
  },
  {
   "cell_type": "markdown",
   "metadata": {},
   "source": [
    "# input"
   ]
  },
  {
   "cell_type": "code",
   "execution_count": 9,
   "metadata": {},
   "outputs": [
    {
     "name": "stdout",
     "output_type": "stream",
     "text": [
      "5689.0\n",
      "output_560\n"
     ]
    },
    {
     "data": {
      "text/html": [
       "<style  type=\"text/css\" >\n",
       "    #T_dbb9f214_6aaf_11e8_ad55_784f438ca174row0_col0 {\n",
       "            text-align:  left;\n",
       "        }    #T_dbb9f214_6aaf_11e8_ad55_784f438ca174row0_col1 {\n",
       "            text-align:  left;\n",
       "        }    #T_dbb9f214_6aaf_11e8_ad55_784f438ca174row1_col0 {\n",
       "            text-align:  left;\n",
       "        }    #T_dbb9f214_6aaf_11e8_ad55_784f438ca174row1_col1 {\n",
       "            text-align:  left;\n",
       "        }    #T_dbb9f214_6aaf_11e8_ad55_784f438ca174row2_col0 {\n",
       "            text-align:  left;\n",
       "        }    #T_dbb9f214_6aaf_11e8_ad55_784f438ca174row2_col1 {\n",
       "            text-align:  left;\n",
       "        }    #T_dbb9f214_6aaf_11e8_ad55_784f438ca174row3_col0 {\n",
       "            text-align:  left;\n",
       "        }    #T_dbb9f214_6aaf_11e8_ad55_784f438ca174row3_col1 {\n",
       "            text-align:  left;\n",
       "        }    #T_dbb9f214_6aaf_11e8_ad55_784f438ca174row4_col0 {\n",
       "            text-align:  left;\n",
       "        }    #T_dbb9f214_6aaf_11e8_ad55_784f438ca174row4_col1 {\n",
       "            text-align:  left;\n",
       "        }    #T_dbb9f214_6aaf_11e8_ad55_784f438ca174row5_col0 {\n",
       "            text-align:  left;\n",
       "        }    #T_dbb9f214_6aaf_11e8_ad55_784f438ca174row5_col1 {\n",
       "            text-align:  left;\n",
       "        }    #T_dbb9f214_6aaf_11e8_ad55_784f438ca174row6_col0 {\n",
       "            text-align:  left;\n",
       "        }    #T_dbb9f214_6aaf_11e8_ad55_784f438ca174row6_col1 {\n",
       "            text-align:  left;\n",
       "        }    #T_dbb9f214_6aaf_11e8_ad55_784f438ca174row7_col0 {\n",
       "            text-align:  left;\n",
       "        }    #T_dbb9f214_6aaf_11e8_ad55_784f438ca174row7_col1 {\n",
       "            text-align:  left;\n",
       "        }    #T_dbb9f214_6aaf_11e8_ad55_784f438ca174row8_col0 {\n",
       "            text-align:  left;\n",
       "        }    #T_dbb9f214_6aaf_11e8_ad55_784f438ca174row8_col1 {\n",
       "            text-align:  left;\n",
       "        }    #T_dbb9f214_6aaf_11e8_ad55_784f438ca174row9_col0 {\n",
       "            text-align:  left;\n",
       "        }    #T_dbb9f214_6aaf_11e8_ad55_784f438ca174row9_col1 {\n",
       "            text-align:  left;\n",
       "        }    #T_dbb9f214_6aaf_11e8_ad55_784f438ca174row10_col0 {\n",
       "            text-align:  left;\n",
       "        }    #T_dbb9f214_6aaf_11e8_ad55_784f438ca174row10_col1 {\n",
       "            text-align:  left;\n",
       "        }    #T_dbb9f214_6aaf_11e8_ad55_784f438ca174row11_col0 {\n",
       "            text-align:  left;\n",
       "        }    #T_dbb9f214_6aaf_11e8_ad55_784f438ca174row11_col1 {\n",
       "            text-align:  left;\n",
       "        }    #T_dbb9f214_6aaf_11e8_ad55_784f438ca174row12_col0 {\n",
       "            text-align:  left;\n",
       "        }    #T_dbb9f214_6aaf_11e8_ad55_784f438ca174row12_col1 {\n",
       "            text-align:  left;\n",
       "        }    #T_dbb9f214_6aaf_11e8_ad55_784f438ca174row13_col0 {\n",
       "            text-align:  left;\n",
       "        }    #T_dbb9f214_6aaf_11e8_ad55_784f438ca174row13_col1 {\n",
       "            text-align:  left;\n",
       "        }    #T_dbb9f214_6aaf_11e8_ad55_784f438ca174row14_col0 {\n",
       "            text-align:  left;\n",
       "        }    #T_dbb9f214_6aaf_11e8_ad55_784f438ca174row14_col1 {\n",
       "            text-align:  left;\n",
       "        }    #T_dbb9f214_6aaf_11e8_ad55_784f438ca174row15_col0 {\n",
       "            text-align:  left;\n",
       "        }    #T_dbb9f214_6aaf_11e8_ad55_784f438ca174row15_col1 {\n",
       "            text-align:  left;\n",
       "        }    #T_dbb9f214_6aaf_11e8_ad55_784f438ca174row16_col0 {\n",
       "            text-align:  left;\n",
       "        }    #T_dbb9f214_6aaf_11e8_ad55_784f438ca174row16_col1 {\n",
       "            text-align:  left;\n",
       "        }    #T_dbb9f214_6aaf_11e8_ad55_784f438ca174row17_col0 {\n",
       "            text-align:  left;\n",
       "        }    #T_dbb9f214_6aaf_11e8_ad55_784f438ca174row17_col1 {\n",
       "            text-align:  left;\n",
       "        }    #T_dbb9f214_6aaf_11e8_ad55_784f438ca174row18_col0 {\n",
       "            text-align:  left;\n",
       "        }    #T_dbb9f214_6aaf_11e8_ad55_784f438ca174row18_col1 {\n",
       "            text-align:  left;\n",
       "        }    #T_dbb9f214_6aaf_11e8_ad55_784f438ca174row19_col0 {\n",
       "            text-align:  left;\n",
       "        }    #T_dbb9f214_6aaf_11e8_ad55_784f438ca174row19_col1 {\n",
       "            text-align:  left;\n",
       "        }    #T_dbb9f214_6aaf_11e8_ad55_784f438ca174row20_col0 {\n",
       "            text-align:  left;\n",
       "        }    #T_dbb9f214_6aaf_11e8_ad55_784f438ca174row20_col1 {\n",
       "            text-align:  left;\n",
       "        }    #T_dbb9f214_6aaf_11e8_ad55_784f438ca174row21_col0 {\n",
       "            text-align:  left;\n",
       "        }    #T_dbb9f214_6aaf_11e8_ad55_784f438ca174row21_col1 {\n",
       "            text-align:  left;\n",
       "        }    #T_dbb9f214_6aaf_11e8_ad55_784f438ca174row22_col0 {\n",
       "            text-align:  left;\n",
       "        }    #T_dbb9f214_6aaf_11e8_ad55_784f438ca174row22_col1 {\n",
       "            text-align:  left;\n",
       "        }    #T_dbb9f214_6aaf_11e8_ad55_784f438ca174row23_col0 {\n",
       "            text-align:  left;\n",
       "        }    #T_dbb9f214_6aaf_11e8_ad55_784f438ca174row23_col1 {\n",
       "            text-align:  left;\n",
       "        }</style>  \n",
       "<table id=\"T_dbb9f214_6aaf_11e8_ad55_784f438ca174\" > \n",
       "<thead>    <tr> \n",
       "        <th class=\"blank level0\" ></th> \n",
       "        <th class=\"col_heading level0 col0\" >key</th> \n",
       "        <th class=\"col_heading level0 col1\" >value</th> \n",
       "    </tr></thead> \n",
       "<tbody>    <tr> \n",
       "        <th id=\"T_dbb9f214_6aaf_11e8_ad55_784f438ca174level0_row0\" class=\"row_heading level0 row0\" >0</th> \n",
       "        <td id=\"T_dbb9f214_6aaf_11e8_ad55_784f438ca174row0_col0\" class=\"data row0 col0\" >inputDataFolder</td> \n",
       "        <td id=\"T_dbb9f214_6aaf_11e8_ad55_784f438ca174row0_col1\" class=\"data row0 col1\" > /Users/johannesschoeneberg/git/pyLattice/input/imaging_data</td> \n",
       "    </tr>    <tr> \n",
       "        <th id=\"T_dbb9f214_6aaf_11e8_ad55_784f438ca174level0_row1\" class=\"row_heading level0 row1\" >1</th> \n",
       "        <td id=\"T_dbb9f214_6aaf_11e8_ad55_784f438ca174row1_col0\" class=\"data row1 col0\" >outputDataFolder</td> \n",
       "        <td id=\"T_dbb9f214_6aaf_11e8_ad55_784f438ca174row1_col1\" class=\"data row1 col1\" > /Users/johannesschoeneberg/git/pyLattice/input/imaging_data/output</td> \n",
       "    </tr>    <tr> \n",
       "        <th id=\"T_dbb9f214_6aaf_11e8_ad55_784f438ca174level0_row2\" class=\"row_heading level0 row2\" >2</th> \n",
       "        <td id=\"T_dbb9f214_6aaf_11e8_ad55_784f438ca174row2_col0\" class=\"data row2 col0\" >movieLength</td> \n",
       "        <td id=\"T_dbb9f214_6aaf_11e8_ad55_784f438ca174row2_col1\" class=\"data row2 col1\" > 10</td> \n",
       "    </tr>    <tr> \n",
       "        <th id=\"T_dbb9f214_6aaf_11e8_ad55_784f438ca174level0_row3\" class=\"row_heading level0 row3\" >3</th> \n",
       "        <td id=\"T_dbb9f214_6aaf_11e8_ad55_784f438ca174row3_col0\" class=\"data row3 col0\" >allowedMaxNumDetectionsPerFrame</td> \n",
       "        <td id=\"T_dbb9f214_6aaf_11e8_ad55_784f438ca174row3_col1\" class=\"data row3 col1\" > 3000 -- deprecated</td> \n",
       "    </tr>    <tr> \n",
       "        <th id=\"T_dbb9f214_6aaf_11e8_ad55_784f438ca174level0_row4\" class=\"row_heading level0 row4\" >4</th> \n",
       "        <td id=\"T_dbb9f214_6aaf_11e8_ad55_784f438ca174row4_col0\" class=\"data row4 col0\" >detectionAmplitudeCutoff</td> \n",
       "        <td id=\"T_dbb9f214_6aaf_11e8_ad55_784f438ca174row4_col1\" class=\"data row4 col1\" > 7000</td> \n",
       "    </tr>    <tr> \n",
       "        <th id=\"T_dbb9f214_6aaf_11e8_ad55_784f438ca174level0_row5\" class=\"row_heading level0 row5\" >5</th> \n",
       "        <td id=\"T_dbb9f214_6aaf_11e8_ad55_784f438ca174row5_col0\" class=\"data row5 col0\" >framerate_msec</td> \n",
       "        <td id=\"T_dbb9f214_6aaf_11e8_ad55_784f438ca174row5_col1\" class=\"data row5 col1\" > 5689</td> \n",
       "    </tr>    <tr> \n",
       "        <th id=\"T_dbb9f214_6aaf_11e8_ad55_784f438ca174level0_row6\" class=\"row_heading level0 row6\" >6</th> \n",
       "        <td id=\"T_dbb9f214_6aaf_11e8_ad55_784f438ca174row6_col0\" class=\"data row6 col0\" >detectionFilename</td> \n",
       "        <td id=\"T_dbb9f214_6aaf_11e8_ad55_784f438ca174row6_col1\" class=\"data row6 col1\" > Detection3D.mat</td> \n",
       "    </tr>    <tr> \n",
       "        <th id=\"T_dbb9f214_6aaf_11e8_ad55_784f438ca174level0_row7\" class=\"row_heading level0 row7\" >7</th> \n",
       "        <td id=\"T_dbb9f214_6aaf_11e8_ad55_784f438ca174row7_col0\" class=\"data row7 col0\" >trackingFilename</td> \n",
       "        <td id=\"T_dbb9f214_6aaf_11e8_ad55_784f438ca174row7_col1\" class=\"data row7 col1\" > trackedFeatures.mat</td> \n",
       "    </tr>    <tr> \n",
       "        <th id=\"T_dbb9f214_6aaf_11e8_ad55_784f438ca174level0_row8\" class=\"row_heading level0 row8\" >8</th> \n",
       "        <td id=\"T_dbb9f214_6aaf_11e8_ad55_784f438ca174row8_col0\" class=\"data row8 col0\" >trackingCsvFilename</td> \n",
       "        <td id=\"T_dbb9f214_6aaf_11e8_ad55_784f438ca174row8_col1\" class=\"data row8 col1\" > trackedFeatures.csv</td> \n",
       "    </tr>    <tr> \n",
       "        <th id=\"T_dbb9f214_6aaf_11e8_ad55_784f438ca174level0_row9\" class=\"row_heading level0 row9\" >9</th> \n",
       "        <td id=\"T_dbb9f214_6aaf_11e8_ad55_784f438ca174row9_col0\" class=\"data row9 col0\" >trackingFilenameProcessed</td> \n",
       "        <td id=\"T_dbb9f214_6aaf_11e8_ad55_784f438ca174row9_col1\" class=\"data row9 col1\" > trackedFeaturesProcessed.mat</td> \n",
       "    </tr>    <tr> \n",
       "        <th id=\"T_dbb9f214_6aaf_11e8_ad55_784f438ca174level0_row10\" class=\"row_heading level0 row10\" >10</th> \n",
       "        <td id=\"T_dbb9f214_6aaf_11e8_ad55_784f438ca174row10_col0\" class=\"data row10 col0\" >trackingCsvFilenameProcessed</td> \n",
       "        <td id=\"T_dbb9f214_6aaf_11e8_ad55_784f438ca174row10_col1\" class=\"data row10 col1\" > trackedFeaturesProcessed.csv</td> \n",
       "    </tr>    <tr> \n",
       "        <th id=\"T_dbb9f214_6aaf_11e8_ad55_784f438ca174level0_row11\" class=\"row_heading level0 row11\" >11</th> \n",
       "        <td id=\"T_dbb9f214_6aaf_11e8_ad55_784f438ca174row11_col0\" class=\"data row11 col0\" >lifetimeFilename</td> \n",
       "        <td id=\"T_dbb9f214_6aaf_11e8_ad55_784f438ca174row11_col1\" class=\"data row11 col1\" > lifetimeData.mat</td> \n",
       "    </tr>    <tr> \n",
       "        <th id=\"T_dbb9f214_6aaf_11e8_ad55_784f438ca174level0_row12\" class=\"row_heading level0 row12\" >12</th> \n",
       "        <td id=\"T_dbb9f214_6aaf_11e8_ad55_784f438ca174row12_col0\" class=\"data row12 col0\" >master_sigma_detectionLoG</td> \n",
       "        <td id=\"T_dbb9f214_6aaf_11e8_ad55_784f438ca174row12_col1\" class=\"data row12 col1\" > 1.1</td> \n",
       "    </tr>    <tr> \n",
       "        <th id=\"T_dbb9f214_6aaf_11e8_ad55_784f438ca174level0_row13\" class=\"row_heading level0 row13\" >13</th> \n",
       "        <td id=\"T_dbb9f214_6aaf_11e8_ad55_784f438ca174row13_col0\" class=\"data row13 col0\" >master_outputDataFolder</td> \n",
       "        <td id=\"T_dbb9f214_6aaf_11e8_ad55_784f438ca174row13_col1\" class=\"data row13 col1\" > output_560</td> \n",
       "    </tr>    <tr> \n",
       "        <th id=\"T_dbb9f214_6aaf_11e8_ad55_784f438ca174level0_row14\" class=\"row_heading level0 row14\" >14</th> \n",
       "        <td id=\"T_dbb9f214_6aaf_11e8_ad55_784f438ca174row14_col0\" class=\"data row14 col0\" >master_uniqueFilenameString</td> \n",
       "        <td id=\"T_dbb9f214_6aaf_11e8_ad55_784f438ca174row14_col1\" class=\"data row14 col1\" > _560_</td> \n",
       "    </tr>    <tr> \n",
       "        <th id=\"T_dbb9f214_6aaf_11e8_ad55_784f438ca174level0_row15\" class=\"row_heading level0 row15\" >15</th> \n",
       "        <td id=\"T_dbb9f214_6aaf_11e8_ad55_784f438ca174row15_col0\" class=\"data row15 col0\" >master_trackColor</td> \n",
       "        <td id=\"T_dbb9f214_6aaf_11e8_ad55_784f438ca174row15_col1\" class=\"data row15 col1\" > purple</td> \n",
       "    </tr>    <tr> \n",
       "        <th id=\"T_dbb9f214_6aaf_11e8_ad55_784f438ca174level0_row16\" class=\"row_heading level0 row16\" >16</th> \n",
       "        <td id=\"T_dbb9f214_6aaf_11e8_ad55_784f438ca174row16_col0\" class=\"data row16 col0\" >master_trackingBildFilename</td> \n",
       "        <td id=\"T_dbb9f214_6aaf_11e8_ad55_784f438ca174row16_col1\" class=\"data row16 col1\" > tracks.bild</td> \n",
       "    </tr>    <tr> \n",
       "        <th id=\"T_dbb9f214_6aaf_11e8_ad55_784f438ca174level0_row17\" class=\"row_heading level0 row17\" >17</th> \n",
       "        <td id=\"T_dbb9f214_6aaf_11e8_ad55_784f438ca174row17_col0\" class=\"data row17 col0\" >master_trackingProcessedBildFilename</td> \n",
       "        <td id=\"T_dbb9f214_6aaf_11e8_ad55_784f438ca174row17_col1\" class=\"data row17 col1\" > tracksProcessed.bild</td> \n",
       "    </tr>    <tr> \n",
       "        <th id=\"T_dbb9f214_6aaf_11e8_ad55_784f438ca174level0_row18\" class=\"row_heading level0 row18\" >18</th> \n",
       "        <td id=\"T_dbb9f214_6aaf_11e8_ad55_784f438ca174row18_col0\" class=\"data row18 col0\" >slave_sigma_detectionLoG</td> \n",
       "        <td id=\"T_dbb9f214_6aaf_11e8_ad55_784f438ca174row18_col1\" class=\"data row18 col1\" > 1.1</td> \n",
       "    </tr>    <tr> \n",
       "        <th id=\"T_dbb9f214_6aaf_11e8_ad55_784f438ca174level0_row19\" class=\"row_heading level0 row19\" >19</th> \n",
       "        <td id=\"T_dbb9f214_6aaf_11e8_ad55_784f438ca174row19_col0\" class=\"data row19 col0\" >slave_outputDataFolder</td> \n",
       "        <td id=\"T_dbb9f214_6aaf_11e8_ad55_784f438ca174row19_col1\" class=\"data row19 col1\" > output_488</td> \n",
       "    </tr>    <tr> \n",
       "        <th id=\"T_dbb9f214_6aaf_11e8_ad55_784f438ca174level0_row20\" class=\"row_heading level0 row20\" >20</th> \n",
       "        <td id=\"T_dbb9f214_6aaf_11e8_ad55_784f438ca174row20_col0\" class=\"data row20 col0\" >slave_uniqueFilenameString</td> \n",
       "        <td id=\"T_dbb9f214_6aaf_11e8_ad55_784f438ca174row20_col1\" class=\"data row20 col1\" > _488_</td> \n",
       "    </tr>    <tr> \n",
       "        <th id=\"T_dbb9f214_6aaf_11e8_ad55_784f438ca174level0_row21\" class=\"row_heading level0 row21\" >21</th> \n",
       "        <td id=\"T_dbb9f214_6aaf_11e8_ad55_784f438ca174row21_col0\" class=\"data row21 col0\" >slave_trackColor</td> \n",
       "        <td id=\"T_dbb9f214_6aaf_11e8_ad55_784f438ca174row21_col1\" class=\"data row21 col1\" > green</td> \n",
       "    </tr>    <tr> \n",
       "        <th id=\"T_dbb9f214_6aaf_11e8_ad55_784f438ca174level0_row22\" class=\"row_heading level0 row22\" >22</th> \n",
       "        <td id=\"T_dbb9f214_6aaf_11e8_ad55_784f438ca174row22_col0\" class=\"data row22 col0\" >slave_trackingBildFilename</td> \n",
       "        <td id=\"T_dbb9f214_6aaf_11e8_ad55_784f438ca174row22_col1\" class=\"data row22 col1\" > tracks.bild</td> \n",
       "    </tr>    <tr> \n",
       "        <th id=\"T_dbb9f214_6aaf_11e8_ad55_784f438ca174level0_row23\" class=\"row_heading level0 row23\" >23</th> \n",
       "        <td id=\"T_dbb9f214_6aaf_11e8_ad55_784f438ca174row23_col0\" class=\"data row23 col0\" >slave_trackingProcessedBildFilename</td> \n",
       "        <td id=\"T_dbb9f214_6aaf_11e8_ad55_784f438ca174row23_col1\" class=\"data row23 col1\" > tracksProcessed.bild</td> \n",
       "    </tr></tbody> \n",
       "</table> "
      ],
      "text/plain": [
       "<pandas.io.formats.style.Styler at 0x11618d208>"
      ]
     },
     "execution_count": 9,
     "metadata": {},
     "output_type": "execute_result"
    }
   ],
   "source": [
    "inputParameters = pd.read_csv(pythonPackagePath+'../../input/imaging_data/_inputParameters.csv',names=['key','value'])\n",
    "\n",
    "\n",
    "inputDataFolder = inproc.getInputParameter(inputParameters,\"inputDataFolder\")\n",
    "outputDataFolder = inproc.getInputParameter(inputParameters,\"outputDataFolder\")\n",
    "\n",
    "trackingCsvFilename = inproc.getInputParameter(inputParameters,\"trackingCsvFilename\")\n",
    "trackingCsvFilenameProcessed = inproc.getInputParameter(inputParameters,\"trackingCsvFilenameProcessed\")\n",
    "\n",
    "slave_outputDataFolder  = inproc.getInputParameter(inputParameters,\"slave_outputDataFolder\")\n",
    "master_outputDataFolder  = inproc.getInputParameter(inputParameters,\"master_outputDataFolder\")\n",
    "\n",
    "slave_uniqueFilenameString = inproc.getInputParameter(inputParameters,\"slave_uniqueFilenameString\")\n",
    "master_uniqueFilenameString = inproc.getInputParameter(inputParameters,\"master_uniqueFilenameString\")\n",
    "\n",
    "\n",
    "slave_trackingProcessedBildFilename = inproc.getInputParameter(inputParameters,\"slave_trackingProcessedBildFilename\")\n",
    "master_trackingProcessedBildFilename = inproc.getInputParameter(inputParameters,\"master_trackingProcessedBildFilename\")\n",
    "\n",
    "\n",
    "\n",
    "framerate_msec = float(inproc.getInputParameter(inputParameters,\"framerate_msec\"))\n",
    "movieLength = int(inproc.getInputParameter(inputParameters,\"movieLength\"))\n",
    "\n",
    "\n",
    "print(framerate_msec)\n",
    "\n",
    "print(master_outputDataFolder)\n",
    "\n",
    "inputParameters.style.set_properties(**{'text-align': 'left'})"
   ]
  },
  {
   "cell_type": "code",
   "execution_count": 78,
   "metadata": {},
   "outputs": [
    {
     "name": "stdout",
     "output_type": "stream",
     "text": [
      "--- folder searched in: /Users/johannesschoeneberg/git/pyLattice/input/imaging_data\n",
      "--- example of files found: cropped_560_pm50px_maxAmpl_0001.tif_ratioCorrected.tif\n",
      "--- number of files found: 10\n",
      "--- folder searched in: /Users/johannesschoeneberg/git/pyLattice/input/imaging_data\n",
      "--- example of files found: cropped_488_pm50px_maxAmpl_0001.tif_ratioCorrected.tif\n",
      "--- number of files found: 10\n",
      "['cropped_560_pm50px_maxAmpl_0001.tif_ratioCorrected.tif'\n",
      " 'cropped_560_pm50px_maxAmpl_0002.tif_ratioCorrected.tif'\n",
      " 'cropped_560_pm50px_maxAmpl_0003.tif_ratioCorrected.tif'\n",
      " 'cropped_560_pm50px_maxAmpl_0004.tif_ratioCorrected.tif'\n",
      " 'cropped_560_pm50px_maxAmpl_0005.tif_ratioCorrected.tif'\n",
      " 'cropped_560_pm50px_maxAmpl_0006.tif_ratioCorrected.tif'\n",
      " 'cropped_560_pm50px_maxAmpl_0007.tif_ratioCorrected.tif'\n",
      " 'cropped_560_pm50px_maxAmpl_0008.tif_ratioCorrected.tif'\n",
      " 'cropped_560_pm50px_maxAmpl_0009.tif_ratioCorrected.tif'\n",
      " 'cropped_560_pm50px_maxAmpl_0010.tif_ratioCorrected.tif']\n",
      "(100, 100, 100)\n"
     ]
    },
    {
     "data": {
      "text/plain": [
       "Text(0.5,0,'xaxis')"
      ]
     },
     "execution_count": 78,
     "metadata": {},
     "output_type": "execute_result"
    },
    {
     "data": {
      "image/png": "[encoded data removed]",
      "text/plain": [
       "<matplotlib.figure.Figure at 0x81cc90940>"
      ]
     },
     "metadata": {},
     "output_type": "display_data"
    }
   ],
   "source": [
    "master_filesOfInterest = inproc.getFilenamesOfInputTiffFiles(inputDataFolder,master_uniqueFilenameString)\n",
    "slave_filesOfInterest = inproc.getFilenamesOfInputTiffFiles(inputDataFolder,slave_uniqueFilenameString)\n",
    "\n",
    "print(master_filesOfInterest)\n",
    "latticeMovieFrame = skimage.external.tifffile.imread(inputDataFolder+'/'+master_filesOfInterest[5])\n",
    "print(latticeMovieFrame.shape)\n",
    "plt.imshow(latticeMovieFrame[50])\n",
    "plt.ylabel('yaxis')\n",
    "plt.xlabel('xaxis')"
   ]
  },
  {
   "cell_type": "markdown",
   "metadata": {},
   "source": [
    "# Crop a volume out of the movie"
   ]
  },
  {
   "cell_type": "code",
   "execution_count": 79,
   "metadata": {
    "collapsed": true
   },
   "outputs": [],
   "source": [
    "# input is in [x,y,z], attention: numpy array images are indexed z,y,x\n",
    "def cropLatticeFrame(frame,center,margin):\n",
    "    zMax,yMax,xMax = frame.shape\n",
    "    startx = max(center[0]-margin[0],0)\n",
    "    endx = min(center[0]+margin[0],xMax)\n",
    "    \n",
    "    starty = max(center[1]-margin[1],0)\n",
    "    endy = min(center[1]+margin[1],yMax)\n",
    "    \n",
    "    startz = max(center[2]-margin[2],0)\n",
    "    endz = min(center[2]+margin[2],xMax)\n",
    "    \n",
    "    return frame[startz:endz,starty:endy,startx:endx]"
   ]
  },
  {
   "cell_type": "code",
   "execution_count": 81,
   "metadata": {},
   "outputs": [
    {
     "name": "stdout",
     "output_type": "stream",
     "text": [
      "0\n",
      "1\n",
      "2\n",
      "3\n",
      "4\n",
      "5\n",
      "6\n",
      "7\n",
      "8\n",
      "9\n"
     ]
    }
   ],
   "source": [
    "center = np.array([80,65,50])\n",
    "margin = np.array([25,25,25])\n",
    "\n",
    "for i in range(0,movieLength):\n",
    "    print(i)\n",
    "    \n",
    "    path = inputDataFolder+'/'+master_filesOfInterest[i]\n",
    "    #print('ch0',path)\n",
    "    \n",
    "    latticeMovieFrame = skimage.external.tifffile.imread(path)\n",
    "    cropped = cropLatticeFrame(latticeMovieFrame,center.astype(int),margin.astype(int))\n",
    "    skimage.external.tifffile.imsave(outputDataFolder+'/'+master_outputDataFolder+'/cropped_master_'+str(i).zfill(4)+'.tif', cropped)\n",
    "    \n",
    "    path = inputDataFolder+'/'+slave_filesOfInterest[i]\n",
    "    #print('ch1',path)\n",
    "    \n",
    "    latticeMovieFrame = skimage.external.tifffile.imread(path)\n",
    "    cropped = cropLatticeFrame(latticeMovieFrame,center.astype(int),margin.astype(int))\n",
    "    skimage.external.tifffile.imsave(outputDataFolder+'/'+slave_outputDataFolder+'/cropped_slave_'+str(i).zfill(4) +'.tif', cropped)\n",
    "    "
   ]
  },
  {
   "cell_type": "code",
   "execution_count": 77,
   "metadata": {},
   "outputs": [
    {
     "data": {
      "text/plain": [
       "<matplotlib.image.AxesImage at 0x81c1e89b0>"
      ]
     },
     "execution_count": 77,
     "metadata": {},
     "output_type": "execute_result"
    },
    {
     "data": {
      "image/png": "[encoded data removed]",
      "text/plain": [
       "<matplotlib.figure.Figure at 0x1176738d0>"
      ]
     },
     "metadata": {},
     "output_type": "display_data"
    }
   ],
   "source": [
    "# plot the resulting cropped \n",
    "i=0\n",
    "croppedlatticeMovieFrame = skimage.external.tifffile.imread(outputDataFolder+'/'+master_outputDataFolder+'/cropped_master_'+str(i).zfill(4)+'.tif')\n",
    "plt.imshow(croppedlatticeMovieFrame[margin[0]])"
   ]
  }
 ],
 "metadata": {
  "kernelspec": {
   "display_name": "Python 3",
   "language": "python",
   "name": "python3"
  },
  "language_info": {
   "codemirror_mode": {
    "name": "ipython",
    "version": 3
   },
   "file_extension": ".py",
   "mimetype": "text/x-python",
   "name": "python",
   "nbconvert_exporter": "python",
   "pygments_lexer": "ipython3",
   "version": "3.6.3"
  }
 },
 "nbformat": 4,
 "nbformat_minor": 2
}
