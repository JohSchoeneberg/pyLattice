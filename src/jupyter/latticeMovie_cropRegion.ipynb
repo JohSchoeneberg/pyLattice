{
 "cells": [
  {
   "cell_type": "code",
   "execution_count": 3,
   "metadata": {
    "collapsed": true
   },
   "outputs": [],
   "source": [
    "%matplotlib inline\n",
    "import numpy as np\n",
    "import matplotlib.pyplot as plt\n",
    "\n",
    "from numpy import genfromtxt\n",
    "\n",
    "\n",
    "import pandas as pd\n",
    "\n",
    "from mpl_toolkits import mplot3d\n",
    "#%matplotlib notebook\n",
    "\n",
    "\n",
    "\n",
    "#import cv2\n",
    "import pims\n",
    "from PIL import Image\n",
    "\n",
    "import skimage\n",
    "\n",
    "import json\n",
    "\n",
    "import pylattice\n",
    "\n",
    "import pylattice.functions.InputProcessing as inproc\n",
    "import pylattice.functions.TiffProcessing as tiffproc\n",
    "import pylattice.classes.Track as Track\n",
    "\n"
   ]
  },
  {
   "cell_type": "markdown",
   "metadata": {},
   "source": [
    "# input"
   ]
  },
  {
   "cell_type": "code",
   "execution_count": 4,
   "metadata": {},
   "outputs": [
    {
     "name": "stdout",
     "output_type": "stream",
     "text": [
      "5689.0\n",
      "output_560\n"
     ]
    },
    {
     "data": {
      "text/html": [
       "<style  type=\"text/css\" >\n",
       "    #T_d8c1683e_944f_11e8_90a1_784f438ca174row0_col0 {\n",
       "            text-align:  left;\n",
       "        }    #T_d8c1683e_944f_11e8_90a1_784f438ca174row0_col1 {\n",
       "            text-align:  left;\n",
       "        }    #T_d8c1683e_944f_11e8_90a1_784f438ca174row1_col0 {\n",
       "            text-align:  left;\n",
       "        }    #T_d8c1683e_944f_11e8_90a1_784f438ca174row1_col1 {\n",
       "            text-align:  left;\n",
       "        }    #T_d8c1683e_944f_11e8_90a1_784f438ca174row2_col0 {\n",
       "            text-align:  left;\n",
       "        }    #T_d8c1683e_944f_11e8_90a1_784f438ca174row2_col1 {\n",
       "            text-align:  left;\n",
       "        }    #T_d8c1683e_944f_11e8_90a1_784f438ca174row3_col0 {\n",
       "            text-align:  left;\n",
       "        }    #T_d8c1683e_944f_11e8_90a1_784f438ca174row3_col1 {\n",
       "            text-align:  left;\n",
       "        }    #T_d8c1683e_944f_11e8_90a1_784f438ca174row4_col0 {\n",
       "            text-align:  left;\n",
       "        }    #T_d8c1683e_944f_11e8_90a1_784f438ca174row4_col1 {\n",
       "            text-align:  left;\n",
       "        }    #T_d8c1683e_944f_11e8_90a1_784f438ca174row5_col0 {\n",
       "            text-align:  left;\n",
       "        }    #T_d8c1683e_944f_11e8_90a1_784f438ca174row5_col1 {\n",
       "            text-align:  left;\n",
       "        }    #T_d8c1683e_944f_11e8_90a1_784f438ca174row6_col0 {\n",
       "            text-align:  left;\n",
       "        }    #T_d8c1683e_944f_11e8_90a1_784f438ca174row6_col1 {\n",
       "            text-align:  left;\n",
       "        }    #T_d8c1683e_944f_11e8_90a1_784f438ca174row7_col0 {\n",
       "            text-align:  left;\n",
       "        }    #T_d8c1683e_944f_11e8_90a1_784f438ca174row7_col1 {\n",
       "            text-align:  left;\n",
       "        }    #T_d8c1683e_944f_11e8_90a1_784f438ca174row8_col0 {\n",
       "            text-align:  left;\n",
       "        }    #T_d8c1683e_944f_11e8_90a1_784f438ca174row8_col1 {\n",
       "            text-align:  left;\n",
       "        }    #T_d8c1683e_944f_11e8_90a1_784f438ca174row9_col0 {\n",
       "            text-align:  left;\n",
       "        }    #T_d8c1683e_944f_11e8_90a1_784f438ca174row9_col1 {\n",
       "            text-align:  left;\n",
       "        }    #T_d8c1683e_944f_11e8_90a1_784f438ca174row10_col0 {\n",
       "            text-align:  left;\n",
       "        }    #T_d8c1683e_944f_11e8_90a1_784f438ca174row10_col1 {\n",
       "            text-align:  left;\n",
       "        }    #T_d8c1683e_944f_11e8_90a1_784f438ca174row11_col0 {\n",
       "            text-align:  left;\n",
       "        }    #T_d8c1683e_944f_11e8_90a1_784f438ca174row11_col1 {\n",
       "            text-align:  left;\n",
       "        }    #T_d8c1683e_944f_11e8_90a1_784f438ca174row12_col0 {\n",
       "            text-align:  left;\n",
       "        }    #T_d8c1683e_944f_11e8_90a1_784f438ca174row12_col1 {\n",
       "            text-align:  left;\n",
       "        }    #T_d8c1683e_944f_11e8_90a1_784f438ca174row13_col0 {\n",
       "            text-align:  left;\n",
       "        }    #T_d8c1683e_944f_11e8_90a1_784f438ca174row13_col1 {\n",
       "            text-align:  left;\n",
       "        }    #T_d8c1683e_944f_11e8_90a1_784f438ca174row14_col0 {\n",
       "            text-align:  left;\n",
       "        }    #T_d8c1683e_944f_11e8_90a1_784f438ca174row14_col1 {\n",
       "            text-align:  left;\n",
       "        }    #T_d8c1683e_944f_11e8_90a1_784f438ca174row15_col0 {\n",
       "            text-align:  left;\n",
       "        }    #T_d8c1683e_944f_11e8_90a1_784f438ca174row15_col1 {\n",
       "            text-align:  left;\n",
       "        }    #T_d8c1683e_944f_11e8_90a1_784f438ca174row16_col0 {\n",
       "            text-align:  left;\n",
       "        }    #T_d8c1683e_944f_11e8_90a1_784f438ca174row16_col1 {\n",
       "            text-align:  left;\n",
       "        }    #T_d8c1683e_944f_11e8_90a1_784f438ca174row17_col0 {\n",
       "            text-align:  left;\n",
       "        }    #T_d8c1683e_944f_11e8_90a1_784f438ca174row17_col1 {\n",
       "            text-align:  left;\n",
       "        }    #T_d8c1683e_944f_11e8_90a1_784f438ca174row18_col0 {\n",
       "            text-align:  left;\n",
       "        }    #T_d8c1683e_944f_11e8_90a1_784f438ca174row18_col1 {\n",
       "            text-align:  left;\n",
       "        }    #T_d8c1683e_944f_11e8_90a1_784f438ca174row19_col0 {\n",
       "            text-align:  left;\n",
       "        }    #T_d8c1683e_944f_11e8_90a1_784f438ca174row19_col1 {\n",
       "            text-align:  left;\n",
       "        }    #T_d8c1683e_944f_11e8_90a1_784f438ca174row20_col0 {\n",
       "            text-align:  left;\n",
       "        }    #T_d8c1683e_944f_11e8_90a1_784f438ca174row20_col1 {\n",
       "            text-align:  left;\n",
       "        }    #T_d8c1683e_944f_11e8_90a1_784f438ca174row21_col0 {\n",
       "            text-align:  left;\n",
       "        }    #T_d8c1683e_944f_11e8_90a1_784f438ca174row21_col1 {\n",
       "            text-align:  left;\n",
       "        }    #T_d8c1683e_944f_11e8_90a1_784f438ca174row22_col0 {\n",
       "            text-align:  left;\n",
       "        }    #T_d8c1683e_944f_11e8_90a1_784f438ca174row22_col1 {\n",
       "            text-align:  left;\n",
       "        }</style>  \n",
       "<table id=\"T_d8c1683e_944f_11e8_90a1_784f438ca174\" > \n",
       "<thead>    <tr> \n",
       "        <th class=\"blank level0\" ></th> \n",
       "        <th class=\"col_heading level0 col0\" >key</th> \n",
       "        <th class=\"col_heading level0 col1\" >value</th> \n",
       "    </tr></thead> \n",
       "<tbody>    <tr> \n",
       "        <th id=\"T_d8c1683e_944f_11e8_90a1_784f438ca174level0_row0\" class=\"row_heading level0 row0\" >0</th> \n",
       "        <td id=\"T_d8c1683e_944f_11e8_90a1_784f438ca174row0_col0\" class=\"data row0 col0\" >inputDataFolder</td> \n",
       "        <td id=\"T_d8c1683e_944f_11e8_90a1_784f438ca174row0_col1\" class=\"data row0 col1\" > ./</td> \n",
       "    </tr>    <tr> \n",
       "        <th id=\"T_d8c1683e_944f_11e8_90a1_784f438ca174level0_row1\" class=\"row_heading level0 row1\" >1</th> \n",
       "        <td id=\"T_d8c1683e_944f_11e8_90a1_784f438ca174row1_col0\" class=\"data row1 col0\" >outputDataFolder</td> \n",
       "        <td id=\"T_d8c1683e_944f_11e8_90a1_784f438ca174row1_col1\" class=\"data row1 col1\" > ./output</td> \n",
       "    </tr>    <tr> \n",
       "        <th id=\"T_d8c1683e_944f_11e8_90a1_784f438ca174level0_row2\" class=\"row_heading level0 row2\" >2</th> \n",
       "        <td id=\"T_d8c1683e_944f_11e8_90a1_784f438ca174row2_col0\" class=\"data row2 col0\" >movieLength</td> \n",
       "        <td id=\"T_d8c1683e_944f_11e8_90a1_784f438ca174row2_col1\" class=\"data row2 col1\" > 10</td> \n",
       "    </tr>    <tr> \n",
       "        <th id=\"T_d8c1683e_944f_11e8_90a1_784f438ca174level0_row3\" class=\"row_heading level0 row3\" >3</th> \n",
       "        <td id=\"T_d8c1683e_944f_11e8_90a1_784f438ca174row3_col0\" class=\"data row3 col0\" >detectionAmplitudeCutoff</td> \n",
       "        <td id=\"T_d8c1683e_944f_11e8_90a1_784f438ca174row3_col1\" class=\"data row3 col1\" > 7000</td> \n",
       "    </tr>    <tr> \n",
       "        <th id=\"T_d8c1683e_944f_11e8_90a1_784f438ca174level0_row4\" class=\"row_heading level0 row4\" >4</th> \n",
       "        <td id=\"T_d8c1683e_944f_11e8_90a1_784f438ca174row4_col0\" class=\"data row4 col0\" >framerate_msec</td> \n",
       "        <td id=\"T_d8c1683e_944f_11e8_90a1_784f438ca174row4_col1\" class=\"data row4 col1\" > 5689</td> \n",
       "    </tr>    <tr> \n",
       "        <th id=\"T_d8c1683e_944f_11e8_90a1_784f438ca174level0_row5\" class=\"row_heading level0 row5\" >5</th> \n",
       "        <td id=\"T_d8c1683e_944f_11e8_90a1_784f438ca174row5_col0\" class=\"data row5 col0\" >detectionFilename</td> \n",
       "        <td id=\"T_d8c1683e_944f_11e8_90a1_784f438ca174row5_col1\" class=\"data row5 col1\" > Detection3D.mat</td> \n",
       "    </tr>    <tr> \n",
       "        <th id=\"T_d8c1683e_944f_11e8_90a1_784f438ca174level0_row6\" class=\"row_heading level0 row6\" >6</th> \n",
       "        <td id=\"T_d8c1683e_944f_11e8_90a1_784f438ca174row6_col0\" class=\"data row6 col0\" >trackingFilename</td> \n",
       "        <td id=\"T_d8c1683e_944f_11e8_90a1_784f438ca174row6_col1\" class=\"data row6 col1\" > trackedFeatures.mat</td> \n",
       "    </tr>    <tr> \n",
       "        <th id=\"T_d8c1683e_944f_11e8_90a1_784f438ca174level0_row7\" class=\"row_heading level0 row7\" >7</th> \n",
       "        <td id=\"T_d8c1683e_944f_11e8_90a1_784f438ca174row7_col0\" class=\"data row7 col0\" >trackingCsvFilename</td> \n",
       "        <td id=\"T_d8c1683e_944f_11e8_90a1_784f438ca174row7_col1\" class=\"data row7 col1\" > trackedFeatures.csv</td> \n",
       "    </tr>    <tr> \n",
       "        <th id=\"T_d8c1683e_944f_11e8_90a1_784f438ca174level0_row8\" class=\"row_heading level0 row8\" >8</th> \n",
       "        <td id=\"T_d8c1683e_944f_11e8_90a1_784f438ca174row8_col0\" class=\"data row8 col0\" >trackingFilenameProcessed</td> \n",
       "        <td id=\"T_d8c1683e_944f_11e8_90a1_784f438ca174row8_col1\" class=\"data row8 col1\" > trackedFeaturesProcessed.mat</td> \n",
       "    </tr>    <tr> \n",
       "        <th id=\"T_d8c1683e_944f_11e8_90a1_784f438ca174level0_row9\" class=\"row_heading level0 row9\" >9</th> \n",
       "        <td id=\"T_d8c1683e_944f_11e8_90a1_784f438ca174row9_col0\" class=\"data row9 col0\" >trackingCsvFilenameProcessed</td> \n",
       "        <td id=\"T_d8c1683e_944f_11e8_90a1_784f438ca174row9_col1\" class=\"data row9 col1\" > trackedFeaturesProcessed.csv</td> \n",
       "    </tr>    <tr> \n",
       "        <th id=\"T_d8c1683e_944f_11e8_90a1_784f438ca174level0_row10\" class=\"row_heading level0 row10\" >10</th> \n",
       "        <td id=\"T_d8c1683e_944f_11e8_90a1_784f438ca174row10_col0\" class=\"data row10 col0\" >lifetimeFilename</td> \n",
       "        <td id=\"T_d8c1683e_944f_11e8_90a1_784f438ca174row10_col1\" class=\"data row10 col1\" > lifetimeData.mat</td> \n",
       "    </tr>    <tr> \n",
       "        <th id=\"T_d8c1683e_944f_11e8_90a1_784f438ca174level0_row11\" class=\"row_heading level0 row11\" >11</th> \n",
       "        <td id=\"T_d8c1683e_944f_11e8_90a1_784f438ca174row11_col0\" class=\"data row11 col0\" >master_sigma_detectionLoG</td> \n",
       "        <td id=\"T_d8c1683e_944f_11e8_90a1_784f438ca174row11_col1\" class=\"data row11 col1\" > 1.1</td> \n",
       "    </tr>    <tr> \n",
       "        <th id=\"T_d8c1683e_944f_11e8_90a1_784f438ca174level0_row12\" class=\"row_heading level0 row12\" >12</th> \n",
       "        <td id=\"T_d8c1683e_944f_11e8_90a1_784f438ca174row12_col0\" class=\"data row12 col0\" >master_outputDataFolder</td> \n",
       "        <td id=\"T_d8c1683e_944f_11e8_90a1_784f438ca174row12_col1\" class=\"data row12 col1\" > output_560</td> \n",
       "    </tr>    <tr> \n",
       "        <th id=\"T_d8c1683e_944f_11e8_90a1_784f438ca174level0_row13\" class=\"row_heading level0 row13\" >13</th> \n",
       "        <td id=\"T_d8c1683e_944f_11e8_90a1_784f438ca174row13_col0\" class=\"data row13 col0\" >master_uniqueFilenameString</td> \n",
       "        <td id=\"T_d8c1683e_944f_11e8_90a1_784f438ca174row13_col1\" class=\"data row13 col1\" > _560_</td> \n",
       "    </tr>    <tr> \n",
       "        <th id=\"T_d8c1683e_944f_11e8_90a1_784f438ca174level0_row14\" class=\"row_heading level0 row14\" >14</th> \n",
       "        <td id=\"T_d8c1683e_944f_11e8_90a1_784f438ca174row14_col0\" class=\"data row14 col0\" >master_trackColor</td> \n",
       "        <td id=\"T_d8c1683e_944f_11e8_90a1_784f438ca174row14_col1\" class=\"data row14 col1\" > purple</td> \n",
       "    </tr>    <tr> \n",
       "        <th id=\"T_d8c1683e_944f_11e8_90a1_784f438ca174level0_row15\" class=\"row_heading level0 row15\" >15</th> \n",
       "        <td id=\"T_d8c1683e_944f_11e8_90a1_784f438ca174row15_col0\" class=\"data row15 col0\" >master_trackingBildFilename</td> \n",
       "        <td id=\"T_d8c1683e_944f_11e8_90a1_784f438ca174row15_col1\" class=\"data row15 col1\" > tracks.bild</td> \n",
       "    </tr>    <tr> \n",
       "        <th id=\"T_d8c1683e_944f_11e8_90a1_784f438ca174level0_row16\" class=\"row_heading level0 row16\" >16</th> \n",
       "        <td id=\"T_d8c1683e_944f_11e8_90a1_784f438ca174row16_col0\" class=\"data row16 col0\" >master_trackingProcessedBildFilename</td> \n",
       "        <td id=\"T_d8c1683e_944f_11e8_90a1_784f438ca174row16_col1\" class=\"data row16 col1\" > tracksProcessed.bild</td> \n",
       "    </tr>    <tr> \n",
       "        <th id=\"T_d8c1683e_944f_11e8_90a1_784f438ca174level0_row17\" class=\"row_heading level0 row17\" >17</th> \n",
       "        <td id=\"T_d8c1683e_944f_11e8_90a1_784f438ca174row17_col0\" class=\"data row17 col0\" >slave_sigma_detectionLoG</td> \n",
       "        <td id=\"T_d8c1683e_944f_11e8_90a1_784f438ca174row17_col1\" class=\"data row17 col1\" > 1.1</td> \n",
       "    </tr>    <tr> \n",
       "        <th id=\"T_d8c1683e_944f_11e8_90a1_784f438ca174level0_row18\" class=\"row_heading level0 row18\" >18</th> \n",
       "        <td id=\"T_d8c1683e_944f_11e8_90a1_784f438ca174row18_col0\" class=\"data row18 col0\" >slave_outputDataFolder</td> \n",
       "        <td id=\"T_d8c1683e_944f_11e8_90a1_784f438ca174row18_col1\" class=\"data row18 col1\" > output_488</td> \n",
       "    </tr>    <tr> \n",
       "        <th id=\"T_d8c1683e_944f_11e8_90a1_784f438ca174level0_row19\" class=\"row_heading level0 row19\" >19</th> \n",
       "        <td id=\"T_d8c1683e_944f_11e8_90a1_784f438ca174row19_col0\" class=\"data row19 col0\" >slave_uniqueFilenameString</td> \n",
       "        <td id=\"T_d8c1683e_944f_11e8_90a1_784f438ca174row19_col1\" class=\"data row19 col1\" > _488_</td> \n",
       "    </tr>    <tr> \n",
       "        <th id=\"T_d8c1683e_944f_11e8_90a1_784f438ca174level0_row20\" class=\"row_heading level0 row20\" >20</th> \n",
       "        <td id=\"T_d8c1683e_944f_11e8_90a1_784f438ca174row20_col0\" class=\"data row20 col0\" >slave_trackColor</td> \n",
       "        <td id=\"T_d8c1683e_944f_11e8_90a1_784f438ca174row20_col1\" class=\"data row20 col1\" > green</td> \n",
       "    </tr>    <tr> \n",
       "        <th id=\"T_d8c1683e_944f_11e8_90a1_784f438ca174level0_row21\" class=\"row_heading level0 row21\" >21</th> \n",
       "        <td id=\"T_d8c1683e_944f_11e8_90a1_784f438ca174row21_col0\" class=\"data row21 col0\" >slave_trackingBildFilename</td> \n",
       "        <td id=\"T_d8c1683e_944f_11e8_90a1_784f438ca174row21_col1\" class=\"data row21 col1\" > tracks.bild</td> \n",
       "    </tr>    <tr> \n",
       "        <th id=\"T_d8c1683e_944f_11e8_90a1_784f438ca174level0_row22\" class=\"row_heading level0 row22\" >22</th> \n",
       "        <td id=\"T_d8c1683e_944f_11e8_90a1_784f438ca174row22_col0\" class=\"data row22 col0\" >slave_trackingProcessedBildFilename</td> \n",
       "        <td id=\"T_d8c1683e_944f_11e8_90a1_784f438ca174row22_col1\" class=\"data row22 col1\" > tracksProcessed.bild</td> \n",
       "    </tr></tbody> \n",
       "</table> "
      ],
      "text/plain": [
       "<pandas.io.formats.style.Styler at 0x81d40b9e8>"
      ]
     },
     "execution_count": 4,
     "metadata": {},
     "output_type": "execute_result"
    }
   ],
   "source": [
    "path = '/Users/johannesschoeneberg/Dropbox/pylattice_testData/imaging_data/'\n",
    "inputParameters = pd.read_csv(path+'_inputParameters.csv',names=['key','value'])\n",
    "\n",
    "\n",
    "inputDataFolder = inproc.getInputParameter(inputParameters,\"inputDataFolder\")\n",
    "outputDataFolder = inproc.getInputParameter(inputParameters,\"outputDataFolder\")\n",
    "\n",
    "trackingCsvFilename = inproc.getInputParameter(inputParameters,\"trackingCsvFilename\")\n",
    "trackingCsvFilenameProcessed = inproc.getInputParameter(inputParameters,\"trackingCsvFilenameProcessed\")\n",
    "\n",
    "slave_outputDataFolder  = inproc.getInputParameter(inputParameters,\"slave_outputDataFolder\")\n",
    "master_outputDataFolder  = inproc.getInputParameter(inputParameters,\"master_outputDataFolder\")\n",
    "\n",
    "slave_uniqueFilenameString = inproc.getInputParameter(inputParameters,\"slave_uniqueFilenameString\")\n",
    "master_uniqueFilenameString = inproc.getInputParameter(inputParameters,\"master_uniqueFilenameString\")\n",
    "\n",
    "\n",
    "slave_trackingProcessedBildFilename = inproc.getInputParameter(inputParameters,\"slave_trackingProcessedBildFilename\")\n",
    "master_trackingProcessedBildFilename = inproc.getInputParameter(inputParameters,\"master_trackingProcessedBildFilename\")\n",
    "\n",
    "\n",
    "\n",
    "framerate_msec = float(inproc.getInputParameter(inputParameters,\"framerate_msec\"))\n",
    "movieLength = int(inproc.getInputParameter(inputParameters,\"movieLength\"))\n",
    "\n",
    "\n",
    "print(framerate_msec)\n",
    "\n",
    "print(master_outputDataFolder)\n",
    "\n",
    "inputParameters.style.set_properties(**{'text-align': 'left'})"
   ]
  },
  {
   "cell_type": "code",
   "execution_count": 8,
   "metadata": {},
   "outputs": [
    {
     "name": "stdout",
     "output_type": "stream",
     "text": [
      "--- folder searched in: /Users/johannesschoeneberg/Dropbox/pylattice_testData/imaging_data/./\n",
      "--- example of files found: cropped_560_pm50px_maxAmpl_0000.tif\n",
      "--- number of files found: 10\n",
      "--- folder searched in: /Users/johannesschoeneberg/Dropbox/pylattice_testData/imaging_data/./\n",
      "--- example of files found: cropped_488_pm50px_maxAmpl_0000.tif\n",
      "--- number of files found: 10\n",
      "['cropped_560_pm50px_maxAmpl_0000.tif'\n",
      " 'cropped_560_pm50px_maxAmpl_0001.tif'\n",
      " 'cropped_560_pm50px_maxAmpl_0002.tif'\n",
      " 'cropped_560_pm50px_maxAmpl_0003.tif'\n",
      " 'cropped_560_pm50px_maxAmpl_0004.tif'\n",
      " 'cropped_560_pm50px_maxAmpl_0005.tif'\n",
      " 'cropped_560_pm50px_maxAmpl_0006.tif'\n",
      " 'cropped_560_pm50px_maxAmpl_0007.tif'\n",
      " 'cropped_560_pm50px_maxAmpl_0008.tif'\n",
      " 'cropped_560_pm50px_maxAmpl_0009.tif']\n",
      "(100, 100, 100)\n"
     ]
    },
    {
     "data": {
      "text/plain": [
       "Text(0.5,0,'xaxis')"
      ]
     },
     "execution_count": 8,
     "metadata": {},
     "output_type": "execute_result"
    },
    {
     "data": {
      "image/png": "[encoded data removed]",
      "text/plain": [
       "<matplotlib.figure.Figure at 0x81d6d7748>"
      ]
     },
     "metadata": {},
     "output_type": "display_data"
    }
   ],
   "source": [
    "master_filesOfInterest = inproc.getFilenamesOfInputTiffFiles(path+inputDataFolder,master_uniqueFilenameString)\n",
    "slave_filesOfInterest = inproc.getFilenamesOfInputTiffFiles(path+inputDataFolder,slave_uniqueFilenameString)\n",
    "\n",
    "print(master_filesOfInterest)\n",
    "latticeMovieFrame = skimage.external.tifffile.imread(path+inputDataFolder+'/'+master_filesOfInterest[5])\n",
    "print(latticeMovieFrame.shape)\n",
    "plt.imshow(latticeMovieFrame[50])\n",
    "plt.ylabel('yaxis')\n",
    "plt.xlabel('xaxis')"
   ]
  },
  {
   "cell_type": "markdown",
   "metadata": {},
   "source": [
    "# Crop a volume out of the movie"
   ]
  },
  {
   "cell_type": "code",
   "execution_count": 14,
   "metadata": {},
   "outputs": [
    {
     "name": "stdout",
     "output_type": "stream",
     "text": [
      "0\n",
      "/Users/johannesschoeneberg/Dropbox/pylattice_testData/imaging_data/./output/output_560/cropped_master_0000.tif\n",
      "/Users/johannesschoeneberg/Dropbox/pylattice_testData/imaging_data/./output/output_488/cropped_slave_0000.tif\n",
      "1\n",
      "/Users/johannesschoeneberg/Dropbox/pylattice_testData/imaging_data/./output/output_560/cropped_master_0001.tif\n",
      "/Users/johannesschoeneberg/Dropbox/pylattice_testData/imaging_data/./output/output_488/cropped_slave_0001.tif\n",
      "2\n",
      "/Users/johannesschoeneberg/Dropbox/pylattice_testData/imaging_data/./output/output_560/cropped_master_0002.tif\n",
      "/Users/johannesschoeneberg/Dropbox/pylattice_testData/imaging_data/./output/output_488/cropped_slave_0002.tif\n",
      "3\n",
      "/Users/johannesschoeneberg/Dropbox/pylattice_testData/imaging_data/./output/output_560/cropped_master_0003.tif\n",
      "/Users/johannesschoeneberg/Dropbox/pylattice_testData/imaging_data/./output/output_488/cropped_slave_0003.tif\n",
      "4\n",
      "/Users/johannesschoeneberg/Dropbox/pylattice_testData/imaging_data/./output/output_560/cropped_master_0004.tif\n",
      "/Users/johannesschoeneberg/Dropbox/pylattice_testData/imaging_data/./output/output_488/cropped_slave_0004.tif\n",
      "5\n",
      "/Users/johannesschoeneberg/Dropbox/pylattice_testData/imaging_data/./output/output_560/cropped_master_0005.tif\n",
      "/Users/johannesschoeneberg/Dropbox/pylattice_testData/imaging_data/./output/output_488/cropped_slave_0005.tif\n",
      "6\n",
      "/Users/johannesschoeneberg/Dropbox/pylattice_testData/imaging_data/./output/output_560/cropped_master_0006.tif\n",
      "/Users/johannesschoeneberg/Dropbox/pylattice_testData/imaging_data/./output/output_488/cropped_slave_0006.tif\n",
      "7\n",
      "/Users/johannesschoeneberg/Dropbox/pylattice_testData/imaging_data/./output/output_560/cropped_master_0007.tif\n",
      "/Users/johannesschoeneberg/Dropbox/pylattice_testData/imaging_data/./output/output_488/cropped_slave_0007.tif\n",
      "8\n",
      "/Users/johannesschoeneberg/Dropbox/pylattice_testData/imaging_data/./output/output_560/cropped_master_0008.tif\n",
      "/Users/johannesschoeneberg/Dropbox/pylattice_testData/imaging_data/./output/output_488/cropped_slave_0008.tif\n",
      "9\n",
      "/Users/johannesschoeneberg/Dropbox/pylattice_testData/imaging_data/./output/output_560/cropped_master_0009.tif\n",
      "/Users/johannesschoeneberg/Dropbox/pylattice_testData/imaging_data/./output/output_488/cropped_slave_0009.tif\n"
     ]
    }
   ],
   "source": [
    "center = np.array([50,50,50])\n",
    "margin = np.array([25,25,25])\n",
    "\n",
    "for i in range(0,movieLength):\n",
    "    print(i)\n",
    "    \n",
    "    latticeMovieFrame = skimage.external.tifffile.imread(path+inputDataFolder+'/'+master_filesOfInterest[i])\n",
    "    cropped = tiffproc.cropLatticeFrame(latticeMovieFrame,center.astype(int),margin.astype(int))\n",
    "    skimage.external.tifffile.imsave(path+outputDataFolder+'/'+master_outputDataFolder+'/cropped_master_'+str(i).zfill(4)+'.tif', cropped)\n",
    "    print(path+outputDataFolder+'/'+master_outputDataFolder+'/cropped_master_'+str(i).zfill(4)+'.tif')\n",
    "    \n",
    "    latticeMovieFrame = skimage.external.tifffile.imread(path+inputDataFolder+'/'+slave_filesOfInterest[i])\n",
    "    cropped = tiffproc.cropLatticeFrame(latticeMovieFrame,center.astype(int),margin.astype(int))\n",
    "    skimage.external.tifffile.imsave(path+outputDataFolder+'/'+slave_outputDataFolder+'/cropped_slave_'+str(i).zfill(4) +'.tif', cropped)\n",
    "    print(path+outputDataFolder+'/'+slave_outputDataFolder+'/cropped_slave_'+str(i).zfill(4) +'.tif')\n",
    "    "
   ]
  },
  {
   "cell_type": "code",
   "execution_count": 13,
   "metadata": {},
   "outputs": [
    {
     "data": {
      "text/plain": [
       "<matplotlib.image.AxesImage at 0x81e7223c8>"
      ]
     },
     "execution_count": 13,
     "metadata": {},
     "output_type": "execute_result"
    },
    {
     "data": {
      "image/png": "[encoded data removed]",
      "text/plain": [
       "<matplotlib.figure.Figure at 0x81d67f518>"
      ]
     },
     "metadata": {},
     "output_type": "display_data"
    }
   ],
   "source": [
    "# plot the resulting cropped \n",
    "i=0\n",
    "croppedlatticeMovieFrame = skimage.external.tifffile.imread(path+outputDataFolder+'/'+master_outputDataFolder+'/cropped_master_'+str(i).zfill(4)+'.tif')\n",
    "plt.imshow(croppedlatticeMovieFrame[margin[0]])"
   ]
  },
  {
   "cell_type": "code",
   "execution_count": null,
   "metadata": {
    "collapsed": true
   },
   "outputs": [],
   "source": []
  }
 ],
 "metadata": {
  "kernelspec": {
   "display_name": "Python 3",
   "language": "python",
   "name": "python3"
  },
  "language_info": {
   "codemirror_mode": {
    "name": "ipython",
    "version": 3
   },
   "file_extension": ".py",
   "mimetype": "text/x-python",
   "name": "python",
   "nbconvert_exporter": "python",
   "pygments_lexer": "ipython3",
   "version": "3.6.3"
  }
 },
 "nbformat": 4,
 "nbformat_minor": 2
}
