{
 "cells": [
  {
   "cell_type": "code",
   "execution_count": 1,
   "metadata": {
    "collapsed": true
   },
   "outputs": [],
   "source": [
    "# by Joh Schöneberg 2018\n",
    "\n",
    "%matplotlib inline\n",
    "import numpy as np\n",
    "import matplotlib.pyplot as plt\n",
    "\n",
    "from numpy import genfromtxt\n",
    "\n",
    "\n",
    "import pandas as pd\n",
    "\n",
    "from mpl_toolkits import mplot3d\n",
    "#%matplotlib notebook\n",
    "\n",
    "#own modules / functions\n",
    "import pylattice\n",
    "\n",
    "import pylattice.functions.InputProcessing as inproc\n",
    "import pylattice.functions.TiffProcessing as tiffproc\n",
    "\n",
    "\n",
    "\n",
    "import sys\n",
    "sys.path.append(\"/Users/johannesschoeneberg/git/JohSchoeneberg/pyLattice/src/python/functions/\")\n",
    "#import pylattice.functions.InterfaceChimeraX as icx\n",
    "import InterfaceChimeraX as icx"
   ]
  },
  {
   "cell_type": "code",
   "execution_count": 2,
   "metadata": {
    "collapsed": true
   },
   "outputs": [],
   "source": [
    "path = '/Users/johannesschoeneberg/Dropbox/pylattice_testData/imaging_data/'\n",
    "inputParameters = pd.read_csv(path+'_inputParameters.csv',names=['key','value'])\n",
    "\n",
    "\n",
    "inputDataFolder = inproc.getInputParameter(inputParameters,\"inputDataFolder\")\n",
    "outputDataFolder = inproc.getInputParameter(inputParameters,\"outputDataFolder\")\n",
    "\n",
    "trackingCsvFilename = inproc.getInputParameter(inputParameters,\"trackingCsvFilename\")\n",
    "trackingCsvFilenameProcessed = inproc.getInputParameter(inputParameters,\"trackingCsvFilenameProcessed\")\n",
    "\n",
    "slave_outputDataFolder  = inproc.getInputParameter(inputParameters,\"slave_outputDataFolder\")\n",
    "master_outputDataFolder  = inproc.getInputParameter(inputParameters,\"master_outputDataFolder\")\n",
    "\n",
    "slave_uniqueFilenameString = inproc.getInputParameter(inputParameters,\"slave_uniqueFilenameString\")\n",
    "master_uniqueFilenameString = inproc.getInputParameter(inputParameters,\"master_uniqueFilenameString\")\n",
    "\n",
    "\n",
    "slave_trackingProcessedBildFilename = inproc.getInputParameter(inputParameters,\"slave_trackingProcessedBildFilename\")\n",
    "master_trackingProcessedBildFilename = inproc.getInputParameter(inputParameters,\"master_trackingProcessedBildFilename\")\n",
    "\n",
    "\n",
    "\n",
    "framerate_msec = float(inproc.getInputParameter(inputParameters,\"framerate_msec\"))\n",
    "movieLength = int(inproc.getInputParameter(inputParameters,\"movieLength\"))\n",
    "\n",
    "\n"
   ]
  },
  {
   "cell_type": "markdown",
   "metadata": {},
   "source": [
    "# Master "
   ]
  },
  {
   "cell_type": "markdown",
   "metadata": {},
   "source": [
    "# Frame: Write a *.bild file to display the detected puncta in ChimeraX"
   ]
  },
  {
   "cell_type": "code",
   "execution_count": 3,
   "metadata": {},
   "outputs": [
    {
     "name": "stdout",
     "output_type": "stream",
     "text": [
      "168\n",
      "/Users/johannesschoeneberg/Dropbox/pylattice_testData/imaging_data//./output/output_560/puncta_01.csv\n"
     ]
    }
   ],
   "source": [
    "filepath = path+'/'+outputDataFolder+'/'+master_outputDataFolder+'/puncta_01.csv'\n",
    "detection_data = pd.read_csv(filepath,header=0)\n",
    "detection_data.columns = [\"x\",\"y\",\"z\",\"A\"]\n",
    "print(len(detection_data))\n",
    "detection_data[0:5]\n",
    "\n",
    "print(filepath)\n",
    "\n",
    "icx.pandasData2bildFile(detection_data,filepath+\".bild\")"
   ]
  },
  {
   "cell_type": "markdown",
   "metadata": {},
   "source": [
    "# Movie: Write a *.bild file to display the detected puncta in ChimeraX"
   ]
  },
  {
   "cell_type": "code",
   "execution_count": 4,
   "metadata": {},
   "outputs": [
    {
     "name": "stdout",
     "output_type": "stream",
     "text": [
      "number of detections for puncta_01.csv: 168\n",
      "/Users/johannesschoeneberg/Dropbox/pylattice_testData/imaging_data//./output/output_560/puncta_01.csv.bild\n",
      "number of detections for puncta_02.csv: 169\n",
      "/Users/johannesschoeneberg/Dropbox/pylattice_testData/imaging_data//./output/output_560/puncta_02.csv.bild\n",
      "number of detections for puncta_03.csv: 164\n",
      "/Users/johannesschoeneberg/Dropbox/pylattice_testData/imaging_data//./output/output_560/puncta_03.csv.bild\n",
      "number of detections for puncta_04.csv: 143\n",
      "/Users/johannesschoeneberg/Dropbox/pylattice_testData/imaging_data//./output/output_560/puncta_04.csv.bild\n",
      "number of detections for puncta_05.csv: 153\n",
      "/Users/johannesschoeneberg/Dropbox/pylattice_testData/imaging_data//./output/output_560/puncta_05.csv.bild\n",
      "number of detections for puncta_06.csv: 151\n",
      "/Users/johannesschoeneberg/Dropbox/pylattice_testData/imaging_data//./output/output_560/puncta_06.csv.bild\n",
      "number of detections for puncta_07.csv: 153\n",
      "/Users/johannesschoeneberg/Dropbox/pylattice_testData/imaging_data//./output/output_560/puncta_07.csv.bild\n",
      "number of detections for puncta_08.csv: 148\n",
      "/Users/johannesschoeneberg/Dropbox/pylattice_testData/imaging_data//./output/output_560/puncta_08.csv.bild\n",
      "number of detections for puncta_09.csv: 156\n",
      "/Users/johannesschoeneberg/Dropbox/pylattice_testData/imaging_data//./output/output_560/puncta_09.csv.bild\n",
      "number of detections for puncta_10.csv: 160\n",
      "/Users/johannesschoeneberg/Dropbox/pylattice_testData/imaging_data//./output/output_560/puncta_10.csv.bild\n"
     ]
    }
   ],
   "source": [
    "for i in range(1,movieLength+1):\n",
    "    filename = 'puncta_'+\"{:02}\".format(i) +'.csv'\n",
    "    filepath = path+'/'+outputDataFolder+'/'+master_outputDataFolder+'/'+filename\n",
    "    detection_data = pd.read_csv(filepath,header=0)\n",
    "    detection_data.columns = [\"x\",\"y\",\"z\",\"A\"]\n",
    "    print(\"number of detections for {}: {}\".format(filename,len(detection_data)))\n",
    "    icx.pandasData2bildFile(detection_data,filepath+\".bild\")\n",
    "    print(filepath+\".bild\")\n",
    "    "
   ]
  },
  {
   "cell_type": "markdown",
   "metadata": {},
   "source": [
    "# Slave"
   ]
  },
  {
   "cell_type": "markdown",
   "metadata": {},
   "source": [
    "# Movie: Write a *.bild file to display the detected puncta in ChimeraX"
   ]
  },
  {
   "cell_type": "code",
   "execution_count": 5,
   "metadata": {},
   "outputs": [
    {
     "name": "stdout",
     "output_type": "stream",
     "text": [
      "number of detections for puncta_01.csv: 168\n",
      "/Users/johannesschoeneberg/Dropbox/pylattice_testData/imaging_data//./output/output_488/puncta_01.csv.bild\n",
      "number of detections for puncta_02.csv: 169\n",
      "/Users/johannesschoeneberg/Dropbox/pylattice_testData/imaging_data//./output/output_488/puncta_02.csv.bild\n",
      "number of detections for puncta_03.csv: 164\n",
      "/Users/johannesschoeneberg/Dropbox/pylattice_testData/imaging_data//./output/output_488/puncta_03.csv.bild\n",
      "number of detections for puncta_04.csv: 143\n",
      "/Users/johannesschoeneberg/Dropbox/pylattice_testData/imaging_data//./output/output_488/puncta_04.csv.bild\n",
      "number of detections for puncta_05.csv: 153\n",
      "/Users/johannesschoeneberg/Dropbox/pylattice_testData/imaging_data//./output/output_488/puncta_05.csv.bild\n",
      "number of detections for puncta_06.csv: 151\n",
      "/Users/johannesschoeneberg/Dropbox/pylattice_testData/imaging_data//./output/output_488/puncta_06.csv.bild\n",
      "number of detections for puncta_07.csv: 153\n",
      "/Users/johannesschoeneberg/Dropbox/pylattice_testData/imaging_data//./output/output_488/puncta_07.csv.bild\n",
      "number of detections for puncta_08.csv: 148\n",
      "/Users/johannesschoeneberg/Dropbox/pylattice_testData/imaging_data//./output/output_488/puncta_08.csv.bild\n",
      "number of detections for puncta_09.csv: 156\n",
      "/Users/johannesschoeneberg/Dropbox/pylattice_testData/imaging_data//./output/output_488/puncta_09.csv.bild\n",
      "number of detections for puncta_10.csv: 160\n",
      "/Users/johannesschoeneberg/Dropbox/pylattice_testData/imaging_data//./output/output_488/puncta_10.csv.bild\n"
     ]
    }
   ],
   "source": [
    "for i in range(1,movieLength+1):\n",
    "    filename = 'puncta_'+\"{:02}\".format(i) +'.csv'\n",
    "    filepath = path+'/'+outputDataFolder+'/'+slave_outputDataFolder+'/'+filename\n",
    "    detection_data = pd.read_csv(filepath,header=0)\n",
    "    detection_data.columns = [\"x\",\"y\",\"z\",\"A\"]\n",
    "    print(\"number of detections for {}: {}\".format(filename,len(detection_data)))\n",
    "    icx.pandasData2bildFile(detection_data,filepath+\".bild\")\n",
    "    print(filepath+\".bild\")\n",
    "    "
   ]
  },
  {
   "cell_type": "code",
   "execution_count": null,
   "metadata": {
    "collapsed": true
   },
   "outputs": [],
   "source": []
  }
 ],
 "metadata": {
  "kernelspec": {
   "display_name": "Python 3",
   "language": "python",
   "name": "python3"
  },
  "language_info": {
   "codemirror_mode": {
    "name": "ipython",
    "version": 3
   },
   "file_extension": ".py",
   "mimetype": "text/x-python",
   "name": "python",
   "nbconvert_exporter": "python",
   "pygments_lexer": "ipython3",
   "version": "3.6.3"
  }
 },
 "nbformat": 4,
 "nbformat_minor": 2
}
