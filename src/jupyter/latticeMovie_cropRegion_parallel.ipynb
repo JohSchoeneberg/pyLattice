{
 "cells": [
  {
   "cell_type": "code",
   "execution_count": 8,
   "metadata": {
    "collapsed": true
   },
   "outputs": [],
   "source": [
    "# by Joh Schoeneberg, 08/2019\n",
    "\n",
    "\n",
    "#5 frames\n",
    "#cpu = 1, 21.132148265838623s\n",
    "#cpu = 16"
   ]
  },
  {
   "cell_type": "code",
   "execution_count": 15,
   "metadata": {},
   "outputs": [],
   "source": [
    "%matplotlib inline\n",
    "import numpy as np\n",
    "import skimage.external.tifffile\n",
    "import os\n",
    "import matplotlib.pyplot as plt\n",
    "from PIL import Image\n",
    "\n",
    "import multiprocessing  \n",
    "from multiprocessing import Pool\n",
    "\n",
    "\n",
    "\n",
    "import sys\n",
    "sys.path.append('/Users/johannesschoeneberg/git/JohSchoeneberg/pyLattice/src/python/pylattice/functions')\n",
    "import ParallelFunctions"
   ]
  },
  {
   "cell_type": "code",
   "execution_count": 16,
   "metadata": {
    "collapsed": true
   },
   "outputs": [],
   "source": [
    "\n",
    "\n",
    "inputFolder = '/Volumes/4TB_SSD/Johannes_Schoeneberg_Berkeley/20190814_Imaging/rotated/Region_4/CPPdecon/001x_000y_002z/chimeraX/'\n",
    "outputFolder = '/Volumes/4TB_SSD/Johannes_Schoeneberg_Berkeley/20190814_Imaging/rotated/Region_4/CPPdecon/001x_000y_002z/chimeraX_cropped/'\n"
   ]
  },
  {
   "cell_type": "code",
   "execution_count": 24,
   "metadata": {},
   "outputs": [
    {
     "name": "stdout",
     "output_type": "stream",
     "text": [
      "[('/Volumes/4TB_SSD/Johannes_Schoeneberg_Berkeley/20190814_Imaging/rotated/Region_4/CPPdecon/001x_000y_002z/chimeraX/', '/Volumes/4TB_SSD/Johannes_Schoeneberg_Berkeley/20190814_Imaging/rotated/Region_4/CPPdecon/001x_000y_002z/chimeraX_cropped/', 'Scan_Iter_0000_CamA_ch0_CAM1_stack0000_488nm_0000000msec_0000337547msecAbs_001x_000y_002z_0000t_decon.tif', array([700, 330, 155]), array([200, 200,  45])), ('/Volumes/4TB_SSD/Johannes_Schoeneberg_Berkeley/20190814_Imaging/rotated/Region_4/CPPdecon/001x_000y_002z/chimeraX/', '/Volumes/4TB_SSD/Johannes_Schoeneberg_Berkeley/20190814_Imaging/rotated/Region_4/CPPdecon/001x_000y_002z/chimeraX_cropped/', 'Scan_Iter_0001_CamA_ch0_CAM1_stack0000_488nm_0000000msec_0000453193msecAbs_001x_000y_002z_0001t_decon.tif', array([700, 330, 155]), array([200, 200,  45])), ('/Volumes/4TB_SSD/Johannes_Schoeneberg_Berkeley/20190814_Imaging/rotated/Region_4/CPPdecon/001x_000y_002z/chimeraX/', '/Volumes/4TB_SSD/Johannes_Schoeneberg_Berkeley/20190814_Imaging/rotated/Region_4/CPPdecon/001x_000y_002z/chimeraX_cropped/', 'Scan_Iter_0002_CamA_ch0_CAM1_stack0000_488nm_0000000msec_0000573205msecAbs_001x_000y_002z_0002t_decon.tif', array([700, 330, 155]), array([200, 200,  45])), ('/Volumes/4TB_SSD/Johannes_Schoeneberg_Berkeley/20190814_Imaging/rotated/Region_4/CPPdecon/001x_000y_002z/chimeraX/', '/Volumes/4TB_SSD/Johannes_Schoeneberg_Berkeley/20190814_Imaging/rotated/Region_4/CPPdecon/001x_000y_002z/chimeraX_cropped/', 'Scan_Iter_0003_CamA_ch0_CAM1_stack0000_488nm_0000000msec_0000690085msecAbs_001x_000y_002z_0003t_decon.tif', array([700, 330, 155]), array([200, 200,  45])), ('/Volumes/4TB_SSD/Johannes_Schoeneberg_Berkeley/20190814_Imaging/rotated/Region_4/CPPdecon/001x_000y_002z/chimeraX/', '/Volumes/4TB_SSD/Johannes_Schoeneberg_Berkeley/20190814_Imaging/rotated/Region_4/CPPdecon/001x_000y_002z/chimeraX_cropped/', 'Scan_Iter_0004_CamA_ch0_CAM1_stack0000_488nm_0000000msec_0000810013msecAbs_001x_000y_002z_0004t_decon.tif', array([700, 330, 155]), array([200, 200,  45])), ('/Volumes/4TB_SSD/Johannes_Schoeneberg_Berkeley/20190814_Imaging/rotated/Region_4/CPPdecon/001x_000y_002z/chimeraX/', '/Volumes/4TB_SSD/Johannes_Schoeneberg_Berkeley/20190814_Imaging/rotated/Region_4/CPPdecon/001x_000y_002z/chimeraX_cropped/', 'Scan_Iter_0005_CamA_ch0_CAM1_stack0000_488nm_0000000msec_0000930004msecAbs_001x_000y_002z_0005t_decon.tif', array([700, 330, 155]), array([200, 200,  45])), ('/Volumes/4TB_SSD/Johannes_Schoeneberg_Berkeley/20190814_Imaging/rotated/Region_4/CPPdecon/001x_000y_002z/chimeraX/', '/Volumes/4TB_SSD/Johannes_Schoeneberg_Berkeley/20190814_Imaging/rotated/Region_4/CPPdecon/001x_000y_002z/chimeraX_cropped/', 'Scan_Iter_0006_CamA_ch0_CAM1_stack0000_488nm_0000000msec_0001050042msecAbs_001x_000y_002z_0006t_decon.tif', array([700, 330, 155]), array([200, 200,  45])), ('/Volumes/4TB_SSD/Johannes_Schoeneberg_Berkeley/20190814_Imaging/rotated/Region_4/CPPdecon/001x_000y_002z/chimeraX/', '/Volumes/4TB_SSD/Johannes_Schoeneberg_Berkeley/20190814_Imaging/rotated/Region_4/CPPdecon/001x_000y_002z/chimeraX_cropped/', 'Scan_Iter_0007_CamA_ch0_CAM1_stack0000_488nm_0000000msec_0001170058msecAbs_001x_000y_002z_0007t_decon.tif', array([700, 330, 155]), array([200, 200,  45])), ('/Volumes/4TB_SSD/Johannes_Schoeneberg_Berkeley/20190814_Imaging/rotated/Region_4/CPPdecon/001x_000y_002z/chimeraX/', '/Volumes/4TB_SSD/Johannes_Schoeneberg_Berkeley/20190814_Imaging/rotated/Region_4/CPPdecon/001x_000y_002z/chimeraX_cropped/', 'Scan_Iter_0008_CamA_ch0_CAM1_stack0000_488nm_0000000msec_0001290021msecAbs_001x_000y_002z_0008t_decon.tif', array([700, 330, 155]), array([200, 200,  45])), ('/Volumes/4TB_SSD/Johannes_Schoeneberg_Berkeley/20190814_Imaging/rotated/Region_4/CPPdecon/001x_000y_002z/chimeraX/', '/Volumes/4TB_SSD/Johannes_Schoeneberg_Berkeley/20190814_Imaging/rotated/Region_4/CPPdecon/001x_000y_002z/chimeraX_cropped/', 'Scan_Iter_0009_CamA_ch0_CAM1_stack0000_488nm_0000000msec_0001409923msecAbs_001x_000y_002z_0009t_decon.tif', array([700, 330, 155]), array([200, 200,  45])), ('/Volumes/4TB_SSD/Johannes_Schoeneberg_Berkeley/20190814_Imaging/rotated/Region_4/CPPdecon/001x_000y_002z/chimeraX/', '/Volumes/4TB_SSD/Johannes_Schoeneberg_Berkeley/20190814_Imaging/rotated/Region_4/CPPdecon/001x_000y_002z/chimeraX_cropped/', 'Scan_Iter_0010_CamA_ch0_CAM1_stack0000_488nm_0000000msec_0001530020msecAbs_001x_000y_002z_0010t_decon.tif', array([700, 330, 155]), array([200, 200,  45])), ('/Volumes/4TB_SSD/Johannes_Schoeneberg_Berkeley/20190814_Imaging/rotated/Region_4/CPPdecon/001x_000y_002z/chimeraX/', '/Volumes/4TB_SSD/Johannes_Schoeneberg_Berkeley/20190814_Imaging/rotated/Region_4/CPPdecon/001x_000y_002z/chimeraX_cropped/', 'Scan_Iter_0011_CamA_ch0_CAM1_stack0000_488nm_0000000msec_0001649988msecAbs_001x_000y_002z_0011t_decon.tif', array([700, 330, 155]), array([200, 200,  45])), ('/Volumes/4TB_SSD/Johannes_Schoeneberg_Berkeley/20190814_Imaging/rotated/Region_4/CPPdecon/001x_000y_002z/chimeraX/', '/Volumes/4TB_SSD/Johannes_Schoeneberg_Berkeley/20190814_Imaging/rotated/Region_4/CPPdecon/001x_000y_002z/chimeraX_cropped/', 'Scan_Iter_0012_CamA_ch0_CAM1_stack0000_488nm_0000000msec_0001770052msecAbs_001x_000y_002z_0012t_decon.tif', array([700, 330, 155]), array([200, 200,  45])), ('/Volumes/4TB_SSD/Johannes_Schoeneberg_Berkeley/20190814_Imaging/rotated/Region_4/CPPdecon/001x_000y_002z/chimeraX/', '/Volumes/4TB_SSD/Johannes_Schoeneberg_Berkeley/20190814_Imaging/rotated/Region_4/CPPdecon/001x_000y_002z/chimeraX_cropped/', 'Scan_Iter_0013_CamA_ch0_CAM1_stack0000_488nm_0000000msec_0001890027msecAbs_001x_000y_002z_0013t_decon.tif', array([700, 330, 155]), array([200, 200,  45])), ('/Volumes/4TB_SSD/Johannes_Schoeneberg_Berkeley/20190814_Imaging/rotated/Region_4/CPPdecon/001x_000y_002z/chimeraX/', '/Volumes/4TB_SSD/Johannes_Schoeneberg_Berkeley/20190814_Imaging/rotated/Region_4/CPPdecon/001x_000y_002z/chimeraX_cropped/', 'Scan_Iter_0014_CamA_ch0_CAM1_stack0000_488nm_0000000msec_0002009924msecAbs_001x_000y_002z_0014t_decon.tif', array([700, 330, 155]), array([200, 200,  45])), ('/Volumes/4TB_SSD/Johannes_Schoeneberg_Berkeley/20190814_Imaging/rotated/Region_4/CPPdecon/001x_000y_002z/chimeraX/', '/Volumes/4TB_SSD/Johannes_Schoeneberg_Berkeley/20190814_Imaging/rotated/Region_4/CPPdecon/001x_000y_002z/chimeraX_cropped/', 'Scan_Iter_0015_CamA_ch0_CAM1_stack0000_488nm_0000000msec_0002130013msecAbs_001x_000y_002z_0015t_decon.tif', array([700, 330, 155]), array([200, 200,  45])), ('/Volumes/4TB_SSD/Johannes_Schoeneberg_Berkeley/20190814_Imaging/rotated/Region_4/CPPdecon/001x_000y_002z/chimeraX/', '/Volumes/4TB_SSD/Johannes_Schoeneberg_Berkeley/20190814_Imaging/rotated/Region_4/CPPdecon/001x_000y_002z/chimeraX_cropped/', 'Scan_Iter_0016_CamA_ch0_CAM1_stack0000_488nm_0000000msec_0002250049msecAbs_001x_000y_002z_0016t_decon.tif', array([700, 330, 155]), array([200, 200,  45])), ('/Volumes/4TB_SSD/Johannes_Schoeneberg_Berkeley/20190814_Imaging/rotated/Region_4/CPPdecon/001x_000y_002z/chimeraX/', '/Volumes/4TB_SSD/Johannes_Schoeneberg_Berkeley/20190814_Imaging/rotated/Region_4/CPPdecon/001x_000y_002z/chimeraX_cropped/', 'Scan_Iter_0017_CamA_ch0_CAM1_stack0000_488nm_0000000msec_0002370026msecAbs_001x_000y_002z_0017t_decon.tif', array([700, 330, 155]), array([200, 200,  45])), ('/Volumes/4TB_SSD/Johannes_Schoeneberg_Berkeley/20190814_Imaging/rotated/Region_4/CPPdecon/001x_000y_002z/chimeraX/', '/Volumes/4TB_SSD/Johannes_Schoeneberg_Berkeley/20190814_Imaging/rotated/Region_4/CPPdecon/001x_000y_002z/chimeraX_cropped/', 'Scan_Iter_0018_CamA_ch0_CAM1_stack0000_488nm_0000000msec_0002490005msecAbs_001x_000y_002z_0018t_decon.tif', array([700, 330, 155]), array([200, 200,  45])), ('/Volumes/4TB_SSD/Johannes_Schoeneberg_Berkeley/20190814_Imaging/rotated/Region_4/CPPdecon/001x_000y_002z/chimeraX/', '/Volumes/4TB_SSD/Johannes_Schoeneberg_Berkeley/20190814_Imaging/rotated/Region_4/CPPdecon/001x_000y_002z/chimeraX_cropped/', 'Scan_Iter_0019_CamA_ch0_CAM1_stack0000_488nm_0000000msec_0002610009msecAbs_001x_000y_002z_0019t_decon.tif', array([700, 330, 155]), array([200, 200,  45])), ('/Volumes/4TB_SSD/Johannes_Schoeneberg_Berkeley/20190814_Imaging/rotated/Region_4/CPPdecon/001x_000y_002z/chimeraX/', '/Volumes/4TB_SSD/Johannes_Schoeneberg_Berkeley/20190814_Imaging/rotated/Region_4/CPPdecon/001x_000y_002z/chimeraX_cropped/', 'Scan_Iter_0020_CamA_ch0_CAM1_stack0000_488nm_0000000msec_0002730065msecAbs_001x_000y_002z_0020t_decon.tif', array([700, 330, 155]), array([200, 200,  45])), ('/Volumes/4TB_SSD/Johannes_Schoeneberg_Berkeley/20190814_Imaging/rotated/Region_4/CPPdecon/001x_000y_002z/chimeraX/', '/Volumes/4TB_SSD/Johannes_Schoeneberg_Berkeley/20190814_Imaging/rotated/Region_4/CPPdecon/001x_000y_002z/chimeraX_cropped/', 'Scan_Iter_0021_CamA_ch0_CAM1_stack0000_488nm_0000000msec_0002849900msecAbs_001x_000y_002z_0021t_decon.tif', array([700, 330, 155]), array([200, 200,  45])), ('/Volumes/4TB_SSD/Johannes_Schoeneberg_Berkeley/20190814_Imaging/rotated/Region_4/CPPdecon/001x_000y_002z/chimeraX/', '/Volumes/4TB_SSD/Johannes_Schoeneberg_Berkeley/20190814_Imaging/rotated/Region_4/CPPdecon/001x_000y_002z/chimeraX_cropped/', 'Scan_Iter_0022_CamA_ch0_CAM1_stack0000_488nm_0000000msec_0002970029msecAbs_001x_000y_002z_0022t_decon.tif', array([700, 330, 155]), array([200, 200,  45])), ('/Volumes/4TB_SSD/Johannes_Schoeneberg_Berkeley/20190814_Imaging/rotated/Region_4/CPPdecon/001x_000y_002z/chimeraX/', '/Volumes/4TB_SSD/Johannes_Schoeneberg_Berkeley/20190814_Imaging/rotated/Region_4/CPPdecon/001x_000y_002z/chimeraX_cropped/', 'Scan_Iter_0023_CamA_ch0_CAM1_stack0000_488nm_0000000msec_0003089967msecAbs_001x_000y_002z_0023t_decon.tif', array([700, 330, 155]), array([200, 200,  45])), ('/Volumes/4TB_SSD/Johannes_Schoeneberg_Berkeley/20190814_Imaging/rotated/Region_4/CPPdecon/001x_000y_002z/chimeraX/', '/Volumes/4TB_SSD/Johannes_Schoeneberg_Berkeley/20190814_Imaging/rotated/Region_4/CPPdecon/001x_000y_002z/chimeraX_cropped/', 'Scan_Iter_0024_CamA_ch0_CAM1_stack0000_488nm_0000000msec_0003210074msecAbs_001x_000y_002z_0024t_decon.tif', array([700, 330, 155]), array([200, 200,  45])), ('/Volumes/4TB_SSD/Johannes_Schoeneberg_Berkeley/20190814_Imaging/rotated/Region_4/CPPdecon/001x_000y_002z/chimeraX/', '/Volumes/4TB_SSD/Johannes_Schoeneberg_Berkeley/20190814_Imaging/rotated/Region_4/CPPdecon/001x_000y_002z/chimeraX_cropped/', 'Scan_Iter_0025_CamA_ch0_CAM1_stack0000_488nm_0000000msec_0003329934msecAbs_001x_000y_002z_0025t_decon.tif', array([700, 330, 155]), array([200, 200,  45])), ('/Volumes/4TB_SSD/Johannes_Schoeneberg_Berkeley/20190814_Imaging/rotated/Region_4/CPPdecon/001x_000y_002z/chimeraX/', '/Volumes/4TB_SSD/Johannes_Schoeneberg_Berkeley/20190814_Imaging/rotated/Region_4/CPPdecon/001x_000y_002z/chimeraX_cropped/', 'Scan_Iter_0026_CamA_ch0_CAM1_stack0000_488nm_0000000msec_0003450002msecAbs_001x_000y_002z_0026t_decon.tif', array([700, 330, 155]), array([200, 200,  45])), ('/Volumes/4TB_SSD/Johannes_Schoeneberg_Berkeley/20190814_Imaging/rotated/Region_4/CPPdecon/001x_000y_002z/chimeraX/', '/Volumes/4TB_SSD/Johannes_Schoeneberg_Berkeley/20190814_Imaging/rotated/Region_4/CPPdecon/001x_000y_002z/chimeraX_cropped/', 'Scan_Iter_0027_CamA_ch0_CAM1_stack0000_488nm_0000000msec_0003570129msecAbs_001x_000y_002z_0027t_decon.tif', array([700, 330, 155]), array([200, 200,  45])), ('/Volumes/4TB_SSD/Johannes_Schoeneberg_Berkeley/20190814_Imaging/rotated/Region_4/CPPdecon/001x_000y_002z/chimeraX/', '/Volumes/4TB_SSD/Johannes_Schoeneberg_Berkeley/20190814_Imaging/rotated/Region_4/CPPdecon/001x_000y_002z/chimeraX_cropped/', 'Scan_Iter_0028_CamA_ch0_CAM1_stack0000_488nm_0000000msec_0003690010msecAbs_001x_000y_002z_0028t_decon.tif', array([700, 330, 155]), array([200, 200,  45])), ('/Volumes/4TB_SSD/Johannes_Schoeneberg_Berkeley/20190814_Imaging/rotated/Region_4/CPPdecon/001x_000y_002z/chimeraX/', '/Volumes/4TB_SSD/Johannes_Schoeneberg_Berkeley/20190814_Imaging/rotated/Region_4/CPPdecon/001x_000y_002z/chimeraX_cropped/', 'Scan_Iter_0029_CamA_ch0_CAM1_stack0000_488nm_0000000msec_0003809974msecAbs_001x_000y_002z_0029t_decon.tif', array([700, 330, 155]), array([200, 200,  45])), ('/Volumes/4TB_SSD/Johannes_Schoeneberg_Berkeley/20190814_Imaging/rotated/Region_4/CPPdecon/001x_000y_002z/chimeraX/', '/Volumes/4TB_SSD/Johannes_Schoeneberg_Berkeley/20190814_Imaging/rotated/Region_4/CPPdecon/001x_000y_002z/chimeraX_cropped/', 'Scan_Iter_0030_CamA_ch0_CAM1_stack0000_488nm_0000000msec_0003929958msecAbs_001x_000y_002z_0030t_decon.tif', array([700, 330, 155]), array([200, 200,  45])), ('/Volumes/4TB_SSD/Johannes_Schoeneberg_Berkeley/20190814_Imaging/rotated/Region_4/CPPdecon/001x_000y_002z/chimeraX/', '/Volumes/4TB_SSD/Johannes_Schoeneberg_Berkeley/20190814_Imaging/rotated/Region_4/CPPdecon/001x_000y_002z/chimeraX_cropped/', 'Scan_Iter_0031_CamA_ch0_CAM1_stack0000_488nm_0000000msec_0004049937msecAbs_001x_000y_002z_0031t_decon.tif', array([700, 330, 155]), array([200, 200,  45])), ('/Volumes/4TB_SSD/Johannes_Schoeneberg_Berkeley/20190814_Imaging/rotated/Region_4/CPPdecon/001x_000y_002z/chimeraX/', '/Volumes/4TB_SSD/Johannes_Schoeneberg_Berkeley/20190814_Imaging/rotated/Region_4/CPPdecon/001x_000y_002z/chimeraX_cropped/', 'Scan_Iter_0032_CamA_ch0_CAM1_stack0000_488nm_0000000msec_0004170028msecAbs_001x_000y_002z_0032t_decon.tif', array([700, 330, 155]), array([200, 200,  45])), ('/Volumes/4TB_SSD/Johannes_Schoeneberg_Berkeley/20190814_Imaging/rotated/Region_4/CPPdecon/001x_000y_002z/chimeraX/', '/Volumes/4TB_SSD/Johannes_Schoeneberg_Berkeley/20190814_Imaging/rotated/Region_4/CPPdecon/001x_000y_002z/chimeraX_cropped/', 'Scan_Iter_0033_CamA_ch0_CAM1_stack0000_488nm_0000000msec_0004289977msecAbs_001x_000y_002z_0033t_decon.tif', array([700, 330, 155]), array([200, 200,  45])), ('/Volumes/4TB_SSD/Johannes_Schoeneberg_Berkeley/20190814_Imaging/rotated/Region_4/CPPdecon/001x_000y_002z/chimeraX/', '/Volumes/4TB_SSD/Johannes_Schoeneberg_Berkeley/20190814_Imaging/rotated/Region_4/CPPdecon/001x_000y_002z/chimeraX_cropped/', 'Scan_Iter_0034_CamA_ch0_CAM1_stack0000_488nm_0000000msec_0004409960msecAbs_001x_000y_002z_0034t_decon.tif', array([700, 330, 155]), array([200, 200,  45])), ('/Volumes/4TB_SSD/Johannes_Schoeneberg_Berkeley/20190814_Imaging/rotated/Region_4/CPPdecon/001x_000y_002z/chimeraX/', '/Volumes/4TB_SSD/Johannes_Schoeneberg_Berkeley/20190814_Imaging/rotated/Region_4/CPPdecon/001x_000y_002z/chimeraX_cropped/', 'Scan_Iter_0035_CamA_ch0_CAM1_stack0000_488nm_0000000msec_0004529945msecAbs_001x_000y_002z_0035t_decon.tif', array([700, 330, 155]), array([200, 200,  45])), ('/Volumes/4TB_SSD/Johannes_Schoeneberg_Berkeley/20190814_Imaging/rotated/Region_4/CPPdecon/001x_000y_002z/chimeraX/', '/Volumes/4TB_SSD/Johannes_Schoeneberg_Berkeley/20190814_Imaging/rotated/Region_4/CPPdecon/001x_000y_002z/chimeraX_cropped/', 'Scan_Iter_0036_CamA_ch0_CAM1_stack0000_488nm_0000000msec_0004650019msecAbs_001x_000y_002z_0036t_decon.tif', array([700, 330, 155]), array([200, 200,  45])), ('/Volumes/4TB_SSD/Johannes_Schoeneberg_Berkeley/20190814_Imaging/rotated/Region_4/CPPdecon/001x_000y_002z/chimeraX/', '/Volumes/4TB_SSD/Johannes_Schoeneberg_Berkeley/20190814_Imaging/rotated/Region_4/CPPdecon/001x_000y_002z/chimeraX_cropped/', 'Scan_Iter_0037_CamA_ch0_CAM1_stack0000_488nm_0000000msec_0004769762msecAbs_001x_000y_002z_0037t_decon.tif', array([700, 330, 155]), array([200, 200,  45])), ('/Volumes/4TB_SSD/Johannes_Schoeneberg_Berkeley/20190814_Imaging/rotated/Region_4/CPPdecon/001x_000y_002z/chimeraX/', '/Volumes/4TB_SSD/Johannes_Schoeneberg_Berkeley/20190814_Imaging/rotated/Region_4/CPPdecon/001x_000y_002z/chimeraX_cropped/', 'Scan_Iter_0038_CamA_ch0_CAM1_stack0000_488nm_0000000msec_0004889917msecAbs_001x_000y_002z_0038t_decon.tif', array([700, 330, 155]), array([200, 200,  45])), ('/Volumes/4TB_SSD/Johannes_Schoeneberg_Berkeley/20190814_Imaging/rotated/Region_4/CPPdecon/001x_000y_002z/chimeraX/', '/Volumes/4TB_SSD/Johannes_Schoeneberg_Berkeley/20190814_Imaging/rotated/Region_4/CPPdecon/001x_000y_002z/chimeraX_cropped/', 'Scan_Iter_0039_CamA_ch0_CAM1_stack0000_488nm_0000000msec_0005009934msecAbs_001x_000y_002z_0039t_decon.tif', array([700, 330, 155]), array([200, 200,  45])), ('/Volumes/4TB_SSD/Johannes_Schoeneberg_Berkeley/20190814_Imaging/rotated/Region_4/CPPdecon/001x_000y_002z/chimeraX/', '/Volumes/4TB_SSD/Johannes_Schoeneberg_Berkeley/20190814_Imaging/rotated/Region_4/CPPdecon/001x_000y_002z/chimeraX_cropped/', 'Scan_Iter_0040_CamA_ch0_CAM1_stack0000_488nm_0000000msec_0005129852msecAbs_001x_000y_002z_0040t_decon.tif', array([700, 330, 155]), array([200, 200,  45])), ('/Volumes/4TB_SSD/Johannes_Schoeneberg_Berkeley/20190814_Imaging/rotated/Region_4/CPPdecon/001x_000y_002z/chimeraX/', '/Volumes/4TB_SSD/Johannes_Schoeneberg_Berkeley/20190814_Imaging/rotated/Region_4/CPPdecon/001x_000y_002z/chimeraX_cropped/', 'Scan_Iter_0041_CamA_ch0_CAM1_stack0000_488nm_0000000msec_0005249831msecAbs_001x_000y_002z_0041t_decon.tif', array([700, 330, 155]), array([200, 200,  45])), ('/Volumes/4TB_SSD/Johannes_Schoeneberg_Berkeley/20190814_Imaging/rotated/Region_4/CPPdecon/001x_000y_002z/chimeraX/', '/Volumes/4TB_SSD/Johannes_Schoeneberg_Berkeley/20190814_Imaging/rotated/Region_4/CPPdecon/001x_000y_002z/chimeraX_cropped/', 'Scan_Iter_0042_CamA_ch0_CAM1_stack0000_488nm_0000000msec_0005369928msecAbs_001x_000y_002z_0042t_decon.tif', array([700, 330, 155]), array([200, 200,  45])), ('/Volumes/4TB_SSD/Johannes_Schoeneberg_Berkeley/20190814_Imaging/rotated/Region_4/CPPdecon/001x_000y_002z/chimeraX/', '/Volumes/4TB_SSD/Johannes_Schoeneberg_Berkeley/20190814_Imaging/rotated/Region_4/CPPdecon/001x_000y_002z/chimeraX_cropped/', 'Scan_Iter_0043_CamA_ch0_CAM1_stack0000_488nm_0000000msec_0005489827msecAbs_001x_000y_002z_0043t_decon.tif', array([700, 330, 155]), array([200, 200,  45])), ('/Volumes/4TB_SSD/Johannes_Schoeneberg_Berkeley/20190814_Imaging/rotated/Region_4/CPPdecon/001x_000y_002z/chimeraX/', '/Volumes/4TB_SSD/Johannes_Schoeneberg_Berkeley/20190814_Imaging/rotated/Region_4/CPPdecon/001x_000y_002z/chimeraX_cropped/', 'Scan_Iter_0044_CamA_ch0_CAM1_stack0000_488nm_0000000msec_0005609783msecAbs_001x_000y_002z_0044t_decon.tif', array([700, 330, 155]), array([200, 200,  45])), ('/Volumes/4TB_SSD/Johannes_Schoeneberg_Berkeley/20190814_Imaging/rotated/Region_4/CPPdecon/001x_000y_002z/chimeraX/', '/Volumes/4TB_SSD/Johannes_Schoeneberg_Berkeley/20190814_Imaging/rotated/Region_4/CPPdecon/001x_000y_002z/chimeraX_cropped/', 'Scan_Iter_0045_CamA_ch0_CAM1_stack0000_488nm_0000000msec_0005729863msecAbs_001x_000y_002z_0045t_decon.tif', array([700, 330, 155]), array([200, 200,  45])), ('/Volumes/4TB_SSD/Johannes_Schoeneberg_Berkeley/20190814_Imaging/rotated/Region_4/CPPdecon/001x_000y_002z/chimeraX/', '/Volumes/4TB_SSD/Johannes_Schoeneberg_Berkeley/20190814_Imaging/rotated/Region_4/CPPdecon/001x_000y_002z/chimeraX_cropped/', 'Scan_Iter_0046_CamA_ch0_CAM1_stack0000_488nm_0000000msec_0005849968msecAbs_001x_000y_002z_0046t_decon.tif', array([700, 330, 155]), array([200, 200,  45])), ('/Volumes/4TB_SSD/Johannes_Schoeneberg_Berkeley/20190814_Imaging/rotated/Region_4/CPPdecon/001x_000y_002z/chimeraX/', '/Volumes/4TB_SSD/Johannes_Schoeneberg_Berkeley/20190814_Imaging/rotated/Region_4/CPPdecon/001x_000y_002z/chimeraX_cropped/', 'Scan_Iter_0047_CamA_ch0_CAM1_stack0000_488nm_0000000msec_0005969941msecAbs_001x_000y_002z_0047t_decon.tif', array([700, 330, 155]), array([200, 200,  45])), ('/Volumes/4TB_SSD/Johannes_Schoeneberg_Berkeley/20190814_Imaging/rotated/Region_4/CPPdecon/001x_000y_002z/chimeraX/', '/Volumes/4TB_SSD/Johannes_Schoeneberg_Berkeley/20190814_Imaging/rotated/Region_4/CPPdecon/001x_000y_002z/chimeraX_cropped/', 'Scan_Iter_0048_CamA_ch0_CAM1_stack0000_488nm_0000000msec_0006089917msecAbs_001x_000y_002z_0048t_decon.tif', array([700, 330, 155]), array([200, 200,  45])), ('/Volumes/4TB_SSD/Johannes_Schoeneberg_Berkeley/20190814_Imaging/rotated/Region_4/CPPdecon/001x_000y_002z/chimeraX/', '/Volumes/4TB_SSD/Johannes_Schoeneberg_Berkeley/20190814_Imaging/rotated/Region_4/CPPdecon/001x_000y_002z/chimeraX_cropped/', 'Scan_Iter_0049_CamA_ch0_CAM1_stack0000_488nm_0000000msec_0006209949msecAbs_001x_000y_002z_0049t_decon.tif', array([700, 330, 155]), array([200, 200,  45]))]\n"
     ]
    }
   ],
   "source": [
    "# prepare the input data for the worker pool\n",
    "center = np.array([700,330,110+45]) # x,y,z\n",
    "margin = np.array([200,200,45])\n",
    "\n",
    "\n",
    "parameters_for_workers = []\n",
    "for file in os.listdir(inputFolder):\n",
    "    if file.endswith(\".tif\"):\n",
    "        parameters_for_workers.append((inputFolder,outputFolder,file,center,margin))\n",
    "print(parameters_for_workers)"
   ]
  },
  {
   "cell_type": "code",
   "execution_count": 25,
   "metadata": {
    "scrolled": true
   },
   "outputs": [
    {
     "name": "stdout",
     "output_type": "stream",
     "text": [
      "Number of cpu :  16\n",
      "Run on 12 CPUs\n",
      "['/Volumes/4TB_SSD/Johannes_Schoeneberg_Berkeley/20190814_Imaging/rotated/Region_4/CPPdecon/001x_000y_002z/chimeraX_cropped/Scan_Iter_0000_CamA_ch0_CAM1_stack0000_488nm_0000000msec_0000337547msecAbs_001x_000y_002z_0000t_decon.tif', '/Volumes/4TB_SSD/Johannes_Schoeneberg_Berkeley/20190814_Imaging/rotated/Region_4/CPPdecon/001x_000y_002z/chimeraX_cropped/Scan_Iter_0001_CamA_ch0_CAM1_stack0000_488nm_0000000msec_0000453193msecAbs_001x_000y_002z_0001t_decon.tif', '/Volumes/4TB_SSD/Johannes_Schoeneberg_Berkeley/20190814_Imaging/rotated/Region_4/CPPdecon/001x_000y_002z/chimeraX_cropped/Scan_Iter_0002_CamA_ch0_CAM1_stack0000_488nm_0000000msec_0000573205msecAbs_001x_000y_002z_0002t_decon.tif', '/Volumes/4TB_SSD/Johannes_Schoeneberg_Berkeley/20190814_Imaging/rotated/Region_4/CPPdecon/001x_000y_002z/chimeraX_cropped/Scan_Iter_0003_CamA_ch0_CAM1_stack0000_488nm_0000000msec_0000690085msecAbs_001x_000y_002z_0003t_decon.tif', '/Volumes/4TB_SSD/Johannes_Schoeneberg_Berkeley/20190814_Imaging/rotated/Region_4/CPPdecon/001x_000y_002z/chimeraX_cropped/Scan_Iter_0004_CamA_ch0_CAM1_stack0000_488nm_0000000msec_0000810013msecAbs_001x_000y_002z_0004t_decon.tif', '/Volumes/4TB_SSD/Johannes_Schoeneberg_Berkeley/20190814_Imaging/rotated/Region_4/CPPdecon/001x_000y_002z/chimeraX_cropped/Scan_Iter_0005_CamA_ch0_CAM1_stack0000_488nm_0000000msec_0000930004msecAbs_001x_000y_002z_0005t_decon.tif', '/Volumes/4TB_SSD/Johannes_Schoeneberg_Berkeley/20190814_Imaging/rotated/Region_4/CPPdecon/001x_000y_002z/chimeraX_cropped/Scan_Iter_0006_CamA_ch0_CAM1_stack0000_488nm_0000000msec_0001050042msecAbs_001x_000y_002z_0006t_decon.tif', '/Volumes/4TB_SSD/Johannes_Schoeneberg_Berkeley/20190814_Imaging/rotated/Region_4/CPPdecon/001x_000y_002z/chimeraX_cropped/Scan_Iter_0007_CamA_ch0_CAM1_stack0000_488nm_0000000msec_0001170058msecAbs_001x_000y_002z_0007t_decon.tif', '/Volumes/4TB_SSD/Johannes_Schoeneberg_Berkeley/20190814_Imaging/rotated/Region_4/CPPdecon/001x_000y_002z/chimeraX_cropped/Scan_Iter_0008_CamA_ch0_CAM1_stack0000_488nm_0000000msec_0001290021msecAbs_001x_000y_002z_0008t_decon.tif', '/Volumes/4TB_SSD/Johannes_Schoeneberg_Berkeley/20190814_Imaging/rotated/Region_4/CPPdecon/001x_000y_002z/chimeraX_cropped/Scan_Iter_0009_CamA_ch0_CAM1_stack0000_488nm_0000000msec_0001409923msecAbs_001x_000y_002z_0009t_decon.tif', '/Volumes/4TB_SSD/Johannes_Schoeneberg_Berkeley/20190814_Imaging/rotated/Region_4/CPPdecon/001x_000y_002z/chimeraX_cropped/Scan_Iter_0010_CamA_ch0_CAM1_stack0000_488nm_0000000msec_0001530020msecAbs_001x_000y_002z_0010t_decon.tif', '/Volumes/4TB_SSD/Johannes_Schoeneberg_Berkeley/20190814_Imaging/rotated/Region_4/CPPdecon/001x_000y_002z/chimeraX_cropped/Scan_Iter_0011_CamA_ch0_CAM1_stack0000_488nm_0000000msec_0001649988msecAbs_001x_000y_002z_0011t_decon.tif', '/Volumes/4TB_SSD/Johannes_Schoeneberg_Berkeley/20190814_Imaging/rotated/Region_4/CPPdecon/001x_000y_002z/chimeraX_cropped/Scan_Iter_0012_CamA_ch0_CAM1_stack0000_488nm_0000000msec_0001770052msecAbs_001x_000y_002z_0012t_decon.tif', '/Volumes/4TB_SSD/Johannes_Schoeneberg_Berkeley/20190814_Imaging/rotated/Region_4/CPPdecon/001x_000y_002z/chimeraX_cropped/Scan_Iter_0013_CamA_ch0_CAM1_stack0000_488nm_0000000msec_0001890027msecAbs_001x_000y_002z_0013t_decon.tif', '/Volumes/4TB_SSD/Johannes_Schoeneberg_Berkeley/20190814_Imaging/rotated/Region_4/CPPdecon/001x_000y_002z/chimeraX_cropped/Scan_Iter_0014_CamA_ch0_CAM1_stack0000_488nm_0000000msec_0002009924msecAbs_001x_000y_002z_0014t_decon.tif', '/Volumes/4TB_SSD/Johannes_Schoeneberg_Berkeley/20190814_Imaging/rotated/Region_4/CPPdecon/001x_000y_002z/chimeraX_cropped/Scan_Iter_0015_CamA_ch0_CAM1_stack0000_488nm_0000000msec_0002130013msecAbs_001x_000y_002z_0015t_decon.tif', '/Volumes/4TB_SSD/Johannes_Schoeneberg_Berkeley/20190814_Imaging/rotated/Region_4/CPPdecon/001x_000y_002z/chimeraX_cropped/Scan_Iter_0016_CamA_ch0_CAM1_stack0000_488nm_0000000msec_0002250049msecAbs_001x_000y_002z_0016t_decon.tif', '/Volumes/4TB_SSD/Johannes_Schoeneberg_Berkeley/20190814_Imaging/rotated/Region_4/CPPdecon/001x_000y_002z/chimeraX_cropped/Scan_Iter_0017_CamA_ch0_CAM1_stack0000_488nm_0000000msec_0002370026msecAbs_001x_000y_002z_0017t_decon.tif', '/Volumes/4TB_SSD/Johannes_Schoeneberg_Berkeley/20190814_Imaging/rotated/Region_4/CPPdecon/001x_000y_002z/chimeraX_cropped/Scan_Iter_0018_CamA_ch0_CAM1_stack0000_488nm_0000000msec_0002490005msecAbs_001x_000y_002z_0018t_decon.tif', '/Volumes/4TB_SSD/Johannes_Schoeneberg_Berkeley/20190814_Imaging/rotated/Region_4/CPPdecon/001x_000y_002z/chimeraX_cropped/Scan_Iter_0019_CamA_ch0_CAM1_stack0000_488nm_0000000msec_0002610009msecAbs_001x_000y_002z_0019t_decon.tif', '/Volumes/4TB_SSD/Johannes_Schoeneberg_Berkeley/20190814_Imaging/rotated/Region_4/CPPdecon/001x_000y_002z/chimeraX_cropped/Scan_Iter_0020_CamA_ch0_CAM1_stack0000_488nm_0000000msec_0002730065msecAbs_001x_000y_002z_0020t_decon.tif', '/Volumes/4TB_SSD/Johannes_Schoeneberg_Berkeley/20190814_Imaging/rotated/Region_4/CPPdecon/001x_000y_002z/chimeraX_cropped/Scan_Iter_0021_CamA_ch0_CAM1_stack0000_488nm_0000000msec_0002849900msecAbs_001x_000y_002z_0021t_decon.tif', '/Volumes/4TB_SSD/Johannes_Schoeneberg_Berkeley/20190814_Imaging/rotated/Region_4/CPPdecon/001x_000y_002z/chimeraX_cropped/Scan_Iter_0022_CamA_ch0_CAM1_stack0000_488nm_0000000msec_0002970029msecAbs_001x_000y_002z_0022t_decon.tif', '/Volumes/4TB_SSD/Johannes_Schoeneberg_Berkeley/20190814_Imaging/rotated/Region_4/CPPdecon/001x_000y_002z/chimeraX_cropped/Scan_Iter_0023_CamA_ch0_CAM1_stack0000_488nm_0000000msec_0003089967msecAbs_001x_000y_002z_0023t_decon.tif', '/Volumes/4TB_SSD/Johannes_Schoeneberg_Berkeley/20190814_Imaging/rotated/Region_4/CPPdecon/001x_000y_002z/chimeraX_cropped/Scan_Iter_0024_CamA_ch0_CAM1_stack0000_488nm_0000000msec_0003210074msecAbs_001x_000y_002z_0024t_decon.tif', '/Volumes/4TB_SSD/Johannes_Schoeneberg_Berkeley/20190814_Imaging/rotated/Region_4/CPPdecon/001x_000y_002z/chimeraX_cropped/Scan_Iter_0025_CamA_ch0_CAM1_stack0000_488nm_0000000msec_0003329934msecAbs_001x_000y_002z_0025t_decon.tif', '/Volumes/4TB_SSD/Johannes_Schoeneberg_Berkeley/20190814_Imaging/rotated/Region_4/CPPdecon/001x_000y_002z/chimeraX_cropped/Scan_Iter_0026_CamA_ch0_CAM1_stack0000_488nm_0000000msec_0003450002msecAbs_001x_000y_002z_0026t_decon.tif', '/Volumes/4TB_SSD/Johannes_Schoeneberg_Berkeley/20190814_Imaging/rotated/Region_4/CPPdecon/001x_000y_002z/chimeraX_cropped/Scan_Iter_0027_CamA_ch0_CAM1_stack0000_488nm_0000000msec_0003570129msecAbs_001x_000y_002z_0027t_decon.tif', '/Volumes/4TB_SSD/Johannes_Schoeneberg_Berkeley/20190814_Imaging/rotated/Region_4/CPPdecon/001x_000y_002z/chimeraX_cropped/Scan_Iter_0028_CamA_ch0_CAM1_stack0000_488nm_0000000msec_0003690010msecAbs_001x_000y_002z_0028t_decon.tif', '/Volumes/4TB_SSD/Johannes_Schoeneberg_Berkeley/20190814_Imaging/rotated/Region_4/CPPdecon/001x_000y_002z/chimeraX_cropped/Scan_Iter_0029_CamA_ch0_CAM1_stack0000_488nm_0000000msec_0003809974msecAbs_001x_000y_002z_0029t_decon.tif', '/Volumes/4TB_SSD/Johannes_Schoeneberg_Berkeley/20190814_Imaging/rotated/Region_4/CPPdecon/001x_000y_002z/chimeraX_cropped/Scan_Iter_0030_CamA_ch0_CAM1_stack0000_488nm_0000000msec_0003929958msecAbs_001x_000y_002z_0030t_decon.tif', '/Volumes/4TB_SSD/Johannes_Schoeneberg_Berkeley/20190814_Imaging/rotated/Region_4/CPPdecon/001x_000y_002z/chimeraX_cropped/Scan_Iter_0031_CamA_ch0_CAM1_stack0000_488nm_0000000msec_0004049937msecAbs_001x_000y_002z_0031t_decon.tif', '/Volumes/4TB_SSD/Johannes_Schoeneberg_Berkeley/20190814_Imaging/rotated/Region_4/CPPdecon/001x_000y_002z/chimeraX_cropped/Scan_Iter_0032_CamA_ch0_CAM1_stack0000_488nm_0000000msec_0004170028msecAbs_001x_000y_002z_0032t_decon.tif', '/Volumes/4TB_SSD/Johannes_Schoeneberg_Berkeley/20190814_Imaging/rotated/Region_4/CPPdecon/001x_000y_002z/chimeraX_cropped/Scan_Iter_0033_CamA_ch0_CAM1_stack0000_488nm_0000000msec_0004289977msecAbs_001x_000y_002z_0033t_decon.tif', '/Volumes/4TB_SSD/Johannes_Schoeneberg_Berkeley/20190814_Imaging/rotated/Region_4/CPPdecon/001x_000y_002z/chimeraX_cropped/Scan_Iter_0034_CamA_ch0_CAM1_stack0000_488nm_0000000msec_0004409960msecAbs_001x_000y_002z_0034t_decon.tif', '/Volumes/4TB_SSD/Johannes_Schoeneberg_Berkeley/20190814_Imaging/rotated/Region_4/CPPdecon/001x_000y_002z/chimeraX_cropped/Scan_Iter_0035_CamA_ch0_CAM1_stack0000_488nm_0000000msec_0004529945msecAbs_001x_000y_002z_0035t_decon.tif', '/Volumes/4TB_SSD/Johannes_Schoeneberg_Berkeley/20190814_Imaging/rotated/Region_4/CPPdecon/001x_000y_002z/chimeraX_cropped/Scan_Iter_0036_CamA_ch0_CAM1_stack0000_488nm_0000000msec_0004650019msecAbs_001x_000y_002z_0036t_decon.tif', '/Volumes/4TB_SSD/Johannes_Schoeneberg_Berkeley/20190814_Imaging/rotated/Region_4/CPPdecon/001x_000y_002z/chimeraX_cropped/Scan_Iter_0037_CamA_ch0_CAM1_stack0000_488nm_0000000msec_0004769762msecAbs_001x_000y_002z_0037t_decon.tif', '/Volumes/4TB_SSD/Johannes_Schoeneberg_Berkeley/20190814_Imaging/rotated/Region_4/CPPdecon/001x_000y_002z/chimeraX_cropped/Scan_Iter_0038_CamA_ch0_CAM1_stack0000_488nm_0000000msec_0004889917msecAbs_001x_000y_002z_0038t_decon.tif', '/Volumes/4TB_SSD/Johannes_Schoeneberg_Berkeley/20190814_Imaging/rotated/Region_4/CPPdecon/001x_000y_002z/chimeraX_cropped/Scan_Iter_0039_CamA_ch0_CAM1_stack0000_488nm_0000000msec_0005009934msecAbs_001x_000y_002z_0039t_decon.tif', '/Volumes/4TB_SSD/Johannes_Schoeneberg_Berkeley/20190814_Imaging/rotated/Region_4/CPPdecon/001x_000y_002z/chimeraX_cropped/Scan_Iter_0040_CamA_ch0_CAM1_stack0000_488nm_0000000msec_0005129852msecAbs_001x_000y_002z_0040t_decon.tif', '/Volumes/4TB_SSD/Johannes_Schoeneberg_Berkeley/20190814_Imaging/rotated/Region_4/CPPdecon/001x_000y_002z/chimeraX_cropped/Scan_Iter_0041_CamA_ch0_CAM1_stack0000_488nm_0000000msec_0005249831msecAbs_001x_000y_002z_0041t_decon.tif', '/Volumes/4TB_SSD/Johannes_Schoeneberg_Berkeley/20190814_Imaging/rotated/Region_4/CPPdecon/001x_000y_002z/chimeraX_cropped/Scan_Iter_0042_CamA_ch0_CAM1_stack0000_488nm_0000000msec_0005369928msecAbs_001x_000y_002z_0042t_decon.tif', '/Volumes/4TB_SSD/Johannes_Schoeneberg_Berkeley/20190814_Imaging/rotated/Region_4/CPPdecon/001x_000y_002z/chimeraX_cropped/Scan_Iter_0043_CamA_ch0_CAM1_stack0000_488nm_0000000msec_0005489827msecAbs_001x_000y_002z_0043t_decon.tif', '/Volumes/4TB_SSD/Johannes_Schoeneberg_Berkeley/20190814_Imaging/rotated/Region_4/CPPdecon/001x_000y_002z/chimeraX_cropped/Scan_Iter_0044_CamA_ch0_CAM1_stack0000_488nm_0000000msec_0005609783msecAbs_001x_000y_002z_0044t_decon.tif', '/Volumes/4TB_SSD/Johannes_Schoeneberg_Berkeley/20190814_Imaging/rotated/Region_4/CPPdecon/001x_000y_002z/chimeraX_cropped/Scan_Iter_0045_CamA_ch0_CAM1_stack0000_488nm_0000000msec_0005729863msecAbs_001x_000y_002z_0045t_decon.tif', '/Volumes/4TB_SSD/Johannes_Schoeneberg_Berkeley/20190814_Imaging/rotated/Region_4/CPPdecon/001x_000y_002z/chimeraX_cropped/Scan_Iter_0046_CamA_ch0_CAM1_stack0000_488nm_0000000msec_0005849968msecAbs_001x_000y_002z_0046t_decon.tif', '/Volumes/4TB_SSD/Johannes_Schoeneberg_Berkeley/20190814_Imaging/rotated/Region_4/CPPdecon/001x_000y_002z/chimeraX_cropped/Scan_Iter_0047_CamA_ch0_CAM1_stack0000_488nm_0000000msec_0005969941msecAbs_001x_000y_002z_0047t_decon.tif', '/Volumes/4TB_SSD/Johannes_Schoeneberg_Berkeley/20190814_Imaging/rotated/Region_4/CPPdecon/001x_000y_002z/chimeraX_cropped/Scan_Iter_0048_CamA_ch0_CAM1_stack0000_488nm_0000000msec_0006089917msecAbs_001x_000y_002z_0048t_decon.tif', '/Volumes/4TB_SSD/Johannes_Schoeneberg_Berkeley/20190814_Imaging/rotated/Region_4/CPPdecon/001x_000y_002z/chimeraX_cropped/Scan_Iter_0049_CamA_ch0_CAM1_stack0000_488nm_0000000msec_0006209949msecAbs_001x_000y_002z_0049t_decon.tif']\n",
      "elapsed time 85.7393159866333s\n"
     ]
    }
   ],
   "source": [
    "# run the jobs on parallel processors\n",
    "\n",
    "print(\"Number of cpu : \", multiprocessing.cpu_count())\n",
    "\n",
    "import time\n",
    "start_time = time.time()\n",
    "\n",
    "\n",
    "if __name__ == '__main__':\n",
    "    nCPU = multiprocessing.cpu_count()\n",
    "    numberOfCPUsUsed = int(nCPU*0.75) #10\n",
    "    print(\"Run on {} CPUs\".format(numberOfCPUsUsed))\n",
    "    pool = Pool(numberOfCPUsUsed)\n",
    "    results = pool.starmap(ParallelFunctions.cropLatticeFrame, parameters_for_workers)\n",
    "    \n",
    "print(results)\n",
    "\n",
    "elapsed_time = time.time() - start_time\n",
    "print(\"elapsed time {}s\".format(elapsed_time))"
   ]
  },
  {
   "cell_type": "code",
   "execution_count": 28,
   "metadata": {},
   "outputs": [
    {
     "name": "stdout",
     "output_type": "stream",
     "text": [
      "/Volumes/4TB_SSD/Johannes_Schoeneberg_Berkeley/20190814_Imaging/rotated/Region_4/CPPdecon/001x_000y_002z/chimeraX_cropped//0000.tif\n",
      "/Volumes/4TB_SSD/Johannes_Schoeneberg_Berkeley/20190814_Imaging/rotated/Region_4/CPPdecon/001x_000y_002z/chimeraX_cropped//0014.tif\n",
      "/Volumes/4TB_SSD/Johannes_Schoeneberg_Berkeley/20190814_Imaging/rotated/Region_4/CPPdecon/001x_000y_002z/chimeraX_cropped//0022.tif\n",
      "/Volumes/4TB_SSD/Johannes_Schoeneberg_Berkeley/20190814_Imaging/rotated/Region_4/CPPdecon/001x_000y_002z/chimeraX_cropped//0004.tif\n",
      "/Volumes/4TB_SSD/Johannes_Schoeneberg_Berkeley/20190814_Imaging/rotated/Region_4/CPPdecon/001x_000y_002z/chimeraX_cropped//0018.tif\n",
      "/Volumes/4TB_SSD/Johannes_Schoeneberg_Berkeley/20190814_Imaging/rotated/Region_4/CPPdecon/001x_000y_002z/chimeraX_cropped//0020.tif\n",
      "/Volumes/4TB_SSD/Johannes_Schoeneberg_Berkeley/20190814_Imaging/rotated/Region_4/CPPdecon/001x_000y_002z/chimeraX_cropped//0002.tif\n",
      "/Volumes/4TB_SSD/Johannes_Schoeneberg_Berkeley/20190814_Imaging/rotated/Region_4/CPPdecon/001x_000y_002z/chimeraX_cropped//0010.tif\n",
      "/Volumes/4TB_SSD/Johannes_Schoeneberg_Berkeley/20190814_Imaging/rotated/Region_4/CPPdecon/001x_000y_002z/chimeraX_cropped//0008.tif\n",
      "/Volumes/4TB_SSD/Johannes_Schoeneberg_Berkeley/20190814_Imaging/rotated/Region_4/CPPdecon/001x_000y_002z/chimeraX_cropped//0016.tif\n",
      "/Volumes/4TB_SSD/Johannes_Schoeneberg_Berkeley/20190814_Imaging/rotated/Region_4/CPPdecon/001x_000y_002z/chimeraX_cropped//0012.tif\n",
      "/Volumes/4TB_SSD/Johannes_Schoeneberg_Berkeley/20190814_Imaging/rotated/Region_4/CPPdecon/001x_000y_002z/chimeraX_cropped//0006.tif\n",
      "/Volumes/4TB_SSD/Johannes_Schoeneberg_Berkeley/20190814_Imaging/rotated/Region_4/CPPdecon/001x_000y_002z/chimeraX_cropped//0001.tif\n",
      "/Volumes/4TB_SSD/Johannes_Schoeneberg_Berkeley/20190814_Imaging/rotated/Region_4/CPPdecon/001x_000y_002z/chimeraX_cropped//0011.tif\n",
      "/Volumes/4TB_SSD/Johannes_Schoeneberg_Berkeley/20190814_Imaging/rotated/Region_4/CPPdecon/001x_000y_002z/chimeraX_cropped//0023.tif\n",
      "/Volumes/4TB_SSD/Johannes_Schoeneberg_Berkeley/20190814_Imaging/rotated/Region_4/CPPdecon/001x_000y_002z/chimeraX_cropped//0015.tif\n",
      "/Volumes/4TB_SSD/Johannes_Schoeneberg_Berkeley/20190814_Imaging/rotated/Region_4/CPPdecon/001x_000y_002z/chimeraX_cropped//0019.tif\n",
      "/Volumes/4TB_SSD/Johannes_Schoeneberg_Berkeley/20190814_Imaging/rotated/Region_4/CPPdecon/001x_000y_002z/chimeraX_cropped//0007.tif\n",
      "/Volumes/4TB_SSD/Johannes_Schoeneberg_Berkeley/20190814_Imaging/rotated/Region_4/CPPdecon/001x_000y_002z/chimeraX_cropped//0021.tif\n",
      "/Volumes/4TB_SSD/Johannes_Schoeneberg_Berkeley/20190814_Imaging/rotated/Region_4/CPPdecon/001x_000y_002z/chimeraX_cropped//0003.tif\n",
      "/Volumes/4TB_SSD/Johannes_Schoeneberg_Berkeley/20190814_Imaging/rotated/Region_4/CPPdecon/001x_000y_002z/chimeraX_cropped//0017.tif\n",
      "/Volumes/4TB_SSD/Johannes_Schoeneberg_Berkeley/20190814_Imaging/rotated/Region_4/CPPdecon/001x_000y_002z/chimeraX_cropped//0009.tif\n",
      "/Volumes/4TB_SSD/Johannes_Schoeneberg_Berkeley/20190814_Imaging/rotated/Region_4/CPPdecon/001x_000y_002z/chimeraX_cropped//0005.tif\n",
      "/Volumes/4TB_SSD/Johannes_Schoeneberg_Berkeley/20190814_Imaging/rotated/Region_4/CPPdecon/001x_000y_002z/chimeraX_cropped//0013.tif\n",
      "/Volumes/4TB_SSD/Johannes_Schoeneberg_Berkeley/20190814_Imaging/rotated/Region_4/CPPdecon/001x_000y_002z/chimeraX_cropped//0024.tif\n",
      "/Volumes/4TB_SSD/Johannes_Schoeneberg_Berkeley/20190814_Imaging/rotated/Region_4/CPPdecon/001x_000y_002z/chimeraX_cropped//0026.tif\n",
      "/Volumes/4TB_SSD/Johannes_Schoeneberg_Berkeley/20190814_Imaging/rotated/Region_4/CPPdecon/001x_000y_002z/chimeraX_cropped//0028.tif\n",
      "/Volumes/4TB_SSD/Johannes_Schoeneberg_Berkeley/20190814_Imaging/rotated/Region_4/CPPdecon/001x_000y_002z/chimeraX_cropped//0030.tif\n",
      "/Volumes/4TB_SSD/Johannes_Schoeneberg_Berkeley/20190814_Imaging/rotated/Region_4/CPPdecon/001x_000y_002z/chimeraX_cropped//0032.tif\n",
      "/Volumes/4TB_SSD/Johannes_Schoeneberg_Berkeley/20190814_Imaging/rotated/Region_4/CPPdecon/001x_000y_002z/chimeraX_cropped//0034.tif\n",
      "/Volumes/4TB_SSD/Johannes_Schoeneberg_Berkeley/20190814_Imaging/rotated/Region_4/CPPdecon/001x_000y_002z/chimeraX_cropped//0036.tif\n",
      "/Volumes/4TB_SSD/Johannes_Schoeneberg_Berkeley/20190814_Imaging/rotated/Region_4/CPPdecon/001x_000y_002z/chimeraX_cropped//0044.tif\n",
      "/Volumes/4TB_SSD/Johannes_Schoeneberg_Berkeley/20190814_Imaging/rotated/Region_4/CPPdecon/001x_000y_002z/chimeraX_cropped//0046.tif\n",
      "/Volumes/4TB_SSD/Johannes_Schoeneberg_Berkeley/20190814_Imaging/rotated/Region_4/CPPdecon/001x_000y_002z/chimeraX_cropped//0038.tif\n",
      "/Volumes/4TB_SSD/Johannes_Schoeneberg_Berkeley/20190814_Imaging/rotated/Region_4/CPPdecon/001x_000y_002z/chimeraX_cropped//0042.tif\n",
      "/Volumes/4TB_SSD/Johannes_Schoeneberg_Berkeley/20190814_Imaging/rotated/Region_4/CPPdecon/001x_000y_002z/chimeraX_cropped//0040.tif\n",
      "/Volumes/4TB_SSD/Johannes_Schoeneberg_Berkeley/20190814_Imaging/rotated/Region_4/CPPdecon/001x_000y_002z/chimeraX_cropped//0025.tif\n",
      "/Volumes/4TB_SSD/Johannes_Schoeneberg_Berkeley/20190814_Imaging/rotated/Region_4/CPPdecon/001x_000y_002z/chimeraX_cropped//0027.tif\n",
      "/Volumes/4TB_SSD/Johannes_Schoeneberg_Berkeley/20190814_Imaging/rotated/Region_4/CPPdecon/001x_000y_002z/chimeraX_cropped//0029.tif\n",
      "/Volumes/4TB_SSD/Johannes_Schoeneberg_Berkeley/20190814_Imaging/rotated/Region_4/CPPdecon/001x_000y_002z/chimeraX_cropped//0031.tif\n",
      "/Volumes/4TB_SSD/Johannes_Schoeneberg_Berkeley/20190814_Imaging/rotated/Region_4/CPPdecon/001x_000y_002z/chimeraX_cropped//0033.tif\n",
      "/Volumes/4TB_SSD/Johannes_Schoeneberg_Berkeley/20190814_Imaging/rotated/Region_4/CPPdecon/001x_000y_002z/chimeraX_cropped//0035.tif\n",
      "/Volumes/4TB_SSD/Johannes_Schoeneberg_Berkeley/20190814_Imaging/rotated/Region_4/CPPdecon/001x_000y_002z/chimeraX_cropped//0037.tif\n",
      "/Volumes/4TB_SSD/Johannes_Schoeneberg_Berkeley/20190814_Imaging/rotated/Region_4/CPPdecon/001x_000y_002z/chimeraX_cropped//0043.tif\n",
      "/Volumes/4TB_SSD/Johannes_Schoeneberg_Berkeley/20190814_Imaging/rotated/Region_4/CPPdecon/001x_000y_002z/chimeraX_cropped//0045.tif\n",
      "/Volumes/4TB_SSD/Johannes_Schoeneberg_Berkeley/20190814_Imaging/rotated/Region_4/CPPdecon/001x_000y_002z/chimeraX_cropped//0041.tif\n",
      "/Volumes/4TB_SSD/Johannes_Schoeneberg_Berkeley/20190814_Imaging/rotated/Region_4/CPPdecon/001x_000y_002z/chimeraX_cropped//0047.tif\n",
      "/Volumes/4TB_SSD/Johannes_Schoeneberg_Berkeley/20190814_Imaging/rotated/Region_4/CPPdecon/001x_000y_002z/chimeraX_cropped//0039.tif\n",
      "/Volumes/4TB_SSD/Johannes_Schoeneberg_Berkeley/20190814_Imaging/rotated/Region_4/CPPdecon/001x_000y_002z/chimeraX_cropped//0048.tif\n",
      "/Volumes/4TB_SSD/Johannes_Schoeneberg_Berkeley/20190814_Imaging/rotated/Region_4/CPPdecon/001x_000y_002z/chimeraX_cropped//0049.tif\n"
     ]
    }
   ],
   "source": [
    "#rename output files just by their\n",
    "# e.g. \n",
    "# make Scan_Iter_0046_CamA_ch0_CAM1_stack0000_488nm_0000000msec_0005849968msecAbs_001x_000y_002z_0046t_decon.tif'\n",
    "# to 0046.tif\n",
    "for file in os.listdir(outputFolder):\n",
    "    if file.endswith(\".tif\"):\n",
    "        newFilename = outputFolder+\"/\"+file.split(\"_\")[2]+\".tif\"\n",
    "        os.rename(os.path.join(outputFolder, file), os.path.join(outputFolder, newFilename)) \n",
    "        print(newFilename)\n",
    "        \n",
    "            #print(file.split(\"_\")[2])\n",
    "            \n"
   ]
  },
  {
   "cell_type": "code",
   "execution_count": 31,
   "metadata": {},
   "outputs": [
    {
     "name": "stdout",
     "output_type": "stream",
     "text": [
      "open /Volumes/4TB_SSD/Johannes_Schoeneberg_Berkeley/20190814_Imaging/rotated/Region_4/CPPdecon/001x_000y_002z/chimeraX_cropped/*.tif\n",
      "volume voxelSize 0.108,0.108,0.4\n"
     ]
    }
   ],
   "source": [
    "chimeraX_command_open = \"open \" + outputFolder+ \"*.tif\"\n",
    "chimeraX_command_volume = \"volume voxelSize 0.108,0.108,0.4\"\n",
    "print(chimeraX_command_open)\n",
    "print(chimeraX_command_volume)"
   ]
  },
  {
   "cell_type": "code",
   "execution_count": null,
   "metadata": {
    "collapsed": true
   },
   "outputs": [],
   "source": []
  }
 ],
 "metadata": {
  "kernelspec": {
   "display_name": "Python 3",
   "language": "python",
   "name": "python3"
  },
  "language_info": {
   "codemirror_mode": {
    "name": "ipython",
    "version": 3
   },
   "file_extension": ".py",
   "mimetype": "text/x-python",
   "name": "python",
   "nbconvert_exporter": "python",
   "pygments_lexer": "ipython3",
   "version": "3.6.3"
  }
 },
 "nbformat": 4,
 "nbformat_minor": 2
}
