{
 "cells": [
  {
   "cell_type": "code",
   "execution_count": 90,
   "metadata": {
    "collapsed": true
   },
   "outputs": [],
   "source": [
    "# by Joh Schöneberg 2018\n",
    "\n",
    "%matplotlib inline\n",
    "import numpy as np\n",
    "import matplotlib.pyplot as plt\n",
    "\n",
    "from numpy import genfromtxt\n",
    "\n",
    "\n",
    "import pandas as pd\n",
    "\n",
    "from mpl_toolkits import mplot3d\n",
    "#%matplotlib notebook\n",
    "\n",
    "import math\n",
    "\n",
    "#import cv2\n",
    "import pims\n",
    "from PIL import Image\n",
    "\n",
    "import skimage\n",
    "\n",
    "import json\n",
    "\n",
    "#own modules / functions\n",
    "import sys\n",
    "\n",
    "sys.path.append(\"./modules\")\n",
    "import TiffProcessing as tiffproc\n",
    "import InputProcessing as inproc\n",
    "sys.path.append(\"./classes\")\n",
    "import Track"
   ]
  },
  {
   "cell_type": "markdown",
   "metadata": {},
   "source": [
    "# input data"
   ]
  },
  {
   "cell_type": "code",
   "execution_count": 91,
   "metadata": {
    "collapsed": true
   },
   "outputs": [],
   "source": [
    "inputParameters = pd.read_csv('../_inputParameters.csv',names=['key','value'])\n",
    "\n",
    "\n",
    "inputDataFolder = inproc.getInputParameter(inputParameters,\"inputDataFolder\")\n",
    "outputDataFolder = inproc.getInputParameter(inputParameters,\"outputDataFolder\")\n",
    "ch0_outputDataFolder  = inproc.getInputParameter(inputParameters,\"ch0_outputDataFolder\")\n",
    "ch0_trackingCsvFilename = inproc.getInputParameter(inputParameters,\"ch0_trackingCsvFilename\")\n",
    "\n",
    "ch0_trackingCsvFilenameProcessed = inproc.getInputParameter(inputParameters,\"ch0_trackingCsvFilenameProcessed\")\n",
    "ch1_outputDataFolder  = inproc.getInputParameter(inputParameters,\"ch1_outputDataFolder\")\n",
    "ch1_trackingCsvFilename = inproc.getInputParameter(inputParameters,\"ch1_trackingCsvFilename\")\n",
    "\n",
    "ch0_uniqueFilenameString = inproc.getInputParameter(inputParameters,\"ch0_uniqueFilenameString\")\n",
    "ch1_uniqueFilenameString = inproc.getInputParameter(inputParameters,\"ch1_uniqueFilenameString\")\n",
    "\n",
    "\n",
    "ch0_trackingProcessedBildFilename = inproc.getInputParameter(inputParameters,\"ch0_trackingProcessedBildFilename\")\n",
    "ch1_trackingProcessedBildFilename = inproc.getInputParameter(inputParameters,\"ch1_trackingProcessedBildFilename\")\n",
    "\n",
    "\n",
    "\n",
    "framerate_msec = float(inproc.getInputParameter(inputParameters,\"framerate_msec\"))\n",
    "movieLength = int(inproc.getInputParameter(inputParameters,\"movieLength\"))\n"
   ]
  },
  {
   "cell_type": "code",
   "execution_count": 92,
   "metadata": {},
   "outputs": [
    {
     "name": "stdout",
     "output_type": "stream",
     "text": [
      "/Users/johannesschoeneberg/git/LatticeTrack/data/test_input/crop_100x100x100/output/trackedFeaturesProcessed.csv\n"
     ]
    },
    {
     "data": {
      "text/html": [
       "<div>\n",
       "<style scoped>\n",
       "    .dataframe tbody tr th:only-of-type {\n",
       "        vertical-align: middle;\n",
       "    }\n",
       "\n",
       "    .dataframe tbody tr th {\n",
       "        vertical-align: top;\n",
       "    }\n",
       "\n",
       "    .dataframe thead th {\n",
       "        text-align: right;\n",
       "    }\n",
       "</style>\n",
       "<table border=\"1\" class=\"dataframe\">\n",
       "  <thead>\n",
       "    <tr style=\"text-align: right;\">\n",
       "      <th></th>\n",
       "      <th>trackId</th>\n",
       "      <th>tracklength</th>\n",
       "      <th>time[s]</th>\n",
       "      <th>frameId</th>\n",
       "      <th>x</th>\n",
       "      <th>y</th>\n",
       "      <th>z</th>\n",
       "      <th>A</th>\n",
       "      <th>c</th>\n",
       "      <th>lifetime</th>\n",
       "      <th>catIdx</th>\n",
       "      <th>pval_Ar</th>\n",
       "    </tr>\n",
       "  </thead>\n",
       "  <tbody>\n",
       "    <tr>\n",
       "      <th>0</th>\n",
       "      <td>1</td>\n",
       "      <td>79</td>\n",
       "      <td>0</td>\n",
       "      <td>1</td>\n",
       "      <td>7.904661e+01</td>\n",
       "      <td>6.464731e+01</td>\n",
       "      <td>8.131298e+01</td>\n",
       "      <td>2.380362e+04</td>\n",
       "      <td>5.097926e+03</td>\n",
       "      <td>398.23</td>\n",
       "      <td>8</td>\n",
       "      <td>0.0</td>\n",
       "    </tr>\n",
       "    <tr>\n",
       "      <th>1</th>\n",
       "      <td>1</td>\n",
       "      <td>79</td>\n",
       "      <td>5.689000e+00</td>\n",
       "      <td>2</td>\n",
       "      <td>7.850739e+01</td>\n",
       "      <td>6.542015e+01</td>\n",
       "      <td>8.129176e+01</td>\n",
       "      <td>2.002146e+04</td>\n",
       "      <td>5.046481e+03</td>\n",
       "      <td>398.23</td>\n",
       "      <td>8</td>\n",
       "      <td>0.0</td>\n",
       "    </tr>\n",
       "    <tr>\n",
       "      <th>2</th>\n",
       "      <td>1</td>\n",
       "      <td>79</td>\n",
       "      <td>1.137800e+01</td>\n",
       "      <td>3</td>\n",
       "      <td>7.839408e+01</td>\n",
       "      <td>6.518394e+01</td>\n",
       "      <td>8.116666e+01</td>\n",
       "      <td>1.914605e+04</td>\n",
       "      <td>4.805831e+03</td>\n",
       "      <td>398.23</td>\n",
       "      <td>8</td>\n",
       "      <td>0.0</td>\n",
       "    </tr>\n",
       "    <tr>\n",
       "      <th>3</th>\n",
       "      <td>1</td>\n",
       "      <td>79</td>\n",
       "      <td>1.706700e+01</td>\n",
       "      <td>4</td>\n",
       "      <td>7.802180e+01</td>\n",
       "      <td>6.560145e+01</td>\n",
       "      <td>8.168228e+01</td>\n",
       "      <td>2.065366e+04</td>\n",
       "      <td>5.580686e+03</td>\n",
       "      <td>398.23</td>\n",
       "      <td>8</td>\n",
       "      <td>0.0</td>\n",
       "    </tr>\n",
       "    <tr>\n",
       "      <th>4</th>\n",
       "      <td>1</td>\n",
       "      <td>79</td>\n",
       "      <td>2.275600e+01</td>\n",
       "      <td>5</td>\n",
       "      <td>7.721728e+01</td>\n",
       "      <td>6.629176e+01</td>\n",
       "      <td>8.136034e+01</td>\n",
       "      <td>1.984517e+04</td>\n",
       "      <td>4.731718e+03</td>\n",
       "      <td>398.23</td>\n",
       "      <td>8</td>\n",
       "      <td>0.0</td>\n",
       "    </tr>\n",
       "  </tbody>\n",
       "</table>\n",
       "</div>"
      ],
      "text/plain": [
       "   trackId  tracklength        time[s] frameId              x              y  \\\n",
       "0        1           79              0       1   7.904661e+01   6.464731e+01   \n",
       "1        1           79   5.689000e+00       2   7.850739e+01   6.542015e+01   \n",
       "2        1           79   1.137800e+01       3   7.839408e+01   6.518394e+01   \n",
       "3        1           79   1.706700e+01       4   7.802180e+01   6.560145e+01   \n",
       "4        1           79   2.275600e+01       5   7.721728e+01   6.629176e+01   \n",
       "\n",
       "               z              A              c  lifetime  catIdx  pval_Ar  \n",
       "0   8.131298e+01   2.380362e+04   5.097926e+03    398.23       8      0.0  \n",
       "1   8.129176e+01   2.002146e+04   5.046481e+03    398.23       8      0.0  \n",
       "2   8.116666e+01   1.914605e+04   4.805831e+03    398.23       8      0.0  \n",
       "3   8.168228e+01   2.065366e+04   5.580686e+03    398.23       8      0.0  \n",
       "4   8.136034e+01   1.984517e+04   4.731718e+03    398.23       8      0.0  "
      ]
     },
     "execution_count": 92,
     "metadata": {},
     "output_type": "execute_result"
    }
   ],
   "source": [
    "# read the raw csv data for further processing\n",
    "\n",
    "path = outputDataFolder+'/'+ch0_trackingCsvFilenameProcessed\n",
    "print(path)\n",
    "\n",
    "data = pd.read_csv(path,header=0)\n",
    "data.columns = [\"trackId\",\"tracklength\",\"time[s]\",\"frameId\",\"x\",'y',\"z\",\"A\",\"c\",\"lifetime\",\"catIdx\",\"pval_Ar\"]\n",
    "trackIds = data.drop_duplicates(subset='trackId')['trackId'].values\n",
    "\n",
    "data[0:5]\n",
    "\n",
    "\n"
   ]
  },
  {
   "cell_type": "markdown",
   "metadata": {},
   "source": [
    "# gather statistics"
   ]
  },
  {
   "cell_type": "code",
   "execution_count": 93,
   "metadata": {},
   "outputs": [
    {
     "name": "stdout",
     "output_type": "stream",
     "text": [
      "[118, 146, 187, 3, 1, 0, 6, 2]\n",
      "[ 0.  0.  0.  0.  0.  0.  0.  0.]\n"
     ]
    },
    {
     "data": {
      "text/plain": [
       "Text(0.5,1,'N = 463')"
      ]
     },
     "execution_count": 93,
     "metadata": {},
     "output_type": "execute_result"
    },
    {
     "data": {
      "image/png": "[encoded data removed]",
      "text/plain": [
       "<matplotlib.figure.Figure at 0x813638278>"
      ]
     },
     "metadata": {},
     "output_type": "display_data"
    }
   ],
   "source": [
    "#plot them all\n",
    "\n",
    "#%----------------------------------------------------------------------------\n",
    "#    % I. Assign category to each track\n",
    "#    %----------------------------------------------------------------------------\n",
    "#    % Categories:\n",
    "#    % Ia)  Single tracks with valid gaps\n",
    "#    % Ib)  Single tracks with invalid gaps\n",
    "#    % Ic)  Single tracks cut at beginning or end\n",
    "#    % Id)  Single tracks, persistent\n",
    "#    % IIa) Compound tracks with valid gaps\n",
    "#    % IIb) Compound tracks with invalid gaps\n",
    "#    % IIc) Compound tracks cut at beginning or end\n",
    "#    % IId) Compound tracks, persistent\n",
    "#    \n",
    "#    % The categories correspond to index 1-8, in the above order\n",
    "\n",
    "\n",
    "\n",
    "#data = longtracks\n",
    "data = data\n",
    "\n",
    "allTracks = np.unique(data['trackId'].values)\n",
    "cat_Ia_Tracks = np.unique(data[data['catIdx'] == 1]['trackId'])\n",
    "cat_Ib_Tracks = np.unique(data[data['catIdx'] == 2]['trackId'])\n",
    "cat_Ic_Tracks = np.unique(data[data['catIdx'] == 3]['trackId'])\n",
    "cat_Id_Tracks = np.unique(data[data['catIdx'] == 4]['trackId'])\n",
    "cat_IIa_Tracks = np.unique(data[data['catIdx'] == 5]['trackId'])\n",
    "cat_IIb_Tracks = np.unique(data[data['catIdx'] == 6]['trackId'])\n",
    "cat_IIc_Tracks = np.unique(data[data['catIdx'] == 7]['trackId'])\n",
    "cat_IId_Tracks = np.unique(data[data['catIdx'] == 8]['trackId'])\n",
    "\n",
    "categories = [cat_Ia_Tracks,cat_Ib_Tracks,cat_Ic_Tracks,cat_Id_Tracks,cat_IIa_Tracks,cat_IIb_Tracks,cat_IIc_Tracks,cat_IId_Tracks]\n",
    "categoryLabels = [\"cat_Ia_Tracks\",\"cat_Ib_Tracks\",\"cat_Ic_Tracks\",\"cat_Id_Tracks\",\"cat_IIa_Tracks\",\"cat_IIb_Tracks\",\"cat_IIc_Tracks\",\"cat_IId_Tracks\"]\n",
    "\n",
    "categoryFrequency = []\n",
    "for cat in categories:\n",
    "    categoryFrequency.append(len(cat))\n",
    "    \n",
    "print(categoryFrequency)\n",
    "\n",
    "\n",
    "\n",
    "# https://matplotlib.org/gallery/lines_bars_and_markers/barh.html\n",
    "fig, ax = plt.subplots()\n",
    "\n",
    "# Example data\n",
    "y_pos = np.arange(len(categoryFrequency))\n",
    "performance = 3 + 10 * np.random.rand(len(people))\n",
    "error = np.random.rand(len(categoryFrequency))\n",
    "error = np.zeros(len(categoryFrequency))\n",
    "print(error)\n",
    "\n",
    "ax.barh(y_pos, categoryFrequency, xerr=error, align='center',\n",
    "        color='grey', ecolor='black')\n",
    "ax.set_yticks(y_pos)\n",
    "ax.set_yticklabels(categoryLabels)\n",
    "ax.invert_yaxis()  # labels read top-to-bottom\n",
    "ax.set_xlabel('# tracks')\n",
    "ax.set_xlim(0,len(allTracks))\n",
    "ax.set_title('N = '+str(len(allTracks)))"
   ]
  },
  {
   "cell_type": "code",
   "execution_count": null,
   "metadata": {
    "collapsed": true
   },
   "outputs": [],
   "source": []
  },
  {
   "cell_type": "code",
   "execution_count": null,
   "metadata": {
    "collapsed": true
   },
   "outputs": [],
   "source": []
  }
 ],
 "metadata": {
  "kernelspec": {
   "display_name": "Python 3",
   "language": "python",
   "name": "python3"
  },
  "language_info": {
   "codemirror_mode": {
    "name": "ipython",
    "version": 3
   },
   "file_extension": ".py",
   "mimetype": "text/x-python",
   "name": "python",
   "nbconvert_exporter": "python",
   "pygments_lexer": "ipython3",
   "version": "3.6.3"
  }
 },
 "nbformat": 4,
 "nbformat_minor": 2
}
