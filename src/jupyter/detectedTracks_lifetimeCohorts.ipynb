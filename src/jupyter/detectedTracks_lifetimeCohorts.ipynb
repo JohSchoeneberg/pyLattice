{
 "cells": [
  {
   "cell_type": "code",
   "execution_count": 1,
   "metadata": {
    "collapsed": true
   },
   "outputs": [],
   "source": [
    "%matplotlib inline\n",
    "import numpy as np\n",
    "import matplotlib.pyplot as plt\n",
    "\n",
    "from mpl_toolkits.mplot3d import Axes3D\n",
    "import matplotlib.pyplot as plt\n",
    "import numpy as np\n",
    "\n",
    "from numpy import genfromtxt\n",
    "\n",
    "\n",
    "import pandas as pd\n",
    "\n",
    "from mpl_toolkits import mplot3d\n",
    "#%matplotlib notebook\n",
    "\n",
    "import math\n",
    "\n",
    "#import cv2\n",
    "import pims\n",
    "from PIL import Image\n",
    "\n",
    "import skimage\n",
    "\n",
    "import json\n",
    "\n",
    "#own modules / functions\n",
    "import pylattice\n",
    "\n",
    "import pylattice.functions.InputProcessing as inproc\n",
    "import pylattice.functions.TiffProcessing as tiffproc\n",
    "\n"
   ]
  },
  {
   "cell_type": "markdown",
   "metadata": {},
   "source": [
    "# input data"
   ]
  },
  {
   "cell_type": "code",
   "execution_count": 2,
   "metadata": {
    "collapsed": true
   },
   "outputs": [],
   "source": [
    "path = '/Users/johannesschoeneberg/Dropbox/pylattice_testData/imaging_data/'\n",
    "\n",
    "\n",
    "inputParameters = pd.read_csv(path+'_inputParameters.csv',names=['key','value'])\n",
    "\n",
    "\n",
    "inputDataFolder = inproc.getInputParameter(inputParameters,\"inputDataFolder\")\n",
    "outputDataFolder = inproc.getInputParameter(inputParameters,\"outputDataFolder\")\n",
    "\n",
    "slave_outputDataFolder  = inproc.getInputParameter(inputParameters,\"slave_outputDataFolder\")\n",
    "master_outputDataFolder  = inproc.getInputParameter(inputParameters,\"master_outputDataFolder\")\n",
    "\n",
    "slave_uniqueFilenameString = inproc.getInputParameter(inputParameters,\"slave_uniqueFilenameString\")\n",
    "master_uniqueFilenameString = inproc.getInputParameter(inputParameters,\"master_uniqueFilenameString\")\n",
    "\n",
    "\n",
    "slave_trackingProcessedBildFilename = inproc.getInputParameter(inputParameters,\"slave_trackingProcessedBildFilename\")\n",
    "master_trackingProcessedBildFilename = inproc.getInputParameter(inputParameters,\"master_trackingProcessedBildFilename\")\n",
    "\n",
    "\n",
    "trackingCsvFilename = inproc.getInputParameter(inputParameters,\"trackingCsvFilename\")\n",
    "\n",
    "\n",
    "framerate_msec = float(inproc.getInputParameter(inputParameters,\"framerate_msec\"))\n",
    "movieLength = int(inproc.getInputParameter(inputParameters,\"movieLength\"))\n",
    "\n"
   ]
  },
  {
   "cell_type": "code",
   "execution_count": 3,
   "metadata": {},
   "outputs": [
    {
     "name": "stdout",
     "output_type": "stream",
     "text": [
      "/Users/johannesschoeneberg/Dropbox/pylattice_testData/imaging_data/\n",
      "484\n",
      "484\n"
     ]
    }
   ],
   "source": [
    "# read the raw csv data for further processing\n",
    "\n",
    "\n",
    "filepath = path + outputDataFolder+'/'+trackingCsvFilename\n",
    "print(path)\n",
    "\n",
    "data = pd.read_csv(filepath,header=0)\n",
    "\n",
    "\n",
    "allTrackIds = np.unique(data['trackId'].values)\n",
    "\n",
    "longtracks = data[data['tracklength'] >= 1]\n",
    "allLongTrackIds = np.unique(longtracks['trackId'].values)\n",
    "print(len(allTrackIds))\n",
    "print(len(allLongTrackIds))\n",
    "\n",
    "allLongTrackLengths = []\n",
    "for trackId in allLongTrackIds:\n",
    "    trackData = data[data['trackId'] == trackId]\n",
    "    trackLength = trackData['tracklength'].values[0]\n",
    "    allLongTrackLengths.append(trackLength)\n"
   ]
  },
  {
   "cell_type": "markdown",
   "metadata": {},
   "source": [
    "# define lifetime cohorts and determine distribution into the cohorts"
   ]
  },
  {
   "cell_type": "code",
   "execution_count": 4,
   "metadata": {},
   "outputs": [
    {
     "name": "stdout",
     "output_type": "stream",
     "text": [
      "[array([ 106.,  107.,  108.,  109.,  110.,  111.,  112.,  113.,  114.,\n",
      "        115.,  116.,  117.,  118.,  119.,  120.,  121.,  122.,  123.,\n",
      "        124.,  125.,  126.,  127.,  128.,  129.,  130.,  131.,  132.,\n",
      "        133.,  134.,  135.,  136.,  137.,  138.,  139.,  140.,  141.,\n",
      "        142.,  143.,  144.,  145.,  146.,  147.,  148.,  149.,  150.,\n",
      "        151.,  152.,  153.,  154.,  155.,  156.,  157.,  158.,  159.,\n",
      "        160.,  161.,  162.,  163.,  164.,  165.,  174.,  175.,  176.,\n",
      "        177.,  178.,  179.,  180.,  181.,  182.,  183.,  184.,  185.,\n",
      "        186.,  187.,  188.,  189.,  190.,  191.,  192.,  193.,  194.,\n",
      "        195.,  196.,  206.,  207.,  208.,  209.,  210.,  211.,  212.,\n",
      "        213.,  214.,  215.,  216.,  217.,  218.,  219.,  220.,  221.,\n",
      "        222.,  223.,  224.,  225.,  227.,  228.,  229.,  230.,  231.,\n",
      "        232.,  233.,  234.,  235.,  236.,  237.,  238.,  249.,  250.,\n",
      "        251.,  252.,  253.,  254.,  255.,  256.,  257.,  258.,  259.,\n",
      "        260.,  261.,  262.,  263.,  264.,  265.,  266.,  267.,  283.,\n",
      "        284.,  285.,  286.,  287.,  288.,  289.,  290.,  291.,  292.,\n",
      "        293.,  294.,  295.,  296.,  297.,  298.,  299.,  300.,  301.,\n",
      "        302.,  303.,  304.,  305.,  306.,  307.,  308.,  309.,  310.,\n",
      "        324.,  325.,  326.,  327.,  328.,  329.,  330.,  331.,  332.,\n",
      "        333.,  334.,  335.,  336.,  337.,  338.,  339.,  340.,  341.,\n",
      "        342.,  358.,  359.,  360.,  361.,  362.,  363.,  364.,  365.,\n",
      "        366.,  367.,  368.,  369.,  370.,  371.,  372.,  373.,  374.,\n",
      "        375.,  376.,  377.,  390.,  391.,  392.,  393.,  394.,  395.,\n",
      "        396.,  397.,  398.,  399.,  400.,  401.,  402.,  403.,  404.,\n",
      "        405.,  406.,  407.,  408.,  409.,  410.,  411.,  412.,  413.,\n",
      "        414.,  415.,  416.,  417.,  418.,  419.,  420.,  421.,  422.,\n",
      "        423.,  424.,  425.,  426.,  427.,  428.,  429.,  430.,  431.,\n",
      "        432.,  433.,  434.,  435.,  436.,  437.,  438.,  439.,  440.,\n",
      "        441.,  442.,  443.,  444.,  445.,  446.,  447.,  448.,  449.,\n",
      "        450.,  451.,  452.,  453.,  454.,  455.,  456.,  457.,  458.,\n",
      "        459.,  460.,  461.,  462.,  463.,  464.,  465.,  466.,  467.,\n",
      "        468.,  469.,  470.,  471.,  472.,  473.,  474.,  475.,  476.,\n",
      "        477.,  478.,  479.,  480.,  481.,  482.,  483.,  484.]), array([  78.,   79.,   80.,   81.,   82.,   83.,   84.,   85.,   86.,\n",
      "         87.,   88.,   89.,   90.,   91.,   92.,   94.,   95.,   96.,\n",
      "         97.,   98.,   99.,  100.,  101.,  102.,  103.,  104.,  105.,\n",
      "        172.,  173.,  202.,  203.,  204.,  244.,  245.,  246.,  247.,\n",
      "        248.,  277.,  278.,  279.,  280.,  281.,  282.,  321.,  323.,\n",
      "        343.,  344.,  345.,  346.,  347.,  348.,  349.,  350.,  351.,\n",
      "        352.,  353.,  354.,  355.,  356.,  357.,  378.,  379.,  380.,\n",
      "        381.,  382.,  383.,  384.,  385.,  386.,  387.,  388.,  389.]), array([  63.,   65.,   66.,   67.,   68.,   69.,   70.,   71.,   72.,\n",
      "         73.,   74.,   75.,   77.,  171.,  268.,  269.,  270.,  271.,\n",
      "        272.,  273.,  274.,  275.,  276.,  311.,  312.,  313.,  314.,\n",
      "        315.,  316.,  317.,  318.,  319.,  320.,  322.]), array([  45.,   46.,   47.,   48.,   49.,   50.,   51.,   52.,   53.,\n",
      "         54.,   55.,   56.,   58.,   59.,   60.,   61.,   62.,   76.,\n",
      "         93.,  170.,  197.,  198.,  199.,  200.,  201.,  205.,  226.,\n",
      "        239.,  240.,  241.,  242.,  243.]), array([   1.,    2.,    3.,    4.,    5.,    6.,    7.,    8.,    9.,\n",
      "         10.,   11.,   12.,   13.,   14.,   15.,   16.,   17.,   18.,\n",
      "         19.,   20.,   21.,   22.,   23.,   24.,   25.,   26.,   27.,\n",
      "         28.,   29.,   30.,   31.,   32.,   33.,   34.,   35.,   36.,\n",
      "         37.,   38.,   39.,   40.,   41.,   42.,   43.,   44.,   57.,\n",
      "         64.,  166.,  167.,  168.,  169.]), array([], dtype=float64)]\n"
     ]
    }
   ],
   "source": [
    "\n",
    "#lifetimeCohorts = [[0, 6], [6,12],[12,18],[18,24],[24,30],[30,70]] #frames\n",
    "\n",
    "lifetimeCohorts = [ [0,2],[2,4],[4,6],[6,8],[8,10],[10,100]] #frames\n",
    "\n",
    "\n",
    "\n",
    "trackIdsAssignedToCohorts = []\n",
    "for i in range(0,len(lifetimeCohorts)):\n",
    "    trackIdsAssignedToCohorts.append(np.array([]))\n",
    "\n",
    "for k in range(0,len(allLongTrackLengths)):\n",
    "    for i in range(0,len(lifetimeCohorts)):\n",
    "        tracklength = allLongTrackLengths[k]\n",
    "        trackId = allLongTrackIds[k]\n",
    "        #print(tracklength)\n",
    "        if((tracklength >lifetimeCohorts[i][0]) & (tracklength <=lifetimeCohorts[i][1])):\n",
    "            trackIdsAssignedToCohorts[i] = np.append(trackIdsAssignedToCohorts[i],trackId)\n",
    "\n",
    "print(trackIdsAssignedToCohorts)"
   ]
  },
  {
   "cell_type": "code",
   "execution_count": 5,
   "metadata": {},
   "outputs": [
    {
     "name": "stdout",
     "output_type": "stream",
     "text": [
      "296\n",
      "72\n",
      "34\n",
      "32\n",
      "50\n",
      "0\n"
     ]
    },
    {
     "data": {
      "image/png": "[encoded data removed]",
      "text/plain": [
       "<matplotlib.figure.Figure at 0x81f5c9da0>"
      ]
     },
     "metadata": {},
     "output_type": "display_data"
    }
   ],
   "source": [
    "# data to plot\n",
    "\n",
    "cohorts_n = []\n",
    "#print(trackIdsAssignedToCohorts_baso)\n",
    "for cohortIdArray in trackIdsAssignedToCohorts:\n",
    "    print(len(cohortIdArray))\n",
    "    cohorts_n.append(len(cohortIdArray))\n",
    "\n",
    "A = (cohorts_n[0], cohorts_n[1],cohorts_n[2],cohorts_n[3],cohorts_n[4],cohorts_n[5])\n",
    "n_groups = len(A) \n",
    "    \n",
    "# create plot\n",
    "fig, ax = plt.subplots()\n",
    "index = np.arange(n_groups)\n",
    "bar_width = 0.3\n",
    "opacity = 0.8\n",
    " \n",
    "rects1 = plt.bar(index, A, bar_width,\n",
    "                 alpha=opacity,\n",
    "                 color='k',\n",
    "                 label='basolateral')\n",
    "\n",
    "\n",
    "\n",
    "\n",
    " \n",
    "#plt.xlabel('Person')\n",
    "plt.ylabel('frequency')\n",
    "plt.title('cohort population')\n",
    "plt.xticks(index + bar_width/3, ('[0, 6]', '[6,12]','[12,18]', '[18,50]'))\n",
    "\n",
    "plt.legend()\n",
    "plt.gca().spines['right'].set_visible(False)\n",
    "plt.gca().spines['top'].set_visible(False)\n",
    " \n",
    "plt.tight_layout()\n",
    "plt.show()\n",
    "\n"
   ]
  },
  {
   "cell_type": "code",
   "execution_count": null,
   "metadata": {
    "collapsed": true
   },
   "outputs": [],
   "source": []
  },
  {
   "cell_type": "code",
   "execution_count": null,
   "metadata": {
    "collapsed": true
   },
   "outputs": [],
   "source": []
  }
 ],
 "metadata": {
  "kernelspec": {
   "display_name": "Python 3",
   "language": "python",
   "name": "python3"
  },
  "language_info": {
   "codemirror_mode": {
    "name": "ipython",
    "version": 3
   },
   "file_extension": ".py",
   "mimetype": "text/x-python",
   "name": "python",
   "nbconvert_exporter": "python",
   "pygments_lexer": "ipython3",
   "version": "3.6.3"
  }
 },
 "nbformat": 4,
 "nbformat_minor": 2
}
