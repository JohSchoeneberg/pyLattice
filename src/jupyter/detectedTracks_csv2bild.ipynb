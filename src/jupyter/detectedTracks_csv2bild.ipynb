{
 "cells": [
  {
   "cell_type": "code",
   "execution_count": 8,
   "metadata": {
    "collapsed": true
   },
   "outputs": [],
   "source": [
    "# by Joh Schöneberg 2018\n",
    "\n",
    "%matplotlib inline\n",
    "import numpy as np\n",
    "import matplotlib.pyplot as plt\n",
    "\n",
    "from numpy import genfromtxt\n",
    "\n",
    "\n",
    "import pandas as pd\n",
    "\n",
    "from mpl_toolkits import mplot3d\n",
    "#%matplotlib notebook\n",
    "\n",
    "import pylattice\n",
    "\n",
    "import pylattice.functions.InputProcessing as inproc\n",
    "import pylattice.functions.TiffProcessing as tiffproc\n",
    "\n",
    "\n",
    "import sys\n",
    "sys.path.append(\"/Users/johannesschoeneberg/git/JohSchoeneberg/pyLattice/src/python/classes/\")\n",
    "#import pylattice.functions.InterfaceChimeraX as icx\n",
    "import TrackUnprocessed as trackUnprocessed\n",
    "\n",
    "\n"
   ]
  },
  {
   "cell_type": "markdown",
   "metadata": {},
   "source": [
    "# input data"
   ]
  },
  {
   "cell_type": "code",
   "execution_count": 2,
   "metadata": {},
   "outputs": [
    {
     "name": "stdout",
     "output_type": "stream",
     "text": [
      "/Users/johannesschoeneberg/Dropbox/pylattice_testData/imaging_data/_inputParameters.csv\n"
     ]
    }
   ],
   "source": [
    "path = '/Users/johannesschoeneberg/Dropbox/pylattice_testData/imaging_data/'\n",
    "\n",
    "\n",
    "filepath = path+'_inputParameters.csv'\n",
    "print(filepath)\n",
    "inputParameters = pd.read_csv(filepath,names=['key','value'])\n",
    "\n",
    "\n",
    "inputDataFolder = inproc.getInputParameter(inputParameters,\"inputDataFolder\")\n",
    "outputDataFolder = inproc.getInputParameter(inputParameters,\"outputDataFolder\")\n",
    "trackingCsvFilename = inproc.getInputParameter(inputParameters,\"trackingCsvFilename\")\n",
    "\n",
    "\n",
    "slave_outputDataFolder  = inproc.getInputParameter(inputParameters,\"slave_outputDataFolder\")\n",
    "master_outputDataFolder  = inproc.getInputParameter(inputParameters,\"master_outputDataFolder\")\n",
    "\n",
    "slave_uniqueFilenameString = inproc.getInputParameter(inputParameters,\"slave_uniqueFilenameString\")\n",
    "master_uniqueFilenameString = inproc.getInputParameter(inputParameters,\"master_uniqueFilenameString\")\n",
    "\n",
    "\n",
    "slave_trackingProcessedBildFilename = inproc.getInputParameter(inputParameters,\"slave_trackingProcessedBildFilename\")\n",
    "master_trackingProcessedBildFilename = inproc.getInputParameter(inputParameters,\"master_trackingProcessedBildFilename\")\n",
    "\n",
    "\n",
    "\n",
    "framerate_msec = float(inproc.getInputParameter(inputParameters,\"framerate_msec\"))\n",
    "movieLength = int(inproc.getInputParameter(inputParameters,\"movieLength\"))\n",
    "\n",
    "\n"
   ]
  },
  {
   "cell_type": "code",
   "execution_count": 3,
   "metadata": {},
   "outputs": [
    {
     "name": "stdout",
     "output_type": "stream",
     "text": [
      "/Users/johannesschoeneberg/Dropbox/pylattice_testData/imaging_data/./output/trackedFeatures.csv\n",
      "total number of tracks: 1728\n",
      "unique tracks: 484\n",
      "longtracks (len>5) 94\n"
     ]
    }
   ],
   "source": [
    "filepath = path +outputDataFolder+'/'+trackingCsvFilename\n",
    "print(filepath)\n",
    "data = pd.read_csv(filepath,header=0)\n",
    "data.columns = [\"trackId\", \"tracklength\", \"frameId\", \"particleId\", \"x\", \"y\", \"z\", \"A\", \"noIdea1\", \"noIdea2\", \"noIdea3\", \"noIdea4\"]\n",
    "\n",
    "dataUnique = data.drop_duplicates(subset='trackId')\n",
    "\n",
    "lengthTreshold = 5 #frames\n",
    "trackIdsLong = (data[data['tracklength'] > lengthTreshold]).drop_duplicates(subset='trackId')['trackId'].values\n",
    "longTracks = data[data['tracklength'] > lengthTreshold]\n",
    "longTracks\n",
    "\n",
    "print(\"total number of tracks: {}\\nunique tracks: {}\\nlongtracks (len>{}) {}\".format(len(data),len(dataUnique),lengthTreshold,len(longTracks.drop_duplicates(subset='trackId'))))"
   ]
  },
  {
   "cell_type": "markdown",
   "metadata": {},
   "source": [
    "# draw every track in one file"
   ]
  },
  {
   "cell_type": "code",
   "execution_count": 4,
   "metadata": {},
   "outputs": [
    {
     "name": "stdout",
     "output_type": "stream",
     "text": [
      "1103\n",
      "484\n",
      "[  1   2   3   4   5   6   7   8   9  10  11  12  13  14  15  16  17  18\n",
      "  19  20  21  22  23  24  25  26  27  28  29  30  31  32  33  34  35  36\n",
      "  37  38  39  40  41  42  43  44  45  46  47  48  49  50  51  52  53  54\n",
      "  55  56  57  58  59  60  61  62  63  64  65  66  67  68  69  70  71  72\n",
      "  73  74  75  76  77  78  79  80  81  82  83  84  85  86  87  88  89  90\n",
      "  91  92  93  94  95  96  97  98  99 100 101 102 103 104 105 106 107 108\n",
      " 109 110 111 112 113 114 115 116 117 118 119 120 121 122 123 124 125 126\n",
      " 127 128 129 130 131 132 133 134 135 136 137 138 139 140 141 142 143 144\n",
      " 145 146 147 148 149 150 151 152 153 154 155 156 157 158 159 160 161 162\n",
      " 163 164 165 166 167 168 169 170 171 172 173 174 175 176 177 178 179 180\n",
      " 181 182 183 184 185 186 187 188 189 190 191 192 193 194 195 196 197 198\n",
      " 199 200 201 202 203 204 205 206 207 208 209 210 211 212 213 214 215 216\n",
      " 217 218 219 220 221 222 223 224 225 226 227 228 229 230 231 232 233 234\n",
      " 235 236 237 238 239 240 241 242 243 244 245 246 247 248 249 250 251 252\n",
      " 253 254 255 256 257 258 259 260 261 262 263 264 265 266 267 268 269 270\n",
      " 271 272 273 274 275 276 277 278 279 280 281 282 283 284 285 286 287 288\n",
      " 289 290 291 292 293 294 295 296 297 298 299 300 301 302 303 304 305 306\n",
      " 307 308 309 310 311 312 313 314 315 316 317 318 319 320 321 322 323 324\n",
      " 325 326 327 328 329 330 331 332 333 334 335 336 337 338 339 340 341 342\n",
      " 343 344 345 346 347 348 349 350 351 352 353 354 355 356 357 358 359 360\n",
      " 361 362 363 364 365 366 367 368 369 370 371 372 373 374 375 376 377 378\n",
      " 379 380 381 382 383 384 385 386 387 388 389 390 391 392 393 394 395 396\n",
      " 397 398 399 400 401 402 403 404 405 406 407 408 409 410 411 412 413 414\n",
      " 415 416 417 418 419 420 421 422 423 424 425 426 427 428 429 430 431 432\n",
      " 433 434 435 436 437 438 439 440 441 442 443 444 445 446 447 448 449 450\n",
      " 451 452 453 454 455 456 457 458 459 460 461 462 463 464 465 466 467 468\n",
      " 469 470 471 472 473 474 475 476 477 478 479 480 481 482 483 484]\n"
     ]
    }
   ],
   "source": [
    "longtracks = data[data['tracklength'] >= 5]\n",
    "print(len(longtracks))\n",
    "print(len(np.unique(data['trackId'].values)))\n",
    "print(np.unique(data['trackId'].values))"
   ]
  },
  {
   "cell_type": "code",
   "execution_count": 5,
   "metadata": {},
   "outputs": [
    {
     "name": "stdout",
     "output_type": "stream",
     "text": [
      "/Users/johannesschoeneberg/Dropbox/pylattice_testData/imaging_data/./output/trackUnprocessed_all.bild\n",
      ".arrow 93.3853 17.88712 9.318319 nan nan nan\n",
      "\n",
      ".arrow nan nan nan nan nan nan\n",
      "\n",
      ".arrow 10.72135 37.31103 47.03282 nan nan nan\n",
      "\n",
      ".arrow nan nan nan nan nan nan\n",
      "\n",
      ".arrow nan nan nan nan nan nan\n",
      "\n",
      ".arrow 26.86486 14.14842 58.80415 nan nan nan\n",
      "\n",
      ".arrow 82.29193 43.89157 46.4369 nan nan nan\n",
      "\n",
      ".arrow nan nan nan nan nan nan\n",
      "\n",
      ".arrow nan nan nan nan nan nan\n",
      "\n",
      ".arrow nan nan nan nan nan nan\n",
      "\n",
      ".arrow 42.58184 50.79379 64.49817 nan nan nan\n",
      "\n",
      ".arrow nan nan nan nan nan nan\n",
      "\n",
      ".arrow 2.899544 59.75309 56.93139 nan nan nan\n",
      "\n",
      ".arrow nan nan nan nan nan nan\n",
      "\n",
      ".arrow nan nan nan nan nan nan\n",
      "\n",
      ".arrow nan nan nan nan nan nan\n",
      "\n",
      ".arrow nan nan nan nan nan nan\n",
      "\n"
     ]
    }
   ],
   "source": [
    "#plot them all\n",
    "import math\n",
    "\n",
    "data = data\n",
    "\n",
    "drawColor = 'red'\n",
    "\n",
    "output_filename = 'tracksUnprocessed.bild'\n",
    "filepath = path+outputDataFolder+'/'+output_filename\n",
    "print(filepath)\n",
    "file = open(filepath,'w') \n",
    "\n",
    "file.write(\".transparency 0.5\\n\")\n",
    "file.write(\".color \"+drawColor+\"\\n\")\n",
    "\n",
    "for trackID in np.unique(data['trackId'].values):\n",
    "    \n",
    "    line = \".comment trackID\"+str(trackID)+\"\\n\"\n",
    "    file.write(line)\n",
    "    \n",
    "    \n",
    "    track = data[data['trackId'] == trackID]\n",
    "    tracklength = track['tracklength'].iloc[0]\n",
    "    \n",
    "    for i in range(1,tracklength):\n",
    "        tzero = track.iloc[i-1]\n",
    "        tone = track.iloc[i]\n",
    "        \n",
    "\n",
    "        # Data for a three-dimensional line\n",
    "        x0 = float(tzero['x'])\n",
    "        y0 = float(tzero['y'])\n",
    "        z0 = float(tzero['z'])\n",
    "        A0 = float(tzero['A'])\n",
    "        \n",
    "        x1 = float(tone['x'])\n",
    "        y1 = float(tone['y'])\n",
    "        z1 = float(tone['z'])\n",
    "        A1 = float(tone['A'])\n",
    "        \n",
    "        if(math.isnan(x0) or math.isnan(y0) or math.isnan(z0) or math.isnan(x1) or math.isnan(y1) or math.isnan(z1)):\n",
    "            line = \".arrow \"+str(x0)+\" \"+str(y0)+\" \"+str(z0)+\" \"+str(x1)+\" \"+str(y1)+\" \"+str(z1)+\"\\n\" #\" \"+str(radius)+\"\\n\"        \n",
    "            print(line)\n",
    "            continue\n",
    "        \n",
    "        \n",
    "        #.arrow x1 y1 z1 x2 y2 z2 [r1 [r2 [rho]]] \n",
    "        \n",
    "        line = \".arrow \"+str(x0)+\" \"+str(y0)+\" \"+str(z0)+\" \"+str(x1)+\" \"+str(y1)+\" \"+str(z1)+\"\\n\" #\" \"+str(radius)+\"\\n\"        \n",
    "        file.write(line)\n",
    "        \n",
    "file.close()"
   ]
  },
  {
   "cell_type": "markdown",
   "metadata": {},
   "source": [
    "# create a .bild file for every track individually"
   ]
  },
  {
   "cell_type": "code",
   "execution_count": 6,
   "metadata": {},
   "outputs": [
    {
     "name": "stdout",
     "output_type": "stream",
     "text": [
      "0/94\n",
      "time elapse: 0.22s\n"
     ]
    }
   ],
   "source": [
    "import timeit\n",
    "\n",
    "\n",
    "trackIdListInvestigated = trackIdsLong\n",
    "\n",
    "start_time = timeit.default_timer()\n",
    "\n",
    "tracks = []\n",
    "cm0 = []\n",
    "len0 = []\n",
    "Amean0 = []\n",
    "maxDist0 = []\n",
    "\n",
    "\n",
    "\n",
    "for i in range(0,len(trackIdListInvestigated)):\n",
    "    if(i %1000 == 0):\n",
    "        print(str(i)+\"/\"+str(len(trackIdListInvestigated)))\n",
    "    a = trackUnprocessed.TrackUnprocessed(data[data['trackId'] == trackIdListInvestigated[i]])\n",
    "    tracks.append(a)\n",
    "    cm0.append(a.cm)\n",
    "    len0.append(a.len)\n",
    "    Amean0.append(a.Amean)\n",
    "    maxDist0.append(a.maxDist)\n",
    "    \n",
    "elapsed = timeit.default_timer() - start_time\n",
    "print('time elapse: '+str(np.round(elapsed,decimals=2))+'s')"
   ]
  },
  {
   "cell_type": "code",
   "execution_count": null,
   "metadata": {
    "collapsed": true
   },
   "outputs": [],
   "source": []
  },
  {
   "cell_type": "code",
   "execution_count": 7,
   "metadata": {},
   "outputs": [
    {
     "name": "stdout",
     "output_type": "stream",
     "text": [
      "/Users/johannesschoeneberg/Dropbox/pylattice_testData/imaging_data/./output/trackUnprocessed_01.bild\n",
      "/Users/johannesschoeneberg/Dropbox/pylattice_testData/imaging_data/./output/trackUnprocessed_02.bild\n",
      "/Users/johannesschoeneberg/Dropbox/pylattice_testData/imaging_data/./output/trackUnprocessed_03.bild\n",
      "/Users/johannesschoeneberg/Dropbox/pylattice_testData/imaging_data/./output/trackUnprocessed_04.bild\n",
      "/Users/johannesschoeneberg/Dropbox/pylattice_testData/imaging_data/./output/trackUnprocessed_05.bild\n",
      "/Users/johannesschoeneberg/Dropbox/pylattice_testData/imaging_data/./output/trackUnprocessed_06.bild\n",
      "/Users/johannesschoeneberg/Dropbox/pylattice_testData/imaging_data/./output/trackUnprocessed_07.bild\n",
      "/Users/johannesschoeneberg/Dropbox/pylattice_testData/imaging_data/./output/trackUnprocessed_08.bild\n",
      "/Users/johannesschoeneberg/Dropbox/pylattice_testData/imaging_data/./output/trackUnprocessed_09.bild\n",
      "/Users/johannesschoeneberg/Dropbox/pylattice_testData/imaging_data/./output/trackUnprocessed_10.bild\n",
      "/Users/johannesschoeneberg/Dropbox/pylattice_testData/imaging_data/./output/trackUnprocessed_11.bild\n",
      "/Users/johannesschoeneberg/Dropbox/pylattice_testData/imaging_data/./output/trackUnprocessed_12.bild\n",
      "/Users/johannesschoeneberg/Dropbox/pylattice_testData/imaging_data/./output/trackUnprocessed_13.bild\n",
      "/Users/johannesschoeneberg/Dropbox/pylattice_testData/imaging_data/./output/trackUnprocessed_14.bild\n",
      "/Users/johannesschoeneberg/Dropbox/pylattice_testData/imaging_data/./output/trackUnprocessed_15.bild\n",
      "/Users/johannesschoeneberg/Dropbox/pylattice_testData/imaging_data/./output/trackUnprocessed_16.bild\n",
      "/Users/johannesschoeneberg/Dropbox/pylattice_testData/imaging_data/./output/trackUnprocessed_17.bild\n",
      "/Users/johannesschoeneberg/Dropbox/pylattice_testData/imaging_data/./output/trackUnprocessed_18.bild\n",
      "/Users/johannesschoeneberg/Dropbox/pylattice_testData/imaging_data/./output/trackUnprocessed_19.bild\n",
      "/Users/johannesschoeneberg/Dropbox/pylattice_testData/imaging_data/./output/trackUnprocessed_20.bild\n",
      "/Users/johannesschoeneberg/Dropbox/pylattice_testData/imaging_data/./output/trackUnprocessed_21.bild\n",
      "/Users/johannesschoeneberg/Dropbox/pylattice_testData/imaging_data/./output/trackUnprocessed_22.bild\n",
      "/Users/johannesschoeneberg/Dropbox/pylattice_testData/imaging_data/./output/trackUnprocessed_23.bild\n",
      "/Users/johannesschoeneberg/Dropbox/pylattice_testData/imaging_data/./output/trackUnprocessed_24.bild\n",
      "/Users/johannesschoeneberg/Dropbox/pylattice_testData/imaging_data/./output/trackUnprocessed_25.bild\n",
      "/Users/johannesschoeneberg/Dropbox/pylattice_testData/imaging_data/./output/trackUnprocessed_26.bild\n",
      "/Users/johannesschoeneberg/Dropbox/pylattice_testData/imaging_data/./output/trackUnprocessed_27.bild\n",
      "/Users/johannesschoeneberg/Dropbox/pylattice_testData/imaging_data/./output/trackUnprocessed_28.bild\n",
      "/Users/johannesschoeneberg/Dropbox/pylattice_testData/imaging_data/./output/trackUnprocessed_29.bild\n",
      "/Users/johannesschoeneberg/Dropbox/pylattice_testData/imaging_data/./output/trackUnprocessed_30.bild\n",
      "/Users/johannesschoeneberg/Dropbox/pylattice_testData/imaging_data/./output/trackUnprocessed_31.bild\n",
      "/Users/johannesschoeneberg/Dropbox/pylattice_testData/imaging_data/./output/trackUnprocessed_32.bild\n",
      "/Users/johannesschoeneberg/Dropbox/pylattice_testData/imaging_data/./output/trackUnprocessed_33.bild\n",
      "/Users/johannesschoeneberg/Dropbox/pylattice_testData/imaging_data/./output/trackUnprocessed_34.bild\n",
      "/Users/johannesschoeneberg/Dropbox/pylattice_testData/imaging_data/./output/trackUnprocessed_35.bild\n",
      "/Users/johannesschoeneberg/Dropbox/pylattice_testData/imaging_data/./output/trackUnprocessed_36.bild\n",
      "/Users/johannesschoeneberg/Dropbox/pylattice_testData/imaging_data/./output/trackUnprocessed_37.bild\n",
      "/Users/johannesschoeneberg/Dropbox/pylattice_testData/imaging_data/./output/trackUnprocessed_38.bild\n",
      "/Users/johannesschoeneberg/Dropbox/pylattice_testData/imaging_data/./output/trackUnprocessed_39.bild\n",
      "/Users/johannesschoeneberg/Dropbox/pylattice_testData/imaging_data/./output/trackUnprocessed_40.bild\n",
      "/Users/johannesschoeneberg/Dropbox/pylattice_testData/imaging_data/./output/trackUnprocessed_41.bild\n",
      "/Users/johannesschoeneberg/Dropbox/pylattice_testData/imaging_data/./output/trackUnprocessed_42.bild\n",
      "/Users/johannesschoeneberg/Dropbox/pylattice_testData/imaging_data/./output/trackUnprocessed_43.bild\n",
      "/Users/johannesschoeneberg/Dropbox/pylattice_testData/imaging_data/./output/trackUnprocessed_44.bild\n",
      "/Users/johannesschoeneberg/Dropbox/pylattice_testData/imaging_data/./output/trackUnprocessed_45.bild\n",
      "/Users/johannesschoeneberg/Dropbox/pylattice_testData/imaging_data/./output/trackUnprocessed_46.bild\n",
      "/Users/johannesschoeneberg/Dropbox/pylattice_testData/imaging_data/./output/trackUnprocessed_47.bild\n",
      "/Users/johannesschoeneberg/Dropbox/pylattice_testData/imaging_data/./output/trackUnprocessed_48.bild\n",
      "/Users/johannesschoeneberg/Dropbox/pylattice_testData/imaging_data/./output/trackUnprocessed_49.bild\n",
      "/Users/johannesschoeneberg/Dropbox/pylattice_testData/imaging_data/./output/trackUnprocessed_50.bild\n",
      "/Users/johannesschoeneberg/Dropbox/pylattice_testData/imaging_data/./output/trackUnprocessed_51.bild\n",
      "/Users/johannesschoeneberg/Dropbox/pylattice_testData/imaging_data/./output/trackUnprocessed_52.bild\n",
      "/Users/johannesschoeneberg/Dropbox/pylattice_testData/imaging_data/./output/trackUnprocessed_53.bild\n",
      "/Users/johannesschoeneberg/Dropbox/pylattice_testData/imaging_data/./output/trackUnprocessed_54.bild\n",
      "/Users/johannesschoeneberg/Dropbox/pylattice_testData/imaging_data/./output/trackUnprocessed_55.bild\n",
      "/Users/johannesschoeneberg/Dropbox/pylattice_testData/imaging_data/./output/trackUnprocessed_56.bild\n",
      "/Users/johannesschoeneberg/Dropbox/pylattice_testData/imaging_data/./output/trackUnprocessed_57.bild\n",
      "/Users/johannesschoeneberg/Dropbox/pylattice_testData/imaging_data/./output/trackUnprocessed_58.bild\n",
      "/Users/johannesschoeneberg/Dropbox/pylattice_testData/imaging_data/./output/trackUnprocessed_59.bild\n",
      "/Users/johannesschoeneberg/Dropbox/pylattice_testData/imaging_data/./output/trackUnprocessed_60.bild\n",
      "/Users/johannesschoeneberg/Dropbox/pylattice_testData/imaging_data/./output/trackUnprocessed_61.bild\n",
      "/Users/johannesschoeneberg/Dropbox/pylattice_testData/imaging_data/./output/trackUnprocessed_62.bild\n",
      "/Users/johannesschoeneberg/Dropbox/pylattice_testData/imaging_data/./output/trackUnprocessed_63.bild\n",
      "/Users/johannesschoeneberg/Dropbox/pylattice_testData/imaging_data/./output/trackUnprocessed_64.bild\n",
      "/Users/johannesschoeneberg/Dropbox/pylattice_testData/imaging_data/./output/trackUnprocessed_65.bild\n",
      "/Users/johannesschoeneberg/Dropbox/pylattice_testData/imaging_data/./output/trackUnprocessed_66.bild\n",
      "/Users/johannesschoeneberg/Dropbox/pylattice_testData/imaging_data/./output/trackUnprocessed_67.bild\n",
      "/Users/johannesschoeneberg/Dropbox/pylattice_testData/imaging_data/./output/trackUnprocessed_68.bild\n",
      "/Users/johannesschoeneberg/Dropbox/pylattice_testData/imaging_data/./output/trackUnprocessed_76.bild\n",
      "/Users/johannesschoeneberg/Dropbox/pylattice_testData/imaging_data/./output/trackUnprocessed_93.bild\n",
      "/Users/johannesschoeneberg/Dropbox/pylattice_testData/imaging_data/./output/trackUnprocessed_166.bild\n",
      "/Users/johannesschoeneberg/Dropbox/pylattice_testData/imaging_data/./output/trackUnprocessed_167.bild\n",
      "/Users/johannesschoeneberg/Dropbox/pylattice_testData/imaging_data/./output/trackUnprocessed_168.bild\n",
      "/Users/johannesschoeneberg/Dropbox/pylattice_testData/imaging_data/./output/trackUnprocessed_169.bild\n",
      "/Users/johannesschoeneberg/Dropbox/pylattice_testData/imaging_data/./output/trackUnprocessed_170.bild\n",
      "/Users/johannesschoeneberg/Dropbox/pylattice_testData/imaging_data/./output/trackUnprocessed_197.bild\n",
      "/Users/johannesschoeneberg/Dropbox/pylattice_testData/imaging_data/./output/trackUnprocessed_198.bild\n",
      "/Users/johannesschoeneberg/Dropbox/pylattice_testData/imaging_data/./output/trackUnprocessed_199.bild\n",
      "/Users/johannesschoeneberg/Dropbox/pylattice_testData/imaging_data/./output/trackUnprocessed_200.bild\n",
      "/Users/johannesschoeneberg/Dropbox/pylattice_testData/imaging_data/./output/trackUnprocessed_201.bild\n",
      "/Users/johannesschoeneberg/Dropbox/pylattice_testData/imaging_data/./output/trackUnprocessed_205.bild\n",
      "/Users/johannesschoeneberg/Dropbox/pylattice_testData/imaging_data/./output/trackUnprocessed_226.bild\n",
      "/Users/johannesschoeneberg/Dropbox/pylattice_testData/imaging_data/./output/trackUnprocessed_239.bild\n",
      "/Users/johannesschoeneberg/Dropbox/pylattice_testData/imaging_data/./output/trackUnprocessed_240.bild\n",
      "/Users/johannesschoeneberg/Dropbox/pylattice_testData/imaging_data/./output/trackUnprocessed_241.bild\n",
      "/Users/johannesschoeneberg/Dropbox/pylattice_testData/imaging_data/./output/trackUnprocessed_242.bild\n",
      "/Users/johannesschoeneberg/Dropbox/pylattice_testData/imaging_data/./output/trackUnprocessed_243.bild\n",
      "/Users/johannesschoeneberg/Dropbox/pylattice_testData/imaging_data/./output/trackUnprocessed_268.bild\n",
      "/Users/johannesschoeneberg/Dropbox/pylattice_testData/imaging_data/./output/trackUnprocessed_269.bild\n",
      "/Users/johannesschoeneberg/Dropbox/pylattice_testData/imaging_data/./output/trackUnprocessed_270.bild\n",
      "/Users/johannesschoeneberg/Dropbox/pylattice_testData/imaging_data/./output/trackUnprocessed_271.bild\n",
      "/Users/johannesschoeneberg/Dropbox/pylattice_testData/imaging_data/./output/trackUnprocessed_272.bild\n",
      "/Users/johannesschoeneberg/Dropbox/pylattice_testData/imaging_data/./output/trackUnprocessed_273.bild\n",
      "/Users/johannesschoeneberg/Dropbox/pylattice_testData/imaging_data/./output/trackUnprocessed_274.bild\n"
     ]
    }
   ],
   "source": [
    "for track in tracks:\n",
    "    numberOfZeros = int(np.ceil(np.log10(movieLength+1)))\n",
    "    output_filename = 'trackUnprocessed_'+str(track.id).zfill(numberOfZeros)+'.bild'\n",
    "    filepath = path+outputDataFolder+'/'+output_filename\n",
    "    print(filepath)\n",
    "    track.writeBILD(filepath,color='red')"
   ]
  }
 ],
 "metadata": {
  "kernelspec": {
   "display_name": "Python 3",
   "language": "python",
   "name": "python3"
  },
  "language_info": {
   "codemirror_mode": {
    "name": "ipython",
    "version": 3
   },
   "file_extension": ".py",
   "mimetype": "text/x-python",
   "name": "python",
   "nbconvert_exporter": "python",
   "pygments_lexer": "ipython3",
   "version": "3.6.3"
  }
 },
 "nbformat": 4,
 "nbformat_minor": 2
}
